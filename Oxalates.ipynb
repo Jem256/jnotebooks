{
 "cells": [
  {
   "cell_type": "code",
   "execution_count": 1,
   "id": "33b8b4c3-2508-47a3-b1c5-41a4e3397002",
   "metadata": {},
   "outputs": [],
   "source": [
    "import pandas as pd\n",
    "import plotly.graph_objs as go\n",
    "import plotly.io as pio"
   ]
  },
  {
   "cell_type": "code",
   "execution_count": 2,
   "id": "e14fdc34-15b1-4af9-ae34-ee6acfb024fb",
   "metadata": {},
   "outputs": [],
   "source": [
    "data = pd.read_excel('HenriettahData.xlsx', sheet_name='Oxalates', header=0)"
   ]
  },
  {
   "cell_type": "code",
   "execution_count": 3,
   "id": "2bc8c82c-3c94-4774-97a4-eeb51941faa3",
   "metadata": {},
   "outputs": [
    {
     "data": {
      "text/html": [
       "<div>\n",
       "<style scoped>\n",
       "    .dataframe tbody tr th:only-of-type {\n",
       "        vertical-align: middle;\n",
       "    }\n",
       "\n",
       "    .dataframe tbody tr th {\n",
       "        vertical-align: top;\n",
       "    }\n",
       "\n",
       "    .dataframe thead th {\n",
       "        text-align: right;\n",
       "    }\n",
       "</style>\n",
       "<table border=\"1\" class=\"dataframe\">\n",
       "  <thead>\n",
       "    <tr style=\"text-align: right;\">\n",
       "      <th></th>\n",
       "      <th>Mango variety</th>\n",
       "      <th>Ripening stage</th>\n",
       "      <th>Peel</th>\n",
       "      <th>Pulp</th>\n",
       "      <th>Kernel</th>\n",
       "      <th>Seed</th>\n",
       "    </tr>\n",
       "  </thead>\n",
       "  <tbody>\n",
       "    <tr>\n",
       "      <th>0</th>\n",
       "      <td>Apple mango</td>\n",
       "      <td>Stage 1</td>\n",
       "      <td>4.32</td>\n",
       "      <td>2.44</td>\n",
       "      <td>1.38</td>\n",
       "      <td>3.31</td>\n",
       "    </tr>\n",
       "    <tr>\n",
       "      <th>1</th>\n",
       "      <td>Asante</td>\n",
       "      <td>Stage 1</td>\n",
       "      <td>3.23</td>\n",
       "      <td>2.34</td>\n",
       "      <td>2.38</td>\n",
       "      <td>3.18</td>\n",
       "    </tr>\n",
       "    <tr>\n",
       "      <th>2</th>\n",
       "      <td>Batawi</td>\n",
       "      <td>Stage 1</td>\n",
       "      <td>3.41</td>\n",
       "      <td>2.43</td>\n",
       "      <td>1.76</td>\n",
       "      <td>3.19</td>\n",
       "    </tr>\n",
       "    <tr>\n",
       "      <th>3</th>\n",
       "      <td>Bire</td>\n",
       "      <td>Stage 1</td>\n",
       "      <td>4.21</td>\n",
       "      <td>2.42</td>\n",
       "      <td>1.38</td>\n",
       "      <td>3.34</td>\n",
       "    </tr>\n",
       "    <tr>\n",
       "      <th>4</th>\n",
       "      <td>Boribo</td>\n",
       "      <td>Stage 1</td>\n",
       "      <td>4.19</td>\n",
       "      <td>2.33</td>\n",
       "      <td>1.87</td>\n",
       "      <td>3.17</td>\n",
       "    </tr>\n",
       "  </tbody>\n",
       "</table>\n",
       "</div>"
      ],
      "text/plain": [
       "  Mango variety Ripening stage  Peel  Pulp  Kernel  Seed\n",
       "0   Apple mango        Stage 1  4.32  2.44    1.38  3.31\n",
       "1        Asante        Stage 1  3.23  2.34    2.38  3.18\n",
       "2        Batawi        Stage 1  3.41  2.43    1.76  3.19\n",
       "3          Bire        Stage 1  4.21  2.42    1.38  3.34\n",
       "4        Boribo        Stage 1  4.19  2.33    1.87  3.17"
      ]
     },
     "execution_count": 3,
     "metadata": {},
     "output_type": "execute_result"
    }
   ],
   "source": [
    "data.head()"
   ]
  },
  {
   "cell_type": "code",
   "execution_count": 6,
   "id": "b80ed2d3-cdb4-4749-bace-4b612d818f99",
   "metadata": {},
   "outputs": [
    {
     "data": {
      "application/vnd.plotly.v1+json": {
       "config": {
        "plotlyServerURL": "https://plot.ly"
       },
       "data": [
        {
         "mode": "lines",
         "name": "Apple mango",
         "type": "scatter",
         "x": [
          "Stage 1",
          "Stage 2",
          "Stage 3",
          "Stage 4",
          "Stage 5"
         ],
         "y": [
          4.32,
          3,
          2.38,
          1.12,
          0.1
         ]
        },
        {
         "mode": "lines",
         "name": "Asante",
         "type": "scatter",
         "x": [
          "Stage 1",
          "Stage 2",
          "Stage 3",
          "Stage 4",
          "Stage 5"
         ],
         "y": [
          3.23,
          2.99,
          2.31,
          1.25,
          0.93
         ]
        },
        {
         "mode": "lines",
         "name": "Batawi",
         "type": "scatter",
         "x": [
          "Stage 1",
          "Stage 2",
          "Stage 3",
          "Stage 4",
          "Stage 5"
         ],
         "y": [
          3.41,
          2.99,
          2.24,
          1.08,
          0.89
         ]
        },
        {
         "mode": "lines",
         "name": "Bire",
         "type": "scatter",
         "x": [
          "Stage 1",
          "Stage 2",
          "Stage 3",
          "Stage 4",
          "Stage 5"
         ],
         "y": [
          4.21,
          2.89,
          2.27,
          1.11,
          0.92
         ]
        },
        {
         "mode": "lines",
         "name": "Boribo",
         "type": "scatter",
         "x": [
          "Stage 1",
          "Stage 2",
          "Stage 3",
          "Stage 4",
          "Stage 5"
         ],
         "y": [
          4.19,
          3.04,
          2.29,
          1.1,
          0.91
         ]
        },
        {
         "mode": "lines",
         "name": "Doodo",
         "type": "scatter",
         "x": [
          "Stage 1",
          "Stage 2",
          "Stage 3",
          "Stage 4",
          "Stage 5"
         ],
         "y": [
          3.48,
          2.96,
          2.15,
          1.09,
          0.82
         ]
        },
        {
         "mode": "lines",
         "name": "Kagoogwa",
         "type": "scatter",
         "x": [
          "Stage 1",
          "Stage 2",
          "Stage 3",
          "Stage 4",
          "Stage 5"
         ],
         "y": [
          4.27,
          2.99,
          2.21,
          1.02,
          0.89
         ]
        },
        {
         "mode": "lines",
         "name": "Koona",
         "type": "scatter",
         "x": [
          "Stage 1",
          "Stage 2",
          "Stage 3",
          "Stage 4",
          "Stage 5"
         ],
         "y": [
          4.33,
          2.93,
          2.08,
          1.15,
          0.77
         ]
        },
        {
         "mode": "lines",
         "name": "Mabbere",
         "type": "scatter",
         "x": [
          "Stage 1",
          "Stage 2",
          "Stage 3",
          "Stage 4",
          "Stage 5"
         ],
         "y": [
          3.34,
          2.93,
          2.3,
          1.05,
          0.95
         ]
        },
        {
         "mode": "lines",
         "name": "Sayuni",
         "type": "scatter",
         "x": [
          "Stage 1",
          "Stage 2",
          "Stage 3",
          "Stage 4",
          "Stage 5"
         ],
         "y": [
          4.72,
          2.91,
          2.19,
          0.94,
          0.75
         ]
        },
        {
         "mode": "lines",
         "name": "Ssejjembe",
         "type": "scatter",
         "x": [
          "Stage 1",
          "Stage 2",
          "Stage 3",
          "Stage 4",
          "Stage 5"
         ],
         "y": [
          4.81,
          2.97,
          2.19,
          1.02,
          0.75
         ]
        },
        {
         "mode": "lines",
         "name": "Takataka",
         "type": "scatter",
         "x": [
          "Stage 1",
          "Stage 2",
          "Stage 3",
          "Stage 4",
          "Stage 5"
         ],
         "y": [
          3.42,
          2.93,
          2.12,
          0.93,
          0.74
         ]
        },
        {
         "mode": "lines",
         "name": "Kakule",
         "type": "scatter",
         "x": [
          "Stage 1",
          "Stage 2",
          "Stage 3",
          "Stage 4",
          "Stage 5"
         ],
         "y": [
          3.03,
          2.82,
          2.23,
          1.26,
          0.88
         ]
        },
        {
         "mode": "lines",
         "name": "Duncan",
         "type": "scatter",
         "x": [
          "Stage 1",
          "Stage 2",
          "Stage 3",
          "Stage 4",
          "Stage 5"
         ],
         "y": [
          4.29,
          2.94,
          2.31,
          1.09,
          0.9
         ]
        },
        {
         "mode": "lines",
         "name": "Fairchild",
         "type": "scatter",
         "x": [
          "Stage 1",
          "Stage 2",
          "Stage 3",
          "Stage 4",
          "Stage 5"
         ],
         "y": [
          3.31,
          2.97,
          2.37,
          1.18,
          0.99
         ]
        },
        {
         "mode": "lines",
         "name": "Julie",
         "type": "scatter",
         "x": [
          "Stage 1",
          "Stage 2",
          "Stage 3",
          "Stage 4",
          "Stage 5"
         ],
         "y": [
          4.21,
          2.86,
          2.07,
          0.82,
          0.74
         ]
        },
        {
         "mode": "lines",
         "name": "Kapisa",
         "type": "scatter",
         "x": [
          "Stage 1",
          "Stage 2",
          "Stage 3",
          "Stage 4",
          "Stage 5"
         ],
         "y": [
          4.44,
          2.94,
          2.28,
          0.98,
          0.77
         ]
        },
        {
         "mode": "lines",
         "name": "Kent",
         "type": "scatter",
         "x": [
          "Stage 1",
          "Stage 2",
          "Stage 3",
          "Stage 4",
          "Stage 5"
         ],
         "y": [
          4.02,
          3.04,
          2.19,
          1.06,
          0.87
         ]
        },
        {
         "mode": "lines",
         "name": "Palmer",
         "type": "scatter",
         "x": [
          "Stage 1",
          "Stage 2",
          "Stage 3",
          "Stage 4",
          "Stage 5"
         ],
         "y": [
          3.33,
          3.09,
          2.17,
          0.95,
          0.86
         ]
        },
        {
         "mode": "lines",
         "name": "Ponde",
         "type": "scatter",
         "x": [
          "Stage 1",
          "Stage 2",
          "Stage 3",
          "Stage 4",
          "Stage 5"
         ],
         "y": [
          4.42,
          2.89,
          2.23,
          1.04,
          0.85
         ]
        },
        {
         "mode": "lines",
         "name": "Seena",
         "type": "scatter",
         "x": [
          "Stage 1",
          "Stage 2",
          "Stage 3",
          "Stage 4",
          "Stage 5"
         ],
         "y": [
          4.22,
          2.85,
          2.19,
          0.88,
          0.75
         ]
        },
        {
         "mode": "lines",
         "name": "Tommy atkin",
         "type": "scatter",
         "x": [
          "Stage 1",
          "Stage 2",
          "Stage 3",
          "Stage 4",
          "Stage 5"
         ],
         "y": [
          4.4,
          2.97,
          2.24,
          0.92,
          0.83
         ]
        }
       ],
       "layout": {
        "autosize": true,
        "template": {
         "data": {
          "bar": [
           {
            "error_x": {
             "color": "#2a3f5f"
            },
            "error_y": {
             "color": "#2a3f5f"
            },
            "marker": {
             "line": {
              "color": "#E5ECF6",
              "width": 0.5
             },
             "pattern": {
              "fillmode": "overlay",
              "size": 10,
              "solidity": 0.2
             }
            },
            "type": "bar"
           }
          ],
          "barpolar": [
           {
            "marker": {
             "line": {
              "color": "#E5ECF6",
              "width": 0.5
             },
             "pattern": {
              "fillmode": "overlay",
              "size": 10,
              "solidity": 0.2
             }
            },
            "type": "barpolar"
           }
          ],
          "carpet": [
           {
            "aaxis": {
             "endlinecolor": "#2a3f5f",
             "gridcolor": "white",
             "linecolor": "white",
             "minorgridcolor": "white",
             "startlinecolor": "#2a3f5f"
            },
            "baxis": {
             "endlinecolor": "#2a3f5f",
             "gridcolor": "white",
             "linecolor": "white",
             "minorgridcolor": "white",
             "startlinecolor": "#2a3f5f"
            },
            "type": "carpet"
           }
          ],
          "choropleth": [
           {
            "colorbar": {
             "outlinewidth": 0,
             "ticks": ""
            },
            "type": "choropleth"
           }
          ],
          "contour": [
           {
            "colorbar": {
             "outlinewidth": 0,
             "ticks": ""
            },
            "colorscale": [
             [
              0,
              "#0d0887"
             ],
             [
              0.1111111111111111,
              "#46039f"
             ],
             [
              0.2222222222222222,
              "#7201a8"
             ],
             [
              0.3333333333333333,
              "#9c179e"
             ],
             [
              0.4444444444444444,
              "#bd3786"
             ],
             [
              0.5555555555555556,
              "#d8576b"
             ],
             [
              0.6666666666666666,
              "#ed7953"
             ],
             [
              0.7777777777777778,
              "#fb9f3a"
             ],
             [
              0.8888888888888888,
              "#fdca26"
             ],
             [
              1,
              "#f0f921"
             ]
            ],
            "type": "contour"
           }
          ],
          "contourcarpet": [
           {
            "colorbar": {
             "outlinewidth": 0,
             "ticks": ""
            },
            "type": "contourcarpet"
           }
          ],
          "heatmap": [
           {
            "colorbar": {
             "outlinewidth": 0,
             "ticks": ""
            },
            "colorscale": [
             [
              0,
              "#0d0887"
             ],
             [
              0.1111111111111111,
              "#46039f"
             ],
             [
              0.2222222222222222,
              "#7201a8"
             ],
             [
              0.3333333333333333,
              "#9c179e"
             ],
             [
              0.4444444444444444,
              "#bd3786"
             ],
             [
              0.5555555555555556,
              "#d8576b"
             ],
             [
              0.6666666666666666,
              "#ed7953"
             ],
             [
              0.7777777777777778,
              "#fb9f3a"
             ],
             [
              0.8888888888888888,
              "#fdca26"
             ],
             [
              1,
              "#f0f921"
             ]
            ],
            "type": "heatmap"
           }
          ],
          "heatmapgl": [
           {
            "colorbar": {
             "outlinewidth": 0,
             "ticks": ""
            },
            "colorscale": [
             [
              0,
              "#0d0887"
             ],
             [
              0.1111111111111111,
              "#46039f"
             ],
             [
              0.2222222222222222,
              "#7201a8"
             ],
             [
              0.3333333333333333,
              "#9c179e"
             ],
             [
              0.4444444444444444,
              "#bd3786"
             ],
             [
              0.5555555555555556,
              "#d8576b"
             ],
             [
              0.6666666666666666,
              "#ed7953"
             ],
             [
              0.7777777777777778,
              "#fb9f3a"
             ],
             [
              0.8888888888888888,
              "#fdca26"
             ],
             [
              1,
              "#f0f921"
             ]
            ],
            "type": "heatmapgl"
           }
          ],
          "histogram": [
           {
            "marker": {
             "pattern": {
              "fillmode": "overlay",
              "size": 10,
              "solidity": 0.2
             }
            },
            "type": "histogram"
           }
          ],
          "histogram2d": [
           {
            "colorbar": {
             "outlinewidth": 0,
             "ticks": ""
            },
            "colorscale": [
             [
              0,
              "#0d0887"
             ],
             [
              0.1111111111111111,
              "#46039f"
             ],
             [
              0.2222222222222222,
              "#7201a8"
             ],
             [
              0.3333333333333333,
              "#9c179e"
             ],
             [
              0.4444444444444444,
              "#bd3786"
             ],
             [
              0.5555555555555556,
              "#d8576b"
             ],
             [
              0.6666666666666666,
              "#ed7953"
             ],
             [
              0.7777777777777778,
              "#fb9f3a"
             ],
             [
              0.8888888888888888,
              "#fdca26"
             ],
             [
              1,
              "#f0f921"
             ]
            ],
            "type": "histogram2d"
           }
          ],
          "histogram2dcontour": [
           {
            "colorbar": {
             "outlinewidth": 0,
             "ticks": ""
            },
            "colorscale": [
             [
              0,
              "#0d0887"
             ],
             [
              0.1111111111111111,
              "#46039f"
             ],
             [
              0.2222222222222222,
              "#7201a8"
             ],
             [
              0.3333333333333333,
              "#9c179e"
             ],
             [
              0.4444444444444444,
              "#bd3786"
             ],
             [
              0.5555555555555556,
              "#d8576b"
             ],
             [
              0.6666666666666666,
              "#ed7953"
             ],
             [
              0.7777777777777778,
              "#fb9f3a"
             ],
             [
              0.8888888888888888,
              "#fdca26"
             ],
             [
              1,
              "#f0f921"
             ]
            ],
            "type": "histogram2dcontour"
           }
          ],
          "mesh3d": [
           {
            "colorbar": {
             "outlinewidth": 0,
             "ticks": ""
            },
            "type": "mesh3d"
           }
          ],
          "parcoords": [
           {
            "line": {
             "colorbar": {
              "outlinewidth": 0,
              "ticks": ""
             }
            },
            "type": "parcoords"
           }
          ],
          "pie": [
           {
            "automargin": true,
            "type": "pie"
           }
          ],
          "scatter": [
           {
            "fillpattern": {
             "fillmode": "overlay",
             "size": 10,
             "solidity": 0.2
            },
            "type": "scatter"
           }
          ],
          "scatter3d": [
           {
            "line": {
             "colorbar": {
              "outlinewidth": 0,
              "ticks": ""
             }
            },
            "marker": {
             "colorbar": {
              "outlinewidth": 0,
              "ticks": ""
             }
            },
            "type": "scatter3d"
           }
          ],
          "scattercarpet": [
           {
            "marker": {
             "colorbar": {
              "outlinewidth": 0,
              "ticks": ""
             }
            },
            "type": "scattercarpet"
           }
          ],
          "scattergeo": [
           {
            "marker": {
             "colorbar": {
              "outlinewidth": 0,
              "ticks": ""
             }
            },
            "type": "scattergeo"
           }
          ],
          "scattergl": [
           {
            "marker": {
             "colorbar": {
              "outlinewidth": 0,
              "ticks": ""
             }
            },
            "type": "scattergl"
           }
          ],
          "scattermapbox": [
           {
            "marker": {
             "colorbar": {
              "outlinewidth": 0,
              "ticks": ""
             }
            },
            "type": "scattermapbox"
           }
          ],
          "scatterpolar": [
           {
            "marker": {
             "colorbar": {
              "outlinewidth": 0,
              "ticks": ""
             }
            },
            "type": "scatterpolar"
           }
          ],
          "scatterpolargl": [
           {
            "marker": {
             "colorbar": {
              "outlinewidth": 0,
              "ticks": ""
             }
            },
            "type": "scatterpolargl"
           }
          ],
          "scatterternary": [
           {
            "marker": {
             "colorbar": {
              "outlinewidth": 0,
              "ticks": ""
             }
            },
            "type": "scatterternary"
           }
          ],
          "surface": [
           {
            "colorbar": {
             "outlinewidth": 0,
             "ticks": ""
            },
            "colorscale": [
             [
              0,
              "#0d0887"
             ],
             [
              0.1111111111111111,
              "#46039f"
             ],
             [
              0.2222222222222222,
              "#7201a8"
             ],
             [
              0.3333333333333333,
              "#9c179e"
             ],
             [
              0.4444444444444444,
              "#bd3786"
             ],
             [
              0.5555555555555556,
              "#d8576b"
             ],
             [
              0.6666666666666666,
              "#ed7953"
             ],
             [
              0.7777777777777778,
              "#fb9f3a"
             ],
             [
              0.8888888888888888,
              "#fdca26"
             ],
             [
              1,
              "#f0f921"
             ]
            ],
            "type": "surface"
           }
          ],
          "table": [
           {
            "cells": {
             "fill": {
              "color": "#EBF0F8"
             },
             "line": {
              "color": "white"
             }
            },
            "header": {
             "fill": {
              "color": "#C8D4E3"
             },
             "line": {
              "color": "white"
             }
            },
            "type": "table"
           }
          ]
         },
         "layout": {
          "annotationdefaults": {
           "arrowcolor": "#2a3f5f",
           "arrowhead": 0,
           "arrowwidth": 1
          },
          "autotypenumbers": "strict",
          "coloraxis": {
           "colorbar": {
            "outlinewidth": 0,
            "ticks": ""
           }
          },
          "colorscale": {
           "diverging": [
            [
             0,
             "#8e0152"
            ],
            [
             0.1,
             "#c51b7d"
            ],
            [
             0.2,
             "#de77ae"
            ],
            [
             0.3,
             "#f1b6da"
            ],
            [
             0.4,
             "#fde0ef"
            ],
            [
             0.5,
             "#f7f7f7"
            ],
            [
             0.6,
             "#e6f5d0"
            ],
            [
             0.7,
             "#b8e186"
            ],
            [
             0.8,
             "#7fbc41"
            ],
            [
             0.9,
             "#4d9221"
            ],
            [
             1,
             "#276419"
            ]
           ],
           "sequential": [
            [
             0,
             "#0d0887"
            ],
            [
             0.1111111111111111,
             "#46039f"
            ],
            [
             0.2222222222222222,
             "#7201a8"
            ],
            [
             0.3333333333333333,
             "#9c179e"
            ],
            [
             0.4444444444444444,
             "#bd3786"
            ],
            [
             0.5555555555555556,
             "#d8576b"
            ],
            [
             0.6666666666666666,
             "#ed7953"
            ],
            [
             0.7777777777777778,
             "#fb9f3a"
            ],
            [
             0.8888888888888888,
             "#fdca26"
            ],
            [
             1,
             "#f0f921"
            ]
           ],
           "sequentialminus": [
            [
             0,
             "#0d0887"
            ],
            [
             0.1111111111111111,
             "#46039f"
            ],
            [
             0.2222222222222222,
             "#7201a8"
            ],
            [
             0.3333333333333333,
             "#9c179e"
            ],
            [
             0.4444444444444444,
             "#bd3786"
            ],
            [
             0.5555555555555556,
             "#d8576b"
            ],
            [
             0.6666666666666666,
             "#ed7953"
            ],
            [
             0.7777777777777778,
             "#fb9f3a"
            ],
            [
             0.8888888888888888,
             "#fdca26"
            ],
            [
             1,
             "#f0f921"
            ]
           ]
          },
          "colorway": [
           "#636efa",
           "#EF553B",
           "#00cc96",
           "#ab63fa",
           "#FFA15A",
           "#19d3f3",
           "#FF6692",
           "#B6E880",
           "#FF97FF",
           "#FECB52"
          ],
          "font": {
           "color": "#2a3f5f"
          },
          "geo": {
           "bgcolor": "white",
           "lakecolor": "white",
           "landcolor": "#E5ECF6",
           "showlakes": true,
           "showland": true,
           "subunitcolor": "white"
          },
          "hoverlabel": {
           "align": "left"
          },
          "hovermode": "closest",
          "mapbox": {
           "style": "light"
          },
          "paper_bgcolor": "white",
          "plot_bgcolor": "#E5ECF6",
          "polar": {
           "angularaxis": {
            "gridcolor": "white",
            "linecolor": "white",
            "ticks": ""
           },
           "bgcolor": "#E5ECF6",
           "radialaxis": {
            "gridcolor": "white",
            "linecolor": "white",
            "ticks": ""
           }
          },
          "scene": {
           "xaxis": {
            "backgroundcolor": "#E5ECF6",
            "gridcolor": "white",
            "gridwidth": 2,
            "linecolor": "white",
            "showbackground": true,
            "ticks": "",
            "zerolinecolor": "white"
           },
           "yaxis": {
            "backgroundcolor": "#E5ECF6",
            "gridcolor": "white",
            "gridwidth": 2,
            "linecolor": "white",
            "showbackground": true,
            "ticks": "",
            "zerolinecolor": "white"
           },
           "zaxis": {
            "backgroundcolor": "#E5ECF6",
            "gridcolor": "white",
            "gridwidth": 2,
            "linecolor": "white",
            "showbackground": true,
            "ticks": "",
            "zerolinecolor": "white"
           }
          },
          "shapedefaults": {
           "line": {
            "color": "#2a3f5f"
           }
          },
          "ternary": {
           "aaxis": {
            "gridcolor": "white",
            "linecolor": "white",
            "ticks": ""
           },
           "baxis": {
            "gridcolor": "white",
            "linecolor": "white",
            "ticks": ""
           },
           "bgcolor": "#E5ECF6",
           "caxis": {
            "gridcolor": "white",
            "linecolor": "white",
            "ticks": ""
           }
          },
          "title": {
           "x": 0.05
          },
          "xaxis": {
           "automargin": true,
           "gridcolor": "white",
           "linecolor": "white",
           "ticks": "",
           "title": {
            "standoff": 15
           },
           "zerolinecolor": "white",
           "zerolinewidth": 2
          },
          "yaxis": {
           "automargin": true,
           "gridcolor": "white",
           "linecolor": "white",
           "ticks": "",
           "title": {
            "standoff": 15
           },
           "zerolinecolor": "white",
           "zerolinewidth": 2
          }
         }
        },
        "title": {
         "text": "Variation of Oxalates for Each Mango Variety in Peel"
        },
        "xaxis": {
         "autorange": true,
         "range": [
          0,
          4
         ],
         "title": {
          "text": "Ripening Stage"
         },
         "type": "category"
        },
        "yaxis": {
         "autorange": true,
         "range": [
          -0.16166666666666665,
          5.071666666666666
         ],
         "title": {
          "text": "Peel"
         },
         "type": "linear"
        }
       }
      },
      "image/png": "[encoded data removed]",
      "text/html": [
       "<div>                            <div id=\"618ca9c0-73a5-459d-b80c-1bf3b2b00314\" class=\"plotly-graph-div\" style=\"height:525px; width:100%;\"></div>            <script type=\"text/javascript\">                require([\"plotly\"], function(Plotly) {                    window.PLOTLYENV=window.PLOTLYENV || {};                                    if (document.getElementById(\"618ca9c0-73a5-459d-b80c-1bf3b2b00314\")) {                    Plotly.newPlot(                        \"618ca9c0-73a5-459d-b80c-1bf3b2b00314\",                        [{\"mode\":\"lines\",\"name\":\"Apple mango\",\"x\":[\"Stage 1\",\"Stage 2\",\"Stage 3\",\"Stage 4\",\"Stage 5\"],\"y\":[4.32,3.0,2.38,1.12,0.1],\"type\":\"scatter\"},{\"mode\":\"lines\",\"name\":\"Asante\",\"x\":[\"Stage 1\",\"Stage 2\",\"Stage 3\",\"Stage 4\",\"Stage 5\"],\"y\":[3.23,2.99,2.31,1.25,0.93],\"type\":\"scatter\"},{\"mode\":\"lines\",\"name\":\"Batawi\",\"x\":[\"Stage 1\",\"Stage 2\",\"Stage 3\",\"Stage 4\",\"Stage 5\"],\"y\":[3.41,2.99,2.24,1.08,0.89],\"type\":\"scatter\"},{\"mode\":\"lines\",\"name\":\"Bire\",\"x\":[\"Stage 1\",\"Stage 2\",\"Stage 3\",\"Stage 4\",\"Stage 5\"],\"y\":[4.21,2.89,2.27,1.11,0.92],\"type\":\"scatter\"},{\"mode\":\"lines\",\"name\":\"Boribo\",\"x\":[\"Stage 1\",\"Stage 2\",\"Stage 3\",\"Stage 4\",\"Stage 5\"],\"y\":[4.19,3.04,2.29,1.1,0.91],\"type\":\"scatter\"},{\"mode\":\"lines\",\"name\":\"Doodo\",\"x\":[\"Stage 1\",\"Stage 2\",\"Stage 3\",\"Stage 4\",\"Stage 5\"],\"y\":[3.48,2.96,2.15,1.09,0.82],\"type\":\"scatter\"},{\"mode\":\"lines\",\"name\":\"Kagoogwa\",\"x\":[\"Stage 1\",\"Stage 2\",\"Stage 3\",\"Stage 4\",\"Stage 5\"],\"y\":[4.27,2.99,2.21,1.02,0.89],\"type\":\"scatter\"},{\"mode\":\"lines\",\"name\":\"Koona\",\"x\":[\"Stage 1\",\"Stage 2\",\"Stage 3\",\"Stage 4\",\"Stage 5\"],\"y\":[4.33,2.93,2.08,1.15,0.77],\"type\":\"scatter\"},{\"mode\":\"lines\",\"name\":\"Mabbere\",\"x\":[\"Stage 1\",\"Stage 2\",\"Stage 3\",\"Stage 4\",\"Stage 5\"],\"y\":[3.34,2.93,2.3,1.05,0.95],\"type\":\"scatter\"},{\"mode\":\"lines\",\"name\":\"Sayuni\",\"x\":[\"Stage 1\",\"Stage 2\",\"Stage 3\",\"Stage 4\",\"Stage 5\"],\"y\":[4.72,2.91,2.19,0.94,0.75],\"type\":\"scatter\"},{\"mode\":\"lines\",\"name\":\"Ssejjembe\",\"x\":[\"Stage 1\",\"Stage 2\",\"Stage 3\",\"Stage 4\",\"Stage 5\"],\"y\":[4.81,2.97,2.19,1.02,0.75],\"type\":\"scatter\"},{\"mode\":\"lines\",\"name\":\"Takataka\",\"x\":[\"Stage 1\",\"Stage 2\",\"Stage 3\",\"Stage 4\",\"Stage 5\"],\"y\":[3.42,2.93,2.12,0.93,0.74],\"type\":\"scatter\"},{\"mode\":\"lines\",\"name\":\"Kakule\",\"x\":[\"Stage 1\",\"Stage 2\",\"Stage 3\",\"Stage 4\",\"Stage 5\"],\"y\":[3.03,2.82,2.23,1.26,0.88],\"type\":\"scatter\"},{\"mode\":\"lines\",\"name\":\"Duncan\",\"x\":[\"Stage 1\",\"Stage 2\",\"Stage 3\",\"Stage 4\",\"Stage 5\"],\"y\":[4.29,2.94,2.31,1.09,0.9],\"type\":\"scatter\"},{\"mode\":\"lines\",\"name\":\"Fairchild\",\"x\":[\"Stage 1\",\"Stage 2\",\"Stage 3\",\"Stage 4\",\"Stage 5\"],\"y\":[3.31,2.97,2.37,1.18,0.99],\"type\":\"scatter\"},{\"mode\":\"lines\",\"name\":\"Julie\",\"x\":[\"Stage 1\",\"Stage 2\",\"Stage 3\",\"Stage 4\",\"Stage 5\"],\"y\":[4.21,2.86,2.07,0.82,0.74],\"type\":\"scatter\"},{\"mode\":\"lines\",\"name\":\"Kapisa\",\"x\":[\"Stage 1\",\"Stage 2\",\"Stage 3\",\"Stage 4\",\"Stage 5\"],\"y\":[4.44,2.94,2.28,0.98,0.77],\"type\":\"scatter\"},{\"mode\":\"lines\",\"name\":\"Kent\",\"x\":[\"Stage 1\",\"Stage 2\",\"Stage 3\",\"Stage 4\",\"Stage 5\"],\"y\":[4.02,3.04,2.19,1.06,0.87],\"type\":\"scatter\"},{\"mode\":\"lines\",\"name\":\"Palmer\",\"x\":[\"Stage 1\",\"Stage 2\",\"Stage 3\",\"Stage 4\",\"Stage 5\"],\"y\":[3.33,3.09,2.17,0.95,0.86],\"type\":\"scatter\"},{\"mode\":\"lines\",\"name\":\"Ponde\",\"x\":[\"Stage 1\",\"Stage 2\",\"Stage 3\",\"Stage 4\",\"Stage 5\"],\"y\":[4.42,2.89,2.23,1.04,0.85],\"type\":\"scatter\"},{\"mode\":\"lines\",\"name\":\"Seena\",\"x\":[\"Stage 1\",\"Stage 2\",\"Stage 3\",\"Stage 4\",\"Stage 5\"],\"y\":[4.22,2.85,2.19,0.88,0.75],\"type\":\"scatter\"},{\"mode\":\"lines\",\"name\":\"Tommy atkin\",\"x\":[\"Stage 1\",\"Stage 2\",\"Stage 3\",\"Stage 4\",\"Stage 5\"],\"y\":[4.4,2.97,2.24,0.92,0.83],\"type\":\"scatter\"}],                        {\"title\":{\"text\":\"Variation of Oxalates for Each Mango Variety in Peel\"},\"xaxis\":{\"title\":{\"text\":\"Ripening Stage\"}},\"yaxis\":{\"title\":{\"text\":\"Peel\"}},\"template\":{\"data\":{\"histogram2dcontour\":[{\"type\":\"histogram2dcontour\",\"colorbar\":{\"outlinewidth\":0,\"ticks\":\"\"},\"colorscale\":[[0.0,\"#0d0887\"],[0.1111111111111111,\"#46039f\"],[0.2222222222222222,\"#7201a8\"],[0.3333333333333333,\"#9c179e\"],[0.4444444444444444,\"#bd3786\"],[0.5555555555555556,\"#d8576b\"],[0.6666666666666666,\"#ed7953\"],[0.7777777777777778,\"#fb9f3a\"],[0.8888888888888888,\"#fdca26\"],[1.0,\"#f0f921\"]]}],\"choropleth\":[{\"type\":\"choropleth\",\"colorbar\":{\"outlinewidth\":0,\"ticks\":\"\"}}],\"histogram2d\":[{\"type\":\"histogram2d\",\"colorbar\":{\"outlinewidth\":0,\"ticks\":\"\"},\"colorscale\":[[0.0,\"#0d0887\"],[0.1111111111111111,\"#46039f\"],[0.2222222222222222,\"#7201a8\"],[0.3333333333333333,\"#9c179e\"],[0.4444444444444444,\"#bd3786\"],[0.5555555555555556,\"#d8576b\"],[0.6666666666666666,\"#ed7953\"],[0.7777777777777778,\"#fb9f3a\"],[0.8888888888888888,\"#fdca26\"],[1.0,\"#f0f921\"]]}],\"heatmap\":[{\"type\":\"heatmap\",\"colorbar\":{\"outlinewidth\":0,\"ticks\":\"\"},\"colorscale\":[[0.0,\"#0d0887\"],[0.1111111111111111,\"#46039f\"],[0.2222222222222222,\"#7201a8\"],[0.3333333333333333,\"#9c179e\"],[0.4444444444444444,\"#bd3786\"],[0.5555555555555556,\"#d8576b\"],[0.6666666666666666,\"#ed7953\"],[0.7777777777777778,\"#fb9f3a\"],[0.8888888888888888,\"#fdca26\"],[1.0,\"#f0f921\"]]}],\"heatmapgl\":[{\"type\":\"heatmapgl\",\"colorbar\":{\"outlinewidth\":0,\"ticks\":\"\"},\"colorscale\":[[0.0,\"#0d0887\"],[0.1111111111111111,\"#46039f\"],[0.2222222222222222,\"#7201a8\"],[0.3333333333333333,\"#9c179e\"],[0.4444444444444444,\"#bd3786\"],[0.5555555555555556,\"#d8576b\"],[0.6666666666666666,\"#ed7953\"],[0.7777777777777778,\"#fb9f3a\"],[0.8888888888888888,\"#fdca26\"],[1.0,\"#f0f921\"]]}],\"contourcarpet\":[{\"type\":\"contourcarpet\",\"colorbar\":{\"outlinewidth\":0,\"ticks\":\"\"}}],\"contour\":[{\"type\":\"contour\",\"colorbar\":{\"outlinewidth\":0,\"ticks\":\"\"},\"colorscale\":[[0.0,\"#0d0887\"],[0.1111111111111111,\"#46039f\"],[0.2222222222222222,\"#7201a8\"],[0.3333333333333333,\"#9c179e\"],[0.4444444444444444,\"#bd3786\"],[0.5555555555555556,\"#d8576b\"],[0.6666666666666666,\"#ed7953\"],[0.7777777777777778,\"#fb9f3a\"],[0.8888888888888888,\"#fdca26\"],[1.0,\"#f0f921\"]]}],\"surface\":[{\"type\":\"surface\",\"colorbar\":{\"outlinewidth\":0,\"ticks\":\"\"},\"colorscale\":[[0.0,\"#0d0887\"],[0.1111111111111111,\"#46039f\"],[0.2222222222222222,\"#7201a8\"],[0.3333333333333333,\"#9c179e\"],[0.4444444444444444,\"#bd3786\"],[0.5555555555555556,\"#d8576b\"],[0.6666666666666666,\"#ed7953\"],[0.7777777777777778,\"#fb9f3a\"],[0.8888888888888888,\"#fdca26\"],[1.0,\"#f0f921\"]]}],\"mesh3d\":[{\"type\":\"mesh3d\",\"colorbar\":{\"outlinewidth\":0,\"ticks\":\"\"}}],\"scatter\":[{\"fillpattern\":{\"fillmode\":\"overlay\",\"size\":10,\"solidity\":0.2},\"type\":\"scatter\"}],\"parcoords\":[{\"type\":\"parcoords\",\"line\":{\"colorbar\":{\"outlinewidth\":0,\"ticks\":\"\"}}}],\"scatterpolargl\":[{\"type\":\"scatterpolargl\",\"marker\":{\"colorbar\":{\"outlinewidth\":0,\"ticks\":\"\"}}}],\"bar\":[{\"error_x\":{\"color\":\"#2a3f5f\"},\"error_y\":{\"color\":\"#2a3f5f\"},\"marker\":{\"line\":{\"color\":\"#E5ECF6\",\"width\":0.5},\"pattern\":{\"fillmode\":\"overlay\",\"size\":10,\"solidity\":0.2}},\"type\":\"bar\"}],\"scattergeo\":[{\"type\":\"scattergeo\",\"marker\":{\"colorbar\":{\"outlinewidth\":0,\"ticks\":\"\"}}}],\"scatterpolar\":[{\"type\":\"scatterpolar\",\"marker\":{\"colorbar\":{\"outlinewidth\":0,\"ticks\":\"\"}}}],\"histogram\":[{\"marker\":{\"pattern\":{\"fillmode\":\"overlay\",\"size\":10,\"solidity\":0.2}},\"type\":\"histogram\"}],\"scattergl\":[{\"type\":\"scattergl\",\"marker\":{\"colorbar\":{\"outlinewidth\":0,\"ticks\":\"\"}}}],\"scatter3d\":[{\"type\":\"scatter3d\",\"line\":{\"colorbar\":{\"outlinewidth\":0,\"ticks\":\"\"}},\"marker\":{\"colorbar\":{\"outlinewidth\":0,\"ticks\":\"\"}}}],\"scattermapbox\":[{\"type\":\"scattermapbox\",\"marker\":{\"colorbar\":{\"outlinewidth\":0,\"ticks\":\"\"}}}],\"scatterternary\":[{\"type\":\"scatterternary\",\"marker\":{\"colorbar\":{\"outlinewidth\":0,\"ticks\":\"\"}}}],\"scattercarpet\":[{\"type\":\"scattercarpet\",\"marker\":{\"colorbar\":{\"outlinewidth\":0,\"ticks\":\"\"}}}],\"carpet\":[{\"aaxis\":{\"endlinecolor\":\"#2a3f5f\",\"gridcolor\":\"white\",\"linecolor\":\"white\",\"minorgridcolor\":\"white\",\"startlinecolor\":\"#2a3f5f\"},\"baxis\":{\"endlinecolor\":\"#2a3f5f\",\"gridcolor\":\"white\",\"linecolor\":\"white\",\"minorgridcolor\":\"white\",\"startlinecolor\":\"#2a3f5f\"},\"type\":\"carpet\"}],\"table\":[{\"cells\":{\"fill\":{\"color\":\"#EBF0F8\"},\"line\":{\"color\":\"white\"}},\"header\":{\"fill\":{\"color\":\"#C8D4E3\"},\"line\":{\"color\":\"white\"}},\"type\":\"table\"}],\"barpolar\":[{\"marker\":{\"line\":{\"color\":\"#E5ECF6\",\"width\":0.5},\"pattern\":{\"fillmode\":\"overlay\",\"size\":10,\"solidity\":0.2}},\"type\":\"barpolar\"}],\"pie\":[{\"automargin\":true,\"type\":\"pie\"}]},\"layout\":{\"autotypenumbers\":\"strict\",\"colorway\":[\"#636efa\",\"#EF553B\",\"#00cc96\",\"#ab63fa\",\"#FFA15A\",\"#19d3f3\",\"#FF6692\",\"#B6E880\",\"#FF97FF\",\"#FECB52\"],\"font\":{\"color\":\"#2a3f5f\"},\"hovermode\":\"closest\",\"hoverlabel\":{\"align\":\"left\"},\"paper_bgcolor\":\"white\",\"plot_bgcolor\":\"#E5ECF6\",\"polar\":{\"bgcolor\":\"#E5ECF6\",\"angularaxis\":{\"gridcolor\":\"white\",\"linecolor\":\"white\",\"ticks\":\"\"},\"radialaxis\":{\"gridcolor\":\"white\",\"linecolor\":\"white\",\"ticks\":\"\"}},\"ternary\":{\"bgcolor\":\"#E5ECF6\",\"aaxis\":{\"gridcolor\":\"white\",\"linecolor\":\"white\",\"ticks\":\"\"},\"baxis\":{\"gridcolor\":\"white\",\"linecolor\":\"white\",\"ticks\":\"\"},\"caxis\":{\"gridcolor\":\"white\",\"linecolor\":\"white\",\"ticks\":\"\"}},\"coloraxis\":{\"colorbar\":{\"outlinewidth\":0,\"ticks\":\"\"}},\"colorscale\":{\"sequential\":[[0.0,\"#0d0887\"],[0.1111111111111111,\"#46039f\"],[0.2222222222222222,\"#7201a8\"],[0.3333333333333333,\"#9c179e\"],[0.4444444444444444,\"#bd3786\"],[0.5555555555555556,\"#d8576b\"],[0.6666666666666666,\"#ed7953\"],[0.7777777777777778,\"#fb9f3a\"],[0.8888888888888888,\"#fdca26\"],[1.0,\"#f0f921\"]],\"sequentialminus\":[[0.0,\"#0d0887\"],[0.1111111111111111,\"#46039f\"],[0.2222222222222222,\"#7201a8\"],[0.3333333333333333,\"#9c179e\"],[0.4444444444444444,\"#bd3786\"],[0.5555555555555556,\"#d8576b\"],[0.6666666666666666,\"#ed7953\"],[0.7777777777777778,\"#fb9f3a\"],[0.8888888888888888,\"#fdca26\"],[1.0,\"#f0f921\"]],\"diverging\":[[0,\"#8e0152\"],[0.1,\"#c51b7d\"],[0.2,\"#de77ae\"],[0.3,\"#f1b6da\"],[0.4,\"#fde0ef\"],[0.5,\"#f7f7f7\"],[0.6,\"#e6f5d0\"],[0.7,\"#b8e186\"],[0.8,\"#7fbc41\"],[0.9,\"#4d9221\"],[1,\"#276419\"]]},\"xaxis\":{\"gridcolor\":\"white\",\"linecolor\":\"white\",\"ticks\":\"\",\"title\":{\"standoff\":15},\"zerolinecolor\":\"white\",\"automargin\":true,\"zerolinewidth\":2},\"yaxis\":{\"gridcolor\":\"white\",\"linecolor\":\"white\",\"ticks\":\"\",\"title\":{\"standoff\":15},\"zerolinecolor\":\"white\",\"automargin\":true,\"zerolinewidth\":2},\"scene\":{\"xaxis\":{\"backgroundcolor\":\"#E5ECF6\",\"gridcolor\":\"white\",\"linecolor\":\"white\",\"showbackground\":true,\"ticks\":\"\",\"zerolinecolor\":\"white\",\"gridwidth\":2},\"yaxis\":{\"backgroundcolor\":\"#E5ECF6\",\"gridcolor\":\"white\",\"linecolor\":\"white\",\"showbackground\":true,\"ticks\":\"\",\"zerolinecolor\":\"white\",\"gridwidth\":2},\"zaxis\":{\"backgroundcolor\":\"#E5ECF6\",\"gridcolor\":\"white\",\"linecolor\":\"white\",\"showbackground\":true,\"ticks\":\"\",\"zerolinecolor\":\"white\",\"gridwidth\":2}},\"shapedefaults\":{\"line\":{\"color\":\"#2a3f5f\"}},\"annotationdefaults\":{\"arrowcolor\":\"#2a3f5f\",\"arrowhead\":0,\"arrowwidth\":1},\"geo\":{\"bgcolor\":\"white\",\"landcolor\":\"#E5ECF6\",\"subunitcolor\":\"white\",\"showland\":true,\"showlakes\":true,\"lakecolor\":\"white\"},\"title\":{\"x\":0.05},\"mapbox\":{\"style\":\"light\"}}}},                        {\"responsive\": true}                    ).then(function(){\n",
       "                            \n",
       "var gd = document.getElementById('618ca9c0-73a5-459d-b80c-1bf3b2b00314');\n",
       "var x = new MutationObserver(function (mutations, observer) {{\n",
       "        var display = window.getComputedStyle(gd).display;\n",
       "        if (!display || display === 'none') {{\n",
       "            console.log([gd, 'removed!']);\n",
       "            Plotly.purge(gd);\n",
       "            observer.disconnect();\n",
       "        }}\n",
       "}});\n",
       "\n",
       "// Listen for the removal of the full notebook cells\n",
       "var notebookContainer = gd.closest('#notebook-container');\n",
       "if (notebookContainer) {{\n",
       "    x.observe(notebookContainer, {childList: true});\n",
       "}}\n",
       "\n",
       "// Listen for the clearing of the current output cell\n",
       "var outputEl = gd.closest('.output');\n",
       "if (outputEl) {{\n",
       "    x.observe(outputEl, {childList: true});\n",
       "}}\n",
       "\n",
       "                        })                };                });            </script>        </div>"
      ]
     },
     "metadata": {},
     "output_type": "display_data"
    }
   ],
   "source": [
    "# Create traces for each mango variety\n",
    "traces = []\n",
    "for variety in data['Mango variety'].unique():\n",
    "    subset = data[data['Mango variety'] == variety]\n",
    "    trace = go.Scatter(x=subset['Ripening stage'], y=subset['Peel'], mode='lines', name=variety)\n",
    "    traces.append(trace)\n",
    "\n",
    "# Create layout\n",
    "layout = go.Layout(title='Variation of Oxalates for Each Mango Variety in Peel',\n",
    "                   xaxis=dict(title='Ripening Stage'),\n",
    "                   yaxis=dict(title='Peel'))\n",
    "\n",
    "# Create figure\n",
    "fig = go.Figure(data=traces, layout=layout)\n",
    "\n",
    "# Plot figure\n",
    "pio.show(fig)"
   ]
  },
  {
   "cell_type": "code",
   "execution_count": 7,
   "id": "7f184f66-d35a-490f-90a7-621304d92b7d",
   "metadata": {},
   "outputs": [
    {
     "data": {
      "application/vnd.plotly.v1+json": {
       "config": {
        "plotlyServerURL": "https://plot.ly"
       },
       "data": [
        {
         "mode": "lines",
         "name": "Apple mango",
         "type": "scatter",
         "x": [
          "Stage 1",
          "Stage 2",
          "Stage 3",
          "Stage 4",
          "Stage 5"
         ],
         "y": [
          2.44,
          2.36,
          1.95,
          1.78,
          1.55
         ]
        },
        {
         "mode": "lines",
         "name": "Asante",
         "type": "scatter",
         "x": [
          "Stage 1",
          "Stage 2",
          "Stage 3",
          "Stage 4",
          "Stage 5"
         ],
         "y": [
          2.34,
          2.22,
          1.96,
          1.95,
          1.52
         ]
        },
        {
         "mode": "lines",
         "name": "Batawi",
         "type": "scatter",
         "x": [
          "Stage 1",
          "Stage 2",
          "Stage 3",
          "Stage 4",
          "Stage 5"
         ],
         "y": [
          2.43,
          2.23,
          2.17,
          1.96,
          1.29
         ]
        },
        {
         "mode": "lines",
         "name": "Bire",
         "type": "scatter",
         "x": [
          "Stage 1",
          "Stage 2",
          "Stage 3",
          "Stage 4",
          "Stage 5"
         ],
         "y": [
          2.42,
          2.27,
          1.95,
          1.77,
          1.66
         ]
        },
        {
         "mode": "lines",
         "name": "Boribo",
         "type": "scatter",
         "x": [
          "Stage 1",
          "Stage 2",
          "Stage 3",
          "Stage 4",
          "Stage 5"
         ],
         "y": [
          2.33,
          2.3,
          2.15,
          1.56,
          1.48
         ]
        },
        {
         "mode": "lines",
         "name": "Doodo",
         "type": "scatter",
         "x": [
          "Stage 1",
          "Stage 2",
          "Stage 3",
          "Stage 4",
          "Stage 5"
         ],
         "y": [
          2.41,
          2.19,
          2.14,
          1.94,
          1.37
         ]
        },
        {
         "mode": "lines",
         "name": "Kagoogwa",
         "type": "scatter",
         "x": [
          "Stage 1",
          "Stage 2",
          "Stage 3",
          "Stage 4",
          "Stage 5"
         ],
         "y": [
          2.31,
          2.2,
          2.03,
          1.91,
          1.54
         ]
        },
        {
         "mode": "lines",
         "name": "Koona",
         "type": "scatter",
         "x": [
          "Stage 1",
          "Stage 2",
          "Stage 3",
          "Stage 4",
          "Stage 5"
         ],
         "y": [
          2.17,
          2.14,
          1.9,
          1.82,
          1.43
         ]
        },
        {
         "mode": "lines",
         "name": "Mabbere",
         "type": "scatter",
         "x": [
          "Stage 1",
          "Stage 2",
          "Stage 3",
          "Stage 4",
          "Stage 5"
         ],
         "y": [
          2.27,
          2.25,
          1.79,
          1.62,
          1.33
         ]
        },
        {
         "mode": "lines",
         "name": "Sayuni",
         "type": "scatter",
         "x": [
          "Stage 1",
          "Stage 2",
          "Stage 3",
          "Stage 4",
          "Stage 5"
         ],
         "y": [
          2.25,
          2.15,
          2.09,
          1.76,
          1.22
         ]
        },
        {
         "mode": "lines",
         "name": "Ssejjembe",
         "type": "scatter",
         "x": [
          "Stage 1",
          "Stage 2",
          "Stage 3",
          "Stage 4",
          "Stage 5"
         ],
         "y": [
          2.35,
          2.25,
          1.88,
          1.76,
          1.43
         ]
        },
        {
         "mode": "lines",
         "name": "Takataka",
         "type": "scatter",
         "x": [
          "Stage 1",
          "Stage 2",
          "Stage 3",
          "Stage 4",
          "Stage 5"
         ],
         "y": [
          2.06,
          2,
          1.87,
          1.86,
          1.68
         ]
        },
        {
         "mode": "lines",
         "name": "Kakule",
         "type": "scatter",
         "x": [
          "Stage 1",
          "Stage 2",
          "Stage 3",
          "Stage 4",
          "Stage 5"
         ],
         "y": [
          2.3,
          2.23,
          1.91,
          1.92,
          1.43
         ]
        },
        {
         "mode": "lines",
         "name": "Duncan",
         "type": "scatter",
         "x": [
          "Stage 1",
          "Stage 2",
          "Stage 3",
          "Stage 4",
          "Stage 5"
         ],
         "y": [
          2.43,
          2.25,
          2.03,
          1.94,
          1.48
         ]
        },
        {
         "mode": "lines",
         "name": "Fairchild",
         "type": "scatter",
         "x": [
          "Stage 1",
          "Stage 2",
          "Stage 3",
          "Stage 4",
          "Stage 5"
         ],
         "y": [
          2.39,
          2.31,
          2.03,
          1.83,
          1.55
         ]
        },
        {
         "mode": "lines",
         "name": "Julie",
         "type": "scatter",
         "x": [
          "Stage 1",
          "Stage 2",
          "Stage 3",
          "Stage 4",
          "Stage 5"
         ],
         "y": [
          2.23,
          2.17,
          2.05,
          1.85,
          1.22
         ]
        },
        {
         "mode": "lines",
         "name": "Kapisa",
         "type": "scatter",
         "x": [
          "Stage 1",
          "Stage 2",
          "Stage 3",
          "Stage 4",
          "Stage 5"
         ],
         "y": [
          2.38,
          2.09,
          2.02,
          1.9,
          1.24
         ]
        },
        {
         "mode": "lines",
         "name": "Kent",
         "type": "scatter",
         "x": [
          "Stage 1",
          "Stage 2",
          "Stage 3",
          "Stage 4",
          "Stage 5"
         ],
         "y": [
          2.28,
          2.16,
          1.91,
          1.8,
          1.72
         ]
        },
        {
         "mode": "lines",
         "name": "Palmer",
         "type": "scatter",
         "x": [
          "Stage 1",
          "Stage 2",
          "Stage 3",
          "Stage 4",
          "Stage 5"
         ],
         "y": [
          2.27,
          2.27,
          1.99,
          1.77,
          1.33
         ]
        },
        {
         "mode": "lines",
         "name": "Ponde",
         "type": "scatter",
         "x": [
          "Stage 1",
          "Stage 2",
          "Stage 3",
          "Stage 4",
          "Stage 5"
         ],
         "y": [
          2.27,
          2.17,
          1.99,
          1.79,
          1.51
         ]
        },
        {
         "mode": "lines",
         "name": "Seena",
         "type": "scatter",
         "x": [
          "Stage 1",
          "Stage 2",
          "Stage 3",
          "Stage 4",
          "Stage 5"
         ],
         "y": [
          2.25,
          2.19,
          1.88,
          1.86,
          1.58
         ]
        },
        {
         "mode": "lines",
         "name": "Tommy atkin",
         "type": "scatter",
         "x": [
          "Stage 1",
          "Stage 2",
          "Stage 3",
          "Stage 4",
          "Stage 5"
         ],
         "y": [
          2.24,
          2.22,
          1.96,
          1.87,
          1.38
         ]
        }
       ],
       "layout": {
        "autosize": true,
        "template": {
         "data": {
          "bar": [
           {
            "error_x": {
             "color": "#2a3f5f"
            },
            "error_y": {
             "color": "#2a3f5f"
            },
            "marker": {
             "line": {
              "color": "#E5ECF6",
              "width": 0.5
             },
             "pattern": {
              "fillmode": "overlay",
              "size": 10,
              "solidity": 0.2
             }
            },
            "type": "bar"
           }
          ],
          "barpolar": [
           {
            "marker": {
             "line": {
              "color": "#E5ECF6",
              "width": 0.5
             },
             "pattern": {
              "fillmode": "overlay",
              "size": 10,
              "solidity": 0.2
             }
            },
            "type": "barpolar"
           }
          ],
          "carpet": [
           {
            "aaxis": {
             "endlinecolor": "#2a3f5f",
             "gridcolor": "white",
             "linecolor": "white",
             "minorgridcolor": "white",
             "startlinecolor": "#2a3f5f"
            },
            "baxis": {
             "endlinecolor": "#2a3f5f",
             "gridcolor": "white",
             "linecolor": "white",
             "minorgridcolor": "white",
             "startlinecolor": "#2a3f5f"
            },
            "type": "carpet"
           }
          ],
          "choropleth": [
           {
            "colorbar": {
             "outlinewidth": 0,
             "ticks": ""
            },
            "type": "choropleth"
           }
          ],
          "contour": [
           {
            "colorbar": {
             "outlinewidth": 0,
             "ticks": ""
            },
            "colorscale": [
             [
              0,
              "#0d0887"
             ],
             [
              0.1111111111111111,
              "#46039f"
             ],
             [
              0.2222222222222222,
              "#7201a8"
             ],
             [
              0.3333333333333333,
              "#9c179e"
             ],
             [
              0.4444444444444444,
              "#bd3786"
             ],
             [
              0.5555555555555556,
              "#d8576b"
             ],
             [
              0.6666666666666666,
              "#ed7953"
             ],
             [
              0.7777777777777778,
              "#fb9f3a"
             ],
             [
              0.8888888888888888,
              "#fdca26"
             ],
             [
              1,
              "#f0f921"
             ]
            ],
            "type": "contour"
           }
          ],
          "contourcarpet": [
           {
            "colorbar": {
             "outlinewidth": 0,
             "ticks": ""
            },
            "type": "contourcarpet"
           }
          ],
          "heatmap": [
           {
            "colorbar": {
             "outlinewidth": 0,
             "ticks": ""
            },
            "colorscale": [
             [
              0,
              "#0d0887"
             ],
             [
              0.1111111111111111,
              "#46039f"
             ],
             [
              0.2222222222222222,
              "#7201a8"
             ],
             [
              0.3333333333333333,
              "#9c179e"
             ],
             [
              0.4444444444444444,
              "#bd3786"
             ],
             [
              0.5555555555555556,
              "#d8576b"
             ],
             [
              0.6666666666666666,
              "#ed7953"
             ],
             [
              0.7777777777777778,
              "#fb9f3a"
             ],
             [
              0.8888888888888888,
              "#fdca26"
             ],
             [
              1,
              "#f0f921"
             ]
            ],
            "type": "heatmap"
           }
          ],
          "heatmapgl": [
           {
            "colorbar": {
             "outlinewidth": 0,
             "ticks": ""
            },
            "colorscale": [
             [
              0,
              "#0d0887"
             ],
             [
              0.1111111111111111,
              "#46039f"
             ],
             [
              0.2222222222222222,
              "#7201a8"
             ],
             [
              0.3333333333333333,
              "#9c179e"
             ],
             [
              0.4444444444444444,
              "#bd3786"
             ],
             [
              0.5555555555555556,
              "#d8576b"
             ],
             [
              0.6666666666666666,
              "#ed7953"
             ],
             [
              0.7777777777777778,
              "#fb9f3a"
             ],
             [
              0.8888888888888888,
              "#fdca26"
             ],
             [
              1,
              "#f0f921"
             ]
            ],
            "type": "heatmapgl"
           }
          ],
          "histogram": [
           {
            "marker": {
             "pattern": {
              "fillmode": "overlay",
              "size": 10,
              "solidity": 0.2
             }
            },
            "type": "histogram"
           }
          ],
          "histogram2d": [
           {
            "colorbar": {
             "outlinewidth": 0,
             "ticks": ""
            },
            "colorscale": [
             [
              0,
              "#0d0887"
             ],
             [
              0.1111111111111111,
              "#46039f"
             ],
             [
              0.2222222222222222,
              "#7201a8"
             ],
             [
              0.3333333333333333,
              "#9c179e"
             ],
             [
              0.4444444444444444,
              "#bd3786"
             ],
             [
              0.5555555555555556,
              "#d8576b"
             ],
             [
              0.6666666666666666,
              "#ed7953"
             ],
             [
              0.7777777777777778,
              "#fb9f3a"
             ],
             [
              0.8888888888888888,
              "#fdca26"
             ],
             [
              1,
              "#f0f921"
             ]
            ],
            "type": "histogram2d"
           }
          ],
          "histogram2dcontour": [
           {
            "colorbar": {
             "outlinewidth": 0,
             "ticks": ""
            },
            "colorscale": [
             [
              0,
              "#0d0887"
             ],
             [
              0.1111111111111111,
              "#46039f"
             ],
             [
              0.2222222222222222,
              "#7201a8"
             ],
             [
              0.3333333333333333,
              "#9c179e"
             ],
             [
              0.4444444444444444,
              "#bd3786"
             ],
             [
              0.5555555555555556,
              "#d8576b"
             ],
             [
              0.6666666666666666,
              "#ed7953"
             ],
             [
              0.7777777777777778,
              "#fb9f3a"
             ],
             [
              0.8888888888888888,
              "#fdca26"
             ],
             [
              1,
              "#f0f921"
             ]
            ],
            "type": "histogram2dcontour"
           }
          ],
          "mesh3d": [
           {
            "colorbar": {
             "outlinewidth": 0,
             "ticks": ""
            },
            "type": "mesh3d"
           }
          ],
          "parcoords": [
           {
            "line": {
             "colorbar": {
              "outlinewidth": 0,
              "ticks": ""
             }
            },
            "type": "parcoords"
           }
          ],
          "pie": [
           {
            "automargin": true,
            "type": "pie"
           }
          ],
          "scatter": [
           {
            "fillpattern": {
             "fillmode": "overlay",
             "size": 10,
             "solidity": 0.2
            },
            "type": "scatter"
           }
          ],
          "scatter3d": [
           {
            "line": {
             "colorbar": {
              "outlinewidth": 0,
              "ticks": ""
             }
            },
            "marker": {
             "colorbar": {
              "outlinewidth": 0,
              "ticks": ""
             }
            },
            "type": "scatter3d"
           }
          ],
          "scattercarpet": [
           {
            "marker": {
             "colorbar": {
              "outlinewidth": 0,
              "ticks": ""
             }
            },
            "type": "scattercarpet"
           }
          ],
          "scattergeo": [
           {
            "marker": {
             "colorbar": {
              "outlinewidth": 0,
              "ticks": ""
             }
            },
            "type": "scattergeo"
           }
          ],
          "scattergl": [
           {
            "marker": {
             "colorbar": {
              "outlinewidth": 0,
              "ticks": ""
             }
            },
            "type": "scattergl"
           }
          ],
          "scattermapbox": [
           {
            "marker": {
             "colorbar": {
              "outlinewidth": 0,
              "ticks": ""
             }
            },
            "type": "scattermapbox"
           }
          ],
          "scatterpolar": [
           {
            "marker": {
             "colorbar": {
              "outlinewidth": 0,
              "ticks": ""
             }
            },
            "type": "scatterpolar"
           }
          ],
          "scatterpolargl": [
           {
            "marker": {
             "colorbar": {
              "outlinewidth": 0,
              "ticks": ""
             }
            },
            "type": "scatterpolargl"
           }
          ],
          "scatterternary": [
           {
            "marker": {
             "colorbar": {
              "outlinewidth": 0,
              "ticks": ""
             }
            },
            "type": "scatterternary"
           }
          ],
          "surface": [
           {
            "colorbar": {
             "outlinewidth": 0,
             "ticks": ""
            },
            "colorscale": [
             [
              0,
              "#0d0887"
             ],
             [
              0.1111111111111111,
              "#46039f"
             ],
             [
              0.2222222222222222,
              "#7201a8"
             ],
             [
              0.3333333333333333,
              "#9c179e"
             ],
             [
              0.4444444444444444,
              "#bd3786"
             ],
             [
              0.5555555555555556,
              "#d8576b"
             ],
             [
              0.6666666666666666,
              "#ed7953"
             ],
             [
              0.7777777777777778,
              "#fb9f3a"
             ],
             [
              0.8888888888888888,
              "#fdca26"
             ],
             [
              1,
              "#f0f921"
             ]
            ],
            "type": "surface"
           }
          ],
          "table": [
           {
            "cells": {
             "fill": {
              "color": "#EBF0F8"
             },
             "line": {
              "color": "white"
             }
            },
            "header": {
             "fill": {
              "color": "#C8D4E3"
             },
             "line": {
              "color": "white"
             }
            },
            "type": "table"
           }
          ]
         },
         "layout": {
          "annotationdefaults": {
           "arrowcolor": "#2a3f5f",
           "arrowhead": 0,
           "arrowwidth": 1
          },
          "autotypenumbers": "strict",
          "coloraxis": {
           "colorbar": {
            "outlinewidth": 0,
            "ticks": ""
           }
          },
          "colorscale": {
           "diverging": [
            [
             0,
             "#8e0152"
            ],
            [
             0.1,
             "#c51b7d"
            ],
            [
             0.2,
             "#de77ae"
            ],
            [
             0.3,
             "#f1b6da"
            ],
            [
             0.4,
             "#fde0ef"
            ],
            [
             0.5,
             "#f7f7f7"
            ],
            [
             0.6,
             "#e6f5d0"
            ],
            [
             0.7,
             "#b8e186"
            ],
            [
             0.8,
             "#7fbc41"
            ],
            [
             0.9,
             "#4d9221"
            ],
            [
             1,
             "#276419"
            ]
           ],
           "sequential": [
            [
             0,
             "#0d0887"
            ],
            [
             0.1111111111111111,
             "#46039f"
            ],
            [
             0.2222222222222222,
             "#7201a8"
            ],
            [
             0.3333333333333333,
             "#9c179e"
            ],
            [
             0.4444444444444444,
             "#bd3786"
            ],
            [
             0.5555555555555556,
             "#d8576b"
            ],
            [
             0.6666666666666666,
             "#ed7953"
            ],
            [
             0.7777777777777778,
             "#fb9f3a"
            ],
            [
             0.8888888888888888,
             "#fdca26"
            ],
            [
             1,
             "#f0f921"
            ]
           ],
           "sequentialminus": [
            [
             0,
             "#0d0887"
            ],
            [
             0.1111111111111111,
             "#46039f"
            ],
            [
             0.2222222222222222,
             "#7201a8"
            ],
            [
             0.3333333333333333,
             "#9c179e"
            ],
            [
             0.4444444444444444,
             "#bd3786"
            ],
            [
             0.5555555555555556,
             "#d8576b"
            ],
            [
             0.6666666666666666,
             "#ed7953"
            ],
            [
             0.7777777777777778,
             "#fb9f3a"
            ],
            [
             0.8888888888888888,
             "#fdca26"
            ],
            [
             1,
             "#f0f921"
            ]
           ]
          },
          "colorway": [
           "#636efa",
           "#EF553B",
           "#00cc96",
           "#ab63fa",
           "#FFA15A",
           "#19d3f3",
           "#FF6692",
           "#B6E880",
           "#FF97FF",
           "#FECB52"
          ],
          "font": {
           "color": "#2a3f5f"
          },
          "geo": {
           "bgcolor": "white",
           "lakecolor": "white",
           "landcolor": "#E5ECF6",
           "showlakes": true,
           "showland": true,
           "subunitcolor": "white"
          },
          "hoverlabel": {
           "align": "left"
          },
          "hovermode": "closest",
          "mapbox": {
           "style": "light"
          },
          "paper_bgcolor": "white",
          "plot_bgcolor": "#E5ECF6",
          "polar": {
           "angularaxis": {
            "gridcolor": "white",
            "linecolor": "white",
            "ticks": ""
           },
           "bgcolor": "#E5ECF6",
           "radialaxis": {
            "gridcolor": "white",
            "linecolor": "white",
            "ticks": ""
           }
          },
          "scene": {
           "xaxis": {
            "backgroundcolor": "#E5ECF6",
            "gridcolor": "white",
            "gridwidth": 2,
            "linecolor": "white",
            "showbackground": true,
            "ticks": "",
            "zerolinecolor": "white"
           },
           "yaxis": {
            "backgroundcolor": "#E5ECF6",
            "gridcolor": "white",
            "gridwidth": 2,
            "linecolor": "white",
            "showbackground": true,
            "ticks": "",
            "zerolinecolor": "white"
           },
           "zaxis": {
            "backgroundcolor": "#E5ECF6",
            "gridcolor": "white",
            "gridwidth": 2,
            "linecolor": "white",
            "showbackground": true,
            "ticks": "",
            "zerolinecolor": "white"
           }
          },
          "shapedefaults": {
           "line": {
            "color": "#2a3f5f"
           }
          },
          "ternary": {
           "aaxis": {
            "gridcolor": "white",
            "linecolor": "white",
            "ticks": ""
           },
           "baxis": {
            "gridcolor": "white",
            "linecolor": "white",
            "ticks": ""
           },
           "bgcolor": "#E5ECF6",
           "caxis": {
            "gridcolor": "white",
            "linecolor": "white",
            "ticks": ""
           }
          },
          "title": {
           "x": 0.05
          },
          "xaxis": {
           "automargin": true,
           "gridcolor": "white",
           "linecolor": "white",
           "ticks": "",
           "title": {
            "standoff": 15
           },
           "zerolinecolor": "white",
           "zerolinewidth": 2
          },
          "yaxis": {
           "automargin": true,
           "gridcolor": "white",
           "linecolor": "white",
           "ticks": "",
           "title": {
            "standoff": 15
           },
           "zerolinecolor": "white",
           "zerolinewidth": 2
          }
         }
        },
        "title": {
         "text": "Variation of Oxalates for Each Mango Variety in Pulp"
        },
        "xaxis": {
         "autorange": true,
         "range": [
          0,
          4
         ],
         "title": {
          "text": "Ripening Stage"
         },
         "type": "category"
        },
        "yaxis": {
         "autorange": true,
         "range": [
          1.1522222222222223,
          2.5077777777777777
         ],
         "title": {
          "text": "Peel"
         },
         "type": "linear"
        }
       }
      },
      "image/png": "[encoded data removed]",
      "text/html": [
       "<div>                            <div id=\"ae563039-b277-474f-99fe-ecbaf99fb67d\" class=\"plotly-graph-div\" style=\"height:525px; width:100%;\"></div>            <script type=\"text/javascript\">                require([\"plotly\"], function(Plotly) {                    window.PLOTLYENV=window.PLOTLYENV || {};                                    if (document.getElementById(\"ae563039-b277-474f-99fe-ecbaf99fb67d\")) {                    Plotly.newPlot(                        \"ae563039-b277-474f-99fe-ecbaf99fb67d\",                        [{\"mode\":\"lines\",\"name\":\"Apple mango\",\"x\":[\"Stage 1\",\"Stage 2\",\"Stage 3\",\"Stage 4\",\"Stage 5\"],\"y\":[2.44,2.36,1.95,1.78,1.55],\"type\":\"scatter\"},{\"mode\":\"lines\",\"name\":\"Asante\",\"x\":[\"Stage 1\",\"Stage 2\",\"Stage 3\",\"Stage 4\",\"Stage 5\"],\"y\":[2.34,2.22,1.96,1.95,1.52],\"type\":\"scatter\"},{\"mode\":\"lines\",\"name\":\"Batawi\",\"x\":[\"Stage 1\",\"Stage 2\",\"Stage 3\",\"Stage 4\",\"Stage 5\"],\"y\":[2.43,2.23,2.17,1.96,1.29],\"type\":\"scatter\"},{\"mode\":\"lines\",\"name\":\"Bire\",\"x\":[\"Stage 1\",\"Stage 2\",\"Stage 3\",\"Stage 4\",\"Stage 5\"],\"y\":[2.42,2.27,1.95,1.77,1.66],\"type\":\"scatter\"},{\"mode\":\"lines\",\"name\":\"Boribo\",\"x\":[\"Stage 1\",\"Stage 2\",\"Stage 3\",\"Stage 4\",\"Stage 5\"],\"y\":[2.33,2.3,2.15,1.56,1.48],\"type\":\"scatter\"},{\"mode\":\"lines\",\"name\":\"Doodo\",\"x\":[\"Stage 1\",\"Stage 2\",\"Stage 3\",\"Stage 4\",\"Stage 5\"],\"y\":[2.41,2.19,2.14,1.94,1.37],\"type\":\"scatter\"},{\"mode\":\"lines\",\"name\":\"Kagoogwa\",\"x\":[\"Stage 1\",\"Stage 2\",\"Stage 3\",\"Stage 4\",\"Stage 5\"],\"y\":[2.31,2.2,2.03,1.91,1.54],\"type\":\"scatter\"},{\"mode\":\"lines\",\"name\":\"Koona\",\"x\":[\"Stage 1\",\"Stage 2\",\"Stage 3\",\"Stage 4\",\"Stage 5\"],\"y\":[2.17,2.14,1.9,1.82,1.43],\"type\":\"scatter\"},{\"mode\":\"lines\",\"name\":\"Mabbere\",\"x\":[\"Stage 1\",\"Stage 2\",\"Stage 3\",\"Stage 4\",\"Stage 5\"],\"y\":[2.27,2.25,1.79,1.62,1.33],\"type\":\"scatter\"},{\"mode\":\"lines\",\"name\":\"Sayuni\",\"x\":[\"Stage 1\",\"Stage 2\",\"Stage 3\",\"Stage 4\",\"Stage 5\"],\"y\":[2.25,2.15,2.09,1.76,1.22],\"type\":\"scatter\"},{\"mode\":\"lines\",\"name\":\"Ssejjembe\",\"x\":[\"Stage 1\",\"Stage 2\",\"Stage 3\",\"Stage 4\",\"Stage 5\"],\"y\":[2.35,2.25,1.88,1.76,1.43],\"type\":\"scatter\"},{\"mode\":\"lines\",\"name\":\"Takataka\",\"x\":[\"Stage 1\",\"Stage 2\",\"Stage 3\",\"Stage 4\",\"Stage 5\"],\"y\":[2.06,2.0,1.87,1.86,1.68],\"type\":\"scatter\"},{\"mode\":\"lines\",\"name\":\"Kakule\",\"x\":[\"Stage 1\",\"Stage 2\",\"Stage 3\",\"Stage 4\",\"Stage 5\"],\"y\":[2.3,2.23,1.91,1.92,1.43],\"type\":\"scatter\"},{\"mode\":\"lines\",\"name\":\"Duncan\",\"x\":[\"Stage 1\",\"Stage 2\",\"Stage 3\",\"Stage 4\",\"Stage 5\"],\"y\":[2.43,2.25,2.03,1.94,1.48],\"type\":\"scatter\"},{\"mode\":\"lines\",\"name\":\"Fairchild\",\"x\":[\"Stage 1\",\"Stage 2\",\"Stage 3\",\"Stage 4\",\"Stage 5\"],\"y\":[2.39,2.31,2.03,1.83,1.55],\"type\":\"scatter\"},{\"mode\":\"lines\",\"name\":\"Julie\",\"x\":[\"Stage 1\",\"Stage 2\",\"Stage 3\",\"Stage 4\",\"Stage 5\"],\"y\":[2.23,2.17,2.05,1.85,1.22],\"type\":\"scatter\"},{\"mode\":\"lines\",\"name\":\"Kapisa\",\"x\":[\"Stage 1\",\"Stage 2\",\"Stage 3\",\"Stage 4\",\"Stage 5\"],\"y\":[2.38,2.09,2.02,1.9,1.24],\"type\":\"scatter\"},{\"mode\":\"lines\",\"name\":\"Kent\",\"x\":[\"Stage 1\",\"Stage 2\",\"Stage 3\",\"Stage 4\",\"Stage 5\"],\"y\":[2.28,2.16,1.91,1.8,1.72],\"type\":\"scatter\"},{\"mode\":\"lines\",\"name\":\"Palmer\",\"x\":[\"Stage 1\",\"Stage 2\",\"Stage 3\",\"Stage 4\",\"Stage 5\"],\"y\":[2.27,2.27,1.99,1.77,1.33],\"type\":\"scatter\"},{\"mode\":\"lines\",\"name\":\"Ponde\",\"x\":[\"Stage 1\",\"Stage 2\",\"Stage 3\",\"Stage 4\",\"Stage 5\"],\"y\":[2.27,2.17,1.99,1.79,1.51],\"type\":\"scatter\"},{\"mode\":\"lines\",\"name\":\"Seena\",\"x\":[\"Stage 1\",\"Stage 2\",\"Stage 3\",\"Stage 4\",\"Stage 5\"],\"y\":[2.25,2.19,1.88,1.86,1.58],\"type\":\"scatter\"},{\"mode\":\"lines\",\"name\":\"Tommy atkin\",\"x\":[\"Stage 1\",\"Stage 2\",\"Stage 3\",\"Stage 4\",\"Stage 5\"],\"y\":[2.24,2.22,1.96,1.87,1.38],\"type\":\"scatter\"}],                        {\"title\":{\"text\":\"Variation of Oxalates for Each Mango Variety in Pulp\"},\"xaxis\":{\"title\":{\"text\":\"Ripening Stage\"}},\"yaxis\":{\"title\":{\"text\":\"Peel\"}},\"template\":{\"data\":{\"histogram2dcontour\":[{\"type\":\"histogram2dcontour\",\"colorbar\":{\"outlinewidth\":0,\"ticks\":\"\"},\"colorscale\":[[0.0,\"#0d0887\"],[0.1111111111111111,\"#46039f\"],[0.2222222222222222,\"#7201a8\"],[0.3333333333333333,\"#9c179e\"],[0.4444444444444444,\"#bd3786\"],[0.5555555555555556,\"#d8576b\"],[0.6666666666666666,\"#ed7953\"],[0.7777777777777778,\"#fb9f3a\"],[0.8888888888888888,\"#fdca26\"],[1.0,\"#f0f921\"]]}],\"choropleth\":[{\"type\":\"choropleth\",\"colorbar\":{\"outlinewidth\":0,\"ticks\":\"\"}}],\"histogram2d\":[{\"type\":\"histogram2d\",\"colorbar\":{\"outlinewidth\":0,\"ticks\":\"\"},\"colorscale\":[[0.0,\"#0d0887\"],[0.1111111111111111,\"#46039f\"],[0.2222222222222222,\"#7201a8\"],[0.3333333333333333,\"#9c179e\"],[0.4444444444444444,\"#bd3786\"],[0.5555555555555556,\"#d8576b\"],[0.6666666666666666,\"#ed7953\"],[0.7777777777777778,\"#fb9f3a\"],[0.8888888888888888,\"#fdca26\"],[1.0,\"#f0f921\"]]}],\"heatmap\":[{\"type\":\"heatmap\",\"colorbar\":{\"outlinewidth\":0,\"ticks\":\"\"},\"colorscale\":[[0.0,\"#0d0887\"],[0.1111111111111111,\"#46039f\"],[0.2222222222222222,\"#7201a8\"],[0.3333333333333333,\"#9c179e\"],[0.4444444444444444,\"#bd3786\"],[0.5555555555555556,\"#d8576b\"],[0.6666666666666666,\"#ed7953\"],[0.7777777777777778,\"#fb9f3a\"],[0.8888888888888888,\"#fdca26\"],[1.0,\"#f0f921\"]]}],\"heatmapgl\":[{\"type\":\"heatmapgl\",\"colorbar\":{\"outlinewidth\":0,\"ticks\":\"\"},\"colorscale\":[[0.0,\"#0d0887\"],[0.1111111111111111,\"#46039f\"],[0.2222222222222222,\"#7201a8\"],[0.3333333333333333,\"#9c179e\"],[0.4444444444444444,\"#bd3786\"],[0.5555555555555556,\"#d8576b\"],[0.6666666666666666,\"#ed7953\"],[0.7777777777777778,\"#fb9f3a\"],[0.8888888888888888,\"#fdca26\"],[1.0,\"#f0f921\"]]}],\"contourcarpet\":[{\"type\":\"contourcarpet\",\"colorbar\":{\"outlinewidth\":0,\"ticks\":\"\"}}],\"contour\":[{\"type\":\"contour\",\"colorbar\":{\"outlinewidth\":0,\"ticks\":\"\"},\"colorscale\":[[0.0,\"#0d0887\"],[0.1111111111111111,\"#46039f\"],[0.2222222222222222,\"#7201a8\"],[0.3333333333333333,\"#9c179e\"],[0.4444444444444444,\"#bd3786\"],[0.5555555555555556,\"#d8576b\"],[0.6666666666666666,\"#ed7953\"],[0.7777777777777778,\"#fb9f3a\"],[0.8888888888888888,\"#fdca26\"],[1.0,\"#f0f921\"]]}],\"surface\":[{\"type\":\"surface\",\"colorbar\":{\"outlinewidth\":0,\"ticks\":\"\"},\"colorscale\":[[0.0,\"#0d0887\"],[0.1111111111111111,\"#46039f\"],[0.2222222222222222,\"#7201a8\"],[0.3333333333333333,\"#9c179e\"],[0.4444444444444444,\"#bd3786\"],[0.5555555555555556,\"#d8576b\"],[0.6666666666666666,\"#ed7953\"],[0.7777777777777778,\"#fb9f3a\"],[0.8888888888888888,\"#fdca26\"],[1.0,\"#f0f921\"]]}],\"mesh3d\":[{\"type\":\"mesh3d\",\"colorbar\":{\"outlinewidth\":0,\"ticks\":\"\"}}],\"scatter\":[{\"fillpattern\":{\"fillmode\":\"overlay\",\"size\":10,\"solidity\":0.2},\"type\":\"scatter\"}],\"parcoords\":[{\"type\":\"parcoords\",\"line\":{\"colorbar\":{\"outlinewidth\":0,\"ticks\":\"\"}}}],\"scatterpolargl\":[{\"type\":\"scatterpolargl\",\"marker\":{\"colorbar\":{\"outlinewidth\":0,\"ticks\":\"\"}}}],\"bar\":[{\"error_x\":{\"color\":\"#2a3f5f\"},\"error_y\":{\"color\":\"#2a3f5f\"},\"marker\":{\"line\":{\"color\":\"#E5ECF6\",\"width\":0.5},\"pattern\":{\"fillmode\":\"overlay\",\"size\":10,\"solidity\":0.2}},\"type\":\"bar\"}],\"scattergeo\":[{\"type\":\"scattergeo\",\"marker\":{\"colorbar\":{\"outlinewidth\":0,\"ticks\":\"\"}}}],\"scatterpolar\":[{\"type\":\"scatterpolar\",\"marker\":{\"colorbar\":{\"outlinewidth\":0,\"ticks\":\"\"}}}],\"histogram\":[{\"marker\":{\"pattern\":{\"fillmode\":\"overlay\",\"size\":10,\"solidity\":0.2}},\"type\":\"histogram\"}],\"scattergl\":[{\"type\":\"scattergl\",\"marker\":{\"colorbar\":{\"outlinewidth\":0,\"ticks\":\"\"}}}],\"scatter3d\":[{\"type\":\"scatter3d\",\"line\":{\"colorbar\":{\"outlinewidth\":0,\"ticks\":\"\"}},\"marker\":{\"colorbar\":{\"outlinewidth\":0,\"ticks\":\"\"}}}],\"scattermapbox\":[{\"type\":\"scattermapbox\",\"marker\":{\"colorbar\":{\"outlinewidth\":0,\"ticks\":\"\"}}}],\"scatterternary\":[{\"type\":\"scatterternary\",\"marker\":{\"colorbar\":{\"outlinewidth\":0,\"ticks\":\"\"}}}],\"scattercarpet\":[{\"type\":\"scattercarpet\",\"marker\":{\"colorbar\":{\"outlinewidth\":0,\"ticks\":\"\"}}}],\"carpet\":[{\"aaxis\":{\"endlinecolor\":\"#2a3f5f\",\"gridcolor\":\"white\",\"linecolor\":\"white\",\"minorgridcolor\":\"white\",\"startlinecolor\":\"#2a3f5f\"},\"baxis\":{\"endlinecolor\":\"#2a3f5f\",\"gridcolor\":\"white\",\"linecolor\":\"white\",\"minorgridcolor\":\"white\",\"startlinecolor\":\"#2a3f5f\"},\"type\":\"carpet\"}],\"table\":[{\"cells\":{\"fill\":{\"color\":\"#EBF0F8\"},\"line\":{\"color\":\"white\"}},\"header\":{\"fill\":{\"color\":\"#C8D4E3\"},\"line\":{\"color\":\"white\"}},\"type\":\"table\"}],\"barpolar\":[{\"marker\":{\"line\":{\"color\":\"#E5ECF6\",\"width\":0.5},\"pattern\":{\"fillmode\":\"overlay\",\"size\":10,\"solidity\":0.2}},\"type\":\"barpolar\"}],\"pie\":[{\"automargin\":true,\"type\":\"pie\"}]},\"layout\":{\"autotypenumbers\":\"strict\",\"colorway\":[\"#636efa\",\"#EF553B\",\"#00cc96\",\"#ab63fa\",\"#FFA15A\",\"#19d3f3\",\"#FF6692\",\"#B6E880\",\"#FF97FF\",\"#FECB52\"],\"font\":{\"color\":\"#2a3f5f\"},\"hovermode\":\"closest\",\"hoverlabel\":{\"align\":\"left\"},\"paper_bgcolor\":\"white\",\"plot_bgcolor\":\"#E5ECF6\",\"polar\":{\"bgcolor\":\"#E5ECF6\",\"angularaxis\":{\"gridcolor\":\"white\",\"linecolor\":\"white\",\"ticks\":\"\"},\"radialaxis\":{\"gridcolor\":\"white\",\"linecolor\":\"white\",\"ticks\":\"\"}},\"ternary\":{\"bgcolor\":\"#E5ECF6\",\"aaxis\":{\"gridcolor\":\"white\",\"linecolor\":\"white\",\"ticks\":\"\"},\"baxis\":{\"gridcolor\":\"white\",\"linecolor\":\"white\",\"ticks\":\"\"},\"caxis\":{\"gridcolor\":\"white\",\"linecolor\":\"white\",\"ticks\":\"\"}},\"coloraxis\":{\"colorbar\":{\"outlinewidth\":0,\"ticks\":\"\"}},\"colorscale\":{\"sequential\":[[0.0,\"#0d0887\"],[0.1111111111111111,\"#46039f\"],[0.2222222222222222,\"#7201a8\"],[0.3333333333333333,\"#9c179e\"],[0.4444444444444444,\"#bd3786\"],[0.5555555555555556,\"#d8576b\"],[0.6666666666666666,\"#ed7953\"],[0.7777777777777778,\"#fb9f3a\"],[0.8888888888888888,\"#fdca26\"],[1.0,\"#f0f921\"]],\"sequentialminus\":[[0.0,\"#0d0887\"],[0.1111111111111111,\"#46039f\"],[0.2222222222222222,\"#7201a8\"],[0.3333333333333333,\"#9c179e\"],[0.4444444444444444,\"#bd3786\"],[0.5555555555555556,\"#d8576b\"],[0.6666666666666666,\"#ed7953\"],[0.7777777777777778,\"#fb9f3a\"],[0.8888888888888888,\"#fdca26\"],[1.0,\"#f0f921\"]],\"diverging\":[[0,\"#8e0152\"],[0.1,\"#c51b7d\"],[0.2,\"#de77ae\"],[0.3,\"#f1b6da\"],[0.4,\"#fde0ef\"],[0.5,\"#f7f7f7\"],[0.6,\"#e6f5d0\"],[0.7,\"#b8e186\"],[0.8,\"#7fbc41\"],[0.9,\"#4d9221\"],[1,\"#276419\"]]},\"xaxis\":{\"gridcolor\":\"white\",\"linecolor\":\"white\",\"ticks\":\"\",\"title\":{\"standoff\":15},\"zerolinecolor\":\"white\",\"automargin\":true,\"zerolinewidth\":2},\"yaxis\":{\"gridcolor\":\"white\",\"linecolor\":\"white\",\"ticks\":\"\",\"title\":{\"standoff\":15},\"zerolinecolor\":\"white\",\"automargin\":true,\"zerolinewidth\":2},\"scene\":{\"xaxis\":{\"backgroundcolor\":\"#E5ECF6\",\"gridcolor\":\"white\",\"linecolor\":\"white\",\"showbackground\":true,\"ticks\":\"\",\"zerolinecolor\":\"white\",\"gridwidth\":2},\"yaxis\":{\"backgroundcolor\":\"#E5ECF6\",\"gridcolor\":\"white\",\"linecolor\":\"white\",\"showbackground\":true,\"ticks\":\"\",\"zerolinecolor\":\"white\",\"gridwidth\":2},\"zaxis\":{\"backgroundcolor\":\"#E5ECF6\",\"gridcolor\":\"white\",\"linecolor\":\"white\",\"showbackground\":true,\"ticks\":\"\",\"zerolinecolor\":\"white\",\"gridwidth\":2}},\"shapedefaults\":{\"line\":{\"color\":\"#2a3f5f\"}},\"annotationdefaults\":{\"arrowcolor\":\"#2a3f5f\",\"arrowhead\":0,\"arrowwidth\":1},\"geo\":{\"bgcolor\":\"white\",\"landcolor\":\"#E5ECF6\",\"subunitcolor\":\"white\",\"showland\":true,\"showlakes\":true,\"lakecolor\":\"white\"},\"title\":{\"x\":0.05},\"mapbox\":{\"style\":\"light\"}}}},                        {\"responsive\": true}                    ).then(function(){\n",
       "                            \n",
       "var gd = document.getElementById('ae563039-b277-474f-99fe-ecbaf99fb67d');\n",
       "var x = new MutationObserver(function (mutations, observer) {{\n",
       "        var display = window.getComputedStyle(gd).display;\n",
       "        if (!display || display === 'none') {{\n",
       "            console.log([gd, 'removed!']);\n",
       "            Plotly.purge(gd);\n",
       "            observer.disconnect();\n",
       "        }}\n",
       "}});\n",
       "\n",
       "// Listen for the removal of the full notebook cells\n",
       "var notebookContainer = gd.closest('#notebook-container');\n",
       "if (notebookContainer) {{\n",
       "    x.observe(notebookContainer, {childList: true});\n",
       "}}\n",
       "\n",
       "// Listen for the clearing of the current output cell\n",
       "var outputEl = gd.closest('.output');\n",
       "if (outputEl) {{\n",
       "    x.observe(outputEl, {childList: true});\n",
       "}}\n",
       "\n",
       "                        })                };                });            </script>        </div>"
      ]
     },
     "metadata": {},
     "output_type": "display_data"
    }
   ],
   "source": [
    "# Create traces for each mango variety\n",
    "traces = []\n",
    "for variety in data['Mango variety'].unique():\n",
    "    subset = data[data['Mango variety'] == variety]\n",
    "    trace = go.Scatter(x=subset['Ripening stage'], y=subset['Pulp'], mode='lines', name=variety)\n",
    "    traces.append(trace)\n",
    "\n",
    "# Create layout\n",
    "layout = go.Layout(title='Variation of Oxalates for Each Mango Variety in Pulp',\n",
    "                   xaxis=dict(title='Ripening Stage'),\n",
    "                   yaxis=dict(title='Peel'))\n",
    "\n",
    "# Create figure\n",
    "fig = go.Figure(data=traces, layout=layout)\n",
    "\n",
    "# Plot figure\n",
    "pio.show(fig)"
   ]
  },
  {
   "cell_type": "code",
   "execution_count": 8,
   "id": "c2d52149-e52e-4f62-8602-875175676256",
   "metadata": {},
   "outputs": [
    {
     "data": {
      "application/vnd.plotly.v1+json": {
       "config": {
        "plotlyServerURL": "https://plot.ly"
       },
       "data": [
        {
         "mode": "lines",
         "name": "Apple mango",
         "type": "scatter",
         "x": [
          "Stage 1",
          "Stage 2",
          "Stage 3",
          "Stage 4",
          "Stage 5"
         ],
         "y": [
          1.38,
          1.27,
          0.75,
          0.25,
          0.25
         ]
        },
        {
         "mode": "lines",
         "name": "Asante",
         "type": "scatter",
         "x": [
          "Stage 1",
          "Stage 2",
          "Stage 3",
          "Stage 4",
          "Stage 5"
         ],
         "y": [
          2.38,
          1.51,
          0.76,
          0.38,
          0.26
         ]
        },
        {
         "mode": "lines",
         "name": "Batawi",
         "type": "scatter",
         "x": [
          "Stage 1",
          "Stage 2",
          "Stage 3",
          "Stage 4",
          "Stage 5"
         ],
         "y": [
          1.76,
          1.28,
          1.16,
          0.35,
          0.14
         ]
        },
        {
         "mode": "lines",
         "name": "Bire",
         "type": "scatter",
         "x": [
          "Stage 1",
          "Stage 2",
          "Stage 3",
          "Stage 4",
          "Stage 5"
         ],
         "y": [
          1.38,
          1.13,
          0.75,
          0.36,
          0.25
         ]
        },
        {
         "mode": "lines",
         "name": "Boribo",
         "type": "scatter",
         "x": [
          "Stage 1",
          "Stage 2",
          "Stage 3",
          "Stage 4",
          "Stage 5"
         ],
         "y": [
          1.87,
          1.52,
          1.13,
          0.65,
          0.37
         ]
        },
        {
         "mode": "lines",
         "name": "Doodo",
         "type": "scatter",
         "x": [
          "Stage 1",
          "Stage 2",
          "Stage 3",
          "Stage 4",
          "Stage 5"
         ],
         "y": [
          1.63,
          1.13,
          0.76,
          0.25,
          0.22
         ]
        },
        {
         "mode": "lines",
         "name": "Kagoogwa",
         "type": "scatter",
         "x": [
          "Stage 1",
          "Stage 2",
          "Stage 3",
          "Stage 4",
          "Stage 5"
         ],
         "y": [
          1.52,
          0.88,
          0.63,
          0.51,
          0.26
         ]
        },
        {
         "mode": "lines",
         "name": "Koona",
         "type": "scatter",
         "x": [
          "Stage 1",
          "Stage 2",
          "Stage 3",
          "Stage 4",
          "Stage 5"
         ],
         "y": [
          1.27,
          1.01,
          0.85,
          0.75,
          0.25
         ]
        },
        {
         "mode": "lines",
         "name": "Mabbere",
         "type": "scatter",
         "x": [
          "Stage 1",
          "Stage 2",
          "Stage 3",
          "Stage 4",
          "Stage 5"
         ],
         "y": [
          1.76,
          1.39,
          0.87,
          0.37,
          0.14
         ]
        },
        {
         "mode": "lines",
         "name": "Sayuni",
         "type": "scatter",
         "x": [
          "Stage 1",
          "Stage 2",
          "Stage 3",
          "Stage 4",
          "Stage 5"
         ],
         "y": [
          2.37,
          1.52,
          1.25,
          0.74,
          0.51
         ]
        },
        {
         "mode": "lines",
         "name": "Ssejjembe",
         "type": "scatter",
         "x": [
          "Stage 1",
          "Stage 2",
          "Stage 3",
          "Stage 4",
          "Stage 5"
         ],
         "y": [
          1.38,
          0.76,
          0.62,
          0.24,
          0.13
         ]
        },
        {
         "mode": "lines",
         "name": "Takataka",
         "type": "scatter",
         "x": [
          "Stage 1",
          "Stage 2",
          "Stage 3",
          "Stage 4",
          "Stage 5"
         ],
         "y": [
          2.02,
          1.52,
          0.41,
          0.28,
          0.14
         ]
        },
        {
         "mode": "lines",
         "name": "Kakule",
         "type": "scatter",
         "x": [
          "Stage 1",
          "Stage 2",
          "Stage 3",
          "Stage 4",
          "Stage 5"
         ],
         "y": [
          2.39,
          1.87,
          1.64,
          1.14,
          0.01
         ]
        },
        {
         "mode": "lines",
         "name": "Duncan",
         "type": "scatter",
         "x": [
          "Stage 1",
          "Stage 2",
          "Stage 3",
          "Stage 4",
          "Stage 5"
         ],
         "y": [
          1.39,
          1.02,
          0.87,
          0.25,
          0.14
         ]
        },
        {
         "mode": "lines",
         "name": "Fairchild",
         "type": "scatter",
         "x": [
          "Stage 1",
          "Stage 2",
          "Stage 3",
          "Stage 4",
          "Stage 5"
         ],
         "y": [
          1.76,
          1.38,
          0.74,
          0.51,
          0.02
         ]
        },
        {
         "mode": "lines",
         "name": "Julie",
         "type": "scatter",
         "x": [
          "Stage 1",
          "Stage 2",
          "Stage 3",
          "Stage 4",
          "Stage 5"
         ],
         "y": [
          1.53,
          1.02,
          0.63,
          0.43,
          0.13
         ]
        },
        {
         "mode": "lines",
         "name": "Kapisa",
         "type": "scatter",
         "x": [
          "Stage 1",
          "Stage 2",
          "Stage 3",
          "Stage 4",
          "Stage 5"
         ],
         "y": [
          2.14,
          1.76,
          0.76,
          0.64,
          0.52
         ]
        },
        {
         "mode": "lines",
         "name": "Kent",
         "type": "scatter",
         "x": [
          "Stage 1",
          "Stage 2",
          "Stage 3",
          "Stage 4",
          "Stage 5"
         ],
         "y": [
          1.76,
          1.54,
          1.02,
          0.85,
          0.29
         ]
        },
        {
         "mode": "lines",
         "name": "Palmer",
         "type": "scatter",
         "x": [
          "Stage 1",
          "Stage 2",
          "Stage 3",
          "Stage 4",
          "Stage 5"
         ],
         "y": [
          1.6,
          1.24,
          0.43,
          0.28,
          0.12
         ]
        },
        {
         "mode": "lines",
         "name": "Ponde",
         "type": "scatter",
         "x": [
          "Stage 1",
          "Stage 2",
          "Stage 3",
          "Stage 4",
          "Stage 5"
         ],
         "y": [
          1.36,
          1.27,
          0.87,
          0.25,
          0.13
         ]
        },
        {
         "mode": "lines",
         "name": "Seena",
         "type": "scatter",
         "x": [
          "Stage 1",
          "Stage 2",
          "Stage 3",
          "Stage 4",
          "Stage 5"
         ],
         "y": [
          1.01,
          0.88,
          0.62,
          0.13,
          0.12
         ]
        },
        {
         "mode": "lines",
         "name": "Tommy atkin",
         "type": "scatter",
         "x": [
          "Stage 1",
          "Stage 2",
          "Stage 3",
          "Stage 4",
          "Stage 5"
         ],
         "y": [
          2.15,
          1.37,
          1.14,
          0.64,
          0.53
         ]
        }
       ],
       "layout": {
        "autosize": true,
        "template": {
         "data": {
          "bar": [
           {
            "error_x": {
             "color": "#2a3f5f"
            },
            "error_y": {
             "color": "#2a3f5f"
            },
            "marker": {
             "line": {
              "color": "#E5ECF6",
              "width": 0.5
             },
             "pattern": {
              "fillmode": "overlay",
              "size": 10,
              "solidity": 0.2
             }
            },
            "type": "bar"
           }
          ],
          "barpolar": [
           {
            "marker": {
             "line": {
              "color": "#E5ECF6",
              "width": 0.5
             },
             "pattern": {
              "fillmode": "overlay",
              "size": 10,
              "solidity": 0.2
             }
            },
            "type": "barpolar"
           }
          ],
          "carpet": [
           {
            "aaxis": {
             "endlinecolor": "#2a3f5f",
             "gridcolor": "white",
             "linecolor": "white",
             "minorgridcolor": "white",
             "startlinecolor": "#2a3f5f"
            },
            "baxis": {
             "endlinecolor": "#2a3f5f",
             "gridcolor": "white",
             "linecolor": "white",
             "minorgridcolor": "white",
             "startlinecolor": "#2a3f5f"
            },
            "type": "carpet"
           }
          ],
          "choropleth": [
           {
            "colorbar": {
             "outlinewidth": 0,
             "ticks": ""
            },
            "type": "choropleth"
           }
          ],
          "contour": [
           {
            "colorbar": {
             "outlinewidth": 0,
             "ticks": ""
            },
            "colorscale": [
             [
              0,
              "#0d0887"
             ],
             [
              0.1111111111111111,
              "#46039f"
             ],
             [
              0.2222222222222222,
              "#7201a8"
             ],
             [
              0.3333333333333333,
              "#9c179e"
             ],
             [
              0.4444444444444444,
              "#bd3786"
             ],
             [
              0.5555555555555556,
              "#d8576b"
             ],
             [
              0.6666666666666666,
              "#ed7953"
             ],
             [
              0.7777777777777778,
              "#fb9f3a"
             ],
             [
              0.8888888888888888,
              "#fdca26"
             ],
             [
              1,
              "#f0f921"
             ]
            ],
            "type": "contour"
           }
          ],
          "contourcarpet": [
           {
            "colorbar": {
             "outlinewidth": 0,
             "ticks": ""
            },
            "type": "contourcarpet"
           }
          ],
          "heatmap": [
           {
            "colorbar": {
             "outlinewidth": 0,
             "ticks": ""
            },
            "colorscale": [
             [
              0,
              "#0d0887"
             ],
             [
              0.1111111111111111,
              "#46039f"
             ],
             [
              0.2222222222222222,
              "#7201a8"
             ],
             [
              0.3333333333333333,
              "#9c179e"
             ],
             [
              0.4444444444444444,
              "#bd3786"
             ],
             [
              0.5555555555555556,
              "#d8576b"
             ],
             [
              0.6666666666666666,
              "#ed7953"
             ],
             [
              0.7777777777777778,
              "#fb9f3a"
             ],
             [
              0.8888888888888888,
              "#fdca26"
             ],
             [
              1,
              "#f0f921"
             ]
            ],
            "type": "heatmap"
           }
          ],
          "heatmapgl": [
           {
            "colorbar": {
             "outlinewidth": 0,
             "ticks": ""
            },
            "colorscale": [
             [
              0,
              "#0d0887"
             ],
             [
              0.1111111111111111,
              "#46039f"
             ],
             [
              0.2222222222222222,
              "#7201a8"
             ],
             [
              0.3333333333333333,
              "#9c179e"
             ],
             [
              0.4444444444444444,
              "#bd3786"
             ],
             [
              0.5555555555555556,
              "#d8576b"
             ],
             [
              0.6666666666666666,
              "#ed7953"
             ],
             [
              0.7777777777777778,
              "#fb9f3a"
             ],
             [
              0.8888888888888888,
              "#fdca26"
             ],
             [
              1,
              "#f0f921"
             ]
            ],
            "type": "heatmapgl"
           }
          ],
          "histogram": [
           {
            "marker": {
             "pattern": {
              "fillmode": "overlay",
              "size": 10,
              "solidity": 0.2
             }
            },
            "type": "histogram"
           }
          ],
          "histogram2d": [
           {
            "colorbar": {
             "outlinewidth": 0,
             "ticks": ""
            },
            "colorscale": [
             [
              0,
              "#0d0887"
             ],
             [
              0.1111111111111111,
              "#46039f"
             ],
             [
              0.2222222222222222,
              "#7201a8"
             ],
             [
              0.3333333333333333,
              "#9c179e"
             ],
             [
              0.4444444444444444,
              "#bd3786"
             ],
             [
              0.5555555555555556,
              "#d8576b"
             ],
             [
              0.6666666666666666,
              "#ed7953"
             ],
             [
              0.7777777777777778,
              "#fb9f3a"
             ],
             [
              0.8888888888888888,
              "#fdca26"
             ],
             [
              1,
              "#f0f921"
             ]
            ],
            "type": "histogram2d"
           }
          ],
          "histogram2dcontour": [
           {
            "colorbar": {
             "outlinewidth": 0,
             "ticks": ""
            },
            "colorscale": [
             [
              0,
              "#0d0887"
             ],
             [
              0.1111111111111111,
              "#46039f"
             ],
             [
              0.2222222222222222,
              "#7201a8"
             ],
             [
              0.3333333333333333,
              "#9c179e"
             ],
             [
              0.4444444444444444,
              "#bd3786"
             ],
             [
              0.5555555555555556,
              "#d8576b"
             ],
             [
              0.6666666666666666,
              "#ed7953"
             ],
             [
              0.7777777777777778,
              "#fb9f3a"
             ],
             [
              0.8888888888888888,
              "#fdca26"
             ],
             [
              1,
              "#f0f921"
             ]
            ],
            "type": "histogram2dcontour"
           }
          ],
          "mesh3d": [
           {
            "colorbar": {
             "outlinewidth": 0,
             "ticks": ""
            },
            "type": "mesh3d"
           }
          ],
          "parcoords": [
           {
            "line": {
             "colorbar": {
              "outlinewidth": 0,
              "ticks": ""
             }
            },
            "type": "parcoords"
           }
          ],
          "pie": [
           {
            "automargin": true,
            "type": "pie"
           }
          ],
          "scatter": [
           {
            "fillpattern": {
             "fillmode": "overlay",
             "size": 10,
             "solidity": 0.2
            },
            "type": "scatter"
           }
          ],
          "scatter3d": [
           {
            "line": {
             "colorbar": {
              "outlinewidth": 0,
              "ticks": ""
             }
            },
            "marker": {
             "colorbar": {
              "outlinewidth": 0,
              "ticks": ""
             }
            },
            "type": "scatter3d"
           }
          ],
          "scattercarpet": [
           {
            "marker": {
             "colorbar": {
              "outlinewidth": 0,
              "ticks": ""
             }
            },
            "type": "scattercarpet"
           }
          ],
          "scattergeo": [
           {
            "marker": {
             "colorbar": {
              "outlinewidth": 0,
              "ticks": ""
             }
            },
            "type": "scattergeo"
           }
          ],
          "scattergl": [
           {
            "marker": {
             "colorbar": {
              "outlinewidth": 0,
              "ticks": ""
             }
            },
            "type": "scattergl"
           }
          ],
          "scattermapbox": [
           {
            "marker": {
             "colorbar": {
              "outlinewidth": 0,
              "ticks": ""
             }
            },
            "type": "scattermapbox"
           }
          ],
          "scatterpolar": [
           {
            "marker": {
             "colorbar": {
              "outlinewidth": 0,
              "ticks": ""
             }
            },
            "type": "scatterpolar"
           }
          ],
          "scatterpolargl": [
           {
            "marker": {
             "colorbar": {
              "outlinewidth": 0,
              "ticks": ""
             }
            },
            "type": "scatterpolargl"
           }
          ],
          "scatterternary": [
           {
            "marker": {
             "colorbar": {
              "outlinewidth": 0,
              "ticks": ""
             }
            },
            "type": "scatterternary"
           }
          ],
          "surface": [
           {
            "colorbar": {
             "outlinewidth": 0,
             "ticks": ""
            },
            "colorscale": [
             [
              0,
              "#0d0887"
             ],
             [
              0.1111111111111111,
              "#46039f"
             ],
             [
              0.2222222222222222,
              "#7201a8"
             ],
             [
              0.3333333333333333,
              "#9c179e"
             ],
             [
              0.4444444444444444,
              "#bd3786"
             ],
             [
              0.5555555555555556,
              "#d8576b"
             ],
             [
              0.6666666666666666,
              "#ed7953"
             ],
             [
              0.7777777777777778,
              "#fb9f3a"
             ],
             [
              0.8888888888888888,
              "#fdca26"
             ],
             [
              1,
              "#f0f921"
             ]
            ],
            "type": "surface"
           }
          ],
          "table": [
           {
            "cells": {
             "fill": {
              "color": "#EBF0F8"
             },
             "line": {
              "color": "white"
             }
            },
            "header": {
             "fill": {
              "color": "#C8D4E3"
             },
             "line": {
              "color": "white"
             }
            },
            "type": "table"
           }
          ]
         },
         "layout": {
          "annotationdefaults": {
           "arrowcolor": "#2a3f5f",
           "arrowhead": 0,
           "arrowwidth": 1
          },
          "autotypenumbers": "strict",
          "coloraxis": {
           "colorbar": {
            "outlinewidth": 0,
            "ticks": ""
           }
          },
          "colorscale": {
           "diverging": [
            [
             0,
             "#8e0152"
            ],
            [
             0.1,
             "#c51b7d"
            ],
            [
             0.2,
             "#de77ae"
            ],
            [
             0.3,
             "#f1b6da"
            ],
            [
             0.4,
             "#fde0ef"
            ],
            [
             0.5,
             "#f7f7f7"
            ],
            [
             0.6,
             "#e6f5d0"
            ],
            [
             0.7,
             "#b8e186"
            ],
            [
             0.8,
             "#7fbc41"
            ],
            [
             0.9,
             "#4d9221"
            ],
            [
             1,
             "#276419"
            ]
           ],
           "sequential": [
            [
             0,
             "#0d0887"
            ],
            [
             0.1111111111111111,
             "#46039f"
            ],
            [
             0.2222222222222222,
             "#7201a8"
            ],
            [
             0.3333333333333333,
             "#9c179e"
            ],
            [
             0.4444444444444444,
             "#bd3786"
            ],
            [
             0.5555555555555556,
             "#d8576b"
            ],
            [
             0.6666666666666666,
             "#ed7953"
            ],
            [
             0.7777777777777778,
             "#fb9f3a"
            ],
            [
             0.8888888888888888,
             "#fdca26"
            ],
            [
             1,
             "#f0f921"
            ]
           ],
           "sequentialminus": [
            [
             0,
             "#0d0887"
            ],
            [
             0.1111111111111111,
             "#46039f"
            ],
            [
             0.2222222222222222,
             "#7201a8"
            ],
            [
             0.3333333333333333,
             "#9c179e"
            ],
            [
             0.4444444444444444,
             "#bd3786"
            ],
            [
             0.5555555555555556,
             "#d8576b"
            ],
            [
             0.6666666666666666,
             "#ed7953"
            ],
            [
             0.7777777777777778,
             "#fb9f3a"
            ],
            [
             0.8888888888888888,
             "#fdca26"
            ],
            [
             1,
             "#f0f921"
            ]
           ]
          },
          "colorway": [
           "#636efa",
           "#EF553B",
           "#00cc96",
           "#ab63fa",
           "#FFA15A",
           "#19d3f3",
           "#FF6692",
           "#B6E880",
           "#FF97FF",
           "#FECB52"
          ],
          "font": {
           "color": "#2a3f5f"
          },
          "geo": {
           "bgcolor": "white",
           "lakecolor": "white",
           "landcolor": "#E5ECF6",
           "showlakes": true,
           "showland": true,
           "subunitcolor": "white"
          },
          "hoverlabel": {
           "align": "left"
          },
          "hovermode": "closest",
          "mapbox": {
           "style": "light"
          },
          "paper_bgcolor": "white",
          "plot_bgcolor": "#E5ECF6",
          "polar": {
           "angularaxis": {
            "gridcolor": "white",
            "linecolor": "white",
            "ticks": ""
           },
           "bgcolor": "#E5ECF6",
           "radialaxis": {
            "gridcolor": "white",
            "linecolor": "white",
            "ticks": ""
           }
          },
          "scene": {
           "xaxis": {
            "backgroundcolor": "#E5ECF6",
            "gridcolor": "white",
            "gridwidth": 2,
            "linecolor": "white",
            "showbackground": true,
            "ticks": "",
            "zerolinecolor": "white"
           },
           "yaxis": {
            "backgroundcolor": "#E5ECF6",
            "gridcolor": "white",
            "gridwidth": 2,
            "linecolor": "white",
            "showbackground": true,
            "ticks": "",
            "zerolinecolor": "white"
           },
           "zaxis": {
            "backgroundcolor": "#E5ECF6",
            "gridcolor": "white",
            "gridwidth": 2,
            "linecolor": "white",
            "showbackground": true,
            "ticks": "",
            "zerolinecolor": "white"
           }
          },
          "shapedefaults": {
           "line": {
            "color": "#2a3f5f"
           }
          },
          "ternary": {
           "aaxis": {
            "gridcolor": "white",
            "linecolor": "white",
            "ticks": ""
           },
           "baxis": {
            "gridcolor": "white",
            "linecolor": "white",
            "ticks": ""
           },
           "bgcolor": "#E5ECF6",
           "caxis": {
            "gridcolor": "white",
            "linecolor": "white",
            "ticks": ""
           }
          },
          "title": {
           "x": 0.05
          },
          "xaxis": {
           "automargin": true,
           "gridcolor": "white",
           "linecolor": "white",
           "ticks": "",
           "title": {
            "standoff": 15
           },
           "zerolinecolor": "white",
           "zerolinewidth": 2
          },
          "yaxis": {
           "automargin": true,
           "gridcolor": "white",
           "linecolor": "white",
           "ticks": "",
           "title": {
            "standoff": 15
           },
           "zerolinecolor": "white",
           "zerolinewidth": 2
          }
         }
        },
        "title": {
         "text": "Variation of Oxalates for Each Mango Variety in Kernel"
        },
        "xaxis": {
         "autorange": true,
         "range": [
          0,
          4
         ],
         "title": {
          "text": "Ripening Stage"
         },
         "type": "category"
        },
        "yaxis": {
         "autorange": true,
         "range": [
          -0.12222222222222225,
          2.522222222222222
         ],
         "title": {
          "text": "Peel"
         },
         "type": "linear"
        }
       }
      },
      "image/png": "[encoded data removed]",
      "text/html": [
       "<div>                            <div id=\"65e99798-6310-4ad7-8714-efc18e80c217\" class=\"plotly-graph-div\" style=\"height:525px; width:100%;\"></div>            <script type=\"text/javascript\">                require([\"plotly\"], function(Plotly) {                    window.PLOTLYENV=window.PLOTLYENV || {};                                    if (document.getElementById(\"65e99798-6310-4ad7-8714-efc18e80c217\")) {                    Plotly.newPlot(                        \"65e99798-6310-4ad7-8714-efc18e80c217\",                        [{\"mode\":\"lines\",\"name\":\"Apple mango\",\"x\":[\"Stage 1\",\"Stage 2\",\"Stage 3\",\"Stage 4\",\"Stage 5\"],\"y\":[1.38,1.27,0.75,0.25,0.25],\"type\":\"scatter\"},{\"mode\":\"lines\",\"name\":\"Asante\",\"x\":[\"Stage 1\",\"Stage 2\",\"Stage 3\",\"Stage 4\",\"Stage 5\"],\"y\":[2.38,1.51,0.76,0.38,0.26],\"type\":\"scatter\"},{\"mode\":\"lines\",\"name\":\"Batawi\",\"x\":[\"Stage 1\",\"Stage 2\",\"Stage 3\",\"Stage 4\",\"Stage 5\"],\"y\":[1.76,1.28,1.16,0.35,0.14],\"type\":\"scatter\"},{\"mode\":\"lines\",\"name\":\"Bire\",\"x\":[\"Stage 1\",\"Stage 2\",\"Stage 3\",\"Stage 4\",\"Stage 5\"],\"y\":[1.38,1.13,0.75,0.36,0.25],\"type\":\"scatter\"},{\"mode\":\"lines\",\"name\":\"Boribo\",\"x\":[\"Stage 1\",\"Stage 2\",\"Stage 3\",\"Stage 4\",\"Stage 5\"],\"y\":[1.87,1.52,1.13,0.65,0.37],\"type\":\"scatter\"},{\"mode\":\"lines\",\"name\":\"Doodo\",\"x\":[\"Stage 1\",\"Stage 2\",\"Stage 3\",\"Stage 4\",\"Stage 5\"],\"y\":[1.63,1.13,0.76,0.25,0.22],\"type\":\"scatter\"},{\"mode\":\"lines\",\"name\":\"Kagoogwa\",\"x\":[\"Stage 1\",\"Stage 2\",\"Stage 3\",\"Stage 4\",\"Stage 5\"],\"y\":[1.52,0.88,0.63,0.51,0.26],\"type\":\"scatter\"},{\"mode\":\"lines\",\"name\":\"Koona\",\"x\":[\"Stage 1\",\"Stage 2\",\"Stage 3\",\"Stage 4\",\"Stage 5\"],\"y\":[1.27,1.01,0.85,0.75,0.25],\"type\":\"scatter\"},{\"mode\":\"lines\",\"name\":\"Mabbere\",\"x\":[\"Stage 1\",\"Stage 2\",\"Stage 3\",\"Stage 4\",\"Stage 5\"],\"y\":[1.76,1.39,0.87,0.37,0.14],\"type\":\"scatter\"},{\"mode\":\"lines\",\"name\":\"Sayuni\",\"x\":[\"Stage 1\",\"Stage 2\",\"Stage 3\",\"Stage 4\",\"Stage 5\"],\"y\":[2.37,1.52,1.25,0.74,0.51],\"type\":\"scatter\"},{\"mode\":\"lines\",\"name\":\"Ssejjembe\",\"x\":[\"Stage 1\",\"Stage 2\",\"Stage 3\",\"Stage 4\",\"Stage 5\"],\"y\":[1.38,0.76,0.62,0.24,0.13],\"type\":\"scatter\"},{\"mode\":\"lines\",\"name\":\"Takataka\",\"x\":[\"Stage 1\",\"Stage 2\",\"Stage 3\",\"Stage 4\",\"Stage 5\"],\"y\":[2.02,1.52,0.41,0.28,0.14],\"type\":\"scatter\"},{\"mode\":\"lines\",\"name\":\"Kakule\",\"x\":[\"Stage 1\",\"Stage 2\",\"Stage 3\",\"Stage 4\",\"Stage 5\"],\"y\":[2.39,1.87,1.64,1.14,0.01],\"type\":\"scatter\"},{\"mode\":\"lines\",\"name\":\"Duncan\",\"x\":[\"Stage 1\",\"Stage 2\",\"Stage 3\",\"Stage 4\",\"Stage 5\"],\"y\":[1.39,1.02,0.87,0.25,0.14],\"type\":\"scatter\"},{\"mode\":\"lines\",\"name\":\"Fairchild\",\"x\":[\"Stage 1\",\"Stage 2\",\"Stage 3\",\"Stage 4\",\"Stage 5\"],\"y\":[1.76,1.38,0.74,0.51,0.02],\"type\":\"scatter\"},{\"mode\":\"lines\",\"name\":\"Julie\",\"x\":[\"Stage 1\",\"Stage 2\",\"Stage 3\",\"Stage 4\",\"Stage 5\"],\"y\":[1.53,1.02,0.63,0.43,0.13],\"type\":\"scatter\"},{\"mode\":\"lines\",\"name\":\"Kapisa\",\"x\":[\"Stage 1\",\"Stage 2\",\"Stage 3\",\"Stage 4\",\"Stage 5\"],\"y\":[2.14,1.76,0.76,0.64,0.52],\"type\":\"scatter\"},{\"mode\":\"lines\",\"name\":\"Kent\",\"x\":[\"Stage 1\",\"Stage 2\",\"Stage 3\",\"Stage 4\",\"Stage 5\"],\"y\":[1.76,1.54,1.02,0.85,0.29],\"type\":\"scatter\"},{\"mode\":\"lines\",\"name\":\"Palmer\",\"x\":[\"Stage 1\",\"Stage 2\",\"Stage 3\",\"Stage 4\",\"Stage 5\"],\"y\":[1.6,1.24,0.43,0.28,0.12],\"type\":\"scatter\"},{\"mode\":\"lines\",\"name\":\"Ponde\",\"x\":[\"Stage 1\",\"Stage 2\",\"Stage 3\",\"Stage 4\",\"Stage 5\"],\"y\":[1.36,1.27,0.87,0.25,0.13],\"type\":\"scatter\"},{\"mode\":\"lines\",\"name\":\"Seena\",\"x\":[\"Stage 1\",\"Stage 2\",\"Stage 3\",\"Stage 4\",\"Stage 5\"],\"y\":[1.01,0.88,0.62,0.13,0.12],\"type\":\"scatter\"},{\"mode\":\"lines\",\"name\":\"Tommy atkin\",\"x\":[\"Stage 1\",\"Stage 2\",\"Stage 3\",\"Stage 4\",\"Stage 5\"],\"y\":[2.15,1.37,1.14,0.64,0.53],\"type\":\"scatter\"}],                        {\"title\":{\"text\":\"Variation of Oxalates for Each Mango Variety in Kernel\"},\"xaxis\":{\"title\":{\"text\":\"Ripening Stage\"}},\"yaxis\":{\"title\":{\"text\":\"Peel\"}},\"template\":{\"data\":{\"histogram2dcontour\":[{\"type\":\"histogram2dcontour\",\"colorbar\":{\"outlinewidth\":0,\"ticks\":\"\"},\"colorscale\":[[0.0,\"#0d0887\"],[0.1111111111111111,\"#46039f\"],[0.2222222222222222,\"#7201a8\"],[0.3333333333333333,\"#9c179e\"],[0.4444444444444444,\"#bd3786\"],[0.5555555555555556,\"#d8576b\"],[0.6666666666666666,\"#ed7953\"],[0.7777777777777778,\"#fb9f3a\"],[0.8888888888888888,\"#fdca26\"],[1.0,\"#f0f921\"]]}],\"choropleth\":[{\"type\":\"choropleth\",\"colorbar\":{\"outlinewidth\":0,\"ticks\":\"\"}}],\"histogram2d\":[{\"type\":\"histogram2d\",\"colorbar\":{\"outlinewidth\":0,\"ticks\":\"\"},\"colorscale\":[[0.0,\"#0d0887\"],[0.1111111111111111,\"#46039f\"],[0.2222222222222222,\"#7201a8\"],[0.3333333333333333,\"#9c179e\"],[0.4444444444444444,\"#bd3786\"],[0.5555555555555556,\"#d8576b\"],[0.6666666666666666,\"#ed7953\"],[0.7777777777777778,\"#fb9f3a\"],[0.8888888888888888,\"#fdca26\"],[1.0,\"#f0f921\"]]}],\"heatmap\":[{\"type\":\"heatmap\",\"colorbar\":{\"outlinewidth\":0,\"ticks\":\"\"},\"colorscale\":[[0.0,\"#0d0887\"],[0.1111111111111111,\"#46039f\"],[0.2222222222222222,\"#7201a8\"],[0.3333333333333333,\"#9c179e\"],[0.4444444444444444,\"#bd3786\"],[0.5555555555555556,\"#d8576b\"],[0.6666666666666666,\"#ed7953\"],[0.7777777777777778,\"#fb9f3a\"],[0.8888888888888888,\"#fdca26\"],[1.0,\"#f0f921\"]]}],\"heatmapgl\":[{\"type\":\"heatmapgl\",\"colorbar\":{\"outlinewidth\":0,\"ticks\":\"\"},\"colorscale\":[[0.0,\"#0d0887\"],[0.1111111111111111,\"#46039f\"],[0.2222222222222222,\"#7201a8\"],[0.3333333333333333,\"#9c179e\"],[0.4444444444444444,\"#bd3786\"],[0.5555555555555556,\"#d8576b\"],[0.6666666666666666,\"#ed7953\"],[0.7777777777777778,\"#fb9f3a\"],[0.8888888888888888,\"#fdca26\"],[1.0,\"#f0f921\"]]}],\"contourcarpet\":[{\"type\":\"contourcarpet\",\"colorbar\":{\"outlinewidth\":0,\"ticks\":\"\"}}],\"contour\":[{\"type\":\"contour\",\"colorbar\":{\"outlinewidth\":0,\"ticks\":\"\"},\"colorscale\":[[0.0,\"#0d0887\"],[0.1111111111111111,\"#46039f\"],[0.2222222222222222,\"#7201a8\"],[0.3333333333333333,\"#9c179e\"],[0.4444444444444444,\"#bd3786\"],[0.5555555555555556,\"#d8576b\"],[0.6666666666666666,\"#ed7953\"],[0.7777777777777778,\"#fb9f3a\"],[0.8888888888888888,\"#fdca26\"],[1.0,\"#f0f921\"]]}],\"surface\":[{\"type\":\"surface\",\"colorbar\":{\"outlinewidth\":0,\"ticks\":\"\"},\"colorscale\":[[0.0,\"#0d0887\"],[0.1111111111111111,\"#46039f\"],[0.2222222222222222,\"#7201a8\"],[0.3333333333333333,\"#9c179e\"],[0.4444444444444444,\"#bd3786\"],[0.5555555555555556,\"#d8576b\"],[0.6666666666666666,\"#ed7953\"],[0.7777777777777778,\"#fb9f3a\"],[0.8888888888888888,\"#fdca26\"],[1.0,\"#f0f921\"]]}],\"mesh3d\":[{\"type\":\"mesh3d\",\"colorbar\":{\"outlinewidth\":0,\"ticks\":\"\"}}],\"scatter\":[{\"fillpattern\":{\"fillmode\":\"overlay\",\"size\":10,\"solidity\":0.2},\"type\":\"scatter\"}],\"parcoords\":[{\"type\":\"parcoords\",\"line\":{\"colorbar\":{\"outlinewidth\":0,\"ticks\":\"\"}}}],\"scatterpolargl\":[{\"type\":\"scatterpolargl\",\"marker\":{\"colorbar\":{\"outlinewidth\":0,\"ticks\":\"\"}}}],\"bar\":[{\"error_x\":{\"color\":\"#2a3f5f\"},\"error_y\":{\"color\":\"#2a3f5f\"},\"marker\":{\"line\":{\"color\":\"#E5ECF6\",\"width\":0.5},\"pattern\":{\"fillmode\":\"overlay\",\"size\":10,\"solidity\":0.2}},\"type\":\"bar\"}],\"scattergeo\":[{\"type\":\"scattergeo\",\"marker\":{\"colorbar\":{\"outlinewidth\":0,\"ticks\":\"\"}}}],\"scatterpolar\":[{\"type\":\"scatterpolar\",\"marker\":{\"colorbar\":{\"outlinewidth\":0,\"ticks\":\"\"}}}],\"histogram\":[{\"marker\":{\"pattern\":{\"fillmode\":\"overlay\",\"size\":10,\"solidity\":0.2}},\"type\":\"histogram\"}],\"scattergl\":[{\"type\":\"scattergl\",\"marker\":{\"colorbar\":{\"outlinewidth\":0,\"ticks\":\"\"}}}],\"scatter3d\":[{\"type\":\"scatter3d\",\"line\":{\"colorbar\":{\"outlinewidth\":0,\"ticks\":\"\"}},\"marker\":{\"colorbar\":{\"outlinewidth\":0,\"ticks\":\"\"}}}],\"scattermapbox\":[{\"type\":\"scattermapbox\",\"marker\":{\"colorbar\":{\"outlinewidth\":0,\"ticks\":\"\"}}}],\"scatterternary\":[{\"type\":\"scatterternary\",\"marker\":{\"colorbar\":{\"outlinewidth\":0,\"ticks\":\"\"}}}],\"scattercarpet\":[{\"type\":\"scattercarpet\",\"marker\":{\"colorbar\":{\"outlinewidth\":0,\"ticks\":\"\"}}}],\"carpet\":[{\"aaxis\":{\"endlinecolor\":\"#2a3f5f\",\"gridcolor\":\"white\",\"linecolor\":\"white\",\"minorgridcolor\":\"white\",\"startlinecolor\":\"#2a3f5f\"},\"baxis\":{\"endlinecolor\":\"#2a3f5f\",\"gridcolor\":\"white\",\"linecolor\":\"white\",\"minorgridcolor\":\"white\",\"startlinecolor\":\"#2a3f5f\"},\"type\":\"carpet\"}],\"table\":[{\"cells\":{\"fill\":{\"color\":\"#EBF0F8\"},\"line\":{\"color\":\"white\"}},\"header\":{\"fill\":{\"color\":\"#C8D4E3\"},\"line\":{\"color\":\"white\"}},\"type\":\"table\"}],\"barpolar\":[{\"marker\":{\"line\":{\"color\":\"#E5ECF6\",\"width\":0.5},\"pattern\":{\"fillmode\":\"overlay\",\"size\":10,\"solidity\":0.2}},\"type\":\"barpolar\"}],\"pie\":[{\"automargin\":true,\"type\":\"pie\"}]},\"layout\":{\"autotypenumbers\":\"strict\",\"colorway\":[\"#636efa\",\"#EF553B\",\"#00cc96\",\"#ab63fa\",\"#FFA15A\",\"#19d3f3\",\"#FF6692\",\"#B6E880\",\"#FF97FF\",\"#FECB52\"],\"font\":{\"color\":\"#2a3f5f\"},\"hovermode\":\"closest\",\"hoverlabel\":{\"align\":\"left\"},\"paper_bgcolor\":\"white\",\"plot_bgcolor\":\"#E5ECF6\",\"polar\":{\"bgcolor\":\"#E5ECF6\",\"angularaxis\":{\"gridcolor\":\"white\",\"linecolor\":\"white\",\"ticks\":\"\"},\"radialaxis\":{\"gridcolor\":\"white\",\"linecolor\":\"white\",\"ticks\":\"\"}},\"ternary\":{\"bgcolor\":\"#E5ECF6\",\"aaxis\":{\"gridcolor\":\"white\",\"linecolor\":\"white\",\"ticks\":\"\"},\"baxis\":{\"gridcolor\":\"white\",\"linecolor\":\"white\",\"ticks\":\"\"},\"caxis\":{\"gridcolor\":\"white\",\"linecolor\":\"white\",\"ticks\":\"\"}},\"coloraxis\":{\"colorbar\":{\"outlinewidth\":0,\"ticks\":\"\"}},\"colorscale\":{\"sequential\":[[0.0,\"#0d0887\"],[0.1111111111111111,\"#46039f\"],[0.2222222222222222,\"#7201a8\"],[0.3333333333333333,\"#9c179e\"],[0.4444444444444444,\"#bd3786\"],[0.5555555555555556,\"#d8576b\"],[0.6666666666666666,\"#ed7953\"],[0.7777777777777778,\"#fb9f3a\"],[0.8888888888888888,\"#fdca26\"],[1.0,\"#f0f921\"]],\"sequentialminus\":[[0.0,\"#0d0887\"],[0.1111111111111111,\"#46039f\"],[0.2222222222222222,\"#7201a8\"],[0.3333333333333333,\"#9c179e\"],[0.4444444444444444,\"#bd3786\"],[0.5555555555555556,\"#d8576b\"],[0.6666666666666666,\"#ed7953\"],[0.7777777777777778,\"#fb9f3a\"],[0.8888888888888888,\"#fdca26\"],[1.0,\"#f0f921\"]],\"diverging\":[[0,\"#8e0152\"],[0.1,\"#c51b7d\"],[0.2,\"#de77ae\"],[0.3,\"#f1b6da\"],[0.4,\"#fde0ef\"],[0.5,\"#f7f7f7\"],[0.6,\"#e6f5d0\"],[0.7,\"#b8e186\"],[0.8,\"#7fbc41\"],[0.9,\"#4d9221\"],[1,\"#276419\"]]},\"xaxis\":{\"gridcolor\":\"white\",\"linecolor\":\"white\",\"ticks\":\"\",\"title\":{\"standoff\":15},\"zerolinecolor\":\"white\",\"automargin\":true,\"zerolinewidth\":2},\"yaxis\":{\"gridcolor\":\"white\",\"linecolor\":\"white\",\"ticks\":\"\",\"title\":{\"standoff\":15},\"zerolinecolor\":\"white\",\"automargin\":true,\"zerolinewidth\":2},\"scene\":{\"xaxis\":{\"backgroundcolor\":\"#E5ECF6\",\"gridcolor\":\"white\",\"linecolor\":\"white\",\"showbackground\":true,\"ticks\":\"\",\"zerolinecolor\":\"white\",\"gridwidth\":2},\"yaxis\":{\"backgroundcolor\":\"#E5ECF6\",\"gridcolor\":\"white\",\"linecolor\":\"white\",\"showbackground\":true,\"ticks\":\"\",\"zerolinecolor\":\"white\",\"gridwidth\":2},\"zaxis\":{\"backgroundcolor\":\"#E5ECF6\",\"gridcolor\":\"white\",\"linecolor\":\"white\",\"showbackground\":true,\"ticks\":\"\",\"zerolinecolor\":\"white\",\"gridwidth\":2}},\"shapedefaults\":{\"line\":{\"color\":\"#2a3f5f\"}},\"annotationdefaults\":{\"arrowcolor\":\"#2a3f5f\",\"arrowhead\":0,\"arrowwidth\":1},\"geo\":{\"bgcolor\":\"white\",\"landcolor\":\"#E5ECF6\",\"subunitcolor\":\"white\",\"showland\":true,\"showlakes\":true,\"lakecolor\":\"white\"},\"title\":{\"x\":0.05},\"mapbox\":{\"style\":\"light\"}}}},                        {\"responsive\": true}                    ).then(function(){\n",
       "                            \n",
       "var gd = document.getElementById('65e99798-6310-4ad7-8714-efc18e80c217');\n",
       "var x = new MutationObserver(function (mutations, observer) {{\n",
       "        var display = window.getComputedStyle(gd).display;\n",
       "        if (!display || display === 'none') {{\n",
       "            console.log([gd, 'removed!']);\n",
       "            Plotly.purge(gd);\n",
       "            observer.disconnect();\n",
       "        }}\n",
       "}});\n",
       "\n",
       "// Listen for the removal of the full notebook cells\n",
       "var notebookContainer = gd.closest('#notebook-container');\n",
       "if (notebookContainer) {{\n",
       "    x.observe(notebookContainer, {childList: true});\n",
       "}}\n",
       "\n",
       "// Listen for the clearing of the current output cell\n",
       "var outputEl = gd.closest('.output');\n",
       "if (outputEl) {{\n",
       "    x.observe(outputEl, {childList: true});\n",
       "}}\n",
       "\n",
       "                        })                };                });            </script>        </div>"
      ]
     },
     "metadata": {},
     "output_type": "display_data"
    }
   ],
   "source": [
    "# Create traces for each mango variety\n",
    "traces = []\n",
    "for variety in data['Mango variety'].unique():\n",
    "    subset = data[data['Mango variety'] == variety]\n",
    "    trace = go.Scatter(x=subset['Ripening stage'], y=subset['Kernel'], mode='lines', name=variety)\n",
    "    traces.append(trace)\n",
    "\n",
    "# Create layout\n",
    "layout = go.Layout(title='Variation of Oxalates for Each Mango Variety in Kernel',\n",
    "                   xaxis=dict(title='Ripening Stage'),\n",
    "                   yaxis=dict(title='Peel'))\n",
    "\n",
    "# Create figure\n",
    "fig = go.Figure(data=traces, layout=layout)\n",
    "\n",
    "# Plot figure\n",
    "pio.show(fig)"
   ]
  },
  {
   "cell_type": "code",
   "execution_count": 9,
   "id": "62a6f857-545f-43e7-9d86-e87e503760ed",
   "metadata": {},
   "outputs": [
    {
     "data": {
      "application/vnd.plotly.v1+json": {
       "config": {
        "plotlyServerURL": "https://plot.ly"
       },
       "data": [
        {
         "mode": "lines",
         "name": "Apple mango",
         "type": "scatter",
         "x": [
          "Stage 1",
          "Stage 2",
          "Stage 3",
          "Stage 4",
          "Stage 5"
         ],
         "y": [
          3.31,
          3.1,
          1.8,
          1.52,
          0.65
         ]
        },
        {
         "mode": "lines",
         "name": "Asante",
         "type": "scatter",
         "x": [
          "Stage 1",
          "Stage 2",
          "Stage 3",
          "Stage 4",
          "Stage 5"
         ],
         "y": [
          3.18,
          2.98,
          1.84,
          1.49,
          0.45
         ]
        },
        {
         "mode": "lines",
         "name": "Batawi",
         "type": "scatter",
         "x": [
          "Stage 1",
          "Stage 2",
          "Stage 3",
          "Stage 4",
          "Stage 5"
         ],
         "y": [
          3.19,
          2.97,
          1.86,
          1.55,
          0.64
         ]
        },
        {
         "mode": "lines",
         "name": "Bire",
         "type": "scatter",
         "x": [
          "Stage 1",
          "Stage 2",
          "Stage 3",
          "Stage 4",
          "Stage 5"
         ],
         "y": [
          3.34,
          2.8,
          1.79,
          1.4,
          0.74
         ]
        },
        {
         "mode": "lines",
         "name": "Boribo",
         "type": "scatter",
         "x": [
          "Stage 1",
          "Stage 2",
          "Stage 3",
          "Stage 4",
          "Stage 5"
         ],
         "y": [
          3.17,
          3.06,
          1.66,
          1.55,
          0.63
         ]
        },
        {
         "mode": "lines",
         "name": "Doodo",
         "type": "scatter",
         "x": [
          "Stage 1",
          "Stage 2",
          "Stage 3",
          "Stage 4",
          "Stage 5"
         ],
         "y": [
          3.28,
          2.95,
          1.82,
          1.47,
          0.63
         ]
        },
        {
         "mode": "lines",
         "name": "Kagoogwa",
         "type": "scatter",
         "x": [
          "Stage 1",
          "Stage 2",
          "Stage 3",
          "Stage 4",
          "Stage 5"
         ],
         "y": [
          3.24,
          3.05,
          1.81,
          1.54,
          0.53
         ]
        },
        {
         "mode": "lines",
         "name": "Koona",
         "type": "scatter",
         "x": [
          "Stage 1",
          "Stage 2",
          "Stage 3",
          "Stage 4",
          "Stage 5"
         ],
         "y": [
          3.31,
          3.01,
          1.74,
          1.53,
          0.73
         ]
        },
        {
         "mode": "lines",
         "name": "Mabbere",
         "type": "scatter",
         "x": [
          "Stage 1",
          "Stage 2",
          "Stage 3",
          "Stage 4",
          "Stage 5"
         ],
         "y": [
          3.14,
          3,
          1.53,
          1.47,
          0.67
         ]
        },
        {
         "mode": "lines",
         "name": "Sayuni",
         "type": "scatter",
         "x": [
          "Stage 1",
          "Stage 2",
          "Stage 3",
          "Stage 4",
          "Stage 5"
         ],
         "y": [
          3.39,
          3.01,
          1.77,
          1.41,
          0.75
         ]
        },
        {
         "mode": "lines",
         "name": "Ssejjembe",
         "type": "scatter",
         "x": [
          "Stage 1",
          "Stage 2",
          "Stage 3",
          "Stage 4",
          "Stage 5"
         ],
         "y": [
          3.82,
          3.01,
          1.69,
          1.4,
          0.84
         ]
        },
        {
         "mode": "lines",
         "name": "Takataka",
         "type": "scatter",
         "x": [
          "Stage 1",
          "Stage 2",
          "Stage 3",
          "Stage 4",
          "Stage 5"
         ],
         "y": [
          3.28,
          3,
          1.7,
          1.41,
          0.66
         ]
        },
        {
         "mode": "lines",
         "name": "Kakule",
         "type": "scatter",
         "x": [
          "Stage 1",
          "Stage 2",
          "Stage 3",
          "Stage 4",
          "Stage 5"
         ],
         "y": [
          3.23,
          2.94,
          1.81,
          1.45,
          0.51
         ]
        },
        {
         "mode": "lines",
         "name": "Duncan",
         "type": "scatter",
         "x": [
          "Stage 1",
          "Stage 2",
          "Stage 3",
          "Stage 4",
          "Stage 5"
         ],
         "y": [
          3.3,
          2.96,
          1.95,
          1.56,
          0.53
         ]
        },
        {
         "mode": "lines",
         "name": "Fairchild",
         "type": "scatter",
         "x": [
          "Stage 1",
          "Stage 2",
          "Stage 3",
          "Stage 4",
          "Stage 5"
         ],
         "y": [
          3.26,
          3,
          1.84,
          1.56,
          0.72
         ]
        },
        {
         "mode": "lines",
         "name": "Julie",
         "type": "scatter",
         "x": [
          "Stage 1",
          "Stage 2",
          "Stage 3",
          "Stage 4",
          "Stage 5"
         ],
         "y": [
          3.37,
          2.97,
          1.86,
          1.33,
          0.73
         ]
        },
        {
         "mode": "lines",
         "name": "Kapisa",
         "type": "scatter",
         "x": [
          "Stage 1",
          "Stage 2",
          "Stage 3",
          "Stage 4",
          "Stage 5"
         ],
         "y": [
          3.32,
          3.04,
          1.81,
          1.53,
          0.7
         ]
        },
        {
         "mode": "lines",
         "name": "Kent",
         "type": "scatter",
         "x": [
          "Stage 1",
          "Stage 2",
          "Stage 3",
          "Stage 4",
          "Stage 5"
         ],
         "y": [
          3.53,
          2.89,
          1.88,
          1.38,
          0.69
         ]
        },
        {
         "mode": "lines",
         "name": "Palmer",
         "type": "scatter",
         "x": [
          "Stage 1",
          "Stage 2",
          "Stage 3",
          "Stage 4",
          "Stage 5"
         ],
         "y": [
          3.4,
          3.11,
          1.75,
          1.33,
          0.75
         ]
        },
        {
         "mode": "lines",
         "name": "Ponde",
         "type": "scatter",
         "x": [
          "Stage 1",
          "Stage 2",
          "Stage 3",
          "Stage 4",
          "Stage 5"
         ],
         "y": [
          3.29,
          3.02,
          1.77,
          1.21,
          0.6
         ]
        },
        {
         "mode": "lines",
         "name": "Seena",
         "type": "scatter",
         "x": [
          "Stage 1",
          "Stage 2",
          "Stage 3",
          "Stage 4",
          "Stage 5"
         ],
         "y": [
          3.39,
          3.21,
          1.6,
          1.33,
          0.77
         ]
        },
        {
         "mode": "lines",
         "name": "Tommy atkin",
         "type": "scatter",
         "x": [
          "Stage 1",
          "Stage 2",
          "Stage 3",
          "Stage 4",
          "Stage 5"
         ],
         "y": [
          3.49,
          2.87,
          1.78,
          1.29,
          0.58
         ]
        }
       ],
       "layout": {
        "autosize": true,
        "template": {
         "data": {
          "bar": [
           {
            "error_x": {
             "color": "#2a3f5f"
            },
            "error_y": {
             "color": "#2a3f5f"
            },
            "marker": {
             "line": {
              "color": "#E5ECF6",
              "width": 0.5
             },
             "pattern": {
              "fillmode": "overlay",
              "size": 10,
              "solidity": 0.2
             }
            },
            "type": "bar"
           }
          ],
          "barpolar": [
           {
            "marker": {
             "line": {
              "color": "#E5ECF6",
              "width": 0.5
             },
             "pattern": {
              "fillmode": "overlay",
              "size": 10,
              "solidity": 0.2
             }
            },
            "type": "barpolar"
           }
          ],
          "carpet": [
           {
            "aaxis": {
             "endlinecolor": "#2a3f5f",
             "gridcolor": "white",
             "linecolor": "white",
             "minorgridcolor": "white",
             "startlinecolor": "#2a3f5f"
            },
            "baxis": {
             "endlinecolor": "#2a3f5f",
             "gridcolor": "white",
             "linecolor": "white",
             "minorgridcolor": "white",
             "startlinecolor": "#2a3f5f"
            },
            "type": "carpet"
           }
          ],
          "choropleth": [
           {
            "colorbar": {
             "outlinewidth": 0,
             "ticks": ""
            },
            "type": "choropleth"
           }
          ],
          "contour": [
           {
            "colorbar": {
             "outlinewidth": 0,
             "ticks": ""
            },
            "colorscale": [
             [
              0,
              "#0d0887"
             ],
             [
              0.1111111111111111,
              "#46039f"
             ],
             [
              0.2222222222222222,
              "#7201a8"
             ],
             [
              0.3333333333333333,
              "#9c179e"
             ],
             [
              0.4444444444444444,
              "#bd3786"
             ],
             [
              0.5555555555555556,
              "#d8576b"
             ],
             [
              0.6666666666666666,
              "#ed7953"
             ],
             [
              0.7777777777777778,
              "#fb9f3a"
             ],
             [
              0.8888888888888888,
              "#fdca26"
             ],
             [
              1,
              "#f0f921"
             ]
            ],
            "type": "contour"
           }
          ],
          "contourcarpet": [
           {
            "colorbar": {
             "outlinewidth": 0,
             "ticks": ""
            },
            "type": "contourcarpet"
           }
          ],
          "heatmap": [
           {
            "colorbar": {
             "outlinewidth": 0,
             "ticks": ""
            },
            "colorscale": [
             [
              0,
              "#0d0887"
             ],
             [
              0.1111111111111111,
              "#46039f"
             ],
             [
              0.2222222222222222,
              "#7201a8"
             ],
             [
              0.3333333333333333,
              "#9c179e"
             ],
             [
              0.4444444444444444,
              "#bd3786"
             ],
             [
              0.5555555555555556,
              "#d8576b"
             ],
             [
              0.6666666666666666,
              "#ed7953"
             ],
             [
              0.7777777777777778,
              "#fb9f3a"
             ],
             [
              0.8888888888888888,
              "#fdca26"
             ],
             [
              1,
              "#f0f921"
             ]
            ],
            "type": "heatmap"
           }
          ],
          "heatmapgl": [
           {
            "colorbar": {
             "outlinewidth": 0,
             "ticks": ""
            },
            "colorscale": [
             [
              0,
              "#0d0887"
             ],
             [
              0.1111111111111111,
              "#46039f"
             ],
             [
              0.2222222222222222,
              "#7201a8"
             ],
             [
              0.3333333333333333,
              "#9c179e"
             ],
             [
              0.4444444444444444,
              "#bd3786"
             ],
             [
              0.5555555555555556,
              "#d8576b"
             ],
             [
              0.6666666666666666,
              "#ed7953"
             ],
             [
              0.7777777777777778,
              "#fb9f3a"
             ],
             [
              0.8888888888888888,
              "#fdca26"
             ],
             [
              1,
              "#f0f921"
             ]
            ],
            "type": "heatmapgl"
           }
          ],
          "histogram": [
           {
            "marker": {
             "pattern": {
              "fillmode": "overlay",
              "size": 10,
              "solidity": 0.2
             }
            },
            "type": "histogram"
           }
          ],
          "histogram2d": [
           {
            "colorbar": {
             "outlinewidth": 0,
             "ticks": ""
            },
            "colorscale": [
             [
              0,
              "#0d0887"
             ],
             [
              0.1111111111111111,
              "#46039f"
             ],
             [
              0.2222222222222222,
              "#7201a8"
             ],
             [
              0.3333333333333333,
              "#9c179e"
             ],
             [
              0.4444444444444444,
              "#bd3786"
             ],
             [
              0.5555555555555556,
              "#d8576b"
             ],
             [
              0.6666666666666666,
              "#ed7953"
             ],
             [
              0.7777777777777778,
              "#fb9f3a"
             ],
             [
              0.8888888888888888,
              "#fdca26"
             ],
             [
              1,
              "#f0f921"
             ]
            ],
            "type": "histogram2d"
           }
          ],
          "histogram2dcontour": [
           {
            "colorbar": {
             "outlinewidth": 0,
             "ticks": ""
            },
            "colorscale": [
             [
              0,
              "#0d0887"
             ],
             [
              0.1111111111111111,
              "#46039f"
             ],
             [
              0.2222222222222222,
              "#7201a8"
             ],
             [
              0.3333333333333333,
              "#9c179e"
             ],
             [
              0.4444444444444444,
              "#bd3786"
             ],
             [
              0.5555555555555556,
              "#d8576b"
             ],
             [
              0.6666666666666666,
              "#ed7953"
             ],
             [
              0.7777777777777778,
              "#fb9f3a"
             ],
             [
              0.8888888888888888,
              "#fdca26"
             ],
             [
              1,
              "#f0f921"
             ]
            ],
            "type": "histogram2dcontour"
           }
          ],
          "mesh3d": [
           {
            "colorbar": {
             "outlinewidth": 0,
             "ticks": ""
            },
            "type": "mesh3d"
           }
          ],
          "parcoords": [
           {
            "line": {
             "colorbar": {
              "outlinewidth": 0,
              "ticks": ""
             }
            },
            "type": "parcoords"
           }
          ],
          "pie": [
           {
            "automargin": true,
            "type": "pie"
           }
          ],
          "scatter": [
           {
            "fillpattern": {
             "fillmode": "overlay",
             "size": 10,
             "solidity": 0.2
            },
            "type": "scatter"
           }
          ],
          "scatter3d": [
           {
            "line": {
             "colorbar": {
              "outlinewidth": 0,
              "ticks": ""
             }
            },
            "marker": {
             "colorbar": {
              "outlinewidth": 0,
              "ticks": ""
             }
            },
            "type": "scatter3d"
           }
          ],
          "scattercarpet": [
           {
            "marker": {
             "colorbar": {
              "outlinewidth": 0,
              "ticks": ""
             }
            },
            "type": "scattercarpet"
           }
          ],
          "scattergeo": [
           {
            "marker": {
             "colorbar": {
              "outlinewidth": 0,
              "ticks": ""
             }
            },
            "type": "scattergeo"
           }
          ],
          "scattergl": [
           {
            "marker": {
             "colorbar": {
              "outlinewidth": 0,
              "ticks": ""
             }
            },
            "type": "scattergl"
           }
          ],
          "scattermapbox": [
           {
            "marker": {
             "colorbar": {
              "outlinewidth": 0,
              "ticks": ""
             }
            },
            "type": "scattermapbox"
           }
          ],
          "scatterpolar": [
           {
            "marker": {
             "colorbar": {
              "outlinewidth": 0,
              "ticks": ""
             }
            },
            "type": "scatterpolar"
           }
          ],
          "scatterpolargl": [
           {
            "marker": {
             "colorbar": {
              "outlinewidth": 0,
              "ticks": ""
             }
            },
            "type": "scatterpolargl"
           }
          ],
          "scatterternary": [
           {
            "marker": {
             "colorbar": {
              "outlinewidth": 0,
              "ticks": ""
             }
            },
            "type": "scatterternary"
           }
          ],
          "surface": [
           {
            "colorbar": {
             "outlinewidth": 0,
             "ticks": ""
            },
            "colorscale": [
             [
              0,
              "#0d0887"
             ],
             [
              0.1111111111111111,
              "#46039f"
             ],
             [
              0.2222222222222222,
              "#7201a8"
             ],
             [
              0.3333333333333333,
              "#9c179e"
             ],
             [
              0.4444444444444444,
              "#bd3786"
             ],
             [
              0.5555555555555556,
              "#d8576b"
             ],
             [
              0.6666666666666666,
              "#ed7953"
             ],
             [
              0.7777777777777778,
              "#fb9f3a"
             ],
             [
              0.8888888888888888,
              "#fdca26"
             ],
             [
              1,
              "#f0f921"
             ]
            ],
            "type": "surface"
           }
          ],
          "table": [
           {
            "cells": {
             "fill": {
              "color": "#EBF0F8"
             },
             "line": {
              "color": "white"
             }
            },
            "header": {
             "fill": {
              "color": "#C8D4E3"
             },
             "line": {
              "color": "white"
             }
            },
            "type": "table"
           }
          ]
         },
         "layout": {
          "annotationdefaults": {
           "arrowcolor": "#2a3f5f",
           "arrowhead": 0,
           "arrowwidth": 1
          },
          "autotypenumbers": "strict",
          "coloraxis": {
           "colorbar": {
            "outlinewidth": 0,
            "ticks": ""
           }
          },
          "colorscale": {
           "diverging": [
            [
             0,
             "#8e0152"
            ],
            [
             0.1,
             "#c51b7d"
            ],
            [
             0.2,
             "#de77ae"
            ],
            [
             0.3,
             "#f1b6da"
            ],
            [
             0.4,
             "#fde0ef"
            ],
            [
             0.5,
             "#f7f7f7"
            ],
            [
             0.6,
             "#e6f5d0"
            ],
            [
             0.7,
             "#b8e186"
            ],
            [
             0.8,
             "#7fbc41"
            ],
            [
             0.9,
             "#4d9221"
            ],
            [
             1,
             "#276419"
            ]
           ],
           "sequential": [
            [
             0,
             "#0d0887"
            ],
            [
             0.1111111111111111,
             "#46039f"
            ],
            [
             0.2222222222222222,
             "#7201a8"
            ],
            [
             0.3333333333333333,
             "#9c179e"
            ],
            [
             0.4444444444444444,
             "#bd3786"
            ],
            [
             0.5555555555555556,
             "#d8576b"
            ],
            [
             0.6666666666666666,
             "#ed7953"
            ],
            [
             0.7777777777777778,
             "#fb9f3a"
            ],
            [
             0.8888888888888888,
             "#fdca26"
            ],
            [
             1,
             "#f0f921"
            ]
           ],
           "sequentialminus": [
            [
             0,
             "#0d0887"
            ],
            [
             0.1111111111111111,
             "#46039f"
            ],
            [
             0.2222222222222222,
             "#7201a8"
            ],
            [
             0.3333333333333333,
             "#9c179e"
            ],
            [
             0.4444444444444444,
             "#bd3786"
            ],
            [
             0.5555555555555556,
             "#d8576b"
            ],
            [
             0.6666666666666666,
             "#ed7953"
            ],
            [
             0.7777777777777778,
             "#fb9f3a"
            ],
            [
             0.8888888888888888,
             "#fdca26"
            ],
            [
             1,
             "#f0f921"
            ]
           ]
          },
          "colorway": [
           "#636efa",
           "#EF553B",
           "#00cc96",
           "#ab63fa",
           "#FFA15A",
           "#19d3f3",
           "#FF6692",
           "#B6E880",
           "#FF97FF",
           "#FECB52"
          ],
          "font": {
           "color": "#2a3f5f"
          },
          "geo": {
           "bgcolor": "white",
           "lakecolor": "white",
           "landcolor": "#E5ECF6",
           "showlakes": true,
           "showland": true,
           "subunitcolor": "white"
          },
          "hoverlabel": {
           "align": "left"
          },
          "hovermode": "closest",
          "mapbox": {
           "style": "light"
          },
          "paper_bgcolor": "white",
          "plot_bgcolor": "#E5ECF6",
          "polar": {
           "angularaxis": {
            "gridcolor": "white",
            "linecolor": "white",
            "ticks": ""
           },
           "bgcolor": "#E5ECF6",
           "radialaxis": {
            "gridcolor": "white",
            "linecolor": "white",
            "ticks": ""
           }
          },
          "scene": {
           "xaxis": {
            "backgroundcolor": "#E5ECF6",
            "gridcolor": "white",
            "gridwidth": 2,
            "linecolor": "white",
            "showbackground": true,
            "ticks": "",
            "zerolinecolor": "white"
           },
           "yaxis": {
            "backgroundcolor": "#E5ECF6",
            "gridcolor": "white",
            "gridwidth": 2,
            "linecolor": "white",
            "showbackground": true,
            "ticks": "",
            "zerolinecolor": "white"
           },
           "zaxis": {
            "backgroundcolor": "#E5ECF6",
            "gridcolor": "white",
            "gridwidth": 2,
            "linecolor": "white",
            "showbackground": true,
            "ticks": "",
            "zerolinecolor": "white"
           }
          },
          "shapedefaults": {
           "line": {
            "color": "#2a3f5f"
           }
          },
          "ternary": {
           "aaxis": {
            "gridcolor": "white",
            "linecolor": "white",
            "ticks": ""
           },
           "baxis": {
            "gridcolor": "white",
            "linecolor": "white",
            "ticks": ""
           },
           "bgcolor": "#E5ECF6",
           "caxis": {
            "gridcolor": "white",
            "linecolor": "white",
            "ticks": ""
           }
          },
          "title": {
           "x": 0.05
          },
          "xaxis": {
           "automargin": true,
           "gridcolor": "white",
           "linecolor": "white",
           "ticks": "",
           "title": {
            "standoff": 15
           },
           "zerolinecolor": "white",
           "zerolinewidth": 2
          },
          "yaxis": {
           "automargin": true,
           "gridcolor": "white",
           "linecolor": "white",
           "ticks": "",
           "title": {
            "standoff": 15
           },
           "zerolinecolor": "white",
           "zerolinewidth": 2
          }
         }
        },
        "title": {
         "text": "Variation of Oxalates for Each Mango Variety in Seed"
        },
        "xaxis": {
         "autorange": true,
         "range": [
          0,
          4
         ],
         "title": {
          "text": "Ripening Stage"
         },
         "type": "category"
        },
        "yaxis": {
         "autorange": true,
         "range": [
          0.2627777777777778,
          4.0072222222222225
         ],
         "title": {
          "text": "Peel"
         },
         "type": "linear"
        }
       }
      },
      "image/png": "[encoded data removed]",
      "text/html": [
       "<div>                            <div id=\"eb72a221-3f9e-4b67-9593-10e1579ff854\" class=\"plotly-graph-div\" style=\"height:525px; width:100%;\"></div>            <script type=\"text/javascript\">                require([\"plotly\"], function(Plotly) {                    window.PLOTLYENV=window.PLOTLYENV || {};                                    if (document.getElementById(\"eb72a221-3f9e-4b67-9593-10e1579ff854\")) {                    Plotly.newPlot(                        \"eb72a221-3f9e-4b67-9593-10e1579ff854\",                        [{\"mode\":\"lines\",\"name\":\"Apple mango\",\"x\":[\"Stage 1\",\"Stage 2\",\"Stage 3\",\"Stage 4\",\"Stage 5\"],\"y\":[3.31,3.1,1.8,1.52,0.65],\"type\":\"scatter\"},{\"mode\":\"lines\",\"name\":\"Asante\",\"x\":[\"Stage 1\",\"Stage 2\",\"Stage 3\",\"Stage 4\",\"Stage 5\"],\"y\":[3.18,2.98,1.84,1.49,0.45],\"type\":\"scatter\"},{\"mode\":\"lines\",\"name\":\"Batawi\",\"x\":[\"Stage 1\",\"Stage 2\",\"Stage 3\",\"Stage 4\",\"Stage 5\"],\"y\":[3.19,2.97,1.86,1.55,0.64],\"type\":\"scatter\"},{\"mode\":\"lines\",\"name\":\"Bire\",\"x\":[\"Stage 1\",\"Stage 2\",\"Stage 3\",\"Stage 4\",\"Stage 5\"],\"y\":[3.34,2.8,1.79,1.4,0.74],\"type\":\"scatter\"},{\"mode\":\"lines\",\"name\":\"Boribo\",\"x\":[\"Stage 1\",\"Stage 2\",\"Stage 3\",\"Stage 4\",\"Stage 5\"],\"y\":[3.17,3.06,1.66,1.55,0.63],\"type\":\"scatter\"},{\"mode\":\"lines\",\"name\":\"Doodo\",\"x\":[\"Stage 1\",\"Stage 2\",\"Stage 3\",\"Stage 4\",\"Stage 5\"],\"y\":[3.28,2.95,1.82,1.47,0.63],\"type\":\"scatter\"},{\"mode\":\"lines\",\"name\":\"Kagoogwa\",\"x\":[\"Stage 1\",\"Stage 2\",\"Stage 3\",\"Stage 4\",\"Stage 5\"],\"y\":[3.24,3.05,1.81,1.54,0.53],\"type\":\"scatter\"},{\"mode\":\"lines\",\"name\":\"Koona\",\"x\":[\"Stage 1\",\"Stage 2\",\"Stage 3\",\"Stage 4\",\"Stage 5\"],\"y\":[3.31,3.01,1.74,1.53,0.73],\"type\":\"scatter\"},{\"mode\":\"lines\",\"name\":\"Mabbere\",\"x\":[\"Stage 1\",\"Stage 2\",\"Stage 3\",\"Stage 4\",\"Stage 5\"],\"y\":[3.14,3.0,1.53,1.47,0.67],\"type\":\"scatter\"},{\"mode\":\"lines\",\"name\":\"Sayuni\",\"x\":[\"Stage 1\",\"Stage 2\",\"Stage 3\",\"Stage 4\",\"Stage 5\"],\"y\":[3.39,3.01,1.77,1.41,0.75],\"type\":\"scatter\"},{\"mode\":\"lines\",\"name\":\"Ssejjembe\",\"x\":[\"Stage 1\",\"Stage 2\",\"Stage 3\",\"Stage 4\",\"Stage 5\"],\"y\":[3.82,3.01,1.69,1.4,0.84],\"type\":\"scatter\"},{\"mode\":\"lines\",\"name\":\"Takataka\",\"x\":[\"Stage 1\",\"Stage 2\",\"Stage 3\",\"Stage 4\",\"Stage 5\"],\"y\":[3.28,3.0,1.7,1.41,0.66],\"type\":\"scatter\"},{\"mode\":\"lines\",\"name\":\"Kakule\",\"x\":[\"Stage 1\",\"Stage 2\",\"Stage 3\",\"Stage 4\",\"Stage 5\"],\"y\":[3.23,2.94,1.81,1.45,0.51],\"type\":\"scatter\"},{\"mode\":\"lines\",\"name\":\"Duncan\",\"x\":[\"Stage 1\",\"Stage 2\",\"Stage 3\",\"Stage 4\",\"Stage 5\"],\"y\":[3.3,2.96,1.95,1.56,0.53],\"type\":\"scatter\"},{\"mode\":\"lines\",\"name\":\"Fairchild\",\"x\":[\"Stage 1\",\"Stage 2\",\"Stage 3\",\"Stage 4\",\"Stage 5\"],\"y\":[3.26,3.0,1.84,1.56,0.72],\"type\":\"scatter\"},{\"mode\":\"lines\",\"name\":\"Julie\",\"x\":[\"Stage 1\",\"Stage 2\",\"Stage 3\",\"Stage 4\",\"Stage 5\"],\"y\":[3.37,2.97,1.86,1.33,0.73],\"type\":\"scatter\"},{\"mode\":\"lines\",\"name\":\"Kapisa\",\"x\":[\"Stage 1\",\"Stage 2\",\"Stage 3\",\"Stage 4\",\"Stage 5\"],\"y\":[3.32,3.04,1.81,1.53,0.7],\"type\":\"scatter\"},{\"mode\":\"lines\",\"name\":\"Kent\",\"x\":[\"Stage 1\",\"Stage 2\",\"Stage 3\",\"Stage 4\",\"Stage 5\"],\"y\":[3.53,2.89,1.88,1.38,0.69],\"type\":\"scatter\"},{\"mode\":\"lines\",\"name\":\"Palmer\",\"x\":[\"Stage 1\",\"Stage 2\",\"Stage 3\",\"Stage 4\",\"Stage 5\"],\"y\":[3.4,3.11,1.75,1.33,0.75],\"type\":\"scatter\"},{\"mode\":\"lines\",\"name\":\"Ponde\",\"x\":[\"Stage 1\",\"Stage 2\",\"Stage 3\",\"Stage 4\",\"Stage 5\"],\"y\":[3.29,3.02,1.77,1.21,0.6],\"type\":\"scatter\"},{\"mode\":\"lines\",\"name\":\"Seena\",\"x\":[\"Stage 1\",\"Stage 2\",\"Stage 3\",\"Stage 4\",\"Stage 5\"],\"y\":[3.39,3.21,1.6,1.33,0.77],\"type\":\"scatter\"},{\"mode\":\"lines\",\"name\":\"Tommy atkin\",\"x\":[\"Stage 1\",\"Stage 2\",\"Stage 3\",\"Stage 4\",\"Stage 5\"],\"y\":[3.49,2.87,1.78,1.29,0.58],\"type\":\"scatter\"}],                        {\"title\":{\"text\":\"Variation of Oxalates for Each Mango Variety in Seed\"},\"xaxis\":{\"title\":{\"text\":\"Ripening Stage\"}},\"yaxis\":{\"title\":{\"text\":\"Peel\"}},\"template\":{\"data\":{\"histogram2dcontour\":[{\"type\":\"histogram2dcontour\",\"colorbar\":{\"outlinewidth\":0,\"ticks\":\"\"},\"colorscale\":[[0.0,\"#0d0887\"],[0.1111111111111111,\"#46039f\"],[0.2222222222222222,\"#7201a8\"],[0.3333333333333333,\"#9c179e\"],[0.4444444444444444,\"#bd3786\"],[0.5555555555555556,\"#d8576b\"],[0.6666666666666666,\"#ed7953\"],[0.7777777777777778,\"#fb9f3a\"],[0.8888888888888888,\"#fdca26\"],[1.0,\"#f0f921\"]]}],\"choropleth\":[{\"type\":\"choropleth\",\"colorbar\":{\"outlinewidth\":0,\"ticks\":\"\"}}],\"histogram2d\":[{\"type\":\"histogram2d\",\"colorbar\":{\"outlinewidth\":0,\"ticks\":\"\"},\"colorscale\":[[0.0,\"#0d0887\"],[0.1111111111111111,\"#46039f\"],[0.2222222222222222,\"#7201a8\"],[0.3333333333333333,\"#9c179e\"],[0.4444444444444444,\"#bd3786\"],[0.5555555555555556,\"#d8576b\"],[0.6666666666666666,\"#ed7953\"],[0.7777777777777778,\"#fb9f3a\"],[0.8888888888888888,\"#fdca26\"],[1.0,\"#f0f921\"]]}],\"heatmap\":[{\"type\":\"heatmap\",\"colorbar\":{\"outlinewidth\":0,\"ticks\":\"\"},\"colorscale\":[[0.0,\"#0d0887\"],[0.1111111111111111,\"#46039f\"],[0.2222222222222222,\"#7201a8\"],[0.3333333333333333,\"#9c179e\"],[0.4444444444444444,\"#bd3786\"],[0.5555555555555556,\"#d8576b\"],[0.6666666666666666,\"#ed7953\"],[0.7777777777777778,\"#fb9f3a\"],[0.8888888888888888,\"#fdca26\"],[1.0,\"#f0f921\"]]}],\"heatmapgl\":[{\"type\":\"heatmapgl\",\"colorbar\":{\"outlinewidth\":0,\"ticks\":\"\"},\"colorscale\":[[0.0,\"#0d0887\"],[0.1111111111111111,\"#46039f\"],[0.2222222222222222,\"#7201a8\"],[0.3333333333333333,\"#9c179e\"],[0.4444444444444444,\"#bd3786\"],[0.5555555555555556,\"#d8576b\"],[0.6666666666666666,\"#ed7953\"],[0.7777777777777778,\"#fb9f3a\"],[0.8888888888888888,\"#fdca26\"],[1.0,\"#f0f921\"]]}],\"contourcarpet\":[{\"type\":\"contourcarpet\",\"colorbar\":{\"outlinewidth\":0,\"ticks\":\"\"}}],\"contour\":[{\"type\":\"contour\",\"colorbar\":{\"outlinewidth\":0,\"ticks\":\"\"},\"colorscale\":[[0.0,\"#0d0887\"],[0.1111111111111111,\"#46039f\"],[0.2222222222222222,\"#7201a8\"],[0.3333333333333333,\"#9c179e\"],[0.4444444444444444,\"#bd3786\"],[0.5555555555555556,\"#d8576b\"],[0.6666666666666666,\"#ed7953\"],[0.7777777777777778,\"#fb9f3a\"],[0.8888888888888888,\"#fdca26\"],[1.0,\"#f0f921\"]]}],\"surface\":[{\"type\":\"surface\",\"colorbar\":{\"outlinewidth\":0,\"ticks\":\"\"},\"colorscale\":[[0.0,\"#0d0887\"],[0.1111111111111111,\"#46039f\"],[0.2222222222222222,\"#7201a8\"],[0.3333333333333333,\"#9c179e\"],[0.4444444444444444,\"#bd3786\"],[0.5555555555555556,\"#d8576b\"],[0.6666666666666666,\"#ed7953\"],[0.7777777777777778,\"#fb9f3a\"],[0.8888888888888888,\"#fdca26\"],[1.0,\"#f0f921\"]]}],\"mesh3d\":[{\"type\":\"mesh3d\",\"colorbar\":{\"outlinewidth\":0,\"ticks\":\"\"}}],\"scatter\":[{\"fillpattern\":{\"fillmode\":\"overlay\",\"size\":10,\"solidity\":0.2},\"type\":\"scatter\"}],\"parcoords\":[{\"type\":\"parcoords\",\"line\":{\"colorbar\":{\"outlinewidth\":0,\"ticks\":\"\"}}}],\"scatterpolargl\":[{\"type\":\"scatterpolargl\",\"marker\":{\"colorbar\":{\"outlinewidth\":0,\"ticks\":\"\"}}}],\"bar\":[{\"error_x\":{\"color\":\"#2a3f5f\"},\"error_y\":{\"color\":\"#2a3f5f\"},\"marker\":{\"line\":{\"color\":\"#E5ECF6\",\"width\":0.5},\"pattern\":{\"fillmode\":\"overlay\",\"size\":10,\"solidity\":0.2}},\"type\":\"bar\"}],\"scattergeo\":[{\"type\":\"scattergeo\",\"marker\":{\"colorbar\":{\"outlinewidth\":0,\"ticks\":\"\"}}}],\"scatterpolar\":[{\"type\":\"scatterpolar\",\"marker\":{\"colorbar\":{\"outlinewidth\":0,\"ticks\":\"\"}}}],\"histogram\":[{\"marker\":{\"pattern\":{\"fillmode\":\"overlay\",\"size\":10,\"solidity\":0.2}},\"type\":\"histogram\"}],\"scattergl\":[{\"type\":\"scattergl\",\"marker\":{\"colorbar\":{\"outlinewidth\":0,\"ticks\":\"\"}}}],\"scatter3d\":[{\"type\":\"scatter3d\",\"line\":{\"colorbar\":{\"outlinewidth\":0,\"ticks\":\"\"}},\"marker\":{\"colorbar\":{\"outlinewidth\":0,\"ticks\":\"\"}}}],\"scattermapbox\":[{\"type\":\"scattermapbox\",\"marker\":{\"colorbar\":{\"outlinewidth\":0,\"ticks\":\"\"}}}],\"scatterternary\":[{\"type\":\"scatterternary\",\"marker\":{\"colorbar\":{\"outlinewidth\":0,\"ticks\":\"\"}}}],\"scattercarpet\":[{\"type\":\"scattercarpet\",\"marker\":{\"colorbar\":{\"outlinewidth\":0,\"ticks\":\"\"}}}],\"carpet\":[{\"aaxis\":{\"endlinecolor\":\"#2a3f5f\",\"gridcolor\":\"white\",\"linecolor\":\"white\",\"minorgridcolor\":\"white\",\"startlinecolor\":\"#2a3f5f\"},\"baxis\":{\"endlinecolor\":\"#2a3f5f\",\"gridcolor\":\"white\",\"linecolor\":\"white\",\"minorgridcolor\":\"white\",\"startlinecolor\":\"#2a3f5f\"},\"type\":\"carpet\"}],\"table\":[{\"cells\":{\"fill\":{\"color\":\"#EBF0F8\"},\"line\":{\"color\":\"white\"}},\"header\":{\"fill\":{\"color\":\"#C8D4E3\"},\"line\":{\"color\":\"white\"}},\"type\":\"table\"}],\"barpolar\":[{\"marker\":{\"line\":{\"color\":\"#E5ECF6\",\"width\":0.5},\"pattern\":{\"fillmode\":\"overlay\",\"size\":10,\"solidity\":0.2}},\"type\":\"barpolar\"}],\"pie\":[{\"automargin\":true,\"type\":\"pie\"}]},\"layout\":{\"autotypenumbers\":\"strict\",\"colorway\":[\"#636efa\",\"#EF553B\",\"#00cc96\",\"#ab63fa\",\"#FFA15A\",\"#19d3f3\",\"#FF6692\",\"#B6E880\",\"#FF97FF\",\"#FECB52\"],\"font\":{\"color\":\"#2a3f5f\"},\"hovermode\":\"closest\",\"hoverlabel\":{\"align\":\"left\"},\"paper_bgcolor\":\"white\",\"plot_bgcolor\":\"#E5ECF6\",\"polar\":{\"bgcolor\":\"#E5ECF6\",\"angularaxis\":{\"gridcolor\":\"white\",\"linecolor\":\"white\",\"ticks\":\"\"},\"radialaxis\":{\"gridcolor\":\"white\",\"linecolor\":\"white\",\"ticks\":\"\"}},\"ternary\":{\"bgcolor\":\"#E5ECF6\",\"aaxis\":{\"gridcolor\":\"white\",\"linecolor\":\"white\",\"ticks\":\"\"},\"baxis\":{\"gridcolor\":\"white\",\"linecolor\":\"white\",\"ticks\":\"\"},\"caxis\":{\"gridcolor\":\"white\",\"linecolor\":\"white\",\"ticks\":\"\"}},\"coloraxis\":{\"colorbar\":{\"outlinewidth\":0,\"ticks\":\"\"}},\"colorscale\":{\"sequential\":[[0.0,\"#0d0887\"],[0.1111111111111111,\"#46039f\"],[0.2222222222222222,\"#7201a8\"],[0.3333333333333333,\"#9c179e\"],[0.4444444444444444,\"#bd3786\"],[0.5555555555555556,\"#d8576b\"],[0.6666666666666666,\"#ed7953\"],[0.7777777777777778,\"#fb9f3a\"],[0.8888888888888888,\"#fdca26\"],[1.0,\"#f0f921\"]],\"sequentialminus\":[[0.0,\"#0d0887\"],[0.1111111111111111,\"#46039f\"],[0.2222222222222222,\"#7201a8\"],[0.3333333333333333,\"#9c179e\"],[0.4444444444444444,\"#bd3786\"],[0.5555555555555556,\"#d8576b\"],[0.6666666666666666,\"#ed7953\"],[0.7777777777777778,\"#fb9f3a\"],[0.8888888888888888,\"#fdca26\"],[1.0,\"#f0f921\"]],\"diverging\":[[0,\"#8e0152\"],[0.1,\"#c51b7d\"],[0.2,\"#de77ae\"],[0.3,\"#f1b6da\"],[0.4,\"#fde0ef\"],[0.5,\"#f7f7f7\"],[0.6,\"#e6f5d0\"],[0.7,\"#b8e186\"],[0.8,\"#7fbc41\"],[0.9,\"#4d9221\"],[1,\"#276419\"]]},\"xaxis\":{\"gridcolor\":\"white\",\"linecolor\":\"white\",\"ticks\":\"\",\"title\":{\"standoff\":15},\"zerolinecolor\":\"white\",\"automargin\":true,\"zerolinewidth\":2},\"yaxis\":{\"gridcolor\":\"white\",\"linecolor\":\"white\",\"ticks\":\"\",\"title\":{\"standoff\":15},\"zerolinecolor\":\"white\",\"automargin\":true,\"zerolinewidth\":2},\"scene\":{\"xaxis\":{\"backgroundcolor\":\"#E5ECF6\",\"gridcolor\":\"white\",\"linecolor\":\"white\",\"showbackground\":true,\"ticks\":\"\",\"zerolinecolor\":\"white\",\"gridwidth\":2},\"yaxis\":{\"backgroundcolor\":\"#E5ECF6\",\"gridcolor\":\"white\",\"linecolor\":\"white\",\"showbackground\":true,\"ticks\":\"\",\"zerolinecolor\":\"white\",\"gridwidth\":2},\"zaxis\":{\"backgroundcolor\":\"#E5ECF6\",\"gridcolor\":\"white\",\"linecolor\":\"white\",\"showbackground\":true,\"ticks\":\"\",\"zerolinecolor\":\"white\",\"gridwidth\":2}},\"shapedefaults\":{\"line\":{\"color\":\"#2a3f5f\"}},\"annotationdefaults\":{\"arrowcolor\":\"#2a3f5f\",\"arrowhead\":0,\"arrowwidth\":1},\"geo\":{\"bgcolor\":\"white\",\"landcolor\":\"#E5ECF6\",\"subunitcolor\":\"white\",\"showland\":true,\"showlakes\":true,\"lakecolor\":\"white\"},\"title\":{\"x\":0.05},\"mapbox\":{\"style\":\"light\"}}}},                        {\"responsive\": true}                    ).then(function(){\n",
       "                            \n",
       "var gd = document.getElementById('eb72a221-3f9e-4b67-9593-10e1579ff854');\n",
       "var x = new MutationObserver(function (mutations, observer) {{\n",
       "        var display = window.getComputedStyle(gd).display;\n",
       "        if (!display || display === 'none') {{\n",
       "            console.log([gd, 'removed!']);\n",
       "            Plotly.purge(gd);\n",
       "            observer.disconnect();\n",
       "        }}\n",
       "}});\n",
       "\n",
       "// Listen for the removal of the full notebook cells\n",
       "var notebookContainer = gd.closest('#notebook-container');\n",
       "if (notebookContainer) {{\n",
       "    x.observe(notebookContainer, {childList: true});\n",
       "}}\n",
       "\n",
       "// Listen for the clearing of the current output cell\n",
       "var outputEl = gd.closest('.output');\n",
       "if (outputEl) {{\n",
       "    x.observe(outputEl, {childList: true});\n",
       "}}\n",
       "\n",
       "                        })                };                });            </script>        </div>"
      ]
     },
     "metadata": {},
     "output_type": "display_data"
    }
   ],
   "source": [
    "# Create traces for each mango variety\n",
    "traces = []\n",
    "for variety in data['Mango variety'].unique():\n",
    "    subset = data[data['Mango variety'] == variety]\n",
    "    trace = go.Scatter(x=subset['Ripening stage'], y=subset['Seed'], mode='lines', name=variety)\n",
    "    traces.append(trace)\n",
    "\n",
    "# Create layout\n",
    "layout = go.Layout(title='Variation of Oxalates for Each Mango Variety in Seed',\n",
    "                   xaxis=dict(title='Ripening Stage'),\n",
    "                   yaxis=dict(title='Peel'))\n",
    "\n",
    "# Create figure\n",
    "fig = go.Figure(data=traces, layout=layout)\n",
    "\n",
    "# Plot figure\n",
    "pio.show(fig)"
   ]
  },
  {
   "cell_type": "code",
   "execution_count": null,
   "id": "7a2b5355-5fb7-47c0-a3f9-1873c029d603",
   "metadata": {},
   "outputs": [],
   "source": []
  }
 ],
 "metadata": {
  "kernelspec": {
   "display_name": "Python 3 (ipykernel)",
   "language": "python",
   "name": "python3"
  },
  "language_info": {
   "codemirror_mode": {
    "name": "ipython",
    "version": 3
   },
   "file_extension": ".py",
   "mimetype": "text/x-python",
   "name": "python",
   "nbconvert_exporter": "python",
   "pygments_lexer": "ipython3",
   "version": "3.11.7"
  }
 },
 "nbformat": 4,
 "nbformat_minor": 5
}
