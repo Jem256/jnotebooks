{
 "cells": [
  {
   "cell_type": "code",
   "execution_count": 1,
   "id": "d83658f6-a767-48b7-bc32-47abeadd481a",
   "metadata": {},
   "outputs": [],
   "source": [
    "import pandas as pd\n",
    "import plotly.graph_objs as go\n",
    "import plotly.io as pio"
   ]
  },
  {
   "cell_type": "code",
   "execution_count": 4,
   "id": "0a409e1e-b7ce-4fec-8cde-e918bb0e0750",
   "metadata": {},
   "outputs": [],
   "source": [
    "data = pd.read_excel('HenriettahData.xlsx', sheet_name='Total Carotenoids')"
   ]
  },
  {
   "cell_type": "code",
   "execution_count": 5,
   "id": "cce1fcca-d52a-4cb0-bb79-7ba9947b0bad",
   "metadata": {},
   "outputs": [
    {
     "data": {
      "text/html": [
       "<div>\n",
       "<style scoped>\n",
       "    .dataframe tbody tr th:only-of-type {\n",
       "        vertical-align: middle;\n",
       "    }\n",
       "\n",
       "    .dataframe tbody tr th {\n",
       "        vertical-align: top;\n",
       "    }\n",
       "\n",
       "    .dataframe thead th {\n",
       "        text-align: right;\n",
       "    }\n",
       "</style>\n",
       "<table border=\"1\" class=\"dataframe\">\n",
       "  <thead>\n",
       "    <tr style=\"text-align: right;\">\n",
       "      <th></th>\n",
       "      <th>Mango variety</th>\n",
       "      <th>Ripening stage</th>\n",
       "      <th>Peel</th>\n",
       "      <th>Pulp</th>\n",
       "    </tr>\n",
       "  </thead>\n",
       "  <tbody>\n",
       "    <tr>\n",
       "      <th>0</th>\n",
       "      <td>Apple mango</td>\n",
       "      <td>Stage 1</td>\n",
       "      <td>5.56</td>\n",
       "      <td>1.78</td>\n",
       "    </tr>\n",
       "    <tr>\n",
       "      <th>1</th>\n",
       "      <td>Asante</td>\n",
       "      <td>Stage 1</td>\n",
       "      <td>8.66</td>\n",
       "      <td>1.64</td>\n",
       "    </tr>\n",
       "    <tr>\n",
       "      <th>2</th>\n",
       "      <td>Batawi</td>\n",
       "      <td>Stage 1</td>\n",
       "      <td>8.69</td>\n",
       "      <td>1.67</td>\n",
       "    </tr>\n",
       "    <tr>\n",
       "      <th>3</th>\n",
       "      <td>Bire</td>\n",
       "      <td>Stage 1</td>\n",
       "      <td>9.47</td>\n",
       "      <td>2.60</td>\n",
       "    </tr>\n",
       "    <tr>\n",
       "      <th>4</th>\n",
       "      <td>Boribo</td>\n",
       "      <td>Stage 1</td>\n",
       "      <td>8.68</td>\n",
       "      <td>1.98</td>\n",
       "    </tr>\n",
       "  </tbody>\n",
       "</table>\n",
       "</div>"
      ],
      "text/plain": [
       "  Mango variety Ripening stage  Peel  Pulp\n",
       "0   Apple mango        Stage 1  5.56  1.78\n",
       "1        Asante        Stage 1  8.66  1.64\n",
       "2        Batawi        Stage 1  8.69  1.67\n",
       "3          Bire        Stage 1  9.47  2.60\n",
       "4        Boribo        Stage 1  8.68  1.98"
      ]
     },
     "execution_count": 5,
     "metadata": {},
     "output_type": "execute_result"
    }
   ],
   "source": [
    "data.head()"
   ]
  },
  {
   "cell_type": "code",
   "execution_count": 11,
   "id": "75eea2ef-7e0e-4478-a6c0-9431d0305a55",
   "metadata": {},
   "outputs": [
    {
     "data": {
      "application/vnd.plotly.v1+json": {
       "config": {
        "plotlyServerURL": "https://plot.ly"
       },
       "data": [
        {
         "mode": "lines",
         "name": "Apple mango",
         "type": "scatter",
         "x": [
          "Stage 1",
          "Stage 2",
          "Stage 3",
          "Stage 4",
          "Stage 5"
         ],
         "y": [
          5.56,
          27.31,
          36.91,
          53.8,
          111.53
         ]
        },
        {
         "mode": "lines",
         "name": "Asante",
         "type": "scatter",
         "x": [
          "Stage 1",
          "Stage 2",
          "Stage 3",
          "Stage 4",
          "Stage 5"
         ],
         "y": [
          8.66,
          26.76,
          35.47,
          53.58,
          113.7
         ]
        },
        {
         "mode": "lines",
         "name": "Batawi",
         "type": "scatter",
         "x": [
          "Stage 1",
          "Stage 2",
          "Stage 3",
          "Stage 4",
          "Stage 5"
         ],
         "y": [
          8.69,
          26.81,
          41.73,
          67.74,
          109.39
         ]
        },
        {
         "mode": "lines",
         "name": "Bire",
         "type": "scatter",
         "x": [
          "Stage 1",
          "Stage 2",
          "Stage 3",
          "Stage 4",
          "Stage 5"
         ],
         "y": [
          9.47,
          27.62,
          42.55,
          51.54,
          101.08
         ]
        },
        {
         "mode": "lines",
         "name": "Boribo",
         "type": "scatter",
         "x": [
          "Stage 1",
          "Stage 2",
          "Stage 3",
          "Stage 4",
          "Stage 5"
         ],
         "y": [
          8.68,
          25.83,
          43.1,
          72.48,
          112.77
         ]
        },
        {
         "mode": "lines",
         "name": "Doodo",
         "type": "scatter",
         "x": [
          "Stage 1",
          "Stage 2",
          "Stage 3",
          "Stage 4",
          "Stage 5"
         ],
         "y": [
          8.01,
          28.73,
          35.45,
          46.1,
          111.63
         ]
        },
        {
         "mode": "lines",
         "name": "Kagoogwa",
         "type": "scatter",
         "x": [
          "Stage 1",
          "Stage 2",
          "Stage 3",
          "Stage 4",
          "Stage 5"
         ],
         "y": [
          6.46,
          23.6,
          36.49,
          66.39,
          110.34
         ]
        },
        {
         "mode": "lines",
         "name": "Koona",
         "type": "scatter",
         "x": [
          "Stage 1",
          "Stage 2",
          "Stage 3",
          "Stage 4",
          "Stage 5"
         ],
         "y": [
          9.31,
          20.92,
          29.08,
          65.47,
          109.42
         ]
        },
        {
         "mode": "lines",
         "name": "Mabbere",
         "type": "scatter",
         "x": [
          "Stage 1",
          "Stage 2",
          "Stage 3",
          "Stage 4",
          "Stage 5"
         ],
         "y": [
          5.58,
          20.61,
          29.32,
          57.1,
          103.33
         ]
        },
        {
         "mode": "lines",
         "name": "Sayuni",
         "type": "scatter",
         "x": [
          "Stage 1",
          "Stage 2",
          "Stage 3",
          "Stage 4",
          "Stage 5"
         ],
         "y": [
          9.29,
          25.57,
          34.53,
          72.76,
          104.31
         ]
        },
        {
         "mode": "lines",
         "name": "Ssejjembe",
         "type": "scatter",
         "x": [
          "Stage 1",
          "Stage 2",
          "Stage 3",
          "Stage 4",
          "Stage 5"
         ],
         "y": [
          8.52,
          26.79,
          37.34,
          66.31,
          101.55
         ]
        },
        {
         "mode": "lines",
         "name": "Takataka",
         "type": "scatter",
         "x": [
          "Stage 1",
          "Stage 2",
          "Stage 3",
          "Stage 4",
          "Stage 5"
         ],
         "y": [
          6.18,
          25.8,
          36.72,
          85.69,
          112.22
         ]
        },
        {
         "mode": "lines",
         "name": "Kakule",
         "type": "scatter",
         "x": [
          "Stage 1",
          "Stage 2",
          "Stage 3",
          "Stage 4",
          "Stage 5"
         ],
         "y": [
          8.5,
          27.25,
          34.26,
          68.66,
          142.17
         ]
        },
        {
         "mode": "lines",
         "name": "Duncan",
         "type": "scatter",
         "x": [
          "Stage 1",
          "Stage 2",
          "Stage 3",
          "Stage 4",
          "Stage 5"
         ],
         "y": [
          8.46,
          28.18,
          38.35,
          70.39,
          105.43
         ]
        },
        {
         "mode": "lines",
         "name": "Fairchild",
         "type": "scatter",
         "x": [
          "Stage 1",
          "Stage 2",
          "Stage 3",
          "Stage 4",
          "Stage 5"
         ],
         "y": [
          7.54,
          20.58,
          36.64,
          44.27,
          113.53
         ]
        },
        {
         "mode": "lines",
         "name": "Julie",
         "type": "scatter",
         "x": [
          "Stage 1",
          "Stage 2",
          "Stage 3",
          "Stage 4",
          "Stage 5"
         ],
         "y": [
          5.66,
          27.28,
          38.26,
          77.37,
          97.43
         ]
        },
        {
         "mode": "lines",
         "name": "Kapisa",
         "type": "scatter",
         "x": [
          "Stage 1",
          "Stage 2",
          "Stage 3",
          "Stage 4",
          "Stage 5"
         ],
         "y": [
          6.37,
          27.68,
          34.53,
          69.19,
          135.63
         ]
        },
        {
         "mode": "lines",
         "name": "Kent",
         "type": "scatter",
         "x": [
          "Stage 1",
          "Stage 2",
          "Stage 3",
          "Stage 4",
          "Stage 5"
         ],
         "y": [
          7.52,
          24.41,
          37.44,
          71.48,
          111.69
         ]
        },
        {
         "mode": "lines",
         "name": "Palmer",
         "type": "scatter",
         "x": [
          "Stage 1",
          "Stage 2",
          "Stage 3",
          "Stage 4",
          "Stage 5"
         ],
         "y": [
          5.63,
          19.48,
          22.84,
          56.3,
          109.07
         ]
        },
        {
         "mode": "lines",
         "name": "Ponde",
         "type": "scatter",
         "x": [
          "Stage 1",
          "Stage 2",
          "Stage 3",
          "Stage 4",
          "Stage 5"
         ],
         "y": [
          5.02,
          20.37,
          31.29,
          67.85,
          108.59
         ]
        },
        {
         "mode": "lines",
         "name": "Seena",
         "type": "scatter",
         "x": [
          "Stage 1",
          "Stage 2",
          "Stage 3",
          "Stage 4",
          "Stage 5"
         ],
         "y": [
          7.42,
          27.83,
          36.56,
          68.53,
          105.91
         ]
        },
        {
         "mode": "lines",
         "name": "Tommy atkin",
         "type": "scatter",
         "x": [
          "Stage 1",
          "Stage 2",
          "Stage 3",
          "Stage 4",
          "Stage 5"
         ],
         "y": [
          6.93,
          28.58,
          37.83,
          83.54,
          97.25
         ]
        }
       ],
       "layout": {
        "autosize": true,
        "template": {
         "data": {
          "bar": [
           {
            "error_x": {
             "color": "#2a3f5f"
            },
            "error_y": {
             "color": "#2a3f5f"
            },
            "marker": {
             "line": {
              "color": "#E5ECF6",
              "width": 0.5
             },
             "pattern": {
              "fillmode": "overlay",
              "size": 10,
              "solidity": 0.2
             }
            },
            "type": "bar"
           }
          ],
          "barpolar": [
           {
            "marker": {
             "line": {
              "color": "#E5ECF6",
              "width": 0.5
             },
             "pattern": {
              "fillmode": "overlay",
              "size": 10,
              "solidity": 0.2
             }
            },
            "type": "barpolar"
           }
          ],
          "carpet": [
           {
            "aaxis": {
             "endlinecolor": "#2a3f5f",
             "gridcolor": "white",
             "linecolor": "white",
             "minorgridcolor": "white",
             "startlinecolor": "#2a3f5f"
            },
            "baxis": {
             "endlinecolor": "#2a3f5f",
             "gridcolor": "white",
             "linecolor": "white",
             "minorgridcolor": "white",
             "startlinecolor": "#2a3f5f"
            },
            "type": "carpet"
           }
          ],
          "choropleth": [
           {
            "colorbar": {
             "outlinewidth": 0,
             "ticks": ""
            },
            "type": "choropleth"
           }
          ],
          "contour": [
           {
            "colorbar": {
             "outlinewidth": 0,
             "ticks": ""
            },
            "colorscale": [
             [
              0,
              "#0d0887"
             ],
             [
              0.1111111111111111,
              "#46039f"
             ],
             [
              0.2222222222222222,
              "#7201a8"
             ],
             [
              0.3333333333333333,
              "#9c179e"
             ],
             [
              0.4444444444444444,
              "#bd3786"
             ],
             [
              0.5555555555555556,
              "#d8576b"
             ],
             [
              0.6666666666666666,
              "#ed7953"
             ],
             [
              0.7777777777777778,
              "#fb9f3a"
             ],
             [
              0.8888888888888888,
              "#fdca26"
             ],
             [
              1,
              "#f0f921"
             ]
            ],
            "type": "contour"
           }
          ],
          "contourcarpet": [
           {
            "colorbar": {
             "outlinewidth": 0,
             "ticks": ""
            },
            "type": "contourcarpet"
           }
          ],
          "heatmap": [
           {
            "colorbar": {
             "outlinewidth": 0,
             "ticks": ""
            },
            "colorscale": [
             [
              0,
              "#0d0887"
             ],
             [
              0.1111111111111111,
              "#46039f"
             ],
             [
              0.2222222222222222,
              "#7201a8"
             ],
             [
              0.3333333333333333,
              "#9c179e"
             ],
             [
              0.4444444444444444,
              "#bd3786"
             ],
             [
              0.5555555555555556,
              "#d8576b"
             ],
             [
              0.6666666666666666,
              "#ed7953"
             ],
             [
              0.7777777777777778,
              "#fb9f3a"
             ],
             [
              0.8888888888888888,
              "#fdca26"
             ],
             [
              1,
              "#f0f921"
             ]
            ],
            "type": "heatmap"
           }
          ],
          "heatmapgl": [
           {
            "colorbar": {
             "outlinewidth": 0,
             "ticks": ""
            },
            "colorscale": [
             [
              0,
              "#0d0887"
             ],
             [
              0.1111111111111111,
              "#46039f"
             ],
             [
              0.2222222222222222,
              "#7201a8"
             ],
             [
              0.3333333333333333,
              "#9c179e"
             ],
             [
              0.4444444444444444,
              "#bd3786"
             ],
             [
              0.5555555555555556,
              "#d8576b"
             ],
             [
              0.6666666666666666,
              "#ed7953"
             ],
             [
              0.7777777777777778,
              "#fb9f3a"
             ],
             [
              0.8888888888888888,
              "#fdca26"
             ],
             [
              1,
              "#f0f921"
             ]
            ],
            "type": "heatmapgl"
           }
          ],
          "histogram": [
           {
            "marker": {
             "pattern": {
              "fillmode": "overlay",
              "size": 10,
              "solidity": 0.2
             }
            },
            "type": "histogram"
           }
          ],
          "histogram2d": [
           {
            "colorbar": {
             "outlinewidth": 0,
             "ticks": ""
            },
            "colorscale": [
             [
              0,
              "#0d0887"
             ],
             [
              0.1111111111111111,
              "#46039f"
             ],
             [
              0.2222222222222222,
              "#7201a8"
             ],
             [
              0.3333333333333333,
              "#9c179e"
             ],
             [
              0.4444444444444444,
              "#bd3786"
             ],
             [
              0.5555555555555556,
              "#d8576b"
             ],
             [
              0.6666666666666666,
              "#ed7953"
             ],
             [
              0.7777777777777778,
              "#fb9f3a"
             ],
             [
              0.8888888888888888,
              "#fdca26"
             ],
             [
              1,
              "#f0f921"
             ]
            ],
            "type": "histogram2d"
           }
          ],
          "histogram2dcontour": [
           {
            "colorbar": {
             "outlinewidth": 0,
             "ticks": ""
            },
            "colorscale": [
             [
              0,
              "#0d0887"
             ],
             [
              0.1111111111111111,
              "#46039f"
             ],
             [
              0.2222222222222222,
              "#7201a8"
             ],
             [
              0.3333333333333333,
              "#9c179e"
             ],
             [
              0.4444444444444444,
              "#bd3786"
             ],
             [
              0.5555555555555556,
              "#d8576b"
             ],
             [
              0.6666666666666666,
              "#ed7953"
             ],
             [
              0.7777777777777778,
              "#fb9f3a"
             ],
             [
              0.8888888888888888,
              "#fdca26"
             ],
             [
              1,
              "#f0f921"
             ]
            ],
            "type": "histogram2dcontour"
           }
          ],
          "mesh3d": [
           {
            "colorbar": {
             "outlinewidth": 0,
             "ticks": ""
            },
            "type": "mesh3d"
           }
          ],
          "parcoords": [
           {
            "line": {
             "colorbar": {
              "outlinewidth": 0,
              "ticks": ""
             }
            },
            "type": "parcoords"
           }
          ],
          "pie": [
           {
            "automargin": true,
            "type": "pie"
           }
          ],
          "scatter": [
           {
            "fillpattern": {
             "fillmode": "overlay",
             "size": 10,
             "solidity": 0.2
            },
            "type": "scatter"
           }
          ],
          "scatter3d": [
           {
            "line": {
             "colorbar": {
              "outlinewidth": 0,
              "ticks": ""
             }
            },
            "marker": {
             "colorbar": {
              "outlinewidth": 0,
              "ticks": ""
             }
            },
            "type": "scatter3d"
           }
          ],
          "scattercarpet": [
           {
            "marker": {
             "colorbar": {
              "outlinewidth": 0,
              "ticks": ""
             }
            },
            "type": "scattercarpet"
           }
          ],
          "scattergeo": [
           {
            "marker": {
             "colorbar": {
              "outlinewidth": 0,
              "ticks": ""
             }
            },
            "type": "scattergeo"
           }
          ],
          "scattergl": [
           {
            "marker": {
             "colorbar": {
              "outlinewidth": 0,
              "ticks": ""
             }
            },
            "type": "scattergl"
           }
          ],
          "scattermapbox": [
           {
            "marker": {
             "colorbar": {
              "outlinewidth": 0,
              "ticks": ""
             }
            },
            "type": "scattermapbox"
           }
          ],
          "scatterpolar": [
           {
            "marker": {
             "colorbar": {
              "outlinewidth": 0,
              "ticks": ""
             }
            },
            "type": "scatterpolar"
           }
          ],
          "scatterpolargl": [
           {
            "marker": {
             "colorbar": {
              "outlinewidth": 0,
              "ticks": ""
             }
            },
            "type": "scatterpolargl"
           }
          ],
          "scatterternary": [
           {
            "marker": {
             "colorbar": {
              "outlinewidth": 0,
              "ticks": ""
             }
            },
            "type": "scatterternary"
           }
          ],
          "surface": [
           {
            "colorbar": {
             "outlinewidth": 0,
             "ticks": ""
            },
            "colorscale": [
             [
              0,
              "#0d0887"
             ],
             [
              0.1111111111111111,
              "#46039f"
             ],
             [
              0.2222222222222222,
              "#7201a8"
             ],
             [
              0.3333333333333333,
              "#9c179e"
             ],
             [
              0.4444444444444444,
              "#bd3786"
             ],
             [
              0.5555555555555556,
              "#d8576b"
             ],
             [
              0.6666666666666666,
              "#ed7953"
             ],
             [
              0.7777777777777778,
              "#fb9f3a"
             ],
             [
              0.8888888888888888,
              "#fdca26"
             ],
             [
              1,
              "#f0f921"
             ]
            ],
            "type": "surface"
           }
          ],
          "table": [
           {
            "cells": {
             "fill": {
              "color": "#EBF0F8"
             },
             "line": {
              "color": "white"
             }
            },
            "header": {
             "fill": {
              "color": "#C8D4E3"
             },
             "line": {
              "color": "white"
             }
            },
            "type": "table"
           }
          ]
         },
         "layout": {
          "annotationdefaults": {
           "arrowcolor": "#2a3f5f",
           "arrowhead": 0,
           "arrowwidth": 1
          },
          "autotypenumbers": "strict",
          "coloraxis": {
           "colorbar": {
            "outlinewidth": 0,
            "ticks": ""
           }
          },
          "colorscale": {
           "diverging": [
            [
             0,
             "#8e0152"
            ],
            [
             0.1,
             "#c51b7d"
            ],
            [
             0.2,
             "#de77ae"
            ],
            [
             0.3,
             "#f1b6da"
            ],
            [
             0.4,
             "#fde0ef"
            ],
            [
             0.5,
             "#f7f7f7"
            ],
            [
             0.6,
             "#e6f5d0"
            ],
            [
             0.7,
             "#b8e186"
            ],
            [
             0.8,
             "#7fbc41"
            ],
            [
             0.9,
             "#4d9221"
            ],
            [
             1,
             "#276419"
            ]
           ],
           "sequential": [
            [
             0,
             "#0d0887"
            ],
            [
             0.1111111111111111,
             "#46039f"
            ],
            [
             0.2222222222222222,
             "#7201a8"
            ],
            [
             0.3333333333333333,
             "#9c179e"
            ],
            [
             0.4444444444444444,
             "#bd3786"
            ],
            [
             0.5555555555555556,
             "#d8576b"
            ],
            [
             0.6666666666666666,
             "#ed7953"
            ],
            [
             0.7777777777777778,
             "#fb9f3a"
            ],
            [
             0.8888888888888888,
             "#fdca26"
            ],
            [
             1,
             "#f0f921"
            ]
           ],
           "sequentialminus": [
            [
             0,
             "#0d0887"
            ],
            [
             0.1111111111111111,
             "#46039f"
            ],
            [
             0.2222222222222222,
             "#7201a8"
            ],
            [
             0.3333333333333333,
             "#9c179e"
            ],
            [
             0.4444444444444444,
             "#bd3786"
            ],
            [
             0.5555555555555556,
             "#d8576b"
            ],
            [
             0.6666666666666666,
             "#ed7953"
            ],
            [
             0.7777777777777778,
             "#fb9f3a"
            ],
            [
             0.8888888888888888,
             "#fdca26"
            ],
            [
             1,
             "#f0f921"
            ]
           ]
          },
          "colorway": [
           "#636efa",
           "#EF553B",
           "#00cc96",
           "#ab63fa",
           "#FFA15A",
           "#19d3f3",
           "#FF6692",
           "#B6E880",
           "#FF97FF",
           "#FECB52"
          ],
          "font": {
           "color": "#2a3f5f"
          },
          "geo": {
           "bgcolor": "white",
           "lakecolor": "white",
           "landcolor": "#E5ECF6",
           "showlakes": true,
           "showland": true,
           "subunitcolor": "white"
          },
          "hoverlabel": {
           "align": "left"
          },
          "hovermode": "closest",
          "mapbox": {
           "style": "light"
          },
          "paper_bgcolor": "white",
          "plot_bgcolor": "#E5ECF6",
          "polar": {
           "angularaxis": {
            "gridcolor": "white",
            "linecolor": "white",
            "ticks": ""
           },
           "bgcolor": "#E5ECF6",
           "radialaxis": {
            "gridcolor": "white",
            "linecolor": "white",
            "ticks": ""
           }
          },
          "scene": {
           "xaxis": {
            "backgroundcolor": "#E5ECF6",
            "gridcolor": "white",
            "gridwidth": 2,
            "linecolor": "white",
            "showbackground": true,
            "ticks": "",
            "zerolinecolor": "white"
           },
           "yaxis": {
            "backgroundcolor": "#E5ECF6",
            "gridcolor": "white",
            "gridwidth": 2,
            "linecolor": "white",
            "showbackground": true,
            "ticks": "",
            "zerolinecolor": "white"
           },
           "zaxis": {
            "backgroundcolor": "#E5ECF6",
            "gridcolor": "white",
            "gridwidth": 2,
            "linecolor": "white",
            "showbackground": true,
            "ticks": "",
            "zerolinecolor": "white"
           }
          },
          "shapedefaults": {
           "line": {
            "color": "#2a3f5f"
           }
          },
          "ternary": {
           "aaxis": {
            "gridcolor": "white",
            "linecolor": "white",
            "ticks": ""
           },
           "baxis": {
            "gridcolor": "white",
            "linecolor": "white",
            "ticks": ""
           },
           "bgcolor": "#E5ECF6",
           "caxis": {
            "gridcolor": "white",
            "linecolor": "white",
            "ticks": ""
           }
          },
          "title": {
           "x": 0.05
          },
          "xaxis": {
           "automargin": true,
           "gridcolor": "white",
           "linecolor": "white",
           "ticks": "",
           "title": {
            "standoff": 15
           },
           "zerolinecolor": "white",
           "zerolinewidth": 2
          },
          "yaxis": {
           "automargin": true,
           "gridcolor": "white",
           "linecolor": "white",
           "ticks": "",
           "title": {
            "standoff": 15
           },
           "zerolinecolor": "white",
           "zerolinewidth": 2
          }
         }
        },
        "title": {
         "text": "Variation of Total Carotenoids for Each Mango Variety in Peel"
        },
        "xaxis": {
         "autorange": true,
         "range": [
          0,
          4
         ],
         "title": {
          "text": "Ripening Stage"
         },
         "type": "category"
        },
        "yaxis": {
         "autorange": true,
         "dtick": 10,
         "range": [
          -2.599444444444443,
          149.78944444444443
         ],
         "tick0": 0,
         "title": {
          "text": "Peel"
         },
         "type": "linear"
        }
       }
      },
      "image/png": "[encoded data removed]",
      "text/html": [
       "<div>                            <div id=\"54380fbd-257d-4437-9ef7-ab0aa43ff5e6\" class=\"plotly-graph-div\" style=\"height:525px; width:100%;\"></div>            <script type=\"text/javascript\">                require([\"plotly\"], function(Plotly) {                    window.PLOTLYENV=window.PLOTLYENV || {};                                    if (document.getElementById(\"54380fbd-257d-4437-9ef7-ab0aa43ff5e6\")) {                    Plotly.newPlot(                        \"54380fbd-257d-4437-9ef7-ab0aa43ff5e6\",                        [{\"mode\":\"lines\",\"name\":\"Apple mango\",\"x\":[\"Stage 1\",\"Stage 2\",\"Stage 3\",\"Stage 4\",\"Stage 5\"],\"y\":[5.56,27.31,36.91,53.8,111.53],\"type\":\"scatter\"},{\"mode\":\"lines\",\"name\":\"Asante\",\"x\":[\"Stage 1\",\"Stage 2\",\"Stage 3\",\"Stage 4\",\"Stage 5\"],\"y\":[8.66,26.76,35.47,53.58,113.7],\"type\":\"scatter\"},{\"mode\":\"lines\",\"name\":\"Batawi\",\"x\":[\"Stage 1\",\"Stage 2\",\"Stage 3\",\"Stage 4\",\"Stage 5\"],\"y\":[8.69,26.81,41.73,67.74,109.39],\"type\":\"scatter\"},{\"mode\":\"lines\",\"name\":\"Bire\",\"x\":[\"Stage 1\",\"Stage 2\",\"Stage 3\",\"Stage 4\",\"Stage 5\"],\"y\":[9.47,27.62,42.55,51.54,101.08],\"type\":\"scatter\"},{\"mode\":\"lines\",\"name\":\"Boribo\",\"x\":[\"Stage 1\",\"Stage 2\",\"Stage 3\",\"Stage 4\",\"Stage 5\"],\"y\":[8.68,25.83,43.1,72.48,112.77],\"type\":\"scatter\"},{\"mode\":\"lines\",\"name\":\"Doodo\",\"x\":[\"Stage 1\",\"Stage 2\",\"Stage 3\",\"Stage 4\",\"Stage 5\"],\"y\":[8.01,28.73,35.45,46.1,111.63],\"type\":\"scatter\"},{\"mode\":\"lines\",\"name\":\"Kagoogwa\",\"x\":[\"Stage 1\",\"Stage 2\",\"Stage 3\",\"Stage 4\",\"Stage 5\"],\"y\":[6.46,23.6,36.49,66.39,110.34],\"type\":\"scatter\"},{\"mode\":\"lines\",\"name\":\"Koona\",\"x\":[\"Stage 1\",\"Stage 2\",\"Stage 3\",\"Stage 4\",\"Stage 5\"],\"y\":[9.31,20.92,29.08,65.47,109.42],\"type\":\"scatter\"},{\"mode\":\"lines\",\"name\":\"Mabbere\",\"x\":[\"Stage 1\",\"Stage 2\",\"Stage 3\",\"Stage 4\",\"Stage 5\"],\"y\":[5.58,20.61,29.32,57.1,103.33],\"type\":\"scatter\"},{\"mode\":\"lines\",\"name\":\"Sayuni\",\"x\":[\"Stage 1\",\"Stage 2\",\"Stage 3\",\"Stage 4\",\"Stage 5\"],\"y\":[9.29,25.57,34.53,72.76,104.31],\"type\":\"scatter\"},{\"mode\":\"lines\",\"name\":\"Ssejjembe\",\"x\":[\"Stage 1\",\"Stage 2\",\"Stage 3\",\"Stage 4\",\"Stage 5\"],\"y\":[8.52,26.79,37.34,66.31,101.55],\"type\":\"scatter\"},{\"mode\":\"lines\",\"name\":\"Takataka\",\"x\":[\"Stage 1\",\"Stage 2\",\"Stage 3\",\"Stage 4\",\"Stage 5\"],\"y\":[6.18,25.8,36.72,85.69,112.22],\"type\":\"scatter\"},{\"mode\":\"lines\",\"name\":\"Kakule\",\"x\":[\"Stage 1\",\"Stage 2\",\"Stage 3\",\"Stage 4\",\"Stage 5\"],\"y\":[8.5,27.25,34.26,68.66,142.17],\"type\":\"scatter\"},{\"mode\":\"lines\",\"name\":\"Duncan\",\"x\":[\"Stage 1\",\"Stage 2\",\"Stage 3\",\"Stage 4\",\"Stage 5\"],\"y\":[8.46,28.18,38.35,70.39,105.43],\"type\":\"scatter\"},{\"mode\":\"lines\",\"name\":\"Fairchild\",\"x\":[\"Stage 1\",\"Stage 2\",\"Stage 3\",\"Stage 4\",\"Stage 5\"],\"y\":[7.54,20.58,36.64,44.27,113.53],\"type\":\"scatter\"},{\"mode\":\"lines\",\"name\":\"Julie\",\"x\":[\"Stage 1\",\"Stage 2\",\"Stage 3\",\"Stage 4\",\"Stage 5\"],\"y\":[5.66,27.28,38.26,77.37,97.43],\"type\":\"scatter\"},{\"mode\":\"lines\",\"name\":\"Kapisa\",\"x\":[\"Stage 1\",\"Stage 2\",\"Stage 3\",\"Stage 4\",\"Stage 5\"],\"y\":[6.37,27.68,34.53,69.19,135.63],\"type\":\"scatter\"},{\"mode\":\"lines\",\"name\":\"Kent\",\"x\":[\"Stage 1\",\"Stage 2\",\"Stage 3\",\"Stage 4\",\"Stage 5\"],\"y\":[7.52,24.41,37.44,71.48,111.69],\"type\":\"scatter\"},{\"mode\":\"lines\",\"name\":\"Palmer\",\"x\":[\"Stage 1\",\"Stage 2\",\"Stage 3\",\"Stage 4\",\"Stage 5\"],\"y\":[5.63,19.48,22.84,56.3,109.07],\"type\":\"scatter\"},{\"mode\":\"lines\",\"name\":\"Ponde\",\"x\":[\"Stage 1\",\"Stage 2\",\"Stage 3\",\"Stage 4\",\"Stage 5\"],\"y\":[5.02,20.37,31.29,67.85,108.59],\"type\":\"scatter\"},{\"mode\":\"lines\",\"name\":\"Seena\",\"x\":[\"Stage 1\",\"Stage 2\",\"Stage 3\",\"Stage 4\",\"Stage 5\"],\"y\":[7.42,27.83,36.56,68.53,105.91],\"type\":\"scatter\"},{\"mode\":\"lines\",\"name\":\"Tommy atkin\",\"x\":[\"Stage 1\",\"Stage 2\",\"Stage 3\",\"Stage 4\",\"Stage 5\"],\"y\":[6.93,28.58,37.83,83.54,97.25],\"type\":\"scatter\"}],                        {\"title\":{\"text\":\"Variation of Total Carotenoids for Each Mango Variety in Peel\"},\"xaxis\":{\"title\":{\"text\":\"Ripening Stage\"}},\"yaxis\":{\"dtick\":10,\"tick0\":0,\"title\":{\"text\":\"Peel\"}},\"template\":{\"data\":{\"histogram2dcontour\":[{\"type\":\"histogram2dcontour\",\"colorbar\":{\"outlinewidth\":0,\"ticks\":\"\"},\"colorscale\":[[0.0,\"#0d0887\"],[0.1111111111111111,\"#46039f\"],[0.2222222222222222,\"#7201a8\"],[0.3333333333333333,\"#9c179e\"],[0.4444444444444444,\"#bd3786\"],[0.5555555555555556,\"#d8576b\"],[0.6666666666666666,\"#ed7953\"],[0.7777777777777778,\"#fb9f3a\"],[0.8888888888888888,\"#fdca26\"],[1.0,\"#f0f921\"]]}],\"choropleth\":[{\"type\":\"choropleth\",\"colorbar\":{\"outlinewidth\":0,\"ticks\":\"\"}}],\"histogram2d\":[{\"type\":\"histogram2d\",\"colorbar\":{\"outlinewidth\":0,\"ticks\":\"\"},\"colorscale\":[[0.0,\"#0d0887\"],[0.1111111111111111,\"#46039f\"],[0.2222222222222222,\"#7201a8\"],[0.3333333333333333,\"#9c179e\"],[0.4444444444444444,\"#bd3786\"],[0.5555555555555556,\"#d8576b\"],[0.6666666666666666,\"#ed7953\"],[0.7777777777777778,\"#fb9f3a\"],[0.8888888888888888,\"#fdca26\"],[1.0,\"#f0f921\"]]}],\"heatmap\":[{\"type\":\"heatmap\",\"colorbar\":{\"outlinewidth\":0,\"ticks\":\"\"},\"colorscale\":[[0.0,\"#0d0887\"],[0.1111111111111111,\"#46039f\"],[0.2222222222222222,\"#7201a8\"],[0.3333333333333333,\"#9c179e\"],[0.4444444444444444,\"#bd3786\"],[0.5555555555555556,\"#d8576b\"],[0.6666666666666666,\"#ed7953\"],[0.7777777777777778,\"#fb9f3a\"],[0.8888888888888888,\"#fdca26\"],[1.0,\"#f0f921\"]]}],\"heatmapgl\":[{\"type\":\"heatmapgl\",\"colorbar\":{\"outlinewidth\":0,\"ticks\":\"\"},\"colorscale\":[[0.0,\"#0d0887\"],[0.1111111111111111,\"#46039f\"],[0.2222222222222222,\"#7201a8\"],[0.3333333333333333,\"#9c179e\"],[0.4444444444444444,\"#bd3786\"],[0.5555555555555556,\"#d8576b\"],[0.6666666666666666,\"#ed7953\"],[0.7777777777777778,\"#fb9f3a\"],[0.8888888888888888,\"#fdca26\"],[1.0,\"#f0f921\"]]}],\"contourcarpet\":[{\"type\":\"contourcarpet\",\"colorbar\":{\"outlinewidth\":0,\"ticks\":\"\"}}],\"contour\":[{\"type\":\"contour\",\"colorbar\":{\"outlinewidth\":0,\"ticks\":\"\"},\"colorscale\":[[0.0,\"#0d0887\"],[0.1111111111111111,\"#46039f\"],[0.2222222222222222,\"#7201a8\"],[0.3333333333333333,\"#9c179e\"],[0.4444444444444444,\"#bd3786\"],[0.5555555555555556,\"#d8576b\"],[0.6666666666666666,\"#ed7953\"],[0.7777777777777778,\"#fb9f3a\"],[0.8888888888888888,\"#fdca26\"],[1.0,\"#f0f921\"]]}],\"surface\":[{\"type\":\"surface\",\"colorbar\":{\"outlinewidth\":0,\"ticks\":\"\"},\"colorscale\":[[0.0,\"#0d0887\"],[0.1111111111111111,\"#46039f\"],[0.2222222222222222,\"#7201a8\"],[0.3333333333333333,\"#9c179e\"],[0.4444444444444444,\"#bd3786\"],[0.5555555555555556,\"#d8576b\"],[0.6666666666666666,\"#ed7953\"],[0.7777777777777778,\"#fb9f3a\"],[0.8888888888888888,\"#fdca26\"],[1.0,\"#f0f921\"]]}],\"mesh3d\":[{\"type\":\"mesh3d\",\"colorbar\":{\"outlinewidth\":0,\"ticks\":\"\"}}],\"scatter\":[{\"fillpattern\":{\"fillmode\":\"overlay\",\"size\":10,\"solidity\":0.2},\"type\":\"scatter\"}],\"parcoords\":[{\"type\":\"parcoords\",\"line\":{\"colorbar\":{\"outlinewidth\":0,\"ticks\":\"\"}}}],\"scatterpolargl\":[{\"type\":\"scatterpolargl\",\"marker\":{\"colorbar\":{\"outlinewidth\":0,\"ticks\":\"\"}}}],\"bar\":[{\"error_x\":{\"color\":\"#2a3f5f\"},\"error_y\":{\"color\":\"#2a3f5f\"},\"marker\":{\"line\":{\"color\":\"#E5ECF6\",\"width\":0.5},\"pattern\":{\"fillmode\":\"overlay\",\"size\":10,\"solidity\":0.2}},\"type\":\"bar\"}],\"scattergeo\":[{\"type\":\"scattergeo\",\"marker\":{\"colorbar\":{\"outlinewidth\":0,\"ticks\":\"\"}}}],\"scatterpolar\":[{\"type\":\"scatterpolar\",\"marker\":{\"colorbar\":{\"outlinewidth\":0,\"ticks\":\"\"}}}],\"histogram\":[{\"marker\":{\"pattern\":{\"fillmode\":\"overlay\",\"size\":10,\"solidity\":0.2}},\"type\":\"histogram\"}],\"scattergl\":[{\"type\":\"scattergl\",\"marker\":{\"colorbar\":{\"outlinewidth\":0,\"ticks\":\"\"}}}],\"scatter3d\":[{\"type\":\"scatter3d\",\"line\":{\"colorbar\":{\"outlinewidth\":0,\"ticks\":\"\"}},\"marker\":{\"colorbar\":{\"outlinewidth\":0,\"ticks\":\"\"}}}],\"scattermapbox\":[{\"type\":\"scattermapbox\",\"marker\":{\"colorbar\":{\"outlinewidth\":0,\"ticks\":\"\"}}}],\"scatterternary\":[{\"type\":\"scatterternary\",\"marker\":{\"colorbar\":{\"outlinewidth\":0,\"ticks\":\"\"}}}],\"scattercarpet\":[{\"type\":\"scattercarpet\",\"marker\":{\"colorbar\":{\"outlinewidth\":0,\"ticks\":\"\"}}}],\"carpet\":[{\"aaxis\":{\"endlinecolor\":\"#2a3f5f\",\"gridcolor\":\"white\",\"linecolor\":\"white\",\"minorgridcolor\":\"white\",\"startlinecolor\":\"#2a3f5f\"},\"baxis\":{\"endlinecolor\":\"#2a3f5f\",\"gridcolor\":\"white\",\"linecolor\":\"white\",\"minorgridcolor\":\"white\",\"startlinecolor\":\"#2a3f5f\"},\"type\":\"carpet\"}],\"table\":[{\"cells\":{\"fill\":{\"color\":\"#EBF0F8\"},\"line\":{\"color\":\"white\"}},\"header\":{\"fill\":{\"color\":\"#C8D4E3\"},\"line\":{\"color\":\"white\"}},\"type\":\"table\"}],\"barpolar\":[{\"marker\":{\"line\":{\"color\":\"#E5ECF6\",\"width\":0.5},\"pattern\":{\"fillmode\":\"overlay\",\"size\":10,\"solidity\":0.2}},\"type\":\"barpolar\"}],\"pie\":[{\"automargin\":true,\"type\":\"pie\"}]},\"layout\":{\"autotypenumbers\":\"strict\",\"colorway\":[\"#636efa\",\"#EF553B\",\"#00cc96\",\"#ab63fa\",\"#FFA15A\",\"#19d3f3\",\"#FF6692\",\"#B6E880\",\"#FF97FF\",\"#FECB52\"],\"font\":{\"color\":\"#2a3f5f\"},\"hovermode\":\"closest\",\"hoverlabel\":{\"align\":\"left\"},\"paper_bgcolor\":\"white\",\"plot_bgcolor\":\"#E5ECF6\",\"polar\":{\"bgcolor\":\"#E5ECF6\",\"angularaxis\":{\"gridcolor\":\"white\",\"linecolor\":\"white\",\"ticks\":\"\"},\"radialaxis\":{\"gridcolor\":\"white\",\"linecolor\":\"white\",\"ticks\":\"\"}},\"ternary\":{\"bgcolor\":\"#E5ECF6\",\"aaxis\":{\"gridcolor\":\"white\",\"linecolor\":\"white\",\"ticks\":\"\"},\"baxis\":{\"gridcolor\":\"white\",\"linecolor\":\"white\",\"ticks\":\"\"},\"caxis\":{\"gridcolor\":\"white\",\"linecolor\":\"white\",\"ticks\":\"\"}},\"coloraxis\":{\"colorbar\":{\"outlinewidth\":0,\"ticks\":\"\"}},\"colorscale\":{\"sequential\":[[0.0,\"#0d0887\"],[0.1111111111111111,\"#46039f\"],[0.2222222222222222,\"#7201a8\"],[0.3333333333333333,\"#9c179e\"],[0.4444444444444444,\"#bd3786\"],[0.5555555555555556,\"#d8576b\"],[0.6666666666666666,\"#ed7953\"],[0.7777777777777778,\"#fb9f3a\"],[0.8888888888888888,\"#fdca26\"],[1.0,\"#f0f921\"]],\"sequentialminus\":[[0.0,\"#0d0887\"],[0.1111111111111111,\"#46039f\"],[0.2222222222222222,\"#7201a8\"],[0.3333333333333333,\"#9c179e\"],[0.4444444444444444,\"#bd3786\"],[0.5555555555555556,\"#d8576b\"],[0.6666666666666666,\"#ed7953\"],[0.7777777777777778,\"#fb9f3a\"],[0.8888888888888888,\"#fdca26\"],[1.0,\"#f0f921\"]],\"diverging\":[[0,\"#8e0152\"],[0.1,\"#c51b7d\"],[0.2,\"#de77ae\"],[0.3,\"#f1b6da\"],[0.4,\"#fde0ef\"],[0.5,\"#f7f7f7\"],[0.6,\"#e6f5d0\"],[0.7,\"#b8e186\"],[0.8,\"#7fbc41\"],[0.9,\"#4d9221\"],[1,\"#276419\"]]},\"xaxis\":{\"gridcolor\":\"white\",\"linecolor\":\"white\",\"ticks\":\"\",\"title\":{\"standoff\":15},\"zerolinecolor\":\"white\",\"automargin\":true,\"zerolinewidth\":2},\"yaxis\":{\"gridcolor\":\"white\",\"linecolor\":\"white\",\"ticks\":\"\",\"title\":{\"standoff\":15},\"zerolinecolor\":\"white\",\"automargin\":true,\"zerolinewidth\":2},\"scene\":{\"xaxis\":{\"backgroundcolor\":\"#E5ECF6\",\"gridcolor\":\"white\",\"linecolor\":\"white\",\"showbackground\":true,\"ticks\":\"\",\"zerolinecolor\":\"white\",\"gridwidth\":2},\"yaxis\":{\"backgroundcolor\":\"#E5ECF6\",\"gridcolor\":\"white\",\"linecolor\":\"white\",\"showbackground\":true,\"ticks\":\"\",\"zerolinecolor\":\"white\",\"gridwidth\":2},\"zaxis\":{\"backgroundcolor\":\"#E5ECF6\",\"gridcolor\":\"white\",\"linecolor\":\"white\",\"showbackground\":true,\"ticks\":\"\",\"zerolinecolor\":\"white\",\"gridwidth\":2}},\"shapedefaults\":{\"line\":{\"color\":\"#2a3f5f\"}},\"annotationdefaults\":{\"arrowcolor\":\"#2a3f5f\",\"arrowhead\":0,\"arrowwidth\":1},\"geo\":{\"bgcolor\":\"white\",\"landcolor\":\"#E5ECF6\",\"subunitcolor\":\"white\",\"showland\":true,\"showlakes\":true,\"lakecolor\":\"white\"},\"title\":{\"x\":0.05},\"mapbox\":{\"style\":\"light\"}}}},                        {\"responsive\": true}                    ).then(function(){\n",
       "                            \n",
       "var gd = document.getElementById('54380fbd-257d-4437-9ef7-ab0aa43ff5e6');\n",
       "var x = new MutationObserver(function (mutations, observer) {{\n",
       "        var display = window.getComputedStyle(gd).display;\n",
       "        if (!display || display === 'none') {{\n",
       "            console.log([gd, 'removed!']);\n",
       "            Plotly.purge(gd);\n",
       "            observer.disconnect();\n",
       "        }}\n",
       "}});\n",
       "\n",
       "// Listen for the removal of the full notebook cells\n",
       "var notebookContainer = gd.closest('#notebook-container');\n",
       "if (notebookContainer) {{\n",
       "    x.observe(notebookContainer, {childList: true});\n",
       "}}\n",
       "\n",
       "// Listen for the clearing of the current output cell\n",
       "var outputEl = gd.closest('.output');\n",
       "if (outputEl) {{\n",
       "    x.observe(outputEl, {childList: true});\n",
       "}}\n",
       "\n",
       "                        })                };                });            </script>        </div>"
      ]
     },
     "metadata": {},
     "output_type": "display_data"
    }
   ],
   "source": [
    "# Create traces for each mango variety\n",
    "traces = []\n",
    "for variety in data['Mango variety'].unique():\n",
    "    subset = data[data['Mango variety'] == variety]\n",
    "    trace = go.Scatter(x=subset['Ripening stage'], y=subset['Peel'], mode='lines', name=variety)\n",
    "    traces.append(trace)\n",
    "\n",
    "# Create layout\n",
    "layout = go.Layout(title='Variation of Total Carotenoids for Each Mango Variety in Peel',\n",
    "                   xaxis=dict(title='Ripening Stage'),\n",
    "                   yaxis=dict(title='Peel', tick0=0, dtick=10))\n",
    "\n",
    "# Create figure\n",
    "fig = go.Figure(data=traces, layout=layout)\n",
    "\n",
    "# Plot figure\n",
    "pio.show(fig)"
   ]
  },
  {
   "cell_type": "code",
   "execution_count": 10,
   "id": "c332a6a7-2424-4c1b-9b31-fa7c73d623d6",
   "metadata": {},
   "outputs": [
    {
     "data": {
      "application/vnd.plotly.v1+json": {
       "config": {
        "plotlyServerURL": "https://plot.ly"
       },
       "data": [
        {
         "mode": "lines",
         "name": "Apple mango",
         "type": "scatter",
         "x": [
          "Stage 1",
          "Stage 2",
          "Stage 3",
          "Stage 4",
          "Stage 5"
         ],
         "y": [
          1.78,
          9.45,
          28.46,
          48.18,
          89.13
         ]
        },
        {
         "mode": "lines",
         "name": "Asante",
         "type": "scatter",
         "x": [
          "Stage 1",
          "Stage 2",
          "Stage 3",
          "Stage 4",
          "Stage 5"
         ],
         "y": [
          1.64,
          9.07,
          22.57,
          41.12,
          83.53
         ]
        },
        {
         "mode": "lines",
         "name": "Batawi",
         "type": "scatter",
         "x": [
          "Stage 1",
          "Stage 2",
          "Stage 3",
          "Stage 4",
          "Stage 5"
         ],
         "y": [
          1.67,
          9.36,
          26.62,
          34.25,
          82.8
         ]
        },
        {
         "mode": "lines",
         "name": "Bire",
         "type": "scatter",
         "x": [
          "Stage 1",
          "Stage 2",
          "Stage 3",
          "Stage 4",
          "Stage 5"
         ],
         "y": [
          2.6,
          19.37,
          23.08,
          32.4,
          86.6
         ]
        },
        {
         "mode": "lines",
         "name": "Boribo",
         "type": "scatter",
         "x": [
          "Stage 1",
          "Stage 2",
          "Stage 3",
          "Stage 4",
          "Stage 5"
         ],
         "y": [
          1.98,
          13.54,
          22.14,
          34.98,
          79.94
         ]
        },
        {
         "mode": "lines",
         "name": "Doodo",
         "type": "scatter",
         "x": [
          "Stage 1",
          "Stage 2",
          "Stage 3",
          "Stage 4",
          "Stage 5"
         ],
         "y": [
          2.09,
          12.73,
          23.79,
          36.73,
          90.66
         ]
        },
        {
         "mode": "lines",
         "name": "Kagoogwa",
         "type": "scatter",
         "x": [
          "Stage 1",
          "Stage 2",
          "Stage 3",
          "Stage 4",
          "Stage 5"
         ],
         "y": [
          1.35,
          28.41,
          38.89,
          43.14,
          85.52
         ]
        },
        {
         "mode": "lines",
         "name": "Koona",
         "type": "scatter",
         "x": [
          "Stage 1",
          "Stage 2",
          "Stage 3",
          "Stage 4",
          "Stage 5"
         ],
         "y": [
          2.33,
          33.33,
          25.82,
          41.14,
          94.51
         ]
        },
        {
         "mode": "lines",
         "name": "Mabbere",
         "type": "scatter",
         "x": [
          "Stage 1",
          "Stage 2",
          "Stage 3",
          "Stage 4",
          "Stage 5"
         ],
         "y": [
          3.57,
          25.46,
          25.37,
          40.61,
          83.67
         ]
        },
        {
         "mode": "lines",
         "name": "Sayuni",
         "type": "scatter",
         "x": [
          "Stage 1",
          "Stage 2",
          "Stage 3",
          "Stage 4",
          "Stage 5"
         ],
         "y": [
          7.25,
          9.48,
          29.24,
          57.16,
          83.74
         ]
        },
        {
         "mode": "lines",
         "name": "Ssejjembe",
         "type": "scatter",
         "x": [
          "Stage 1",
          "Stage 2",
          "Stage 3",
          "Stage 4",
          "Stage 5"
         ],
         "y": [
          4.69,
          8.49,
          26.37,
          43.79,
          70.25
         ]
        },
        {
         "mode": "lines",
         "name": "Takataka",
         "type": "scatter",
         "x": [
          "Stage 1",
          "Stage 2",
          "Stage 3",
          "Stage 4",
          "Stage 5"
         ],
         "y": [
          4.13,
          11.23,
          28.74,
          49.4,
          70.55
         ]
        },
        {
         "mode": "lines",
         "name": "Kakule",
         "type": "scatter",
         "x": [
          "Stage 1",
          "Stage 2",
          "Stage 3",
          "Stage 4",
          "Stage 5"
         ],
         "y": [
          4.15,
          40.24,
          26.71,
          41.09,
          85.83
         ]
        },
        {
         "mode": "lines",
         "name": "Duncan",
         "type": "scatter",
         "x": [
          "Stage 1",
          "Stage 2",
          "Stage 3",
          "Stage 4",
          "Stage 5"
         ],
         "y": [
          1.33,
          13.73,
          28.75,
          34.14,
          74.8
         ]
        },
        {
         "mode": "lines",
         "name": "Fairchild",
         "type": "scatter",
         "x": [
          "Stage 1",
          "Stage 2",
          "Stage 3",
          "Stage 4",
          "Stage 5"
         ],
         "y": [
          2.32,
          12.83,
          27.34,
          37.52,
          84.6
         ]
        },
        {
         "mode": "lines",
         "name": "Julie",
         "type": "scatter",
         "x": [
          "Stage 1",
          "Stage 2",
          "Stage 3",
          "Stage 4",
          "Stage 5"
         ],
         "y": [
          1.66,
          6.09,
          28.45,
          44.47,
          70.35
         ]
        },
        {
         "mode": "lines",
         "name": "Kapisa",
         "type": "scatter",
         "x": [
          "Stage 1",
          "Stage 2",
          "Stage 3",
          "Stage 4",
          "Stage 5"
         ],
         "y": [
          1.78,
          16.46,
          28.37,
          43.59,
          95.67
         ]
        },
        {
         "mode": "lines",
         "name": "Kent",
         "type": "scatter",
         "x": [
          "Stage 1",
          "Stage 2",
          "Stage 3",
          "Stage 4",
          "Stage 5"
         ],
         "y": [
          1.69,
          35.55,
          25.41,
          40.27,
          84.07
         ]
        },
        {
         "mode": "lines",
         "name": "Palmer",
         "type": "scatter",
         "x": [
          "Stage 1",
          "Stage 2",
          "Stage 3",
          "Stage 4",
          "Stage 5"
         ],
         "y": [
          2.77,
          19.81,
          26.73,
          41.6,
          79.7
         ]
        },
        {
         "mode": "lines",
         "name": "Ponde",
         "type": "scatter",
         "x": [
          "Stage 1",
          "Stage 2",
          "Stage 3",
          "Stage 4",
          "Stage 5"
         ],
         "y": [
          3.79,
          13.29,
          29.45,
          39.55,
          85.41
         ]
        },
        {
         "mode": "lines",
         "name": "Seena",
         "type": "scatter",
         "x": [
          "Stage 1",
          "Stage 2",
          "Stage 3",
          "Stage 4",
          "Stage 5"
         ],
         "y": [
          4.16,
          7.59,
          24.42,
          38.6,
          75.16
         ]
        },
        {
         "mode": "lines",
         "name": "Tommy atkin",
         "type": "scatter",
         "x": [
          "Stage 1",
          "Stage 2",
          "Stage 3",
          "Stage 4",
          "Stage 5"
         ],
         "y": [
          3.67,
          7.64,
          19.71,
          45.86,
          84.54
         ]
        }
       ],
       "layout": {
        "autosize": true,
        "template": {
         "data": {
          "bar": [
           {
            "error_x": {
             "color": "#2a3f5f"
            },
            "error_y": {
             "color": "#2a3f5f"
            },
            "marker": {
             "line": {
              "color": "#E5ECF6",
              "width": 0.5
             },
             "pattern": {
              "fillmode": "overlay",
              "size": 10,
              "solidity": 0.2
             }
            },
            "type": "bar"
           }
          ],
          "barpolar": [
           {
            "marker": {
             "line": {
              "color": "#E5ECF6",
              "width": 0.5
             },
             "pattern": {
              "fillmode": "overlay",
              "size": 10,
              "solidity": 0.2
             }
            },
            "type": "barpolar"
           }
          ],
          "carpet": [
           {
            "aaxis": {
             "endlinecolor": "#2a3f5f",
             "gridcolor": "white",
             "linecolor": "white",
             "minorgridcolor": "white",
             "startlinecolor": "#2a3f5f"
            },
            "baxis": {
             "endlinecolor": "#2a3f5f",
             "gridcolor": "white",
             "linecolor": "white",
             "minorgridcolor": "white",
             "startlinecolor": "#2a3f5f"
            },
            "type": "carpet"
           }
          ],
          "choropleth": [
           {
            "colorbar": {
             "outlinewidth": 0,
             "ticks": ""
            },
            "type": "choropleth"
           }
          ],
          "contour": [
           {
            "colorbar": {
             "outlinewidth": 0,
             "ticks": ""
            },
            "colorscale": [
             [
              0,
              "#0d0887"
             ],
             [
              0.1111111111111111,
              "#46039f"
             ],
             [
              0.2222222222222222,
              "#7201a8"
             ],
             [
              0.3333333333333333,
              "#9c179e"
             ],
             [
              0.4444444444444444,
              "#bd3786"
             ],
             [
              0.5555555555555556,
              "#d8576b"
             ],
             [
              0.6666666666666666,
              "#ed7953"
             ],
             [
              0.7777777777777778,
              "#fb9f3a"
             ],
             [
              0.8888888888888888,
              "#fdca26"
             ],
             [
              1,
              "#f0f921"
             ]
            ],
            "type": "contour"
           }
          ],
          "contourcarpet": [
           {
            "colorbar": {
             "outlinewidth": 0,
             "ticks": ""
            },
            "type": "contourcarpet"
           }
          ],
          "heatmap": [
           {
            "colorbar": {
             "outlinewidth": 0,
             "ticks": ""
            },
            "colorscale": [
             [
              0,
              "#0d0887"
             ],
             [
              0.1111111111111111,
              "#46039f"
             ],
             [
              0.2222222222222222,
              "#7201a8"
             ],
             [
              0.3333333333333333,
              "#9c179e"
             ],
             [
              0.4444444444444444,
              "#bd3786"
             ],
             [
              0.5555555555555556,
              "#d8576b"
             ],
             [
              0.6666666666666666,
              "#ed7953"
             ],
             [
              0.7777777777777778,
              "#fb9f3a"
             ],
             [
              0.8888888888888888,
              "#fdca26"
             ],
             [
              1,
              "#f0f921"
             ]
            ],
            "type": "heatmap"
           }
          ],
          "heatmapgl": [
           {
            "colorbar": {
             "outlinewidth": 0,
             "ticks": ""
            },
            "colorscale": [
             [
              0,
              "#0d0887"
             ],
             [
              0.1111111111111111,
              "#46039f"
             ],
             [
              0.2222222222222222,
              "#7201a8"
             ],
             [
              0.3333333333333333,
              "#9c179e"
             ],
             [
              0.4444444444444444,
              "#bd3786"
             ],
             [
              0.5555555555555556,
              "#d8576b"
             ],
             [
              0.6666666666666666,
              "#ed7953"
             ],
             [
              0.7777777777777778,
              "#fb9f3a"
             ],
             [
              0.8888888888888888,
              "#fdca26"
             ],
             [
              1,
              "#f0f921"
             ]
            ],
            "type": "heatmapgl"
           }
          ],
          "histogram": [
           {
            "marker": {
             "pattern": {
              "fillmode": "overlay",
              "size": 10,
              "solidity": 0.2
             }
            },
            "type": "histogram"
           }
          ],
          "histogram2d": [
           {
            "colorbar": {
             "outlinewidth": 0,
             "ticks": ""
            },
            "colorscale": [
             [
              0,
              "#0d0887"
             ],
             [
              0.1111111111111111,
              "#46039f"
             ],
             [
              0.2222222222222222,
              "#7201a8"
             ],
             [
              0.3333333333333333,
              "#9c179e"
             ],
             [
              0.4444444444444444,
              "#bd3786"
             ],
             [
              0.5555555555555556,
              "#d8576b"
             ],
             [
              0.6666666666666666,
              "#ed7953"
             ],
             [
              0.7777777777777778,
              "#fb9f3a"
             ],
             [
              0.8888888888888888,
              "#fdca26"
             ],
             [
              1,
              "#f0f921"
             ]
            ],
            "type": "histogram2d"
           }
          ],
          "histogram2dcontour": [
           {
            "colorbar": {
             "outlinewidth": 0,
             "ticks": ""
            },
            "colorscale": [
             [
              0,
              "#0d0887"
             ],
             [
              0.1111111111111111,
              "#46039f"
             ],
             [
              0.2222222222222222,
              "#7201a8"
             ],
             [
              0.3333333333333333,
              "#9c179e"
             ],
             [
              0.4444444444444444,
              "#bd3786"
             ],
             [
              0.5555555555555556,
              "#d8576b"
             ],
             [
              0.6666666666666666,
              "#ed7953"
             ],
             [
              0.7777777777777778,
              "#fb9f3a"
             ],
             [
              0.8888888888888888,
              "#fdca26"
             ],
             [
              1,
              "#f0f921"
             ]
            ],
            "type": "histogram2dcontour"
           }
          ],
          "mesh3d": [
           {
            "colorbar": {
             "outlinewidth": 0,
             "ticks": ""
            },
            "type": "mesh3d"
           }
          ],
          "parcoords": [
           {
            "line": {
             "colorbar": {
              "outlinewidth": 0,
              "ticks": ""
             }
            },
            "type": "parcoords"
           }
          ],
          "pie": [
           {
            "automargin": true,
            "type": "pie"
           }
          ],
          "scatter": [
           {
            "fillpattern": {
             "fillmode": "overlay",
             "size": 10,
             "solidity": 0.2
            },
            "type": "scatter"
           }
          ],
          "scatter3d": [
           {
            "line": {
             "colorbar": {
              "outlinewidth": 0,
              "ticks": ""
             }
            },
            "marker": {
             "colorbar": {
              "outlinewidth": 0,
              "ticks": ""
             }
            },
            "type": "scatter3d"
           }
          ],
          "scattercarpet": [
           {
            "marker": {
             "colorbar": {
              "outlinewidth": 0,
              "ticks": ""
             }
            },
            "type": "scattercarpet"
           }
          ],
          "scattergeo": [
           {
            "marker": {
             "colorbar": {
              "outlinewidth": 0,
              "ticks": ""
             }
            },
            "type": "scattergeo"
           }
          ],
          "scattergl": [
           {
            "marker": {
             "colorbar": {
              "outlinewidth": 0,
              "ticks": ""
             }
            },
            "type": "scattergl"
           }
          ],
          "scattermapbox": [
           {
            "marker": {
             "colorbar": {
              "outlinewidth": 0,
              "ticks": ""
             }
            },
            "type": "scattermapbox"
           }
          ],
          "scatterpolar": [
           {
            "marker": {
             "colorbar": {
              "outlinewidth": 0,
              "ticks": ""
             }
            },
            "type": "scatterpolar"
           }
          ],
          "scatterpolargl": [
           {
            "marker": {
             "colorbar": {
              "outlinewidth": 0,
              "ticks": ""
             }
            },
            "type": "scatterpolargl"
           }
          ],
          "scatterternary": [
           {
            "marker": {
             "colorbar": {
              "outlinewidth": 0,
              "ticks": ""
             }
            },
            "type": "scatterternary"
           }
          ],
          "surface": [
           {
            "colorbar": {
             "outlinewidth": 0,
             "ticks": ""
            },
            "colorscale": [
             [
              0,
              "#0d0887"
             ],
             [
              0.1111111111111111,
              "#46039f"
             ],
             [
              0.2222222222222222,
              "#7201a8"
             ],
             [
              0.3333333333333333,
              "#9c179e"
             ],
             [
              0.4444444444444444,
              "#bd3786"
             ],
             [
              0.5555555555555556,
              "#d8576b"
             ],
             [
              0.6666666666666666,
              "#ed7953"
             ],
             [
              0.7777777777777778,
              "#fb9f3a"
             ],
             [
              0.8888888888888888,
              "#fdca26"
             ],
             [
              1,
              "#f0f921"
             ]
            ],
            "type": "surface"
           }
          ],
          "table": [
           {
            "cells": {
             "fill": {
              "color": "#EBF0F8"
             },
             "line": {
              "color": "white"
             }
            },
            "header": {
             "fill": {
              "color": "#C8D4E3"
             },
             "line": {
              "color": "white"
             }
            },
            "type": "table"
           }
          ]
         },
         "layout": {
          "annotationdefaults": {
           "arrowcolor": "#2a3f5f",
           "arrowhead": 0,
           "arrowwidth": 1
          },
          "autotypenumbers": "strict",
          "coloraxis": {
           "colorbar": {
            "outlinewidth": 0,
            "ticks": ""
           }
          },
          "colorscale": {
           "diverging": [
            [
             0,
             "#8e0152"
            ],
            [
             0.1,
             "#c51b7d"
            ],
            [
             0.2,
             "#de77ae"
            ],
            [
             0.3,
             "#f1b6da"
            ],
            [
             0.4,
             "#fde0ef"
            ],
            [
             0.5,
             "#f7f7f7"
            ],
            [
             0.6,
             "#e6f5d0"
            ],
            [
             0.7,
             "#b8e186"
            ],
            [
             0.8,
             "#7fbc41"
            ],
            [
             0.9,
             "#4d9221"
            ],
            [
             1,
             "#276419"
            ]
           ],
           "sequential": [
            [
             0,
             "#0d0887"
            ],
            [
             0.1111111111111111,
             "#46039f"
            ],
            [
             0.2222222222222222,
             "#7201a8"
            ],
            [
             0.3333333333333333,
             "#9c179e"
            ],
            [
             0.4444444444444444,
             "#bd3786"
            ],
            [
             0.5555555555555556,
             "#d8576b"
            ],
            [
             0.6666666666666666,
             "#ed7953"
            ],
            [
             0.7777777777777778,
             "#fb9f3a"
            ],
            [
             0.8888888888888888,
             "#fdca26"
            ],
            [
             1,
             "#f0f921"
            ]
           ],
           "sequentialminus": [
            [
             0,
             "#0d0887"
            ],
            [
             0.1111111111111111,
             "#46039f"
            ],
            [
             0.2222222222222222,
             "#7201a8"
            ],
            [
             0.3333333333333333,
             "#9c179e"
            ],
            [
             0.4444444444444444,
             "#bd3786"
            ],
            [
             0.5555555555555556,
             "#d8576b"
            ],
            [
             0.6666666666666666,
             "#ed7953"
            ],
            [
             0.7777777777777778,
             "#fb9f3a"
            ],
            [
             0.8888888888888888,
             "#fdca26"
            ],
            [
             1,
             "#f0f921"
            ]
           ]
          },
          "colorway": [
           "#636efa",
           "#EF553B",
           "#00cc96",
           "#ab63fa",
           "#FFA15A",
           "#19d3f3",
           "#FF6692",
           "#B6E880",
           "#FF97FF",
           "#FECB52"
          ],
          "font": {
           "color": "#2a3f5f"
          },
          "geo": {
           "bgcolor": "white",
           "lakecolor": "white",
           "landcolor": "#E5ECF6",
           "showlakes": true,
           "showland": true,
           "subunitcolor": "white"
          },
          "hoverlabel": {
           "align": "left"
          },
          "hovermode": "closest",
          "mapbox": {
           "style": "light"
          },
          "paper_bgcolor": "white",
          "plot_bgcolor": "#E5ECF6",
          "polar": {
           "angularaxis": {
            "gridcolor": "white",
            "linecolor": "white",
            "ticks": ""
           },
           "bgcolor": "#E5ECF6",
           "radialaxis": {
            "gridcolor": "white",
            "linecolor": "white",
            "ticks": ""
           }
          },
          "scene": {
           "xaxis": {
            "backgroundcolor": "#E5ECF6",
            "gridcolor": "white",
            "gridwidth": 2,
            "linecolor": "white",
            "showbackground": true,
            "ticks": "",
            "zerolinecolor": "white"
           },
           "yaxis": {
            "backgroundcolor": "#E5ECF6",
            "gridcolor": "white",
            "gridwidth": 2,
            "linecolor": "white",
            "showbackground": true,
            "ticks": "",
            "zerolinecolor": "white"
           },
           "zaxis": {
            "backgroundcolor": "#E5ECF6",
            "gridcolor": "white",
            "gridwidth": 2,
            "linecolor": "white",
            "showbackground": true,
            "ticks": "",
            "zerolinecolor": "white"
           }
          },
          "shapedefaults": {
           "line": {
            "color": "#2a3f5f"
           }
          },
          "ternary": {
           "aaxis": {
            "gridcolor": "white",
            "linecolor": "white",
            "ticks": ""
           },
           "baxis": {
            "gridcolor": "white",
            "linecolor": "white",
            "ticks": ""
           },
           "bgcolor": "#E5ECF6",
           "caxis": {
            "gridcolor": "white",
            "linecolor": "white",
            "ticks": ""
           }
          },
          "title": {
           "x": 0.05
          },
          "xaxis": {
           "automargin": true,
           "gridcolor": "white",
           "linecolor": "white",
           "ticks": "",
           "title": {
            "standoff": 15
           },
           "zerolinecolor": "white",
           "zerolinewidth": 2
          },
          "yaxis": {
           "automargin": true,
           "gridcolor": "white",
           "linecolor": "white",
           "ticks": "",
           "title": {
            "standoff": 15
           },
           "zerolinecolor": "white",
           "zerolinewidth": 2
          }
         }
        },
        "title": {
         "text": "Variation of Total Carotenoids for Each Mango Variety in Pulp"
        },
        "xaxis": {
         "autorange": true,
         "range": [
          0,
          4
         ],
         "title": {
          "text": "Ripening Stage"
         },
         "type": "category"
        },
        "yaxis": {
         "autorange": true,
         "dtick": 10,
         "range": [
          -3.9111111111111114,
          100.91111111111111
         ],
         "tick0": 0,
         "title": {
          "text": "Peel"
         },
         "type": "linear"
        }
       }
      },
      "image/png": "[encoded data removed]",
      "text/html": [
       "<div>                            <div id=\"ca1c319a-ca4d-4b3e-b516-6f65af815ff2\" class=\"plotly-graph-div\" style=\"height:525px; width:100%;\"></div>            <script type=\"text/javascript\">                require([\"plotly\"], function(Plotly) {                    window.PLOTLYENV=window.PLOTLYENV || {};                                    if (document.getElementById(\"ca1c319a-ca4d-4b3e-b516-6f65af815ff2\")) {                    Plotly.newPlot(                        \"ca1c319a-ca4d-4b3e-b516-6f65af815ff2\",                        [{\"mode\":\"lines\",\"name\":\"Apple mango\",\"x\":[\"Stage 1\",\"Stage 2\",\"Stage 3\",\"Stage 4\",\"Stage 5\"],\"y\":[1.78,9.45,28.46,48.18,89.13],\"type\":\"scatter\"},{\"mode\":\"lines\",\"name\":\"Asante\",\"x\":[\"Stage 1\",\"Stage 2\",\"Stage 3\",\"Stage 4\",\"Stage 5\"],\"y\":[1.64,9.07,22.57,41.12,83.53],\"type\":\"scatter\"},{\"mode\":\"lines\",\"name\":\"Batawi\",\"x\":[\"Stage 1\",\"Stage 2\",\"Stage 3\",\"Stage 4\",\"Stage 5\"],\"y\":[1.67,9.36,26.62,34.25,82.8],\"type\":\"scatter\"},{\"mode\":\"lines\",\"name\":\"Bire\",\"x\":[\"Stage 1\",\"Stage 2\",\"Stage 3\",\"Stage 4\",\"Stage 5\"],\"y\":[2.6,19.37,23.08,32.4,86.6],\"type\":\"scatter\"},{\"mode\":\"lines\",\"name\":\"Boribo\",\"x\":[\"Stage 1\",\"Stage 2\",\"Stage 3\",\"Stage 4\",\"Stage 5\"],\"y\":[1.98,13.54,22.14,34.98,79.94],\"type\":\"scatter\"},{\"mode\":\"lines\",\"name\":\"Doodo\",\"x\":[\"Stage 1\",\"Stage 2\",\"Stage 3\",\"Stage 4\",\"Stage 5\"],\"y\":[2.09,12.73,23.79,36.73,90.66],\"type\":\"scatter\"},{\"mode\":\"lines\",\"name\":\"Kagoogwa\",\"x\":[\"Stage 1\",\"Stage 2\",\"Stage 3\",\"Stage 4\",\"Stage 5\"],\"y\":[1.35,28.41,38.89,43.14,85.52],\"type\":\"scatter\"},{\"mode\":\"lines\",\"name\":\"Koona\",\"x\":[\"Stage 1\",\"Stage 2\",\"Stage 3\",\"Stage 4\",\"Stage 5\"],\"y\":[2.33,33.33,25.82,41.14,94.51],\"type\":\"scatter\"},{\"mode\":\"lines\",\"name\":\"Mabbere\",\"x\":[\"Stage 1\",\"Stage 2\",\"Stage 3\",\"Stage 4\",\"Stage 5\"],\"y\":[3.57,25.46,25.37,40.61,83.67],\"type\":\"scatter\"},{\"mode\":\"lines\",\"name\":\"Sayuni\",\"x\":[\"Stage 1\",\"Stage 2\",\"Stage 3\",\"Stage 4\",\"Stage 5\"],\"y\":[7.25,9.48,29.24,57.16,83.74],\"type\":\"scatter\"},{\"mode\":\"lines\",\"name\":\"Ssejjembe\",\"x\":[\"Stage 1\",\"Stage 2\",\"Stage 3\",\"Stage 4\",\"Stage 5\"],\"y\":[4.69,8.49,26.37,43.79,70.25],\"type\":\"scatter\"},{\"mode\":\"lines\",\"name\":\"Takataka\",\"x\":[\"Stage 1\",\"Stage 2\",\"Stage 3\",\"Stage 4\",\"Stage 5\"],\"y\":[4.13,11.23,28.74,49.4,70.55],\"type\":\"scatter\"},{\"mode\":\"lines\",\"name\":\"Kakule\",\"x\":[\"Stage 1\",\"Stage 2\",\"Stage 3\",\"Stage 4\",\"Stage 5\"],\"y\":[4.15,40.24,26.71,41.09,85.83],\"type\":\"scatter\"},{\"mode\":\"lines\",\"name\":\"Duncan\",\"x\":[\"Stage 1\",\"Stage 2\",\"Stage 3\",\"Stage 4\",\"Stage 5\"],\"y\":[1.33,13.73,28.75,34.14,74.8],\"type\":\"scatter\"},{\"mode\":\"lines\",\"name\":\"Fairchild\",\"x\":[\"Stage 1\",\"Stage 2\",\"Stage 3\",\"Stage 4\",\"Stage 5\"],\"y\":[2.32,12.83,27.34,37.52,84.6],\"type\":\"scatter\"},{\"mode\":\"lines\",\"name\":\"Julie\",\"x\":[\"Stage 1\",\"Stage 2\",\"Stage 3\",\"Stage 4\",\"Stage 5\"],\"y\":[1.66,6.09,28.45,44.47,70.35],\"type\":\"scatter\"},{\"mode\":\"lines\",\"name\":\"Kapisa\",\"x\":[\"Stage 1\",\"Stage 2\",\"Stage 3\",\"Stage 4\",\"Stage 5\"],\"y\":[1.78,16.46,28.37,43.59,95.67],\"type\":\"scatter\"},{\"mode\":\"lines\",\"name\":\"Kent\",\"x\":[\"Stage 1\",\"Stage 2\",\"Stage 3\",\"Stage 4\",\"Stage 5\"],\"y\":[1.69,35.55,25.41,40.27,84.07],\"type\":\"scatter\"},{\"mode\":\"lines\",\"name\":\"Palmer\",\"x\":[\"Stage 1\",\"Stage 2\",\"Stage 3\",\"Stage 4\",\"Stage 5\"],\"y\":[2.77,19.81,26.73,41.6,79.7],\"type\":\"scatter\"},{\"mode\":\"lines\",\"name\":\"Ponde\",\"x\":[\"Stage 1\",\"Stage 2\",\"Stage 3\",\"Stage 4\",\"Stage 5\"],\"y\":[3.79,13.29,29.45,39.55,85.41],\"type\":\"scatter\"},{\"mode\":\"lines\",\"name\":\"Seena\",\"x\":[\"Stage 1\",\"Stage 2\",\"Stage 3\",\"Stage 4\",\"Stage 5\"],\"y\":[4.16,7.59,24.42,38.6,75.16],\"type\":\"scatter\"},{\"mode\":\"lines\",\"name\":\"Tommy atkin\",\"x\":[\"Stage 1\",\"Stage 2\",\"Stage 3\",\"Stage 4\",\"Stage 5\"],\"y\":[3.67,7.64,19.71,45.86,84.54],\"type\":\"scatter\"}],                        {\"title\":{\"text\":\"Variation of Total Carotenoids for Each Mango Variety in Pulp\"},\"xaxis\":{\"title\":{\"text\":\"Ripening Stage\"}},\"yaxis\":{\"dtick\":10,\"tick0\":0,\"title\":{\"text\":\"Peel\"}},\"template\":{\"data\":{\"histogram2dcontour\":[{\"type\":\"histogram2dcontour\",\"colorbar\":{\"outlinewidth\":0,\"ticks\":\"\"},\"colorscale\":[[0.0,\"#0d0887\"],[0.1111111111111111,\"#46039f\"],[0.2222222222222222,\"#7201a8\"],[0.3333333333333333,\"#9c179e\"],[0.4444444444444444,\"#bd3786\"],[0.5555555555555556,\"#d8576b\"],[0.6666666666666666,\"#ed7953\"],[0.7777777777777778,\"#fb9f3a\"],[0.8888888888888888,\"#fdca26\"],[1.0,\"#f0f921\"]]}],\"choropleth\":[{\"type\":\"choropleth\",\"colorbar\":{\"outlinewidth\":0,\"ticks\":\"\"}}],\"histogram2d\":[{\"type\":\"histogram2d\",\"colorbar\":{\"outlinewidth\":0,\"ticks\":\"\"},\"colorscale\":[[0.0,\"#0d0887\"],[0.1111111111111111,\"#46039f\"],[0.2222222222222222,\"#7201a8\"],[0.3333333333333333,\"#9c179e\"],[0.4444444444444444,\"#bd3786\"],[0.5555555555555556,\"#d8576b\"],[0.6666666666666666,\"#ed7953\"],[0.7777777777777778,\"#fb9f3a\"],[0.8888888888888888,\"#fdca26\"],[1.0,\"#f0f921\"]]}],\"heatmap\":[{\"type\":\"heatmap\",\"colorbar\":{\"outlinewidth\":0,\"ticks\":\"\"},\"colorscale\":[[0.0,\"#0d0887\"],[0.1111111111111111,\"#46039f\"],[0.2222222222222222,\"#7201a8\"],[0.3333333333333333,\"#9c179e\"],[0.4444444444444444,\"#bd3786\"],[0.5555555555555556,\"#d8576b\"],[0.6666666666666666,\"#ed7953\"],[0.7777777777777778,\"#fb9f3a\"],[0.8888888888888888,\"#fdca26\"],[1.0,\"#f0f921\"]]}],\"heatmapgl\":[{\"type\":\"heatmapgl\",\"colorbar\":{\"outlinewidth\":0,\"ticks\":\"\"},\"colorscale\":[[0.0,\"#0d0887\"],[0.1111111111111111,\"#46039f\"],[0.2222222222222222,\"#7201a8\"],[0.3333333333333333,\"#9c179e\"],[0.4444444444444444,\"#bd3786\"],[0.5555555555555556,\"#d8576b\"],[0.6666666666666666,\"#ed7953\"],[0.7777777777777778,\"#fb9f3a\"],[0.8888888888888888,\"#fdca26\"],[1.0,\"#f0f921\"]]}],\"contourcarpet\":[{\"type\":\"contourcarpet\",\"colorbar\":{\"outlinewidth\":0,\"ticks\":\"\"}}],\"contour\":[{\"type\":\"contour\",\"colorbar\":{\"outlinewidth\":0,\"ticks\":\"\"},\"colorscale\":[[0.0,\"#0d0887\"],[0.1111111111111111,\"#46039f\"],[0.2222222222222222,\"#7201a8\"],[0.3333333333333333,\"#9c179e\"],[0.4444444444444444,\"#bd3786\"],[0.5555555555555556,\"#d8576b\"],[0.6666666666666666,\"#ed7953\"],[0.7777777777777778,\"#fb9f3a\"],[0.8888888888888888,\"#fdca26\"],[1.0,\"#f0f921\"]]}],\"surface\":[{\"type\":\"surface\",\"colorbar\":{\"outlinewidth\":0,\"ticks\":\"\"},\"colorscale\":[[0.0,\"#0d0887\"],[0.1111111111111111,\"#46039f\"],[0.2222222222222222,\"#7201a8\"],[0.3333333333333333,\"#9c179e\"],[0.4444444444444444,\"#bd3786\"],[0.5555555555555556,\"#d8576b\"],[0.6666666666666666,\"#ed7953\"],[0.7777777777777778,\"#fb9f3a\"],[0.8888888888888888,\"#fdca26\"],[1.0,\"#f0f921\"]]}],\"mesh3d\":[{\"type\":\"mesh3d\",\"colorbar\":{\"outlinewidth\":0,\"ticks\":\"\"}}],\"scatter\":[{\"fillpattern\":{\"fillmode\":\"overlay\",\"size\":10,\"solidity\":0.2},\"type\":\"scatter\"}],\"parcoords\":[{\"type\":\"parcoords\",\"line\":{\"colorbar\":{\"outlinewidth\":0,\"ticks\":\"\"}}}],\"scatterpolargl\":[{\"type\":\"scatterpolargl\",\"marker\":{\"colorbar\":{\"outlinewidth\":0,\"ticks\":\"\"}}}],\"bar\":[{\"error_x\":{\"color\":\"#2a3f5f\"},\"error_y\":{\"color\":\"#2a3f5f\"},\"marker\":{\"line\":{\"color\":\"#E5ECF6\",\"width\":0.5},\"pattern\":{\"fillmode\":\"overlay\",\"size\":10,\"solidity\":0.2}},\"type\":\"bar\"}],\"scattergeo\":[{\"type\":\"scattergeo\",\"marker\":{\"colorbar\":{\"outlinewidth\":0,\"ticks\":\"\"}}}],\"scatterpolar\":[{\"type\":\"scatterpolar\",\"marker\":{\"colorbar\":{\"outlinewidth\":0,\"ticks\":\"\"}}}],\"histogram\":[{\"marker\":{\"pattern\":{\"fillmode\":\"overlay\",\"size\":10,\"solidity\":0.2}},\"type\":\"histogram\"}],\"scattergl\":[{\"type\":\"scattergl\",\"marker\":{\"colorbar\":{\"outlinewidth\":0,\"ticks\":\"\"}}}],\"scatter3d\":[{\"type\":\"scatter3d\",\"line\":{\"colorbar\":{\"outlinewidth\":0,\"ticks\":\"\"}},\"marker\":{\"colorbar\":{\"outlinewidth\":0,\"ticks\":\"\"}}}],\"scattermapbox\":[{\"type\":\"scattermapbox\",\"marker\":{\"colorbar\":{\"outlinewidth\":0,\"ticks\":\"\"}}}],\"scatterternary\":[{\"type\":\"scatterternary\",\"marker\":{\"colorbar\":{\"outlinewidth\":0,\"ticks\":\"\"}}}],\"scattercarpet\":[{\"type\":\"scattercarpet\",\"marker\":{\"colorbar\":{\"outlinewidth\":0,\"ticks\":\"\"}}}],\"carpet\":[{\"aaxis\":{\"endlinecolor\":\"#2a3f5f\",\"gridcolor\":\"white\",\"linecolor\":\"white\",\"minorgridcolor\":\"white\",\"startlinecolor\":\"#2a3f5f\"},\"baxis\":{\"endlinecolor\":\"#2a3f5f\",\"gridcolor\":\"white\",\"linecolor\":\"white\",\"minorgridcolor\":\"white\",\"startlinecolor\":\"#2a3f5f\"},\"type\":\"carpet\"}],\"table\":[{\"cells\":{\"fill\":{\"color\":\"#EBF0F8\"},\"line\":{\"color\":\"white\"}},\"header\":{\"fill\":{\"color\":\"#C8D4E3\"},\"line\":{\"color\":\"white\"}},\"type\":\"table\"}],\"barpolar\":[{\"marker\":{\"line\":{\"color\":\"#E5ECF6\",\"width\":0.5},\"pattern\":{\"fillmode\":\"overlay\",\"size\":10,\"solidity\":0.2}},\"type\":\"barpolar\"}],\"pie\":[{\"automargin\":true,\"type\":\"pie\"}]},\"layout\":{\"autotypenumbers\":\"strict\",\"colorway\":[\"#636efa\",\"#EF553B\",\"#00cc96\",\"#ab63fa\",\"#FFA15A\",\"#19d3f3\",\"#FF6692\",\"#B6E880\",\"#FF97FF\",\"#FECB52\"],\"font\":{\"color\":\"#2a3f5f\"},\"hovermode\":\"closest\",\"hoverlabel\":{\"align\":\"left\"},\"paper_bgcolor\":\"white\",\"plot_bgcolor\":\"#E5ECF6\",\"polar\":{\"bgcolor\":\"#E5ECF6\",\"angularaxis\":{\"gridcolor\":\"white\",\"linecolor\":\"white\",\"ticks\":\"\"},\"radialaxis\":{\"gridcolor\":\"white\",\"linecolor\":\"white\",\"ticks\":\"\"}},\"ternary\":{\"bgcolor\":\"#E5ECF6\",\"aaxis\":{\"gridcolor\":\"white\",\"linecolor\":\"white\",\"ticks\":\"\"},\"baxis\":{\"gridcolor\":\"white\",\"linecolor\":\"white\",\"ticks\":\"\"},\"caxis\":{\"gridcolor\":\"white\",\"linecolor\":\"white\",\"ticks\":\"\"}},\"coloraxis\":{\"colorbar\":{\"outlinewidth\":0,\"ticks\":\"\"}},\"colorscale\":{\"sequential\":[[0.0,\"#0d0887\"],[0.1111111111111111,\"#46039f\"],[0.2222222222222222,\"#7201a8\"],[0.3333333333333333,\"#9c179e\"],[0.4444444444444444,\"#bd3786\"],[0.5555555555555556,\"#d8576b\"],[0.6666666666666666,\"#ed7953\"],[0.7777777777777778,\"#fb9f3a\"],[0.8888888888888888,\"#fdca26\"],[1.0,\"#f0f921\"]],\"sequentialminus\":[[0.0,\"#0d0887\"],[0.1111111111111111,\"#46039f\"],[0.2222222222222222,\"#7201a8\"],[0.3333333333333333,\"#9c179e\"],[0.4444444444444444,\"#bd3786\"],[0.5555555555555556,\"#d8576b\"],[0.6666666666666666,\"#ed7953\"],[0.7777777777777778,\"#fb9f3a\"],[0.8888888888888888,\"#fdca26\"],[1.0,\"#f0f921\"]],\"diverging\":[[0,\"#8e0152\"],[0.1,\"#c51b7d\"],[0.2,\"#de77ae\"],[0.3,\"#f1b6da\"],[0.4,\"#fde0ef\"],[0.5,\"#f7f7f7\"],[0.6,\"#e6f5d0\"],[0.7,\"#b8e186\"],[0.8,\"#7fbc41\"],[0.9,\"#4d9221\"],[1,\"#276419\"]]},\"xaxis\":{\"gridcolor\":\"white\",\"linecolor\":\"white\",\"ticks\":\"\",\"title\":{\"standoff\":15},\"zerolinecolor\":\"white\",\"automargin\":true,\"zerolinewidth\":2},\"yaxis\":{\"gridcolor\":\"white\",\"linecolor\":\"white\",\"ticks\":\"\",\"title\":{\"standoff\":15},\"zerolinecolor\":\"white\",\"automargin\":true,\"zerolinewidth\":2},\"scene\":{\"xaxis\":{\"backgroundcolor\":\"#E5ECF6\",\"gridcolor\":\"white\",\"linecolor\":\"white\",\"showbackground\":true,\"ticks\":\"\",\"zerolinecolor\":\"white\",\"gridwidth\":2},\"yaxis\":{\"backgroundcolor\":\"#E5ECF6\",\"gridcolor\":\"white\",\"linecolor\":\"white\",\"showbackground\":true,\"ticks\":\"\",\"zerolinecolor\":\"white\",\"gridwidth\":2},\"zaxis\":{\"backgroundcolor\":\"#E5ECF6\",\"gridcolor\":\"white\",\"linecolor\":\"white\",\"showbackground\":true,\"ticks\":\"\",\"zerolinecolor\":\"white\",\"gridwidth\":2}},\"shapedefaults\":{\"line\":{\"color\":\"#2a3f5f\"}},\"annotationdefaults\":{\"arrowcolor\":\"#2a3f5f\",\"arrowhead\":0,\"arrowwidth\":1},\"geo\":{\"bgcolor\":\"white\",\"landcolor\":\"#E5ECF6\",\"subunitcolor\":\"white\",\"showland\":true,\"showlakes\":true,\"lakecolor\":\"white\"},\"title\":{\"x\":0.05},\"mapbox\":{\"style\":\"light\"}}}},                        {\"responsive\": true}                    ).then(function(){\n",
       "                            \n",
       "var gd = document.getElementById('ca1c319a-ca4d-4b3e-b516-6f65af815ff2');\n",
       "var x = new MutationObserver(function (mutations, observer) {{\n",
       "        var display = window.getComputedStyle(gd).display;\n",
       "        if (!display || display === 'none') {{\n",
       "            console.log([gd, 'removed!']);\n",
       "            Plotly.purge(gd);\n",
       "            observer.disconnect();\n",
       "        }}\n",
       "}});\n",
       "\n",
       "// Listen for the removal of the full notebook cells\n",
       "var notebookContainer = gd.closest('#notebook-container');\n",
       "if (notebookContainer) {{\n",
       "    x.observe(notebookContainer, {childList: true});\n",
       "}}\n",
       "\n",
       "// Listen for the clearing of the current output cell\n",
       "var outputEl = gd.closest('.output');\n",
       "if (outputEl) {{\n",
       "    x.observe(outputEl, {childList: true});\n",
       "}}\n",
       "\n",
       "                        })                };                });            </script>        </div>"
      ]
     },
     "metadata": {},
     "output_type": "display_data"
    }
   ],
   "source": [
    "# Create traces for each mango variety\n",
    "traces = []\n",
    "for variety in data['Mango variety'].unique():\n",
    "    subset = data[data['Mango variety'] == variety]\n",
    "    trace = go.Scatter(x=subset['Ripening stage'], y=subset['Pulp'], mode='lines', name=variety)\n",
    "    traces.append(trace)\n",
    "\n",
    "# Create layout\n",
    "layout = go.Layout(title='Variation of Total Carotenoids for Each Mango Variety in Pulp',\n",
    "                   xaxis=dict(title='Ripening Stage'),\n",
    "                   yaxis=dict(title='Peel', tick0=0, dtick=10))\n",
    "\n",
    "# Create figure\n",
    "fig = go.Figure(data=traces, layout=layout)\n",
    "\n",
    "# Plot figure\n",
    "pio.show(fig)"
   ]
  },
  {
   "cell_type": "code",
   "execution_count": null,
   "id": "3aaf1d89-a931-4c93-a67d-464b31a51eef",
   "metadata": {},
   "outputs": [],
   "source": []
  }
 ],
 "metadata": {
  "kernelspec": {
   "display_name": "Python 3 (ipykernel)",
   "language": "python",
   "name": "python3"
  },
  "language_info": {
   "codemirror_mode": {
    "name": "ipython",
    "version": 3
   },
   "file_extension": ".py",
   "mimetype": "text/x-python",
   "name": "python",
   "nbconvert_exporter": "python",
   "pygments_lexer": "ipython3",
   "version": "3.11.7"
  }
 },
 "nbformat": 4,
 "nbformat_minor": 5
}
