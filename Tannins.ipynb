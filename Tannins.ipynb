{
 "cells": [
  {
   "cell_type": "code",
   "execution_count": 1,
   "id": "a49ec908-df9c-44f1-b1ab-d4c9c2f6df6d",
   "metadata": {},
   "outputs": [],
   "source": [
    "import pandas as pd\n",
    "import plotly.graph_objs as go\n",
    "import plotly.io as pio"
   ]
  },
  {
   "cell_type": "code",
   "execution_count": 4,
   "id": "4a0b20ce-f400-4c10-947d-a28846ac47c3",
   "metadata": {},
   "outputs": [],
   "source": [
    "data = pd.read_excel('HenriettahData.xlsx', sheet_name='Tannins', header=0)"
   ]
  },
  {
   "cell_type": "code",
   "execution_count": 5,
   "id": "0bcf2f26-79ef-4ac4-97cf-81b54949dd4c",
   "metadata": {},
   "outputs": [
    {
     "data": {
      "text/html": [
       "<div>\n",
       "<style scoped>\n",
       "    .dataframe tbody tr th:only-of-type {\n",
       "        vertical-align: middle;\n",
       "    }\n",
       "\n",
       "    .dataframe tbody tr th {\n",
       "        vertical-align: top;\n",
       "    }\n",
       "\n",
       "    .dataframe thead th {\n",
       "        text-align: right;\n",
       "    }\n",
       "</style>\n",
       "<table border=\"1\" class=\"dataframe\">\n",
       "  <thead>\n",
       "    <tr style=\"text-align: right;\">\n",
       "      <th></th>\n",
       "      <th>Mango variety</th>\n",
       "      <th>Ripening stage</th>\n",
       "      <th>Peel</th>\n",
       "      <th>Pulp</th>\n",
       "      <th>Kernel</th>\n",
       "      <th>Seed</th>\n",
       "    </tr>\n",
       "  </thead>\n",
       "  <tbody>\n",
       "    <tr>\n",
       "      <th>0</th>\n",
       "      <td>Apple mango</td>\n",
       "      <td>Stage 1</td>\n",
       "      <td>155.35</td>\n",
       "      <td>128.29</td>\n",
       "      <td>150.46</td>\n",
       "      <td>222.30</td>\n",
       "    </tr>\n",
       "    <tr>\n",
       "      <th>1</th>\n",
       "      <td>Asante</td>\n",
       "      <td>Stage 1</td>\n",
       "      <td>158.85</td>\n",
       "      <td>110.55</td>\n",
       "      <td>121.85</td>\n",
       "      <td>227.31</td>\n",
       "    </tr>\n",
       "    <tr>\n",
       "      <th>2</th>\n",
       "      <td>Batawi</td>\n",
       "      <td>Stage 1</td>\n",
       "      <td>150.36</td>\n",
       "      <td>134.74</td>\n",
       "      <td>136.79</td>\n",
       "      <td>217.35</td>\n",
       "    </tr>\n",
       "    <tr>\n",
       "      <th>3</th>\n",
       "      <td>Bire</td>\n",
       "      <td>Stage 1</td>\n",
       "      <td>148.48</td>\n",
       "      <td>153.96</td>\n",
       "      <td>105.04</td>\n",
       "      <td>201.41</td>\n",
       "    </tr>\n",
       "    <tr>\n",
       "      <th>4</th>\n",
       "      <td>Boribo</td>\n",
       "      <td>Stage 1</td>\n",
       "      <td>169.77</td>\n",
       "      <td>185.98</td>\n",
       "      <td>152.63</td>\n",
       "      <td>224.78</td>\n",
       "    </tr>\n",
       "  </tbody>\n",
       "</table>\n",
       "</div>"
      ],
      "text/plain": [
       "  Mango variety Ripening stage    Peel    Pulp  Kernel    Seed\n",
       "0   Apple mango        Stage 1  155.35  128.29  150.46  222.30\n",
       "1        Asante        Stage 1  158.85  110.55  121.85  227.31\n",
       "2        Batawi        Stage 1  150.36  134.74  136.79  217.35\n",
       "3          Bire        Stage 1  148.48  153.96  105.04  201.41\n",
       "4        Boribo        Stage 1  169.77  185.98  152.63  224.78"
      ]
     },
     "execution_count": 5,
     "metadata": {},
     "output_type": "execute_result"
    }
   ],
   "source": [
    "data.head()"
   ]
  },
  {
   "cell_type": "code",
   "execution_count": 15,
   "id": "f40f5a34-c2ec-4b7c-8d39-cb433c84a6fc",
   "metadata": {},
   "outputs": [
    {
     "data": {
      "application/vnd.plotly.v1+json": {
       "config": {
        "plotlyServerURL": "https://plot.ly"
       },
       "data": [
        {
         "mode": "lines",
         "name": "Apple mango",
         "type": "scatter",
         "x": [
          "Stage 1",
          "Stage 2",
          "Stage 3",
          "Stage 4",
          "Stage 5"
         ],
         "y": [
          155.35,
          150.07,
          73.19,
          60.73,
          2.82
         ]
        },
        {
         "mode": "lines",
         "name": "Asante",
         "type": "scatter",
         "x": [
          "Stage 1",
          "Stage 2",
          "Stage 3",
          "Stage 4",
          "Stage 5"
         ],
         "y": [
          158.85,
          150.39,
          71.46,
          70.23,
          3.58
         ]
        },
        {
         "mode": "lines",
         "name": "Batawi",
         "type": "scatter",
         "x": [
          "Stage 1",
          "Stage 2",
          "Stage 3",
          "Stage 4",
          "Stage 5"
         ],
         "y": [
          150.36,
          148.5,
          82.73,
          52.02,
          1.59
         ]
        },
        {
         "mode": "lines",
         "name": "Bire",
         "type": "scatter",
         "x": [
          "Stage 1",
          "Stage 2",
          "Stage 3",
          "Stage 4",
          "Stage 5"
         ],
         "y": [
          148.48,
          147.63,
          84.37,
          81.77,
          1.89
         ]
        },
        {
         "mode": "lines",
         "name": "Boribo",
         "type": "scatter",
         "x": [
          "Stage 1",
          "Stage 2",
          "Stage 3",
          "Stage 4",
          "Stage 5"
         ],
         "y": [
          169.77,
          147.09,
          85.46,
          61.77,
          2.6
         ]
        },
        {
         "mode": "lines",
         "name": "Doodo",
         "type": "scatter",
         "x": [
          "Stage 1",
          "Stage 2",
          "Stage 3",
          "Stage 4",
          "Stage 5"
         ],
         "y": [
          147.15,
          133.17,
          69.84,
          57.89,
          3.83
         ]
        },
        {
         "mode": "lines",
         "name": "Kagoogwa",
         "type": "scatter",
         "x": [
          "Stage 1",
          "Stage 2",
          "Stage 3",
          "Stage 4",
          "Stage 5"
         ],
         "y": [
          157.63,
          156.25,
          93.12,
          74.32,
          2.76
         ]
        },
        {
         "mode": "lines",
         "name": "Koona",
         "type": "scatter",
         "x": [
          "Stage 1",
          "Stage 2",
          "Stage 3",
          "Stage 4",
          "Stage 5"
         ],
         "y": [
          173.6,
          139.01,
          57.47,
          52.08,
          1.99
         ]
        },
        {
         "mode": "lines",
         "name": "Mabbere",
         "type": "scatter",
         "x": [
          "Stage 1",
          "Stage 2",
          "Stage 3",
          "Stage 4",
          "Stage 5"
         ],
         "y": [
          179.27,
          153.1,
          73.19,
          57.92,
          3.56
         ]
        },
        {
         "mode": "lines",
         "name": "Sayuni",
         "type": "scatter",
         "x": [
          "Stage 1",
          "Stage 2",
          "Stage 3",
          "Stage 4",
          "Stage 5"
         ],
         "y": [
          150.28,
          148.41,
          68.33,
          57.79,
          7.81
         ]
        },
        {
         "mode": "lines",
         "name": "Ssejjembe",
         "type": "scatter",
         "x": [
          "Stage 1",
          "Stage 2",
          "Stage 3",
          "Stage 4",
          "Stage 5"
         ],
         "y": [
          150.87,
          130.96,
          73.96,
          62.13,
          5.69
         ]
        },
        {
         "mode": "lines",
         "name": "Takataka",
         "type": "scatter",
         "x": [
          "Stage 1",
          "Stage 2",
          "Stage 3",
          "Stage 4",
          "Stage 5"
         ],
         "y": [
          181.88,
          158.29,
          72.99,
          65.32,
          5.46
         ]
        },
        {
         "mode": "lines",
         "name": "Kakule",
         "type": "scatter",
         "x": [
          "Stage 1",
          "Stage 2",
          "Stage 3",
          "Stage 4",
          "Stage 5"
         ],
         "y": [
          174.18,
          156.5,
          68.44,
          67.3,
          6.62
         ]
        },
        {
         "mode": "lines",
         "name": "Duncan",
         "type": "scatter",
         "x": [
          "Stage 1",
          "Stage 2",
          "Stage 3",
          "Stage 4",
          "Stage 5"
         ],
         "y": [
          150.36,
          149.61,
          75.31,
          66.02,
          1.67
         ]
        },
        {
         "mode": "lines",
         "name": "Fairchild",
         "type": "scatter",
         "x": [
          "Stage 1",
          "Stage 2",
          "Stage 3",
          "Stage 4",
          "Stage 5"
         ],
         "y": [
          172.16,
          150.64,
          72.86,
          59.72,
          3.5
         ]
        },
        {
         "mode": "lines",
         "name": "Julie",
         "type": "scatter",
         "x": [
          "Stage 1",
          "Stage 2",
          "Stage 3",
          "Stage 4",
          "Stage 5"
         ],
         "y": [
          164.99,
          154.25,
          75.79,
          57.67,
          2.77
         ]
        },
        {
         "mode": "lines",
         "name": "Kapisa",
         "type": "scatter",
         "x": [
          "Stage 1",
          "Stage 2",
          "Stage 3",
          "Stage 4",
          "Stage 5"
         ],
         "y": [
          167.69,
          159.25,
          68.33,
          46.16,
          6.73
         ]
        },
        {
         "mode": "lines",
         "name": "Kent",
         "type": "scatter",
         "x": [
          "Stage 1",
          "Stage 2",
          "Stage 3",
          "Stage 4",
          "Stage 5"
         ],
         "y": [
          174.59,
          151.14,
          74.15,
          46.92,
          8.77
         ]
        },
        {
         "mode": "lines",
         "name": "Palmer",
         "type": "scatter",
         "x": [
          "Stage 1",
          "Stage 2",
          "Stage 3",
          "Stage 4",
          "Stage 5"
         ],
         "y": [
          193.95,
          154.32,
          53.01,
          44.96,
          4.85
         ]
        },
        {
         "mode": "lines",
         "name": "Ponde",
         "type": "scatter",
         "x": [
          "Stage 1",
          "Stage 2",
          "Stage 3",
          "Stage 4",
          "Stage 5"
         ],
         "y": [
          176.11,
          154.9,
          69.07,
          61.59,
          6.82
         ]
        },
        {
         "mode": "lines",
         "name": "Seena",
         "type": "scatter",
         "x": [
          "Stage 1",
          "Stage 2",
          "Stage 3",
          "Stage 4",
          "Stage 5"
         ],
         "y": [
          163.74,
          136.83,
          72.38,
          63.57,
          6.55
         ]
        },
        {
         "mode": "lines",
         "name": "Tommy atkin",
         "type": "scatter",
         "x": [
          "Stage 1",
          "Stage 2",
          "Stage 3",
          "Stage 4",
          "Stage 5"
         ],
         "y": [
          169.39,
          151.44,
          74.92,
          60.81,
          3.83
         ]
        }
       ],
       "layout": {
        "autosize": true,
        "template": {
         "data": {
          "bar": [
           {
            "error_x": {
             "color": "#2a3f5f"
            },
            "error_y": {
             "color": "#2a3f5f"
            },
            "marker": {
             "line": {
              "color": "#E5ECF6",
              "width": 0.5
             },
             "pattern": {
              "fillmode": "overlay",
              "size": 10,
              "solidity": 0.2
             }
            },
            "type": "bar"
           }
          ],
          "barpolar": [
           {
            "marker": {
             "line": {
              "color": "#E5ECF6",
              "width": 0.5
             },
             "pattern": {
              "fillmode": "overlay",
              "size": 10,
              "solidity": 0.2
             }
            },
            "type": "barpolar"
           }
          ],
          "carpet": [
           {
            "aaxis": {
             "endlinecolor": "#2a3f5f",
             "gridcolor": "white",
             "linecolor": "white",
             "minorgridcolor": "white",
             "startlinecolor": "#2a3f5f"
            },
            "baxis": {
             "endlinecolor": "#2a3f5f",
             "gridcolor": "white",
             "linecolor": "white",
             "minorgridcolor": "white",
             "startlinecolor": "#2a3f5f"
            },
            "type": "carpet"
           }
          ],
          "choropleth": [
           {
            "colorbar": {
             "outlinewidth": 0,
             "ticks": ""
            },
            "type": "choropleth"
           }
          ],
          "contour": [
           {
            "colorbar": {
             "outlinewidth": 0,
             "ticks": ""
            },
            "colorscale": [
             [
              0,
              "#0d0887"
             ],
             [
              0.1111111111111111,
              "#46039f"
             ],
             [
              0.2222222222222222,
              "#7201a8"
             ],
             [
              0.3333333333333333,
              "#9c179e"
             ],
             [
              0.4444444444444444,
              "#bd3786"
             ],
             [
              0.5555555555555556,
              "#d8576b"
             ],
             [
              0.6666666666666666,
              "#ed7953"
             ],
             [
              0.7777777777777778,
              "#fb9f3a"
             ],
             [
              0.8888888888888888,
              "#fdca26"
             ],
             [
              1,
              "#f0f921"
             ]
            ],
            "type": "contour"
           }
          ],
          "contourcarpet": [
           {
            "colorbar": {
             "outlinewidth": 0,
             "ticks": ""
            },
            "type": "contourcarpet"
           }
          ],
          "heatmap": [
           {
            "colorbar": {
             "outlinewidth": 0,
             "ticks": ""
            },
            "colorscale": [
             [
              0,
              "#0d0887"
             ],
             [
              0.1111111111111111,
              "#46039f"
             ],
             [
              0.2222222222222222,
              "#7201a8"
             ],
             [
              0.3333333333333333,
              "#9c179e"
             ],
             [
              0.4444444444444444,
              "#bd3786"
             ],
             [
              0.5555555555555556,
              "#d8576b"
             ],
             [
              0.6666666666666666,
              "#ed7953"
             ],
             [
              0.7777777777777778,
              "#fb9f3a"
             ],
             [
              0.8888888888888888,
              "#fdca26"
             ],
             [
              1,
              "#f0f921"
             ]
            ],
            "type": "heatmap"
           }
          ],
          "heatmapgl": [
           {
            "colorbar": {
             "outlinewidth": 0,
             "ticks": ""
            },
            "colorscale": [
             [
              0,
              "#0d0887"
             ],
             [
              0.1111111111111111,
              "#46039f"
             ],
             [
              0.2222222222222222,
              "#7201a8"
             ],
             [
              0.3333333333333333,
              "#9c179e"
             ],
             [
              0.4444444444444444,
              "#bd3786"
             ],
             [
              0.5555555555555556,
              "#d8576b"
             ],
             [
              0.6666666666666666,
              "#ed7953"
             ],
             [
              0.7777777777777778,
              "#fb9f3a"
             ],
             [
              0.8888888888888888,
              "#fdca26"
             ],
             [
              1,
              "#f0f921"
             ]
            ],
            "type": "heatmapgl"
           }
          ],
          "histogram": [
           {
            "marker": {
             "pattern": {
              "fillmode": "overlay",
              "size": 10,
              "solidity": 0.2
             }
            },
            "type": "histogram"
           }
          ],
          "histogram2d": [
           {
            "colorbar": {
             "outlinewidth": 0,
             "ticks": ""
            },
            "colorscale": [
             [
              0,
              "#0d0887"
             ],
             [
              0.1111111111111111,
              "#46039f"
             ],
             [
              0.2222222222222222,
              "#7201a8"
             ],
             [
              0.3333333333333333,
              "#9c179e"
             ],
             [
              0.4444444444444444,
              "#bd3786"
             ],
             [
              0.5555555555555556,
              "#d8576b"
             ],
             [
              0.6666666666666666,
              "#ed7953"
             ],
             [
              0.7777777777777778,
              "#fb9f3a"
             ],
             [
              0.8888888888888888,
              "#fdca26"
             ],
             [
              1,
              "#f0f921"
             ]
            ],
            "type": "histogram2d"
           }
          ],
          "histogram2dcontour": [
           {
            "colorbar": {
             "outlinewidth": 0,
             "ticks": ""
            },
            "colorscale": [
             [
              0,
              "#0d0887"
             ],
             [
              0.1111111111111111,
              "#46039f"
             ],
             [
              0.2222222222222222,
              "#7201a8"
             ],
             [
              0.3333333333333333,
              "#9c179e"
             ],
             [
              0.4444444444444444,
              "#bd3786"
             ],
             [
              0.5555555555555556,
              "#d8576b"
             ],
             [
              0.6666666666666666,
              "#ed7953"
             ],
             [
              0.7777777777777778,
              "#fb9f3a"
             ],
             [
              0.8888888888888888,
              "#fdca26"
             ],
             [
              1,
              "#f0f921"
             ]
            ],
            "type": "histogram2dcontour"
           }
          ],
          "mesh3d": [
           {
            "colorbar": {
             "outlinewidth": 0,
             "ticks": ""
            },
            "type": "mesh3d"
           }
          ],
          "parcoords": [
           {
            "line": {
             "colorbar": {
              "outlinewidth": 0,
              "ticks": ""
             }
            },
            "type": "parcoords"
           }
          ],
          "pie": [
           {
            "automargin": true,
            "type": "pie"
           }
          ],
          "scatter": [
           {
            "fillpattern": {
             "fillmode": "overlay",
             "size": 10,
             "solidity": 0.2
            },
            "type": "scatter"
           }
          ],
          "scatter3d": [
           {
            "line": {
             "colorbar": {
              "outlinewidth": 0,
              "ticks": ""
             }
            },
            "marker": {
             "colorbar": {
              "outlinewidth": 0,
              "ticks": ""
             }
            },
            "type": "scatter3d"
           }
          ],
          "scattercarpet": [
           {
            "marker": {
             "colorbar": {
              "outlinewidth": 0,
              "ticks": ""
             }
            },
            "type": "scattercarpet"
           }
          ],
          "scattergeo": [
           {
            "marker": {
             "colorbar": {
              "outlinewidth": 0,
              "ticks": ""
             }
            },
            "type": "scattergeo"
           }
          ],
          "scattergl": [
           {
            "marker": {
             "colorbar": {
              "outlinewidth": 0,
              "ticks": ""
             }
            },
            "type": "scattergl"
           }
          ],
          "scattermapbox": [
           {
            "marker": {
             "colorbar": {
              "outlinewidth": 0,
              "ticks": ""
             }
            },
            "type": "scattermapbox"
           }
          ],
          "scatterpolar": [
           {
            "marker": {
             "colorbar": {
              "outlinewidth": 0,
              "ticks": ""
             }
            },
            "type": "scatterpolar"
           }
          ],
          "scatterpolargl": [
           {
            "marker": {
             "colorbar": {
              "outlinewidth": 0,
              "ticks": ""
             }
            },
            "type": "scatterpolargl"
           }
          ],
          "scatterternary": [
           {
            "marker": {
             "colorbar": {
              "outlinewidth": 0,
              "ticks": ""
             }
            },
            "type": "scatterternary"
           }
          ],
          "surface": [
           {
            "colorbar": {
             "outlinewidth": 0,
             "ticks": ""
            },
            "colorscale": [
             [
              0,
              "#0d0887"
             ],
             [
              0.1111111111111111,
              "#46039f"
             ],
             [
              0.2222222222222222,
              "#7201a8"
             ],
             [
              0.3333333333333333,
              "#9c179e"
             ],
             [
              0.4444444444444444,
              "#bd3786"
             ],
             [
              0.5555555555555556,
              "#d8576b"
             ],
             [
              0.6666666666666666,
              "#ed7953"
             ],
             [
              0.7777777777777778,
              "#fb9f3a"
             ],
             [
              0.8888888888888888,
              "#fdca26"
             ],
             [
              1,
              "#f0f921"
             ]
            ],
            "type": "surface"
           }
          ],
          "table": [
           {
            "cells": {
             "fill": {
              "color": "#EBF0F8"
             },
             "line": {
              "color": "white"
             }
            },
            "header": {
             "fill": {
              "color": "#C8D4E3"
             },
             "line": {
              "color": "white"
             }
            },
            "type": "table"
           }
          ]
         },
         "layout": {
          "annotationdefaults": {
           "arrowcolor": "#2a3f5f",
           "arrowhead": 0,
           "arrowwidth": 1
          },
          "autotypenumbers": "strict",
          "coloraxis": {
           "colorbar": {
            "outlinewidth": 0,
            "ticks": ""
           }
          },
          "colorscale": {
           "diverging": [
            [
             0,
             "#8e0152"
            ],
            [
             0.1,
             "#c51b7d"
            ],
            [
             0.2,
             "#de77ae"
            ],
            [
             0.3,
             "#f1b6da"
            ],
            [
             0.4,
             "#fde0ef"
            ],
            [
             0.5,
             "#f7f7f7"
            ],
            [
             0.6,
             "#e6f5d0"
            ],
            [
             0.7,
             "#b8e186"
            ],
            [
             0.8,
             "#7fbc41"
            ],
            [
             0.9,
             "#4d9221"
            ],
            [
             1,
             "#276419"
            ]
           ],
           "sequential": [
            [
             0,
             "#0d0887"
            ],
            [
             0.1111111111111111,
             "#46039f"
            ],
            [
             0.2222222222222222,
             "#7201a8"
            ],
            [
             0.3333333333333333,
             "#9c179e"
            ],
            [
             0.4444444444444444,
             "#bd3786"
            ],
            [
             0.5555555555555556,
             "#d8576b"
            ],
            [
             0.6666666666666666,
             "#ed7953"
            ],
            [
             0.7777777777777778,
             "#fb9f3a"
            ],
            [
             0.8888888888888888,
             "#fdca26"
            ],
            [
             1,
             "#f0f921"
            ]
           ],
           "sequentialminus": [
            [
             0,
             "#0d0887"
            ],
            [
             0.1111111111111111,
             "#46039f"
            ],
            [
             0.2222222222222222,
             "#7201a8"
            ],
            [
             0.3333333333333333,
             "#9c179e"
            ],
            [
             0.4444444444444444,
             "#bd3786"
            ],
            [
             0.5555555555555556,
             "#d8576b"
            ],
            [
             0.6666666666666666,
             "#ed7953"
            ],
            [
             0.7777777777777778,
             "#fb9f3a"
            ],
            [
             0.8888888888888888,
             "#fdca26"
            ],
            [
             1,
             "#f0f921"
            ]
           ]
          },
          "colorway": [
           "#636efa",
           "#EF553B",
           "#00cc96",
           "#ab63fa",
           "#FFA15A",
           "#19d3f3",
           "#FF6692",
           "#B6E880",
           "#FF97FF",
           "#FECB52"
          ],
          "font": {
           "color": "#2a3f5f"
          },
          "geo": {
           "bgcolor": "white",
           "lakecolor": "white",
           "landcolor": "#E5ECF6",
           "showlakes": true,
           "showland": true,
           "subunitcolor": "white"
          },
          "hoverlabel": {
           "align": "left"
          },
          "hovermode": "closest",
          "mapbox": {
           "style": "light"
          },
          "paper_bgcolor": "white",
          "plot_bgcolor": "#E5ECF6",
          "polar": {
           "angularaxis": {
            "gridcolor": "white",
            "linecolor": "white",
            "ticks": ""
           },
           "bgcolor": "#E5ECF6",
           "radialaxis": {
            "gridcolor": "white",
            "linecolor": "white",
            "ticks": ""
           }
          },
          "scene": {
           "xaxis": {
            "backgroundcolor": "#E5ECF6",
            "gridcolor": "white",
            "gridwidth": 2,
            "linecolor": "white",
            "showbackground": true,
            "ticks": "",
            "zerolinecolor": "white"
           },
           "yaxis": {
            "backgroundcolor": "#E5ECF6",
            "gridcolor": "white",
            "gridwidth": 2,
            "linecolor": "white",
            "showbackground": true,
            "ticks": "",
            "zerolinecolor": "white"
           },
           "zaxis": {
            "backgroundcolor": "#E5ECF6",
            "gridcolor": "white",
            "gridwidth": 2,
            "linecolor": "white",
            "showbackground": true,
            "ticks": "",
            "zerolinecolor": "white"
           }
          },
          "shapedefaults": {
           "line": {
            "color": "#2a3f5f"
           }
          },
          "ternary": {
           "aaxis": {
            "gridcolor": "white",
            "linecolor": "white",
            "ticks": ""
           },
           "baxis": {
            "gridcolor": "white",
            "linecolor": "white",
            "ticks": ""
           },
           "bgcolor": "#E5ECF6",
           "caxis": {
            "gridcolor": "white",
            "linecolor": "white",
            "ticks": ""
           }
          },
          "title": {
           "x": 0.05
          },
          "xaxis": {
           "automargin": true,
           "gridcolor": "white",
           "linecolor": "white",
           "ticks": "",
           "title": {
            "standoff": 15
           },
           "zerolinecolor": "white",
           "zerolinewidth": 2
          },
          "yaxis": {
           "automargin": true,
           "gridcolor": "white",
           "linecolor": "white",
           "ticks": "",
           "title": {
            "standoff": 15
           },
           "zerolinecolor": "white",
           "zerolinewidth": 2
          }
         }
        },
        "title": {
         "text": "Variation of Tannins for Each Mango Variety in Peel"
        },
        "xaxis": {
         "autorange": true,
         "range": [
          0,
          4
         ],
         "title": {
          "text": "Ripening Stage"
         },
         "type": "category"
        },
        "yaxis": {
         "autorange": true,
         "range": [
          -9.096666666666666,
          204.63666666666666
         ],
         "title": {
          "text": "Peel"
         },
         "type": "linear"
        }
       }
      },
      "image/png": "[encoded data removed]",
      "text/html": [
       "<div>                            <div id=\"1eff2ebd-09ef-4db7-ae4b-1ae0390c6d9e\" class=\"plotly-graph-div\" style=\"height:525px; width:100%;\"></div>            <script type=\"text/javascript\">                require([\"plotly\"], function(Plotly) {                    window.PLOTLYENV=window.PLOTLYENV || {};                                    if (document.getElementById(\"1eff2ebd-09ef-4db7-ae4b-1ae0390c6d9e\")) {                    Plotly.newPlot(                        \"1eff2ebd-09ef-4db7-ae4b-1ae0390c6d9e\",                        [{\"mode\":\"lines\",\"name\":\"Apple mango\",\"x\":[\"Stage 1\",\"Stage 2\",\"Stage 3\",\"Stage 4\",\"Stage 5\"],\"y\":[155.35,150.07,73.19,60.73,2.82],\"type\":\"scatter\"},{\"mode\":\"lines\",\"name\":\"Asante\",\"x\":[\"Stage 1\",\"Stage 2\",\"Stage 3\",\"Stage 4\",\"Stage 5\"],\"y\":[158.85,150.39,71.46,70.23,3.58],\"type\":\"scatter\"},{\"mode\":\"lines\",\"name\":\"Batawi\",\"x\":[\"Stage 1\",\"Stage 2\",\"Stage 3\",\"Stage 4\",\"Stage 5\"],\"y\":[150.36,148.5,82.73,52.02,1.59],\"type\":\"scatter\"},{\"mode\":\"lines\",\"name\":\"Bire\",\"x\":[\"Stage 1\",\"Stage 2\",\"Stage 3\",\"Stage 4\",\"Stage 5\"],\"y\":[148.48,147.63,84.37,81.77,1.89],\"type\":\"scatter\"},{\"mode\":\"lines\",\"name\":\"Boribo\",\"x\":[\"Stage 1\",\"Stage 2\",\"Stage 3\",\"Stage 4\",\"Stage 5\"],\"y\":[169.77,147.09,85.46,61.77,2.6],\"type\":\"scatter\"},{\"mode\":\"lines\",\"name\":\"Doodo\",\"x\":[\"Stage 1\",\"Stage 2\",\"Stage 3\",\"Stage 4\",\"Stage 5\"],\"y\":[147.15,133.17,69.84,57.89,3.83],\"type\":\"scatter\"},{\"mode\":\"lines\",\"name\":\"Kagoogwa\",\"x\":[\"Stage 1\",\"Stage 2\",\"Stage 3\",\"Stage 4\",\"Stage 5\"],\"y\":[157.63,156.25,93.12,74.32,2.76],\"type\":\"scatter\"},{\"mode\":\"lines\",\"name\":\"Koona\",\"x\":[\"Stage 1\",\"Stage 2\",\"Stage 3\",\"Stage 4\",\"Stage 5\"],\"y\":[173.6,139.01,57.47,52.08,1.99],\"type\":\"scatter\"},{\"mode\":\"lines\",\"name\":\"Mabbere\",\"x\":[\"Stage 1\",\"Stage 2\",\"Stage 3\",\"Stage 4\",\"Stage 5\"],\"y\":[179.27,153.1,73.19,57.92,3.56],\"type\":\"scatter\"},{\"mode\":\"lines\",\"name\":\"Sayuni\",\"x\":[\"Stage 1\",\"Stage 2\",\"Stage 3\",\"Stage 4\",\"Stage 5\"],\"y\":[150.28,148.41,68.33,57.79,7.81],\"type\":\"scatter\"},{\"mode\":\"lines\",\"name\":\"Ssejjembe\",\"x\":[\"Stage 1\",\"Stage 2\",\"Stage 3\",\"Stage 4\",\"Stage 5\"],\"y\":[150.87,130.96,73.96,62.13,5.69],\"type\":\"scatter\"},{\"mode\":\"lines\",\"name\":\"Takataka\",\"x\":[\"Stage 1\",\"Stage 2\",\"Stage 3\",\"Stage 4\",\"Stage 5\"],\"y\":[181.88,158.29,72.99,65.32,5.46],\"type\":\"scatter\"},{\"mode\":\"lines\",\"name\":\"Kakule\",\"x\":[\"Stage 1\",\"Stage 2\",\"Stage 3\",\"Stage 4\",\"Stage 5\"],\"y\":[174.18,156.5,68.44,67.3,6.62],\"type\":\"scatter\"},{\"mode\":\"lines\",\"name\":\"Duncan\",\"x\":[\"Stage 1\",\"Stage 2\",\"Stage 3\",\"Stage 4\",\"Stage 5\"],\"y\":[150.36,149.61,75.31,66.02,1.67],\"type\":\"scatter\"},{\"mode\":\"lines\",\"name\":\"Fairchild\",\"x\":[\"Stage 1\",\"Stage 2\",\"Stage 3\",\"Stage 4\",\"Stage 5\"],\"y\":[172.16,150.64,72.86,59.72,3.5],\"type\":\"scatter\"},{\"mode\":\"lines\",\"name\":\"Julie\",\"x\":[\"Stage 1\",\"Stage 2\",\"Stage 3\",\"Stage 4\",\"Stage 5\"],\"y\":[164.99,154.25,75.79,57.67,2.77],\"type\":\"scatter\"},{\"mode\":\"lines\",\"name\":\"Kapisa\",\"x\":[\"Stage 1\",\"Stage 2\",\"Stage 3\",\"Stage 4\",\"Stage 5\"],\"y\":[167.69,159.25,68.33,46.16,6.73],\"type\":\"scatter\"},{\"mode\":\"lines\",\"name\":\"Kent\",\"x\":[\"Stage 1\",\"Stage 2\",\"Stage 3\",\"Stage 4\",\"Stage 5\"],\"y\":[174.59,151.14,74.15,46.92,8.77],\"type\":\"scatter\"},{\"mode\":\"lines\",\"name\":\"Palmer\",\"x\":[\"Stage 1\",\"Stage 2\",\"Stage 3\",\"Stage 4\",\"Stage 5\"],\"y\":[193.95,154.32,53.01,44.96,4.85],\"type\":\"scatter\"},{\"mode\":\"lines\",\"name\":\"Ponde\",\"x\":[\"Stage 1\",\"Stage 2\",\"Stage 3\",\"Stage 4\",\"Stage 5\"],\"y\":[176.11,154.9,69.07,61.59,6.82],\"type\":\"scatter\"},{\"mode\":\"lines\",\"name\":\"Seena\",\"x\":[\"Stage 1\",\"Stage 2\",\"Stage 3\",\"Stage 4\",\"Stage 5\"],\"y\":[163.74,136.83,72.38,63.57,6.55],\"type\":\"scatter\"},{\"mode\":\"lines\",\"name\":\"Tommy atkin\",\"x\":[\"Stage 1\",\"Stage 2\",\"Stage 3\",\"Stage 4\",\"Stage 5\"],\"y\":[169.39,151.44,74.92,60.81,3.83],\"type\":\"scatter\"}],                        {\"title\":{\"text\":\"Variation of Tannins for Each Mango Variety in Peel\"},\"xaxis\":{\"title\":{\"text\":\"Ripening Stage\"}},\"yaxis\":{\"title\":{\"text\":\"Peel\"}},\"template\":{\"data\":{\"histogram2dcontour\":[{\"type\":\"histogram2dcontour\",\"colorbar\":{\"outlinewidth\":0,\"ticks\":\"\"},\"colorscale\":[[0.0,\"#0d0887\"],[0.1111111111111111,\"#46039f\"],[0.2222222222222222,\"#7201a8\"],[0.3333333333333333,\"#9c179e\"],[0.4444444444444444,\"#bd3786\"],[0.5555555555555556,\"#d8576b\"],[0.6666666666666666,\"#ed7953\"],[0.7777777777777778,\"#fb9f3a\"],[0.8888888888888888,\"#fdca26\"],[1.0,\"#f0f921\"]]}],\"choropleth\":[{\"type\":\"choropleth\",\"colorbar\":{\"outlinewidth\":0,\"ticks\":\"\"}}],\"histogram2d\":[{\"type\":\"histogram2d\",\"colorbar\":{\"outlinewidth\":0,\"ticks\":\"\"},\"colorscale\":[[0.0,\"#0d0887\"],[0.1111111111111111,\"#46039f\"],[0.2222222222222222,\"#7201a8\"],[0.3333333333333333,\"#9c179e\"],[0.4444444444444444,\"#bd3786\"],[0.5555555555555556,\"#d8576b\"],[0.6666666666666666,\"#ed7953\"],[0.7777777777777778,\"#fb9f3a\"],[0.8888888888888888,\"#fdca26\"],[1.0,\"#f0f921\"]]}],\"heatmap\":[{\"type\":\"heatmap\",\"colorbar\":{\"outlinewidth\":0,\"ticks\":\"\"},\"colorscale\":[[0.0,\"#0d0887\"],[0.1111111111111111,\"#46039f\"],[0.2222222222222222,\"#7201a8\"],[0.3333333333333333,\"#9c179e\"],[0.4444444444444444,\"#bd3786\"],[0.5555555555555556,\"#d8576b\"],[0.6666666666666666,\"#ed7953\"],[0.7777777777777778,\"#fb9f3a\"],[0.8888888888888888,\"#fdca26\"],[1.0,\"#f0f921\"]]}],\"heatmapgl\":[{\"type\":\"heatmapgl\",\"colorbar\":{\"outlinewidth\":0,\"ticks\":\"\"},\"colorscale\":[[0.0,\"#0d0887\"],[0.1111111111111111,\"#46039f\"],[0.2222222222222222,\"#7201a8\"],[0.3333333333333333,\"#9c179e\"],[0.4444444444444444,\"#bd3786\"],[0.5555555555555556,\"#d8576b\"],[0.6666666666666666,\"#ed7953\"],[0.7777777777777778,\"#fb9f3a\"],[0.8888888888888888,\"#fdca26\"],[1.0,\"#f0f921\"]]}],\"contourcarpet\":[{\"type\":\"contourcarpet\",\"colorbar\":{\"outlinewidth\":0,\"ticks\":\"\"}}],\"contour\":[{\"type\":\"contour\",\"colorbar\":{\"outlinewidth\":0,\"ticks\":\"\"},\"colorscale\":[[0.0,\"#0d0887\"],[0.1111111111111111,\"#46039f\"],[0.2222222222222222,\"#7201a8\"],[0.3333333333333333,\"#9c179e\"],[0.4444444444444444,\"#bd3786\"],[0.5555555555555556,\"#d8576b\"],[0.6666666666666666,\"#ed7953\"],[0.7777777777777778,\"#fb9f3a\"],[0.8888888888888888,\"#fdca26\"],[1.0,\"#f0f921\"]]}],\"surface\":[{\"type\":\"surface\",\"colorbar\":{\"outlinewidth\":0,\"ticks\":\"\"},\"colorscale\":[[0.0,\"#0d0887\"],[0.1111111111111111,\"#46039f\"],[0.2222222222222222,\"#7201a8\"],[0.3333333333333333,\"#9c179e\"],[0.4444444444444444,\"#bd3786\"],[0.5555555555555556,\"#d8576b\"],[0.6666666666666666,\"#ed7953\"],[0.7777777777777778,\"#fb9f3a\"],[0.8888888888888888,\"#fdca26\"],[1.0,\"#f0f921\"]]}],\"mesh3d\":[{\"type\":\"mesh3d\",\"colorbar\":{\"outlinewidth\":0,\"ticks\":\"\"}}],\"scatter\":[{\"fillpattern\":{\"fillmode\":\"overlay\",\"size\":10,\"solidity\":0.2},\"type\":\"scatter\"}],\"parcoords\":[{\"type\":\"parcoords\",\"line\":{\"colorbar\":{\"outlinewidth\":0,\"ticks\":\"\"}}}],\"scatterpolargl\":[{\"type\":\"scatterpolargl\",\"marker\":{\"colorbar\":{\"outlinewidth\":0,\"ticks\":\"\"}}}],\"bar\":[{\"error_x\":{\"color\":\"#2a3f5f\"},\"error_y\":{\"color\":\"#2a3f5f\"},\"marker\":{\"line\":{\"color\":\"#E5ECF6\",\"width\":0.5},\"pattern\":{\"fillmode\":\"overlay\",\"size\":10,\"solidity\":0.2}},\"type\":\"bar\"}],\"scattergeo\":[{\"type\":\"scattergeo\",\"marker\":{\"colorbar\":{\"outlinewidth\":0,\"ticks\":\"\"}}}],\"scatterpolar\":[{\"type\":\"scatterpolar\",\"marker\":{\"colorbar\":{\"outlinewidth\":0,\"ticks\":\"\"}}}],\"histogram\":[{\"marker\":{\"pattern\":{\"fillmode\":\"overlay\",\"size\":10,\"solidity\":0.2}},\"type\":\"histogram\"}],\"scattergl\":[{\"type\":\"scattergl\",\"marker\":{\"colorbar\":{\"outlinewidth\":0,\"ticks\":\"\"}}}],\"scatter3d\":[{\"type\":\"scatter3d\",\"line\":{\"colorbar\":{\"outlinewidth\":0,\"ticks\":\"\"}},\"marker\":{\"colorbar\":{\"outlinewidth\":0,\"ticks\":\"\"}}}],\"scattermapbox\":[{\"type\":\"scattermapbox\",\"marker\":{\"colorbar\":{\"outlinewidth\":0,\"ticks\":\"\"}}}],\"scatterternary\":[{\"type\":\"scatterternary\",\"marker\":{\"colorbar\":{\"outlinewidth\":0,\"ticks\":\"\"}}}],\"scattercarpet\":[{\"type\":\"scattercarpet\",\"marker\":{\"colorbar\":{\"outlinewidth\":0,\"ticks\":\"\"}}}],\"carpet\":[{\"aaxis\":{\"endlinecolor\":\"#2a3f5f\",\"gridcolor\":\"white\",\"linecolor\":\"white\",\"minorgridcolor\":\"white\",\"startlinecolor\":\"#2a3f5f\"},\"baxis\":{\"endlinecolor\":\"#2a3f5f\",\"gridcolor\":\"white\",\"linecolor\":\"white\",\"minorgridcolor\":\"white\",\"startlinecolor\":\"#2a3f5f\"},\"type\":\"carpet\"}],\"table\":[{\"cells\":{\"fill\":{\"color\":\"#EBF0F8\"},\"line\":{\"color\":\"white\"}},\"header\":{\"fill\":{\"color\":\"#C8D4E3\"},\"line\":{\"color\":\"white\"}},\"type\":\"table\"}],\"barpolar\":[{\"marker\":{\"line\":{\"color\":\"#E5ECF6\",\"width\":0.5},\"pattern\":{\"fillmode\":\"overlay\",\"size\":10,\"solidity\":0.2}},\"type\":\"barpolar\"}],\"pie\":[{\"automargin\":true,\"type\":\"pie\"}]},\"layout\":{\"autotypenumbers\":\"strict\",\"colorway\":[\"#636efa\",\"#EF553B\",\"#00cc96\",\"#ab63fa\",\"#FFA15A\",\"#19d3f3\",\"#FF6692\",\"#B6E880\",\"#FF97FF\",\"#FECB52\"],\"font\":{\"color\":\"#2a3f5f\"},\"hovermode\":\"closest\",\"hoverlabel\":{\"align\":\"left\"},\"paper_bgcolor\":\"white\",\"plot_bgcolor\":\"#E5ECF6\",\"polar\":{\"bgcolor\":\"#E5ECF6\",\"angularaxis\":{\"gridcolor\":\"white\",\"linecolor\":\"white\",\"ticks\":\"\"},\"radialaxis\":{\"gridcolor\":\"white\",\"linecolor\":\"white\",\"ticks\":\"\"}},\"ternary\":{\"bgcolor\":\"#E5ECF6\",\"aaxis\":{\"gridcolor\":\"white\",\"linecolor\":\"white\",\"ticks\":\"\"},\"baxis\":{\"gridcolor\":\"white\",\"linecolor\":\"white\",\"ticks\":\"\"},\"caxis\":{\"gridcolor\":\"white\",\"linecolor\":\"white\",\"ticks\":\"\"}},\"coloraxis\":{\"colorbar\":{\"outlinewidth\":0,\"ticks\":\"\"}},\"colorscale\":{\"sequential\":[[0.0,\"#0d0887\"],[0.1111111111111111,\"#46039f\"],[0.2222222222222222,\"#7201a8\"],[0.3333333333333333,\"#9c179e\"],[0.4444444444444444,\"#bd3786\"],[0.5555555555555556,\"#d8576b\"],[0.6666666666666666,\"#ed7953\"],[0.7777777777777778,\"#fb9f3a\"],[0.8888888888888888,\"#fdca26\"],[1.0,\"#f0f921\"]],\"sequentialminus\":[[0.0,\"#0d0887\"],[0.1111111111111111,\"#46039f\"],[0.2222222222222222,\"#7201a8\"],[0.3333333333333333,\"#9c179e\"],[0.4444444444444444,\"#bd3786\"],[0.5555555555555556,\"#d8576b\"],[0.6666666666666666,\"#ed7953\"],[0.7777777777777778,\"#fb9f3a\"],[0.8888888888888888,\"#fdca26\"],[1.0,\"#f0f921\"]],\"diverging\":[[0,\"#8e0152\"],[0.1,\"#c51b7d\"],[0.2,\"#de77ae\"],[0.3,\"#f1b6da\"],[0.4,\"#fde0ef\"],[0.5,\"#f7f7f7\"],[0.6,\"#e6f5d0\"],[0.7,\"#b8e186\"],[0.8,\"#7fbc41\"],[0.9,\"#4d9221\"],[1,\"#276419\"]]},\"xaxis\":{\"gridcolor\":\"white\",\"linecolor\":\"white\",\"ticks\":\"\",\"title\":{\"standoff\":15},\"zerolinecolor\":\"white\",\"automargin\":true,\"zerolinewidth\":2},\"yaxis\":{\"gridcolor\":\"white\",\"linecolor\":\"white\",\"ticks\":\"\",\"title\":{\"standoff\":15},\"zerolinecolor\":\"white\",\"automargin\":true,\"zerolinewidth\":2},\"scene\":{\"xaxis\":{\"backgroundcolor\":\"#E5ECF6\",\"gridcolor\":\"white\",\"linecolor\":\"white\",\"showbackground\":true,\"ticks\":\"\",\"zerolinecolor\":\"white\",\"gridwidth\":2},\"yaxis\":{\"backgroundcolor\":\"#E5ECF6\",\"gridcolor\":\"white\",\"linecolor\":\"white\",\"showbackground\":true,\"ticks\":\"\",\"zerolinecolor\":\"white\",\"gridwidth\":2},\"zaxis\":{\"backgroundcolor\":\"#E5ECF6\",\"gridcolor\":\"white\",\"linecolor\":\"white\",\"showbackground\":true,\"ticks\":\"\",\"zerolinecolor\":\"white\",\"gridwidth\":2}},\"shapedefaults\":{\"line\":{\"color\":\"#2a3f5f\"}},\"annotationdefaults\":{\"arrowcolor\":\"#2a3f5f\",\"arrowhead\":0,\"arrowwidth\":1},\"geo\":{\"bgcolor\":\"white\",\"landcolor\":\"#E5ECF6\",\"subunitcolor\":\"white\",\"showland\":true,\"showlakes\":true,\"lakecolor\":\"white\"},\"title\":{\"x\":0.05},\"mapbox\":{\"style\":\"light\"}}}},                        {\"responsive\": true}                    ).then(function(){\n",
       "                            \n",
       "var gd = document.getElementById('1eff2ebd-09ef-4db7-ae4b-1ae0390c6d9e');\n",
       "var x = new MutationObserver(function (mutations, observer) {{\n",
       "        var display = window.getComputedStyle(gd).display;\n",
       "        if (!display || display === 'none') {{\n",
       "            console.log([gd, 'removed!']);\n",
       "            Plotly.purge(gd);\n",
       "            observer.disconnect();\n",
       "        }}\n",
       "}});\n",
       "\n",
       "// Listen for the removal of the full notebook cells\n",
       "var notebookContainer = gd.closest('#notebook-container');\n",
       "if (notebookContainer) {{\n",
       "    x.observe(notebookContainer, {childList: true});\n",
       "}}\n",
       "\n",
       "// Listen for the clearing of the current output cell\n",
       "var outputEl = gd.closest('.output');\n",
       "if (outputEl) {{\n",
       "    x.observe(outputEl, {childList: true});\n",
       "}}\n",
       "\n",
       "                        })                };                });            </script>        </div>"
      ]
     },
     "metadata": {},
     "output_type": "display_data"
    }
   ],
   "source": [
    "# Create traces for each mango variety\n",
    "traces = []\n",
    "for variety in data['Mango variety'].unique():\n",
    "    subset = data[data['Mango variety'] == variety]\n",
    "    trace = go.Scatter(x=subset['Ripening stage'], y=subset['Peel'], mode='lines', name=variety)\n",
    "    traces.append(trace)\n",
    "\n",
    "# Create layout\n",
    "layout = go.Layout(title='Variation of Tannins for Each Mango Variety in Peel',\n",
    "                   xaxis=dict(title='Ripening Stage'),\n",
    "                   yaxis=dict(title='Peel'))\n",
    "\n",
    "# Create figure\n",
    "fig = go.Figure(data=traces, layout=layout)\n",
    "\n",
    "# Plot figure\n",
    "pio.show(fig)"
   ]
  },
  {
   "cell_type": "code",
   "execution_count": 17,
   "id": "90f068e2-a6e0-4eac-8e27-4389101f5070",
   "metadata": {},
   "outputs": [
    {
     "data": {
      "application/vnd.plotly.v1+json": {
       "config": {
        "plotlyServerURL": "https://plot.ly"
       },
       "data": [
        {
         "mode": "lines",
         "name": "Apple mango",
         "type": "scatter",
         "x": [
          "Stage 1",
          "Stage 2",
          "Stage 3",
          "Stage 4",
          "Stage 5"
         ],
         "y": [
          128.29,
          107.07,
          95.27,
          73.31,
          2.69
         ]
        },
        {
         "mode": "lines",
         "name": "Asante",
         "type": "scatter",
         "x": [
          "Stage 1",
          "Stage 2",
          "Stage 3",
          "Stage 4",
          "Stage 5"
         ],
         "y": [
          110.55,
          106.13,
          70.23,
          37.44,
          1.79
         ]
        },
        {
         "mode": "lines",
         "name": "Batawi",
         "type": "scatter",
         "x": [
          "Stage 1",
          "Stage 2",
          "Stage 3",
          "Stage 4",
          "Stage 5"
         ],
         "y": [
          134.74,
          106.82,
          82.73,
          61.88,
          1.41
         ]
        },
        {
         "mode": "lines",
         "name": "Bire",
         "type": "scatter",
         "x": [
          "Stage 1",
          "Stage 2",
          "Stage 3",
          "Stage 4",
          "Stage 5"
         ],
         "y": [
          153.96,
          101.32,
          84.37,
          54.99,
          2.35
         ]
        },
        {
         "mode": "lines",
         "name": "Boribo",
         "type": "scatter",
         "x": [
          "Stage 1",
          "Stage 2",
          "Stage 3",
          "Stage 4",
          "Stage 5"
         ],
         "y": [
          185.98,
          144.22,
          85.46,
          34.38,
          2.66
         ]
        },
        {
         "mode": "lines",
         "name": "Doodo",
         "type": "scatter",
         "x": [
          "Stage 1",
          "Stage 2",
          "Stage 3",
          "Stage 4",
          "Stage 5"
         ],
         "y": [
          138.37,
          91.15,
          69.84,
          11.44,
          3.76
         ]
        },
        {
         "mode": "lines",
         "name": "Kagoogwa",
         "type": "scatter",
         "x": [
          "Stage 1",
          "Stage 2",
          "Stage 3",
          "Stage 4",
          "Stage 5"
         ],
         "y": [
          132.04,
          107.55,
          74.32,
          20.98,
          2.53
         ]
        },
        {
         "mode": "lines",
         "name": "Koona",
         "type": "scatter",
         "x": [
          "Stage 1",
          "Stage 2",
          "Stage 3",
          "Stage 4",
          "Stage 5"
         ],
         "y": [
          130.21,
          110.84,
          57.47,
          8.59,
          0.64
         ]
        },
        {
         "mode": "lines",
         "name": "Mabbere",
         "type": "scatter",
         "x": [
          "Stage 1",
          "Stage 2",
          "Stage 3",
          "Stage 4",
          "Stage 5"
         ],
         "y": [
          113.46,
          100.77,
          57.92,
          19.89,
          2.58
         ]
        },
        {
         "mode": "lines",
         "name": "Sayuni",
         "type": "scatter",
         "x": [
          "Stage 1",
          "Stage 2",
          "Stage 3",
          "Stage 4",
          "Stage 5"
         ],
         "y": [
          161.5,
          144.77,
          68.46,
          51.63,
          6.8
         ]
        },
        {
         "mode": "lines",
         "name": "Ssejjembe",
         "type": "scatter",
         "x": [
          "Stage 1",
          "Stage 2",
          "Stage 3",
          "Stage 4",
          "Stage 5"
         ],
         "y": [
          143.3,
          132.17,
          73.96,
          71.27,
          6.66
         ]
        },
        {
         "mode": "lines",
         "name": "Takataka",
         "type": "scatter",
         "x": [
          "Stage 1",
          "Stage 2",
          "Stage 3",
          "Stage 4",
          "Stage 5"
         ],
         "y": [
          171.13,
          107.94,
          73.06,
          68.24,
          5.2
         ]
        },
        {
         "mode": "lines",
         "name": "Kakule",
         "type": "scatter",
         "x": [
          "Stage 1",
          "Stage 2",
          "Stage 3",
          "Stage 4",
          "Stage 5"
         ],
         "y": [
          160.58,
          136.57,
          68.11,
          10.58,
          4.67
         ]
        },
        {
         "mode": "lines",
         "name": "Duncan",
         "type": "scatter",
         "x": [
          "Stage 1",
          "Stage 2",
          "Stage 3",
          "Stage 4",
          "Stage 5"
         ],
         "y": [
          140.68,
          134.87,
          75.31,
          21.63,
          1.83
         ]
        },
        {
         "mode": "lines",
         "name": "Fairchild",
         "type": "scatter",
         "x": [
          "Stage 1",
          "Stage 2",
          "Stage 3",
          "Stage 4",
          "Stage 5"
         ],
         "y": [
          122.03,
          87.81,
          72.86,
          19.07,
          2.86
         ]
        },
        {
         "mode": "lines",
         "name": "Julie",
         "type": "scatter",
         "x": [
          "Stage 1",
          "Stage 2",
          "Stage 3",
          "Stage 4",
          "Stage 5"
         ],
         "y": [
          154,
          107.03,
          75.79,
          55.32,
          3.47
         ]
        },
        {
         "mode": "lines",
         "name": "Kapisa",
         "type": "scatter",
         "x": [
          "Stage 1",
          "Stage 2",
          "Stage 3",
          "Stage 4",
          "Stage 5"
         ],
         "y": [
          183.18,
          137.63,
          68.33,
          12.24,
          3.81
         ]
        },
        {
         "mode": "lines",
         "name": "Kent",
         "type": "scatter",
         "x": [
          "Stage 1",
          "Stage 2",
          "Stage 3",
          "Stage 4",
          "Stage 5"
         ],
         "y": [
          143.2,
          136.6,
          74.15,
          19.58,
          6.83
         ]
        },
        {
         "mode": "lines",
         "name": "Palmer",
         "type": "scatter",
         "x": [
          "Stage 1",
          "Stage 2",
          "Stage 3",
          "Stage 4",
          "Stage 5"
         ],
         "y": [
          154.72,
          111.86,
          44.96,
          13.4,
          4.69
         ]
        },
        {
         "mode": "lines",
         "name": "Ponde",
         "type": "scatter",
         "x": [
          "Stage 1",
          "Stage 2",
          "Stage 3",
          "Stage 4",
          "Stage 5"
         ],
         "y": [
          168.61,
          134.97,
          61.59,
          15.47,
          6.68
         ]
        },
        {
         "mode": "lines",
         "name": "Seena",
         "type": "scatter",
         "x": [
          "Stage 1",
          "Stage 2",
          "Stage 3",
          "Stage 4",
          "Stage 5"
         ],
         "y": [
          178.94,
          136.64,
          72.38,
          62.56,
          6.62
         ]
        },
        {
         "mode": "lines",
         "name": "Tommy atkin",
         "type": "scatter",
         "x": [
          "Stage 1",
          "Stage 2",
          "Stage 3",
          "Stage 4",
          "Stage 5"
         ],
         "y": [
          166.31,
          109.57,
          74.92,
          24.14,
          4.14
         ]
        }
       ],
       "layout": {
        "autosize": true,
        "template": {
         "data": {
          "bar": [
           {
            "error_x": {
             "color": "#2a3f5f"
            },
            "error_y": {
             "color": "#2a3f5f"
            },
            "marker": {
             "line": {
              "color": "#E5ECF6",
              "width": 0.5
             },
             "pattern": {
              "fillmode": "overlay",
              "size": 10,
              "solidity": 0.2
             }
            },
            "type": "bar"
           }
          ],
          "barpolar": [
           {
            "marker": {
             "line": {
              "color": "#E5ECF6",
              "width": 0.5
             },
             "pattern": {
              "fillmode": "overlay",
              "size": 10,
              "solidity": 0.2
             }
            },
            "type": "barpolar"
           }
          ],
          "carpet": [
           {
            "aaxis": {
             "endlinecolor": "#2a3f5f",
             "gridcolor": "white",
             "linecolor": "white",
             "minorgridcolor": "white",
             "startlinecolor": "#2a3f5f"
            },
            "baxis": {
             "endlinecolor": "#2a3f5f",
             "gridcolor": "white",
             "linecolor": "white",
             "minorgridcolor": "white",
             "startlinecolor": "#2a3f5f"
            },
            "type": "carpet"
           }
          ],
          "choropleth": [
           {
            "colorbar": {
             "outlinewidth": 0,
             "ticks": ""
            },
            "type": "choropleth"
           }
          ],
          "contour": [
           {
            "colorbar": {
             "outlinewidth": 0,
             "ticks": ""
            },
            "colorscale": [
             [
              0,
              "#0d0887"
             ],
             [
              0.1111111111111111,
              "#46039f"
             ],
             [
              0.2222222222222222,
              "#7201a8"
             ],
             [
              0.3333333333333333,
              "#9c179e"
             ],
             [
              0.4444444444444444,
              "#bd3786"
             ],
             [
              0.5555555555555556,
              "#d8576b"
             ],
             [
              0.6666666666666666,
              "#ed7953"
             ],
             [
              0.7777777777777778,
              "#fb9f3a"
             ],
             [
              0.8888888888888888,
              "#fdca26"
             ],
             [
              1,
              "#f0f921"
             ]
            ],
            "type": "contour"
           }
          ],
          "contourcarpet": [
           {
            "colorbar": {
             "outlinewidth": 0,
             "ticks": ""
            },
            "type": "contourcarpet"
           }
          ],
          "heatmap": [
           {
            "colorbar": {
             "outlinewidth": 0,
             "ticks": ""
            },
            "colorscale": [
             [
              0,
              "#0d0887"
             ],
             [
              0.1111111111111111,
              "#46039f"
             ],
             [
              0.2222222222222222,
              "#7201a8"
             ],
             [
              0.3333333333333333,
              "#9c179e"
             ],
             [
              0.4444444444444444,
              "#bd3786"
             ],
             [
              0.5555555555555556,
              "#d8576b"
             ],
             [
              0.6666666666666666,
              "#ed7953"
             ],
             [
              0.7777777777777778,
              "#fb9f3a"
             ],
             [
              0.8888888888888888,
              "#fdca26"
             ],
             [
              1,
              "#f0f921"
             ]
            ],
            "type": "heatmap"
           }
          ],
          "heatmapgl": [
           {
            "colorbar": {
             "outlinewidth": 0,
             "ticks": ""
            },
            "colorscale": [
             [
              0,
              "#0d0887"
             ],
             [
              0.1111111111111111,
              "#46039f"
             ],
             [
              0.2222222222222222,
              "#7201a8"
             ],
             [
              0.3333333333333333,
              "#9c179e"
             ],
             [
              0.4444444444444444,
              "#bd3786"
             ],
             [
              0.5555555555555556,
              "#d8576b"
             ],
             [
              0.6666666666666666,
              "#ed7953"
             ],
             [
              0.7777777777777778,
              "#fb9f3a"
             ],
             [
              0.8888888888888888,
              "#fdca26"
             ],
             [
              1,
              "#f0f921"
             ]
            ],
            "type": "heatmapgl"
           }
          ],
          "histogram": [
           {
            "marker": {
             "pattern": {
              "fillmode": "overlay",
              "size": 10,
              "solidity": 0.2
             }
            },
            "type": "histogram"
           }
          ],
          "histogram2d": [
           {
            "colorbar": {
             "outlinewidth": 0,
             "ticks": ""
            },
            "colorscale": [
             [
              0,
              "#0d0887"
             ],
             [
              0.1111111111111111,
              "#46039f"
             ],
             [
              0.2222222222222222,
              "#7201a8"
             ],
             [
              0.3333333333333333,
              "#9c179e"
             ],
             [
              0.4444444444444444,
              "#bd3786"
             ],
             [
              0.5555555555555556,
              "#d8576b"
             ],
             [
              0.6666666666666666,
              "#ed7953"
             ],
             [
              0.7777777777777778,
              "#fb9f3a"
             ],
             [
              0.8888888888888888,
              "#fdca26"
             ],
             [
              1,
              "#f0f921"
             ]
            ],
            "type": "histogram2d"
           }
          ],
          "histogram2dcontour": [
           {
            "colorbar": {
             "outlinewidth": 0,
             "ticks": ""
            },
            "colorscale": [
             [
              0,
              "#0d0887"
             ],
             [
              0.1111111111111111,
              "#46039f"
             ],
             [
              0.2222222222222222,
              "#7201a8"
             ],
             [
              0.3333333333333333,
              "#9c179e"
             ],
             [
              0.4444444444444444,
              "#bd3786"
             ],
             [
              0.5555555555555556,
              "#d8576b"
             ],
             [
              0.6666666666666666,
              "#ed7953"
             ],
             [
              0.7777777777777778,
              "#fb9f3a"
             ],
             [
              0.8888888888888888,
              "#fdca26"
             ],
             [
              1,
              "#f0f921"
             ]
            ],
            "type": "histogram2dcontour"
           }
          ],
          "mesh3d": [
           {
            "colorbar": {
             "outlinewidth": 0,
             "ticks": ""
            },
            "type": "mesh3d"
           }
          ],
          "parcoords": [
           {
            "line": {
             "colorbar": {
              "outlinewidth": 0,
              "ticks": ""
             }
            },
            "type": "parcoords"
           }
          ],
          "pie": [
           {
            "automargin": true,
            "type": "pie"
           }
          ],
          "scatter": [
           {
            "fillpattern": {
             "fillmode": "overlay",
             "size": 10,
             "solidity": 0.2
            },
            "type": "scatter"
           }
          ],
          "scatter3d": [
           {
            "line": {
             "colorbar": {
              "outlinewidth": 0,
              "ticks": ""
             }
            },
            "marker": {
             "colorbar": {
              "outlinewidth": 0,
              "ticks": ""
             }
            },
            "type": "scatter3d"
           }
          ],
          "scattercarpet": [
           {
            "marker": {
             "colorbar": {
              "outlinewidth": 0,
              "ticks": ""
             }
            },
            "type": "scattercarpet"
           }
          ],
          "scattergeo": [
           {
            "marker": {
             "colorbar": {
              "outlinewidth": 0,
              "ticks": ""
             }
            },
            "type": "scattergeo"
           }
          ],
          "scattergl": [
           {
            "marker": {
             "colorbar": {
              "outlinewidth": 0,
              "ticks": ""
             }
            },
            "type": "scattergl"
           }
          ],
          "scattermapbox": [
           {
            "marker": {
             "colorbar": {
              "outlinewidth": 0,
              "ticks": ""
             }
            },
            "type": "scattermapbox"
           }
          ],
          "scatterpolar": [
           {
            "marker": {
             "colorbar": {
              "outlinewidth": 0,
              "ticks": ""
             }
            },
            "type": "scatterpolar"
           }
          ],
          "scatterpolargl": [
           {
            "marker": {
             "colorbar": {
              "outlinewidth": 0,
              "ticks": ""
             }
            },
            "type": "scatterpolargl"
           }
          ],
          "scatterternary": [
           {
            "marker": {
             "colorbar": {
              "outlinewidth": 0,
              "ticks": ""
             }
            },
            "type": "scatterternary"
           }
          ],
          "surface": [
           {
            "colorbar": {
             "outlinewidth": 0,
             "ticks": ""
            },
            "colorscale": [
             [
              0,
              "#0d0887"
             ],
             [
              0.1111111111111111,
              "#46039f"
             ],
             [
              0.2222222222222222,
              "#7201a8"
             ],
             [
              0.3333333333333333,
              "#9c179e"
             ],
             [
              0.4444444444444444,
              "#bd3786"
             ],
             [
              0.5555555555555556,
              "#d8576b"
             ],
             [
              0.6666666666666666,
              "#ed7953"
             ],
             [
              0.7777777777777778,
              "#fb9f3a"
             ],
             [
              0.8888888888888888,
              "#fdca26"
             ],
             [
              1,
              "#f0f921"
             ]
            ],
            "type": "surface"
           }
          ],
          "table": [
           {
            "cells": {
             "fill": {
              "color": "#EBF0F8"
             },
             "line": {
              "color": "white"
             }
            },
            "header": {
             "fill": {
              "color": "#C8D4E3"
             },
             "line": {
              "color": "white"
             }
            },
            "type": "table"
           }
          ]
         },
         "layout": {
          "annotationdefaults": {
           "arrowcolor": "#2a3f5f",
           "arrowhead": 0,
           "arrowwidth": 1
          },
          "autotypenumbers": "strict",
          "coloraxis": {
           "colorbar": {
            "outlinewidth": 0,
            "ticks": ""
           }
          },
          "colorscale": {
           "diverging": [
            [
             0,
             "#8e0152"
            ],
            [
             0.1,
             "#c51b7d"
            ],
            [
             0.2,
             "#de77ae"
            ],
            [
             0.3,
             "#f1b6da"
            ],
            [
             0.4,
             "#fde0ef"
            ],
            [
             0.5,
             "#f7f7f7"
            ],
            [
             0.6,
             "#e6f5d0"
            ],
            [
             0.7,
             "#b8e186"
            ],
            [
             0.8,
             "#7fbc41"
            ],
            [
             0.9,
             "#4d9221"
            ],
            [
             1,
             "#276419"
            ]
           ],
           "sequential": [
            [
             0,
             "#0d0887"
            ],
            [
             0.1111111111111111,
             "#46039f"
            ],
            [
             0.2222222222222222,
             "#7201a8"
            ],
            [
             0.3333333333333333,
             "#9c179e"
            ],
            [
             0.4444444444444444,
             "#bd3786"
            ],
            [
             0.5555555555555556,
             "#d8576b"
            ],
            [
             0.6666666666666666,
             "#ed7953"
            ],
            [
             0.7777777777777778,
             "#fb9f3a"
            ],
            [
             0.8888888888888888,
             "#fdca26"
            ],
            [
             1,
             "#f0f921"
            ]
           ],
           "sequentialminus": [
            [
             0,
             "#0d0887"
            ],
            [
             0.1111111111111111,
             "#46039f"
            ],
            [
             0.2222222222222222,
             "#7201a8"
            ],
            [
             0.3333333333333333,
             "#9c179e"
            ],
            [
             0.4444444444444444,
             "#bd3786"
            ],
            [
             0.5555555555555556,
             "#d8576b"
            ],
            [
             0.6666666666666666,
             "#ed7953"
            ],
            [
             0.7777777777777778,
             "#fb9f3a"
            ],
            [
             0.8888888888888888,
             "#fdca26"
            ],
            [
             1,
             "#f0f921"
            ]
           ]
          },
          "colorway": [
           "#636efa",
           "#EF553B",
           "#00cc96",
           "#ab63fa",
           "#FFA15A",
           "#19d3f3",
           "#FF6692",
           "#B6E880",
           "#FF97FF",
           "#FECB52"
          ],
          "font": {
           "color": "#2a3f5f"
          },
          "geo": {
           "bgcolor": "white",
           "lakecolor": "white",
           "landcolor": "#E5ECF6",
           "showlakes": true,
           "showland": true,
           "subunitcolor": "white"
          },
          "hoverlabel": {
           "align": "left"
          },
          "hovermode": "closest",
          "mapbox": {
           "style": "light"
          },
          "paper_bgcolor": "white",
          "plot_bgcolor": "#E5ECF6",
          "polar": {
           "angularaxis": {
            "gridcolor": "white",
            "linecolor": "white",
            "ticks": ""
           },
           "bgcolor": "#E5ECF6",
           "radialaxis": {
            "gridcolor": "white",
            "linecolor": "white",
            "ticks": ""
           }
          },
          "scene": {
           "xaxis": {
            "backgroundcolor": "#E5ECF6",
            "gridcolor": "white",
            "gridwidth": 2,
            "linecolor": "white",
            "showbackground": true,
            "ticks": "",
            "zerolinecolor": "white"
           },
           "yaxis": {
            "backgroundcolor": "#E5ECF6",
            "gridcolor": "white",
            "gridwidth": 2,
            "linecolor": "white",
            "showbackground": true,
            "ticks": "",
            "zerolinecolor": "white"
           },
           "zaxis": {
            "backgroundcolor": "#E5ECF6",
            "gridcolor": "white",
            "gridwidth": 2,
            "linecolor": "white",
            "showbackground": true,
            "ticks": "",
            "zerolinecolor": "white"
           }
          },
          "shapedefaults": {
           "line": {
            "color": "#2a3f5f"
           }
          },
          "ternary": {
           "aaxis": {
            "gridcolor": "white",
            "linecolor": "white",
            "ticks": ""
           },
           "baxis": {
            "gridcolor": "white",
            "linecolor": "white",
            "ticks": ""
           },
           "bgcolor": "#E5ECF6",
           "caxis": {
            "gridcolor": "white",
            "linecolor": "white",
            "ticks": ""
           }
          },
          "title": {
           "x": 0.05
          },
          "xaxis": {
           "automargin": true,
           "gridcolor": "white",
           "linecolor": "white",
           "ticks": "",
           "title": {
            "standoff": 15
           },
           "zerolinecolor": "white",
           "zerolinewidth": 2
          },
          "yaxis": {
           "automargin": true,
           "gridcolor": "white",
           "linecolor": "white",
           "ticks": "",
           "title": {
            "standoff": 15
           },
           "zerolinecolor": "white",
           "zerolinewidth": 2
          }
         }
        },
        "title": {
         "text": "Variation of Tannins for Each Mango Variety in Pulp"
        },
        "xaxis": {
         "autorange": true,
         "range": [
          0,
          4
         ],
         "title": {
          "text": "Ripening Stage"
         },
         "type": "category"
        },
        "yaxis": {
         "autorange": true,
         "range": [
          -9.656666666666666,
          196.27666666666664
         ],
         "title": {
          "text": "Peel"
         },
         "type": "linear"
        }
       }
      },
      "image/png": "[encoded data removed]",
      "text/html": [
       "<div>                            <div id=\"2dd88ba2-8353-44fc-90c6-d9367f02b271\" class=\"plotly-graph-div\" style=\"height:525px; width:100%;\"></div>            <script type=\"text/javascript\">                require([\"plotly\"], function(Plotly) {                    window.PLOTLYENV=window.PLOTLYENV || {};                                    if (document.getElementById(\"2dd88ba2-8353-44fc-90c6-d9367f02b271\")) {                    Plotly.newPlot(                        \"2dd88ba2-8353-44fc-90c6-d9367f02b271\",                        [{\"mode\":\"lines\",\"name\":\"Apple mango\",\"x\":[\"Stage 1\",\"Stage 2\",\"Stage 3\",\"Stage 4\",\"Stage 5\"],\"y\":[128.29,107.07,95.27,73.31,2.69],\"type\":\"scatter\"},{\"mode\":\"lines\",\"name\":\"Asante\",\"x\":[\"Stage 1\",\"Stage 2\",\"Stage 3\",\"Stage 4\",\"Stage 5\"],\"y\":[110.55,106.13,70.23,37.44,1.79],\"type\":\"scatter\"},{\"mode\":\"lines\",\"name\":\"Batawi\",\"x\":[\"Stage 1\",\"Stage 2\",\"Stage 3\",\"Stage 4\",\"Stage 5\"],\"y\":[134.74,106.82,82.73,61.88,1.41],\"type\":\"scatter\"},{\"mode\":\"lines\",\"name\":\"Bire\",\"x\":[\"Stage 1\",\"Stage 2\",\"Stage 3\",\"Stage 4\",\"Stage 5\"],\"y\":[153.96,101.32,84.37,54.99,2.35],\"type\":\"scatter\"},{\"mode\":\"lines\",\"name\":\"Boribo\",\"x\":[\"Stage 1\",\"Stage 2\",\"Stage 3\",\"Stage 4\",\"Stage 5\"],\"y\":[185.98,144.22,85.46,34.38,2.66],\"type\":\"scatter\"},{\"mode\":\"lines\",\"name\":\"Doodo\",\"x\":[\"Stage 1\",\"Stage 2\",\"Stage 3\",\"Stage 4\",\"Stage 5\"],\"y\":[138.37,91.15,69.84,11.44,3.76],\"type\":\"scatter\"},{\"mode\":\"lines\",\"name\":\"Kagoogwa\",\"x\":[\"Stage 1\",\"Stage 2\",\"Stage 3\",\"Stage 4\",\"Stage 5\"],\"y\":[132.04,107.55,74.32,20.98,2.53],\"type\":\"scatter\"},{\"mode\":\"lines\",\"name\":\"Koona\",\"x\":[\"Stage 1\",\"Stage 2\",\"Stage 3\",\"Stage 4\",\"Stage 5\"],\"y\":[130.21,110.84,57.47,8.59,0.64],\"type\":\"scatter\"},{\"mode\":\"lines\",\"name\":\"Mabbere\",\"x\":[\"Stage 1\",\"Stage 2\",\"Stage 3\",\"Stage 4\",\"Stage 5\"],\"y\":[113.46,100.77,57.92,19.89,2.58],\"type\":\"scatter\"},{\"mode\":\"lines\",\"name\":\"Sayuni\",\"x\":[\"Stage 1\",\"Stage 2\",\"Stage 3\",\"Stage 4\",\"Stage 5\"],\"y\":[161.5,144.77,68.46,51.63,6.8],\"type\":\"scatter\"},{\"mode\":\"lines\",\"name\":\"Ssejjembe\",\"x\":[\"Stage 1\",\"Stage 2\",\"Stage 3\",\"Stage 4\",\"Stage 5\"],\"y\":[143.3,132.17,73.96,71.27,6.66],\"type\":\"scatter\"},{\"mode\":\"lines\",\"name\":\"Takataka\",\"x\":[\"Stage 1\",\"Stage 2\",\"Stage 3\",\"Stage 4\",\"Stage 5\"],\"y\":[171.13,107.94,73.06,68.24,5.2],\"type\":\"scatter\"},{\"mode\":\"lines\",\"name\":\"Kakule\",\"x\":[\"Stage 1\",\"Stage 2\",\"Stage 3\",\"Stage 4\",\"Stage 5\"],\"y\":[160.58,136.57,68.11,10.58,4.67],\"type\":\"scatter\"},{\"mode\":\"lines\",\"name\":\"Duncan\",\"x\":[\"Stage 1\",\"Stage 2\",\"Stage 3\",\"Stage 4\",\"Stage 5\"],\"y\":[140.68,134.87,75.31,21.63,1.83],\"type\":\"scatter\"},{\"mode\":\"lines\",\"name\":\"Fairchild\",\"x\":[\"Stage 1\",\"Stage 2\",\"Stage 3\",\"Stage 4\",\"Stage 5\"],\"y\":[122.03,87.81,72.86,19.07,2.86],\"type\":\"scatter\"},{\"mode\":\"lines\",\"name\":\"Julie\",\"x\":[\"Stage 1\",\"Stage 2\",\"Stage 3\",\"Stage 4\",\"Stage 5\"],\"y\":[154.0,107.03,75.79,55.32,3.47],\"type\":\"scatter\"},{\"mode\":\"lines\",\"name\":\"Kapisa\",\"x\":[\"Stage 1\",\"Stage 2\",\"Stage 3\",\"Stage 4\",\"Stage 5\"],\"y\":[183.18,137.63,68.33,12.24,3.81],\"type\":\"scatter\"},{\"mode\":\"lines\",\"name\":\"Kent\",\"x\":[\"Stage 1\",\"Stage 2\",\"Stage 3\",\"Stage 4\",\"Stage 5\"],\"y\":[143.2,136.6,74.15,19.58,6.83],\"type\":\"scatter\"},{\"mode\":\"lines\",\"name\":\"Palmer\",\"x\":[\"Stage 1\",\"Stage 2\",\"Stage 3\",\"Stage 4\",\"Stage 5\"],\"y\":[154.72,111.86,44.96,13.4,4.69],\"type\":\"scatter\"},{\"mode\":\"lines\",\"name\":\"Ponde\",\"x\":[\"Stage 1\",\"Stage 2\",\"Stage 3\",\"Stage 4\",\"Stage 5\"],\"y\":[168.61,134.97,61.59,15.47,6.68],\"type\":\"scatter\"},{\"mode\":\"lines\",\"name\":\"Seena\",\"x\":[\"Stage 1\",\"Stage 2\",\"Stage 3\",\"Stage 4\",\"Stage 5\"],\"y\":[178.94,136.64,72.38,62.56,6.62],\"type\":\"scatter\"},{\"mode\":\"lines\",\"name\":\"Tommy atkin\",\"x\":[\"Stage 1\",\"Stage 2\",\"Stage 3\",\"Stage 4\",\"Stage 5\"],\"y\":[166.31,109.57,74.92,24.14,4.14],\"type\":\"scatter\"}],                        {\"title\":{\"text\":\"Variation of Tannins for Each Mango Variety in Pulp\"},\"xaxis\":{\"title\":{\"text\":\"Ripening Stage\"}},\"yaxis\":{\"title\":{\"text\":\"Peel\"}},\"template\":{\"data\":{\"histogram2dcontour\":[{\"type\":\"histogram2dcontour\",\"colorbar\":{\"outlinewidth\":0,\"ticks\":\"\"},\"colorscale\":[[0.0,\"#0d0887\"],[0.1111111111111111,\"#46039f\"],[0.2222222222222222,\"#7201a8\"],[0.3333333333333333,\"#9c179e\"],[0.4444444444444444,\"#bd3786\"],[0.5555555555555556,\"#d8576b\"],[0.6666666666666666,\"#ed7953\"],[0.7777777777777778,\"#fb9f3a\"],[0.8888888888888888,\"#fdca26\"],[1.0,\"#f0f921\"]]}],\"choropleth\":[{\"type\":\"choropleth\",\"colorbar\":{\"outlinewidth\":0,\"ticks\":\"\"}}],\"histogram2d\":[{\"type\":\"histogram2d\",\"colorbar\":{\"outlinewidth\":0,\"ticks\":\"\"},\"colorscale\":[[0.0,\"#0d0887\"],[0.1111111111111111,\"#46039f\"],[0.2222222222222222,\"#7201a8\"],[0.3333333333333333,\"#9c179e\"],[0.4444444444444444,\"#bd3786\"],[0.5555555555555556,\"#d8576b\"],[0.6666666666666666,\"#ed7953\"],[0.7777777777777778,\"#fb9f3a\"],[0.8888888888888888,\"#fdca26\"],[1.0,\"#f0f921\"]]}],\"heatmap\":[{\"type\":\"heatmap\",\"colorbar\":{\"outlinewidth\":0,\"ticks\":\"\"},\"colorscale\":[[0.0,\"#0d0887\"],[0.1111111111111111,\"#46039f\"],[0.2222222222222222,\"#7201a8\"],[0.3333333333333333,\"#9c179e\"],[0.4444444444444444,\"#bd3786\"],[0.5555555555555556,\"#d8576b\"],[0.6666666666666666,\"#ed7953\"],[0.7777777777777778,\"#fb9f3a\"],[0.8888888888888888,\"#fdca26\"],[1.0,\"#f0f921\"]]}],\"heatmapgl\":[{\"type\":\"heatmapgl\",\"colorbar\":{\"outlinewidth\":0,\"ticks\":\"\"},\"colorscale\":[[0.0,\"#0d0887\"],[0.1111111111111111,\"#46039f\"],[0.2222222222222222,\"#7201a8\"],[0.3333333333333333,\"#9c179e\"],[0.4444444444444444,\"#bd3786\"],[0.5555555555555556,\"#d8576b\"],[0.6666666666666666,\"#ed7953\"],[0.7777777777777778,\"#fb9f3a\"],[0.8888888888888888,\"#fdca26\"],[1.0,\"#f0f921\"]]}],\"contourcarpet\":[{\"type\":\"contourcarpet\",\"colorbar\":{\"outlinewidth\":0,\"ticks\":\"\"}}],\"contour\":[{\"type\":\"contour\",\"colorbar\":{\"outlinewidth\":0,\"ticks\":\"\"},\"colorscale\":[[0.0,\"#0d0887\"],[0.1111111111111111,\"#46039f\"],[0.2222222222222222,\"#7201a8\"],[0.3333333333333333,\"#9c179e\"],[0.4444444444444444,\"#bd3786\"],[0.5555555555555556,\"#d8576b\"],[0.6666666666666666,\"#ed7953\"],[0.7777777777777778,\"#fb9f3a\"],[0.8888888888888888,\"#fdca26\"],[1.0,\"#f0f921\"]]}],\"surface\":[{\"type\":\"surface\",\"colorbar\":{\"outlinewidth\":0,\"ticks\":\"\"},\"colorscale\":[[0.0,\"#0d0887\"],[0.1111111111111111,\"#46039f\"],[0.2222222222222222,\"#7201a8\"],[0.3333333333333333,\"#9c179e\"],[0.4444444444444444,\"#bd3786\"],[0.5555555555555556,\"#d8576b\"],[0.6666666666666666,\"#ed7953\"],[0.7777777777777778,\"#fb9f3a\"],[0.8888888888888888,\"#fdca26\"],[1.0,\"#f0f921\"]]}],\"mesh3d\":[{\"type\":\"mesh3d\",\"colorbar\":{\"outlinewidth\":0,\"ticks\":\"\"}}],\"scatter\":[{\"fillpattern\":{\"fillmode\":\"overlay\",\"size\":10,\"solidity\":0.2},\"type\":\"scatter\"}],\"parcoords\":[{\"type\":\"parcoords\",\"line\":{\"colorbar\":{\"outlinewidth\":0,\"ticks\":\"\"}}}],\"scatterpolargl\":[{\"type\":\"scatterpolargl\",\"marker\":{\"colorbar\":{\"outlinewidth\":0,\"ticks\":\"\"}}}],\"bar\":[{\"error_x\":{\"color\":\"#2a3f5f\"},\"error_y\":{\"color\":\"#2a3f5f\"},\"marker\":{\"line\":{\"color\":\"#E5ECF6\",\"width\":0.5},\"pattern\":{\"fillmode\":\"overlay\",\"size\":10,\"solidity\":0.2}},\"type\":\"bar\"}],\"scattergeo\":[{\"type\":\"scattergeo\",\"marker\":{\"colorbar\":{\"outlinewidth\":0,\"ticks\":\"\"}}}],\"scatterpolar\":[{\"type\":\"scatterpolar\",\"marker\":{\"colorbar\":{\"outlinewidth\":0,\"ticks\":\"\"}}}],\"histogram\":[{\"marker\":{\"pattern\":{\"fillmode\":\"overlay\",\"size\":10,\"solidity\":0.2}},\"type\":\"histogram\"}],\"scattergl\":[{\"type\":\"scattergl\",\"marker\":{\"colorbar\":{\"outlinewidth\":0,\"ticks\":\"\"}}}],\"scatter3d\":[{\"type\":\"scatter3d\",\"line\":{\"colorbar\":{\"outlinewidth\":0,\"ticks\":\"\"}},\"marker\":{\"colorbar\":{\"outlinewidth\":0,\"ticks\":\"\"}}}],\"scattermapbox\":[{\"type\":\"scattermapbox\",\"marker\":{\"colorbar\":{\"outlinewidth\":0,\"ticks\":\"\"}}}],\"scatterternary\":[{\"type\":\"scatterternary\",\"marker\":{\"colorbar\":{\"outlinewidth\":0,\"ticks\":\"\"}}}],\"scattercarpet\":[{\"type\":\"scattercarpet\",\"marker\":{\"colorbar\":{\"outlinewidth\":0,\"ticks\":\"\"}}}],\"carpet\":[{\"aaxis\":{\"endlinecolor\":\"#2a3f5f\",\"gridcolor\":\"white\",\"linecolor\":\"white\",\"minorgridcolor\":\"white\",\"startlinecolor\":\"#2a3f5f\"},\"baxis\":{\"endlinecolor\":\"#2a3f5f\",\"gridcolor\":\"white\",\"linecolor\":\"white\",\"minorgridcolor\":\"white\",\"startlinecolor\":\"#2a3f5f\"},\"type\":\"carpet\"}],\"table\":[{\"cells\":{\"fill\":{\"color\":\"#EBF0F8\"},\"line\":{\"color\":\"white\"}},\"header\":{\"fill\":{\"color\":\"#C8D4E3\"},\"line\":{\"color\":\"white\"}},\"type\":\"table\"}],\"barpolar\":[{\"marker\":{\"line\":{\"color\":\"#E5ECF6\",\"width\":0.5},\"pattern\":{\"fillmode\":\"overlay\",\"size\":10,\"solidity\":0.2}},\"type\":\"barpolar\"}],\"pie\":[{\"automargin\":true,\"type\":\"pie\"}]},\"layout\":{\"autotypenumbers\":\"strict\",\"colorway\":[\"#636efa\",\"#EF553B\",\"#00cc96\",\"#ab63fa\",\"#FFA15A\",\"#19d3f3\",\"#FF6692\",\"#B6E880\",\"#FF97FF\",\"#FECB52\"],\"font\":{\"color\":\"#2a3f5f\"},\"hovermode\":\"closest\",\"hoverlabel\":{\"align\":\"left\"},\"paper_bgcolor\":\"white\",\"plot_bgcolor\":\"#E5ECF6\",\"polar\":{\"bgcolor\":\"#E5ECF6\",\"angularaxis\":{\"gridcolor\":\"white\",\"linecolor\":\"white\",\"ticks\":\"\"},\"radialaxis\":{\"gridcolor\":\"white\",\"linecolor\":\"white\",\"ticks\":\"\"}},\"ternary\":{\"bgcolor\":\"#E5ECF6\",\"aaxis\":{\"gridcolor\":\"white\",\"linecolor\":\"white\",\"ticks\":\"\"},\"baxis\":{\"gridcolor\":\"white\",\"linecolor\":\"white\",\"ticks\":\"\"},\"caxis\":{\"gridcolor\":\"white\",\"linecolor\":\"white\",\"ticks\":\"\"}},\"coloraxis\":{\"colorbar\":{\"outlinewidth\":0,\"ticks\":\"\"}},\"colorscale\":{\"sequential\":[[0.0,\"#0d0887\"],[0.1111111111111111,\"#46039f\"],[0.2222222222222222,\"#7201a8\"],[0.3333333333333333,\"#9c179e\"],[0.4444444444444444,\"#bd3786\"],[0.5555555555555556,\"#d8576b\"],[0.6666666666666666,\"#ed7953\"],[0.7777777777777778,\"#fb9f3a\"],[0.8888888888888888,\"#fdca26\"],[1.0,\"#f0f921\"]],\"sequentialminus\":[[0.0,\"#0d0887\"],[0.1111111111111111,\"#46039f\"],[0.2222222222222222,\"#7201a8\"],[0.3333333333333333,\"#9c179e\"],[0.4444444444444444,\"#bd3786\"],[0.5555555555555556,\"#d8576b\"],[0.6666666666666666,\"#ed7953\"],[0.7777777777777778,\"#fb9f3a\"],[0.8888888888888888,\"#fdca26\"],[1.0,\"#f0f921\"]],\"diverging\":[[0,\"#8e0152\"],[0.1,\"#c51b7d\"],[0.2,\"#de77ae\"],[0.3,\"#f1b6da\"],[0.4,\"#fde0ef\"],[0.5,\"#f7f7f7\"],[0.6,\"#e6f5d0\"],[0.7,\"#b8e186\"],[0.8,\"#7fbc41\"],[0.9,\"#4d9221\"],[1,\"#276419\"]]},\"xaxis\":{\"gridcolor\":\"white\",\"linecolor\":\"white\",\"ticks\":\"\",\"title\":{\"standoff\":15},\"zerolinecolor\":\"white\",\"automargin\":true,\"zerolinewidth\":2},\"yaxis\":{\"gridcolor\":\"white\",\"linecolor\":\"white\",\"ticks\":\"\",\"title\":{\"standoff\":15},\"zerolinecolor\":\"white\",\"automargin\":true,\"zerolinewidth\":2},\"scene\":{\"xaxis\":{\"backgroundcolor\":\"#E5ECF6\",\"gridcolor\":\"white\",\"linecolor\":\"white\",\"showbackground\":true,\"ticks\":\"\",\"zerolinecolor\":\"white\",\"gridwidth\":2},\"yaxis\":{\"backgroundcolor\":\"#E5ECF6\",\"gridcolor\":\"white\",\"linecolor\":\"white\",\"showbackground\":true,\"ticks\":\"\",\"zerolinecolor\":\"white\",\"gridwidth\":2},\"zaxis\":{\"backgroundcolor\":\"#E5ECF6\",\"gridcolor\":\"white\",\"linecolor\":\"white\",\"showbackground\":true,\"ticks\":\"\",\"zerolinecolor\":\"white\",\"gridwidth\":2}},\"shapedefaults\":{\"line\":{\"color\":\"#2a3f5f\"}},\"annotationdefaults\":{\"arrowcolor\":\"#2a3f5f\",\"arrowhead\":0,\"arrowwidth\":1},\"geo\":{\"bgcolor\":\"white\",\"landcolor\":\"#E5ECF6\",\"subunitcolor\":\"white\",\"showland\":true,\"showlakes\":true,\"lakecolor\":\"white\"},\"title\":{\"x\":0.05},\"mapbox\":{\"style\":\"light\"}}}},                        {\"responsive\": true}                    ).then(function(){\n",
       "                            \n",
       "var gd = document.getElementById('2dd88ba2-8353-44fc-90c6-d9367f02b271');\n",
       "var x = new MutationObserver(function (mutations, observer) {{\n",
       "        var display = window.getComputedStyle(gd).display;\n",
       "        if (!display || display === 'none') {{\n",
       "            console.log([gd, 'removed!']);\n",
       "            Plotly.purge(gd);\n",
       "            observer.disconnect();\n",
       "        }}\n",
       "}});\n",
       "\n",
       "// Listen for the removal of the full notebook cells\n",
       "var notebookContainer = gd.closest('#notebook-container');\n",
       "if (notebookContainer) {{\n",
       "    x.observe(notebookContainer, {childList: true});\n",
       "}}\n",
       "\n",
       "// Listen for the clearing of the current output cell\n",
       "var outputEl = gd.closest('.output');\n",
       "if (outputEl) {{\n",
       "    x.observe(outputEl, {childList: true});\n",
       "}}\n",
       "\n",
       "                        })                };                });            </script>        </div>"
      ]
     },
     "metadata": {},
     "output_type": "display_data"
    }
   ],
   "source": [
    "# Create traces for each mango variety\n",
    "traces = []\n",
    "for variety in data['Mango variety'].unique():\n",
    "    subset = data[data['Mango variety'] == variety]\n",
    "    trace = go.Scatter(x=subset['Ripening stage'], y=subset['Pulp'], mode='lines', name=variety)\n",
    "    traces.append(trace)\n",
    "\n",
    "# Create layout\n",
    "layout = go.Layout(title='Variation of Tannins for Each Mango Variety in Pulp',\n",
    "                   xaxis=dict(title='Ripening Stage'),\n",
    "                   yaxis=dict(title='Peel'))\n",
    "\n",
    "# Create figure\n",
    "fig = go.Figure(data=traces, layout=layout)\n",
    "\n",
    "# Plot figure\n",
    "pio.show(fig)"
   ]
  },
  {
   "cell_type": "code",
   "execution_count": 18,
   "id": "ba56241c-ee9e-4326-91b4-bcde2ac9c48d",
   "metadata": {},
   "outputs": [
    {
     "data": {
      "application/vnd.plotly.v1+json": {
       "config": {
        "plotlyServerURL": "https://plot.ly"
       },
       "data": [
        {
         "mode": "lines",
         "name": "Apple mango",
         "type": "scatter",
         "x": [
          "Stage 1",
          "Stage 2",
          "Stage 3",
          "Stage 4",
          "Stage 5"
         ],
         "y": [
          150.46,
          105.58,
          73.73,
          47.66,
          3.18
         ]
        },
        {
         "mode": "lines",
         "name": "Asante",
         "type": "scatter",
         "x": [
          "Stage 1",
          "Stage 2",
          "Stage 3",
          "Stage 4",
          "Stage 5"
         ],
         "y": [
          121.85,
          119.18,
          93.63,
          44.53,
          2.95
         ]
        },
        {
         "mode": "lines",
         "name": "Batawi",
         "type": "scatter",
         "x": [
          "Stage 1",
          "Stage 2",
          "Stage 3",
          "Stage 4",
          "Stage 5"
         ],
         "y": [
          136.79,
          116.46,
          98.65,
          53.48,
          4.46
         ]
        },
        {
         "mode": "lines",
         "name": "Bire",
         "type": "scatter",
         "x": [
          "Stage 1",
          "Stage 2",
          "Stage 3",
          "Stage 4",
          "Stage 5"
         ],
         "y": [
          105.04,
          101.43,
          90.71,
          51.55,
          2.67
         ]
        },
        {
         "mode": "lines",
         "name": "Boribo",
         "type": "scatter",
         "x": [
          "Stage 1",
          "Stage 2",
          "Stage 3",
          "Stage 4",
          "Stage 5"
         ],
         "y": [
          152.63,
          129.48,
          93.23,
          56.36,
          3.43
         ]
        },
        {
         "mode": "lines",
         "name": "Doodo",
         "type": "scatter",
         "x": [
          "Stage 1",
          "Stage 2",
          "Stage 3",
          "Stage 4",
          "Stage 5"
         ],
         "y": [
          124.98,
          94.43,
          83.48,
          55.31,
          3.49
         ]
        },
        {
         "mode": "lines",
         "name": "Kagoogwa",
         "type": "scatter",
         "x": [
          "Stage 1",
          "Stage 2",
          "Stage 3",
          "Stage 4",
          "Stage 5"
         ],
         "y": [
          142.09,
          84.59,
          47.59,
          40.44,
          1.65
         ]
        },
        {
         "mode": "lines",
         "name": "Koona",
         "type": "scatter",
         "x": [
          "Stage 1",
          "Stage 2",
          "Stage 3",
          "Stage 4",
          "Stage 5"
         ],
         "y": [
          114.62,
          87.55,
          44.6,
          22.61,
          1.75
         ]
        },
        {
         "mode": "lines",
         "name": "Mabbere",
         "type": "scatter",
         "x": [
          "Stage 1",
          "Stage 2",
          "Stage 3",
          "Stage 4",
          "Stage 5"
         ],
         "y": [
          132.06,
          101.33,
          53.84,
          38.53,
          2.52
         ]
        },
        {
         "mode": "lines",
         "name": "Sayuni",
         "type": "scatter",
         "x": [
          "Stage 1",
          "Stage 2",
          "Stage 3",
          "Stage 4",
          "Stage 5"
         ],
         "y": [
          124.39,
          117.54,
          70.65,
          19.41,
          6.61
         ]
        },
        {
         "mode": "lines",
         "name": "Ssejjembe",
         "type": "scatter",
         "x": [
          "Stage 1",
          "Stage 2",
          "Stage 3",
          "Stage 4",
          "Stage 5"
         ],
         "y": [
          109.61,
          89.68,
          51.51,
          33.62,
          4.68
         ]
        },
        {
         "mode": "lines",
         "name": "Takataka",
         "type": "scatter",
         "x": [
          "Stage 1",
          "Stage 2",
          "Stage 3",
          "Stage 4",
          "Stage 5"
         ],
         "y": [
          139.7,
          125.77,
          96.33,
          67.31,
          7.53
         ]
        },
        {
         "mode": "lines",
         "name": "Kakule",
         "type": "scatter",
         "x": [
          "Stage 1",
          "Stage 2",
          "Stage 3",
          "Stage 4",
          "Stage 5"
         ],
         "y": [
          117.67,
          76.61,
          63.23,
          27.61,
          4.68
         ]
        },
        {
         "mode": "lines",
         "name": "Duncan",
         "type": "scatter",
         "x": [
          "Stage 1",
          "Stage 2",
          "Stage 3",
          "Stage 4",
          "Stage 5"
         ],
         "y": [
          140.5,
          111.53,
          70.55,
          25.61,
          2.42
         ]
        },
        {
         "mode": "lines",
         "name": "Fairchild",
         "type": "scatter",
         "x": [
          "Stage 1",
          "Stage 2",
          "Stage 3",
          "Stage 4",
          "Stage 5"
         ],
         "y": [
          163.49,
          138.56,
          84.32,
          49.32,
          8.42
         ]
        },
        {
         "mode": "lines",
         "name": "Julie",
         "type": "scatter",
         "x": [
          "Stage 1",
          "Stage 2",
          "Stage 3",
          "Stage 4",
          "Stage 5"
         ],
         "y": [
          123.22,
          106.69,
          75.79,
          29.61,
          3.11
         ]
        },
        {
         "mode": "lines",
         "name": "Kapisa",
         "type": "scatter",
         "x": [
          "Stage 1",
          "Stage 2",
          "Stage 3",
          "Stage 4",
          "Stage 5"
         ],
         "y": [
          100.82,
          91.65,
          49.3,
          35.49,
          3.43
         ]
        },
        {
         "mode": "lines",
         "name": "Kent",
         "type": "scatter",
         "x": [
          "Stage 1",
          "Stage 2",
          "Stage 3",
          "Stage 4",
          "Stage 5"
         ],
         "y": [
          100.89,
          87.78,
          62.4,
          47.48,
          7.08
         ]
        },
        {
         "mode": "lines",
         "name": "Palmer",
         "type": "scatter",
         "x": [
          "Stage 1",
          "Stage 2",
          "Stage 3",
          "Stage 4",
          "Stage 5"
         ],
         "y": [
          135.77,
          87.7,
          51.36,
          32.33,
          4.59
         ]
        },
        {
         "mode": "lines",
         "name": "Ponde",
         "type": "scatter",
         "x": [
          "Stage 1",
          "Stage 2",
          "Stage 3",
          "Stage 4",
          "Stage 5"
         ],
         "y": [
          97.33,
          87.27,
          50.49,
          30.54,
          6.56
         ]
        },
        {
         "mode": "lines",
         "name": "Seena",
         "type": "scatter",
         "x": [
          "Stage 1",
          "Stage 2",
          "Stage 3",
          "Stage 4",
          "Stage 5"
         ],
         "y": [
          147.45,
          115.37,
          65.22,
          34.69,
          4.51
         ]
        },
        {
         "mode": "lines",
         "name": "Tommy atkin",
         "type": "scatter",
         "x": [
          "Stage 1",
          "Stage 2",
          "Stage 3",
          "Stage 4",
          "Stage 5"
         ],
         "y": [
          106.91,
          87.32,
          69.41,
          44.63,
          3.33
         ]
        }
       ],
       "layout": {
        "autosize": true,
        "template": {
         "data": {
          "bar": [
           {
            "error_x": {
             "color": "#2a3f5f"
            },
            "error_y": {
             "color": "#2a3f5f"
            },
            "marker": {
             "line": {
              "color": "#E5ECF6",
              "width": 0.5
             },
             "pattern": {
              "fillmode": "overlay",
              "size": 10,
              "solidity": 0.2
             }
            },
            "type": "bar"
           }
          ],
          "barpolar": [
           {
            "marker": {
             "line": {
              "color": "#E5ECF6",
              "width": 0.5
             },
             "pattern": {
              "fillmode": "overlay",
              "size": 10,
              "solidity": 0.2
             }
            },
            "type": "barpolar"
           }
          ],
          "carpet": [
           {
            "aaxis": {
             "endlinecolor": "#2a3f5f",
             "gridcolor": "white",
             "linecolor": "white",
             "minorgridcolor": "white",
             "startlinecolor": "#2a3f5f"
            },
            "baxis": {
             "endlinecolor": "#2a3f5f",
             "gridcolor": "white",
             "linecolor": "white",
             "minorgridcolor": "white",
             "startlinecolor": "#2a3f5f"
            },
            "type": "carpet"
           }
          ],
          "choropleth": [
           {
            "colorbar": {
             "outlinewidth": 0,
             "ticks": ""
            },
            "type": "choropleth"
           }
          ],
          "contour": [
           {
            "colorbar": {
             "outlinewidth": 0,
             "ticks": ""
            },
            "colorscale": [
             [
              0,
              "#0d0887"
             ],
             [
              0.1111111111111111,
              "#46039f"
             ],
             [
              0.2222222222222222,
              "#7201a8"
             ],
             [
              0.3333333333333333,
              "#9c179e"
             ],
             [
              0.4444444444444444,
              "#bd3786"
             ],
             [
              0.5555555555555556,
              "#d8576b"
             ],
             [
              0.6666666666666666,
              "#ed7953"
             ],
             [
              0.7777777777777778,
              "#fb9f3a"
             ],
             [
              0.8888888888888888,
              "#fdca26"
             ],
             [
              1,
              "#f0f921"
             ]
            ],
            "type": "contour"
           }
          ],
          "contourcarpet": [
           {
            "colorbar": {
             "outlinewidth": 0,
             "ticks": ""
            },
            "type": "contourcarpet"
           }
          ],
          "heatmap": [
           {
            "colorbar": {
             "outlinewidth": 0,
             "ticks": ""
            },
            "colorscale": [
             [
              0,
              "#0d0887"
             ],
             [
              0.1111111111111111,
              "#46039f"
             ],
             [
              0.2222222222222222,
              "#7201a8"
             ],
             [
              0.3333333333333333,
              "#9c179e"
             ],
             [
              0.4444444444444444,
              "#bd3786"
             ],
             [
              0.5555555555555556,
              "#d8576b"
             ],
             [
              0.6666666666666666,
              "#ed7953"
             ],
             [
              0.7777777777777778,
              "#fb9f3a"
             ],
             [
              0.8888888888888888,
              "#fdca26"
             ],
             [
              1,
              "#f0f921"
             ]
            ],
            "type": "heatmap"
           }
          ],
          "heatmapgl": [
           {
            "colorbar": {
             "outlinewidth": 0,
             "ticks": ""
            },
            "colorscale": [
             [
              0,
              "#0d0887"
             ],
             [
              0.1111111111111111,
              "#46039f"
             ],
             [
              0.2222222222222222,
              "#7201a8"
             ],
             [
              0.3333333333333333,
              "#9c179e"
             ],
             [
              0.4444444444444444,
              "#bd3786"
             ],
             [
              0.5555555555555556,
              "#d8576b"
             ],
             [
              0.6666666666666666,
              "#ed7953"
             ],
             [
              0.7777777777777778,
              "#fb9f3a"
             ],
             [
              0.8888888888888888,
              "#fdca26"
             ],
             [
              1,
              "#f0f921"
             ]
            ],
            "type": "heatmapgl"
           }
          ],
          "histogram": [
           {
            "marker": {
             "pattern": {
              "fillmode": "overlay",
              "size": 10,
              "solidity": 0.2
             }
            },
            "type": "histogram"
           }
          ],
          "histogram2d": [
           {
            "colorbar": {
             "outlinewidth": 0,
             "ticks": ""
            },
            "colorscale": [
             [
              0,
              "#0d0887"
             ],
             [
              0.1111111111111111,
              "#46039f"
             ],
             [
              0.2222222222222222,
              "#7201a8"
             ],
             [
              0.3333333333333333,
              "#9c179e"
             ],
             [
              0.4444444444444444,
              "#bd3786"
             ],
             [
              0.5555555555555556,
              "#d8576b"
             ],
             [
              0.6666666666666666,
              "#ed7953"
             ],
             [
              0.7777777777777778,
              "#fb9f3a"
             ],
             [
              0.8888888888888888,
              "#fdca26"
             ],
             [
              1,
              "#f0f921"
             ]
            ],
            "type": "histogram2d"
           }
          ],
          "histogram2dcontour": [
           {
            "colorbar": {
             "outlinewidth": 0,
             "ticks": ""
            },
            "colorscale": [
             [
              0,
              "#0d0887"
             ],
             [
              0.1111111111111111,
              "#46039f"
             ],
             [
              0.2222222222222222,
              "#7201a8"
             ],
             [
              0.3333333333333333,
              "#9c179e"
             ],
             [
              0.4444444444444444,
              "#bd3786"
             ],
             [
              0.5555555555555556,
              "#d8576b"
             ],
             [
              0.6666666666666666,
              "#ed7953"
             ],
             [
              0.7777777777777778,
              "#fb9f3a"
             ],
             [
              0.8888888888888888,
              "#fdca26"
             ],
             [
              1,
              "#f0f921"
             ]
            ],
            "type": "histogram2dcontour"
           }
          ],
          "mesh3d": [
           {
            "colorbar": {
             "outlinewidth": 0,
             "ticks": ""
            },
            "type": "mesh3d"
           }
          ],
          "parcoords": [
           {
            "line": {
             "colorbar": {
              "outlinewidth": 0,
              "ticks": ""
             }
            },
            "type": "parcoords"
           }
          ],
          "pie": [
           {
            "automargin": true,
            "type": "pie"
           }
          ],
          "scatter": [
           {
            "fillpattern": {
             "fillmode": "overlay",
             "size": 10,
             "solidity": 0.2
            },
            "type": "scatter"
           }
          ],
          "scatter3d": [
           {
            "line": {
             "colorbar": {
              "outlinewidth": 0,
              "ticks": ""
             }
            },
            "marker": {
             "colorbar": {
              "outlinewidth": 0,
              "ticks": ""
             }
            },
            "type": "scatter3d"
           }
          ],
          "scattercarpet": [
           {
            "marker": {
             "colorbar": {
              "outlinewidth": 0,
              "ticks": ""
             }
            },
            "type": "scattercarpet"
           }
          ],
          "scattergeo": [
           {
            "marker": {
             "colorbar": {
              "outlinewidth": 0,
              "ticks": ""
             }
            },
            "type": "scattergeo"
           }
          ],
          "scattergl": [
           {
            "marker": {
             "colorbar": {
              "outlinewidth": 0,
              "ticks": ""
             }
            },
            "type": "scattergl"
           }
          ],
          "scattermapbox": [
           {
            "marker": {
             "colorbar": {
              "outlinewidth": 0,
              "ticks": ""
             }
            },
            "type": "scattermapbox"
           }
          ],
          "scatterpolar": [
           {
            "marker": {
             "colorbar": {
              "outlinewidth": 0,
              "ticks": ""
             }
            },
            "type": "scatterpolar"
           }
          ],
          "scatterpolargl": [
           {
            "marker": {
             "colorbar": {
              "outlinewidth": 0,
              "ticks": ""
             }
            },
            "type": "scatterpolargl"
           }
          ],
          "scatterternary": [
           {
            "marker": {
             "colorbar": {
              "outlinewidth": 0,
              "ticks": ""
             }
            },
            "type": "scatterternary"
           }
          ],
          "surface": [
           {
            "colorbar": {
             "outlinewidth": 0,
             "ticks": ""
            },
            "colorscale": [
             [
              0,
              "#0d0887"
             ],
             [
              0.1111111111111111,
              "#46039f"
             ],
             [
              0.2222222222222222,
              "#7201a8"
             ],
             [
              0.3333333333333333,
              "#9c179e"
             ],
             [
              0.4444444444444444,
              "#bd3786"
             ],
             [
              0.5555555555555556,
              "#d8576b"
             ],
             [
              0.6666666666666666,
              "#ed7953"
             ],
             [
              0.7777777777777778,
              "#fb9f3a"
             ],
             [
              0.8888888888888888,
              "#fdca26"
             ],
             [
              1,
              "#f0f921"
             ]
            ],
            "type": "surface"
           }
          ],
          "table": [
           {
            "cells": {
             "fill": {
              "color": "#EBF0F8"
             },
             "line": {
              "color": "white"
             }
            },
            "header": {
             "fill": {
              "color": "#C8D4E3"
             },
             "line": {
              "color": "white"
             }
            },
            "type": "table"
           }
          ]
         },
         "layout": {
          "annotationdefaults": {
           "arrowcolor": "#2a3f5f",
           "arrowhead": 0,
           "arrowwidth": 1
          },
          "autotypenumbers": "strict",
          "coloraxis": {
           "colorbar": {
            "outlinewidth": 0,
            "ticks": ""
           }
          },
          "colorscale": {
           "diverging": [
            [
             0,
             "#8e0152"
            ],
            [
             0.1,
             "#c51b7d"
            ],
            [
             0.2,
             "#de77ae"
            ],
            [
             0.3,
             "#f1b6da"
            ],
            [
             0.4,
             "#fde0ef"
            ],
            [
             0.5,
             "#f7f7f7"
            ],
            [
             0.6,
             "#e6f5d0"
            ],
            [
             0.7,
             "#b8e186"
            ],
            [
             0.8,
             "#7fbc41"
            ],
            [
             0.9,
             "#4d9221"
            ],
            [
             1,
             "#276419"
            ]
           ],
           "sequential": [
            [
             0,
             "#0d0887"
            ],
            [
             0.1111111111111111,
             "#46039f"
            ],
            [
             0.2222222222222222,
             "#7201a8"
            ],
            [
             0.3333333333333333,
             "#9c179e"
            ],
            [
             0.4444444444444444,
             "#bd3786"
            ],
            [
             0.5555555555555556,
             "#d8576b"
            ],
            [
             0.6666666666666666,
             "#ed7953"
            ],
            [
             0.7777777777777778,
             "#fb9f3a"
            ],
            [
             0.8888888888888888,
             "#fdca26"
            ],
            [
             1,
             "#f0f921"
            ]
           ],
           "sequentialminus": [
            [
             0,
             "#0d0887"
            ],
            [
             0.1111111111111111,
             "#46039f"
            ],
            [
             0.2222222222222222,
             "#7201a8"
            ],
            [
             0.3333333333333333,
             "#9c179e"
            ],
            [
             0.4444444444444444,
             "#bd3786"
            ],
            [
             0.5555555555555556,
             "#d8576b"
            ],
            [
             0.6666666666666666,
             "#ed7953"
            ],
            [
             0.7777777777777778,
             "#fb9f3a"
            ],
            [
             0.8888888888888888,
             "#fdca26"
            ],
            [
             1,
             "#f0f921"
            ]
           ]
          },
          "colorway": [
           "#636efa",
           "#EF553B",
           "#00cc96",
           "#ab63fa",
           "#FFA15A",
           "#19d3f3",
           "#FF6692",
           "#B6E880",
           "#FF97FF",
           "#FECB52"
          ],
          "font": {
           "color": "#2a3f5f"
          },
          "geo": {
           "bgcolor": "white",
           "lakecolor": "white",
           "landcolor": "#E5ECF6",
           "showlakes": true,
           "showland": true,
           "subunitcolor": "white"
          },
          "hoverlabel": {
           "align": "left"
          },
          "hovermode": "closest",
          "mapbox": {
           "style": "light"
          },
          "paper_bgcolor": "white",
          "plot_bgcolor": "#E5ECF6",
          "polar": {
           "angularaxis": {
            "gridcolor": "white",
            "linecolor": "white",
            "ticks": ""
           },
           "bgcolor": "#E5ECF6",
           "radialaxis": {
            "gridcolor": "white",
            "linecolor": "white",
            "ticks": ""
           }
          },
          "scene": {
           "xaxis": {
            "backgroundcolor": "#E5ECF6",
            "gridcolor": "white",
            "gridwidth": 2,
            "linecolor": "white",
            "showbackground": true,
            "ticks": "",
            "zerolinecolor": "white"
           },
           "yaxis": {
            "backgroundcolor": "#E5ECF6",
            "gridcolor": "white",
            "gridwidth": 2,
            "linecolor": "white",
            "showbackground": true,
            "ticks": "",
            "zerolinecolor": "white"
           },
           "zaxis": {
            "backgroundcolor": "#E5ECF6",
            "gridcolor": "white",
            "gridwidth": 2,
            "linecolor": "white",
            "showbackground": true,
            "ticks": "",
            "zerolinecolor": "white"
           }
          },
          "shapedefaults": {
           "line": {
            "color": "#2a3f5f"
           }
          },
          "ternary": {
           "aaxis": {
            "gridcolor": "white",
            "linecolor": "white",
            "ticks": ""
           },
           "baxis": {
            "gridcolor": "white",
            "linecolor": "white",
            "ticks": ""
           },
           "bgcolor": "#E5ECF6",
           "caxis": {
            "gridcolor": "white",
            "linecolor": "white",
            "ticks": ""
           }
          },
          "title": {
           "x": 0.05
          },
          "xaxis": {
           "automargin": true,
           "gridcolor": "white",
           "linecolor": "white",
           "ticks": "",
           "title": {
            "standoff": 15
           },
           "zerolinecolor": "white",
           "zerolinewidth": 2
          },
          "yaxis": {
           "automargin": true,
           "gridcolor": "white",
           "linecolor": "white",
           "ticks": "",
           "title": {
            "standoff": 15
           },
           "zerolinecolor": "white",
           "zerolinewidth": 2
          }
         }
        },
        "title": {
         "text": "Variation of Tannins for Each Mango Variety in Kernel"
        },
        "xaxis": {
         "autorange": true,
         "range": [
          0,
          4
         ],
         "title": {
          "text": "Ripening Stage"
         },
         "type": "category"
        },
        "yaxis": {
         "autorange": true,
         "range": [
          -7.341111111111111,
          172.48111111111112
         ],
         "title": {
          "text": "Peel"
         },
         "type": "linear"
        }
       }
      },
      "image/png": "[encoded data removed]",
      "text/html": [
       "<div>                            <div id=\"977d3f0a-4efc-4412-b3c1-fb9c802a1c14\" class=\"plotly-graph-div\" style=\"height:525px; width:100%;\"></div>            <script type=\"text/javascript\">                require([\"plotly\"], function(Plotly) {                    window.PLOTLYENV=window.PLOTLYENV || {};                                    if (document.getElementById(\"977d3f0a-4efc-4412-b3c1-fb9c802a1c14\")) {                    Plotly.newPlot(                        \"977d3f0a-4efc-4412-b3c1-fb9c802a1c14\",                        [{\"mode\":\"lines\",\"name\":\"Apple mango\",\"x\":[\"Stage 1\",\"Stage 2\",\"Stage 3\",\"Stage 4\",\"Stage 5\"],\"y\":[150.46,105.58,73.73,47.66,3.18],\"type\":\"scatter\"},{\"mode\":\"lines\",\"name\":\"Asante\",\"x\":[\"Stage 1\",\"Stage 2\",\"Stage 3\",\"Stage 4\",\"Stage 5\"],\"y\":[121.85,119.18,93.63,44.53,2.95],\"type\":\"scatter\"},{\"mode\":\"lines\",\"name\":\"Batawi\",\"x\":[\"Stage 1\",\"Stage 2\",\"Stage 3\",\"Stage 4\",\"Stage 5\"],\"y\":[136.79,116.46,98.65,53.48,4.46],\"type\":\"scatter\"},{\"mode\":\"lines\",\"name\":\"Bire\",\"x\":[\"Stage 1\",\"Stage 2\",\"Stage 3\",\"Stage 4\",\"Stage 5\"],\"y\":[105.04,101.43,90.71,51.55,2.67],\"type\":\"scatter\"},{\"mode\":\"lines\",\"name\":\"Boribo\",\"x\":[\"Stage 1\",\"Stage 2\",\"Stage 3\",\"Stage 4\",\"Stage 5\"],\"y\":[152.63,129.48,93.23,56.36,3.43],\"type\":\"scatter\"},{\"mode\":\"lines\",\"name\":\"Doodo\",\"x\":[\"Stage 1\",\"Stage 2\",\"Stage 3\",\"Stage 4\",\"Stage 5\"],\"y\":[124.98,94.43,83.48,55.31,3.49],\"type\":\"scatter\"},{\"mode\":\"lines\",\"name\":\"Kagoogwa\",\"x\":[\"Stage 1\",\"Stage 2\",\"Stage 3\",\"Stage 4\",\"Stage 5\"],\"y\":[142.09,84.59,47.59,40.44,1.65],\"type\":\"scatter\"},{\"mode\":\"lines\",\"name\":\"Koona\",\"x\":[\"Stage 1\",\"Stage 2\",\"Stage 3\",\"Stage 4\",\"Stage 5\"],\"y\":[114.62,87.55,44.6,22.61,1.75],\"type\":\"scatter\"},{\"mode\":\"lines\",\"name\":\"Mabbere\",\"x\":[\"Stage 1\",\"Stage 2\",\"Stage 3\",\"Stage 4\",\"Stage 5\"],\"y\":[132.06,101.33,53.84,38.53,2.52],\"type\":\"scatter\"},{\"mode\":\"lines\",\"name\":\"Sayuni\",\"x\":[\"Stage 1\",\"Stage 2\",\"Stage 3\",\"Stage 4\",\"Stage 5\"],\"y\":[124.39,117.54,70.65,19.41,6.61],\"type\":\"scatter\"},{\"mode\":\"lines\",\"name\":\"Ssejjembe\",\"x\":[\"Stage 1\",\"Stage 2\",\"Stage 3\",\"Stage 4\",\"Stage 5\"],\"y\":[109.61,89.68,51.51,33.62,4.68],\"type\":\"scatter\"},{\"mode\":\"lines\",\"name\":\"Takataka\",\"x\":[\"Stage 1\",\"Stage 2\",\"Stage 3\",\"Stage 4\",\"Stage 5\"],\"y\":[139.7,125.77,96.33,67.31,7.53],\"type\":\"scatter\"},{\"mode\":\"lines\",\"name\":\"Kakule\",\"x\":[\"Stage 1\",\"Stage 2\",\"Stage 3\",\"Stage 4\",\"Stage 5\"],\"y\":[117.67,76.61,63.23,27.61,4.68],\"type\":\"scatter\"},{\"mode\":\"lines\",\"name\":\"Duncan\",\"x\":[\"Stage 1\",\"Stage 2\",\"Stage 3\",\"Stage 4\",\"Stage 5\"],\"y\":[140.5,111.53,70.55,25.61,2.42],\"type\":\"scatter\"},{\"mode\":\"lines\",\"name\":\"Fairchild\",\"x\":[\"Stage 1\",\"Stage 2\",\"Stage 3\",\"Stage 4\",\"Stage 5\"],\"y\":[163.49,138.56,84.32,49.32,8.42],\"type\":\"scatter\"},{\"mode\":\"lines\",\"name\":\"Julie\",\"x\":[\"Stage 1\",\"Stage 2\",\"Stage 3\",\"Stage 4\",\"Stage 5\"],\"y\":[123.22,106.69,75.79,29.61,3.11],\"type\":\"scatter\"},{\"mode\":\"lines\",\"name\":\"Kapisa\",\"x\":[\"Stage 1\",\"Stage 2\",\"Stage 3\",\"Stage 4\",\"Stage 5\"],\"y\":[100.82,91.65,49.3,35.49,3.43],\"type\":\"scatter\"},{\"mode\":\"lines\",\"name\":\"Kent\",\"x\":[\"Stage 1\",\"Stage 2\",\"Stage 3\",\"Stage 4\",\"Stage 5\"],\"y\":[100.89,87.78,62.4,47.48,7.08],\"type\":\"scatter\"},{\"mode\":\"lines\",\"name\":\"Palmer\",\"x\":[\"Stage 1\",\"Stage 2\",\"Stage 3\",\"Stage 4\",\"Stage 5\"],\"y\":[135.77,87.7,51.36,32.33,4.59],\"type\":\"scatter\"},{\"mode\":\"lines\",\"name\":\"Ponde\",\"x\":[\"Stage 1\",\"Stage 2\",\"Stage 3\",\"Stage 4\",\"Stage 5\"],\"y\":[97.33,87.27,50.49,30.54,6.56],\"type\":\"scatter\"},{\"mode\":\"lines\",\"name\":\"Seena\",\"x\":[\"Stage 1\",\"Stage 2\",\"Stage 3\",\"Stage 4\",\"Stage 5\"],\"y\":[147.45,115.37,65.22,34.69,4.51],\"type\":\"scatter\"},{\"mode\":\"lines\",\"name\":\"Tommy atkin\",\"x\":[\"Stage 1\",\"Stage 2\",\"Stage 3\",\"Stage 4\",\"Stage 5\"],\"y\":[106.91,87.32,69.41,44.63,3.33],\"type\":\"scatter\"}],                        {\"title\":{\"text\":\"Variation of Tannins for Each Mango Variety in Kernel\"},\"xaxis\":{\"title\":{\"text\":\"Ripening Stage\"}},\"yaxis\":{\"title\":{\"text\":\"Peel\"}},\"template\":{\"data\":{\"histogram2dcontour\":[{\"type\":\"histogram2dcontour\",\"colorbar\":{\"outlinewidth\":0,\"ticks\":\"\"},\"colorscale\":[[0.0,\"#0d0887\"],[0.1111111111111111,\"#46039f\"],[0.2222222222222222,\"#7201a8\"],[0.3333333333333333,\"#9c179e\"],[0.4444444444444444,\"#bd3786\"],[0.5555555555555556,\"#d8576b\"],[0.6666666666666666,\"#ed7953\"],[0.7777777777777778,\"#fb9f3a\"],[0.8888888888888888,\"#fdca26\"],[1.0,\"#f0f921\"]]}],\"choropleth\":[{\"type\":\"choropleth\",\"colorbar\":{\"outlinewidth\":0,\"ticks\":\"\"}}],\"histogram2d\":[{\"type\":\"histogram2d\",\"colorbar\":{\"outlinewidth\":0,\"ticks\":\"\"},\"colorscale\":[[0.0,\"#0d0887\"],[0.1111111111111111,\"#46039f\"],[0.2222222222222222,\"#7201a8\"],[0.3333333333333333,\"#9c179e\"],[0.4444444444444444,\"#bd3786\"],[0.5555555555555556,\"#d8576b\"],[0.6666666666666666,\"#ed7953\"],[0.7777777777777778,\"#fb9f3a\"],[0.8888888888888888,\"#fdca26\"],[1.0,\"#f0f921\"]]}],\"heatmap\":[{\"type\":\"heatmap\",\"colorbar\":{\"outlinewidth\":0,\"ticks\":\"\"},\"colorscale\":[[0.0,\"#0d0887\"],[0.1111111111111111,\"#46039f\"],[0.2222222222222222,\"#7201a8\"],[0.3333333333333333,\"#9c179e\"],[0.4444444444444444,\"#bd3786\"],[0.5555555555555556,\"#d8576b\"],[0.6666666666666666,\"#ed7953\"],[0.7777777777777778,\"#fb9f3a\"],[0.8888888888888888,\"#fdca26\"],[1.0,\"#f0f921\"]]}],\"heatmapgl\":[{\"type\":\"heatmapgl\",\"colorbar\":{\"outlinewidth\":0,\"ticks\":\"\"},\"colorscale\":[[0.0,\"#0d0887\"],[0.1111111111111111,\"#46039f\"],[0.2222222222222222,\"#7201a8\"],[0.3333333333333333,\"#9c179e\"],[0.4444444444444444,\"#bd3786\"],[0.5555555555555556,\"#d8576b\"],[0.6666666666666666,\"#ed7953\"],[0.7777777777777778,\"#fb9f3a\"],[0.8888888888888888,\"#fdca26\"],[1.0,\"#f0f921\"]]}],\"contourcarpet\":[{\"type\":\"contourcarpet\",\"colorbar\":{\"outlinewidth\":0,\"ticks\":\"\"}}],\"contour\":[{\"type\":\"contour\",\"colorbar\":{\"outlinewidth\":0,\"ticks\":\"\"},\"colorscale\":[[0.0,\"#0d0887\"],[0.1111111111111111,\"#46039f\"],[0.2222222222222222,\"#7201a8\"],[0.3333333333333333,\"#9c179e\"],[0.4444444444444444,\"#bd3786\"],[0.5555555555555556,\"#d8576b\"],[0.6666666666666666,\"#ed7953\"],[0.7777777777777778,\"#fb9f3a\"],[0.8888888888888888,\"#fdca26\"],[1.0,\"#f0f921\"]]}],\"surface\":[{\"type\":\"surface\",\"colorbar\":{\"outlinewidth\":0,\"ticks\":\"\"},\"colorscale\":[[0.0,\"#0d0887\"],[0.1111111111111111,\"#46039f\"],[0.2222222222222222,\"#7201a8\"],[0.3333333333333333,\"#9c179e\"],[0.4444444444444444,\"#bd3786\"],[0.5555555555555556,\"#d8576b\"],[0.6666666666666666,\"#ed7953\"],[0.7777777777777778,\"#fb9f3a\"],[0.8888888888888888,\"#fdca26\"],[1.0,\"#f0f921\"]]}],\"mesh3d\":[{\"type\":\"mesh3d\",\"colorbar\":{\"outlinewidth\":0,\"ticks\":\"\"}}],\"scatter\":[{\"fillpattern\":{\"fillmode\":\"overlay\",\"size\":10,\"solidity\":0.2},\"type\":\"scatter\"}],\"parcoords\":[{\"type\":\"parcoords\",\"line\":{\"colorbar\":{\"outlinewidth\":0,\"ticks\":\"\"}}}],\"scatterpolargl\":[{\"type\":\"scatterpolargl\",\"marker\":{\"colorbar\":{\"outlinewidth\":0,\"ticks\":\"\"}}}],\"bar\":[{\"error_x\":{\"color\":\"#2a3f5f\"},\"error_y\":{\"color\":\"#2a3f5f\"},\"marker\":{\"line\":{\"color\":\"#E5ECF6\",\"width\":0.5},\"pattern\":{\"fillmode\":\"overlay\",\"size\":10,\"solidity\":0.2}},\"type\":\"bar\"}],\"scattergeo\":[{\"type\":\"scattergeo\",\"marker\":{\"colorbar\":{\"outlinewidth\":0,\"ticks\":\"\"}}}],\"scatterpolar\":[{\"type\":\"scatterpolar\",\"marker\":{\"colorbar\":{\"outlinewidth\":0,\"ticks\":\"\"}}}],\"histogram\":[{\"marker\":{\"pattern\":{\"fillmode\":\"overlay\",\"size\":10,\"solidity\":0.2}},\"type\":\"histogram\"}],\"scattergl\":[{\"type\":\"scattergl\",\"marker\":{\"colorbar\":{\"outlinewidth\":0,\"ticks\":\"\"}}}],\"scatter3d\":[{\"type\":\"scatter3d\",\"line\":{\"colorbar\":{\"outlinewidth\":0,\"ticks\":\"\"}},\"marker\":{\"colorbar\":{\"outlinewidth\":0,\"ticks\":\"\"}}}],\"scattermapbox\":[{\"type\":\"scattermapbox\",\"marker\":{\"colorbar\":{\"outlinewidth\":0,\"ticks\":\"\"}}}],\"scatterternary\":[{\"type\":\"scatterternary\",\"marker\":{\"colorbar\":{\"outlinewidth\":0,\"ticks\":\"\"}}}],\"scattercarpet\":[{\"type\":\"scattercarpet\",\"marker\":{\"colorbar\":{\"outlinewidth\":0,\"ticks\":\"\"}}}],\"carpet\":[{\"aaxis\":{\"endlinecolor\":\"#2a3f5f\",\"gridcolor\":\"white\",\"linecolor\":\"white\",\"minorgridcolor\":\"white\",\"startlinecolor\":\"#2a3f5f\"},\"baxis\":{\"endlinecolor\":\"#2a3f5f\",\"gridcolor\":\"white\",\"linecolor\":\"white\",\"minorgridcolor\":\"white\",\"startlinecolor\":\"#2a3f5f\"},\"type\":\"carpet\"}],\"table\":[{\"cells\":{\"fill\":{\"color\":\"#EBF0F8\"},\"line\":{\"color\":\"white\"}},\"header\":{\"fill\":{\"color\":\"#C8D4E3\"},\"line\":{\"color\":\"white\"}},\"type\":\"table\"}],\"barpolar\":[{\"marker\":{\"line\":{\"color\":\"#E5ECF6\",\"width\":0.5},\"pattern\":{\"fillmode\":\"overlay\",\"size\":10,\"solidity\":0.2}},\"type\":\"barpolar\"}],\"pie\":[{\"automargin\":true,\"type\":\"pie\"}]},\"layout\":{\"autotypenumbers\":\"strict\",\"colorway\":[\"#636efa\",\"#EF553B\",\"#00cc96\",\"#ab63fa\",\"#FFA15A\",\"#19d3f3\",\"#FF6692\",\"#B6E880\",\"#FF97FF\",\"#FECB52\"],\"font\":{\"color\":\"#2a3f5f\"},\"hovermode\":\"closest\",\"hoverlabel\":{\"align\":\"left\"},\"paper_bgcolor\":\"white\",\"plot_bgcolor\":\"#E5ECF6\",\"polar\":{\"bgcolor\":\"#E5ECF6\",\"angularaxis\":{\"gridcolor\":\"white\",\"linecolor\":\"white\",\"ticks\":\"\"},\"radialaxis\":{\"gridcolor\":\"white\",\"linecolor\":\"white\",\"ticks\":\"\"}},\"ternary\":{\"bgcolor\":\"#E5ECF6\",\"aaxis\":{\"gridcolor\":\"white\",\"linecolor\":\"white\",\"ticks\":\"\"},\"baxis\":{\"gridcolor\":\"white\",\"linecolor\":\"white\",\"ticks\":\"\"},\"caxis\":{\"gridcolor\":\"white\",\"linecolor\":\"white\",\"ticks\":\"\"}},\"coloraxis\":{\"colorbar\":{\"outlinewidth\":0,\"ticks\":\"\"}},\"colorscale\":{\"sequential\":[[0.0,\"#0d0887\"],[0.1111111111111111,\"#46039f\"],[0.2222222222222222,\"#7201a8\"],[0.3333333333333333,\"#9c179e\"],[0.4444444444444444,\"#bd3786\"],[0.5555555555555556,\"#d8576b\"],[0.6666666666666666,\"#ed7953\"],[0.7777777777777778,\"#fb9f3a\"],[0.8888888888888888,\"#fdca26\"],[1.0,\"#f0f921\"]],\"sequentialminus\":[[0.0,\"#0d0887\"],[0.1111111111111111,\"#46039f\"],[0.2222222222222222,\"#7201a8\"],[0.3333333333333333,\"#9c179e\"],[0.4444444444444444,\"#bd3786\"],[0.5555555555555556,\"#d8576b\"],[0.6666666666666666,\"#ed7953\"],[0.7777777777777778,\"#fb9f3a\"],[0.8888888888888888,\"#fdca26\"],[1.0,\"#f0f921\"]],\"diverging\":[[0,\"#8e0152\"],[0.1,\"#c51b7d\"],[0.2,\"#de77ae\"],[0.3,\"#f1b6da\"],[0.4,\"#fde0ef\"],[0.5,\"#f7f7f7\"],[0.6,\"#e6f5d0\"],[0.7,\"#b8e186\"],[0.8,\"#7fbc41\"],[0.9,\"#4d9221\"],[1,\"#276419\"]]},\"xaxis\":{\"gridcolor\":\"white\",\"linecolor\":\"white\",\"ticks\":\"\",\"title\":{\"standoff\":15},\"zerolinecolor\":\"white\",\"automargin\":true,\"zerolinewidth\":2},\"yaxis\":{\"gridcolor\":\"white\",\"linecolor\":\"white\",\"ticks\":\"\",\"title\":{\"standoff\":15},\"zerolinecolor\":\"white\",\"automargin\":true,\"zerolinewidth\":2},\"scene\":{\"xaxis\":{\"backgroundcolor\":\"#E5ECF6\",\"gridcolor\":\"white\",\"linecolor\":\"white\",\"showbackground\":true,\"ticks\":\"\",\"zerolinecolor\":\"white\",\"gridwidth\":2},\"yaxis\":{\"backgroundcolor\":\"#E5ECF6\",\"gridcolor\":\"white\",\"linecolor\":\"white\",\"showbackground\":true,\"ticks\":\"\",\"zerolinecolor\":\"white\",\"gridwidth\":2},\"zaxis\":{\"backgroundcolor\":\"#E5ECF6\",\"gridcolor\":\"white\",\"linecolor\":\"white\",\"showbackground\":true,\"ticks\":\"\",\"zerolinecolor\":\"white\",\"gridwidth\":2}},\"shapedefaults\":{\"line\":{\"color\":\"#2a3f5f\"}},\"annotationdefaults\":{\"arrowcolor\":\"#2a3f5f\",\"arrowhead\":0,\"arrowwidth\":1},\"geo\":{\"bgcolor\":\"white\",\"landcolor\":\"#E5ECF6\",\"subunitcolor\":\"white\",\"showland\":true,\"showlakes\":true,\"lakecolor\":\"white\"},\"title\":{\"x\":0.05},\"mapbox\":{\"style\":\"light\"}}}},                        {\"responsive\": true}                    ).then(function(){\n",
       "                            \n",
       "var gd = document.getElementById('977d3f0a-4efc-4412-b3c1-fb9c802a1c14');\n",
       "var x = new MutationObserver(function (mutations, observer) {{\n",
       "        var display = window.getComputedStyle(gd).display;\n",
       "        if (!display || display === 'none') {{\n",
       "            console.log([gd, 'removed!']);\n",
       "            Plotly.purge(gd);\n",
       "            observer.disconnect();\n",
       "        }}\n",
       "}});\n",
       "\n",
       "// Listen for the removal of the full notebook cells\n",
       "var notebookContainer = gd.closest('#notebook-container');\n",
       "if (notebookContainer) {{\n",
       "    x.observe(notebookContainer, {childList: true});\n",
       "}}\n",
       "\n",
       "// Listen for the clearing of the current output cell\n",
       "var outputEl = gd.closest('.output');\n",
       "if (outputEl) {{\n",
       "    x.observe(outputEl, {childList: true});\n",
       "}}\n",
       "\n",
       "                        })                };                });            </script>        </div>"
      ]
     },
     "metadata": {},
     "output_type": "display_data"
    }
   ],
   "source": [
    "# Create traces for each mango variety\n",
    "traces = []\n",
    "for variety in data['Mango variety'].unique():\n",
    "    subset = data[data['Mango variety'] == variety]\n",
    "    trace = go.Scatter(x=subset['Ripening stage'], y=subset['Kernel'], mode='lines', name=variety)\n",
    "    traces.append(trace)\n",
    "\n",
    "# Create layout\n",
    "layout = go.Layout(title='Variation of Tannins for Each Mango Variety in Kernel',\n",
    "                   xaxis=dict(title='Ripening Stage'),\n",
    "                   yaxis=dict(title='Peel'))\n",
    "\n",
    "# Create figure\n",
    "fig = go.Figure(data=traces, layout=layout)\n",
    "\n",
    "# Plot figure\n",
    "pio.show(fig)"
   ]
  },
  {
   "cell_type": "code",
   "execution_count": 19,
   "id": "eb2db1ba-7759-4c05-a202-181c1b71965e",
   "metadata": {},
   "outputs": [
    {
     "data": {
      "application/vnd.plotly.v1+json": {
       "config": {
        "plotlyServerURL": "https://plot.ly"
       },
       "data": [
        {
         "mode": "lines",
         "name": "Apple mango",
         "type": "scatter",
         "x": [
          "Stage 1",
          "Stage 2",
          "Stage 3",
          "Stage 4",
          "Stage 5"
         ],
         "y": [
          222.3,
          106.83,
          65.75,
          64.51,
          34.1
         ]
        },
        {
         "mode": "lines",
         "name": "Asante",
         "type": "scatter",
         "x": [
          "Stage 1",
          "Stage 2",
          "Stage 3",
          "Stage 4",
          "Stage 5"
         ],
         "y": [
          227.31,
          106.36,
          74.3,
          54.3,
          27.55
         ]
        },
        {
         "mode": "lines",
         "name": "Batawi",
         "type": "scatter",
         "x": [
          "Stage 1",
          "Stage 2",
          "Stage 3",
          "Stage 4",
          "Stage 5"
         ],
         "y": [
          217.35,
          134.61,
          63.35,
          63.51,
          53.61
         ]
        },
        {
         "mode": "lines",
         "name": "Bire",
         "type": "scatter",
         "x": [
          "Stage 1",
          "Stage 2",
          "Stage 3",
          "Stage 4",
          "Stage 5"
         ],
         "y": [
          201.41,
          101.22,
          65.58,
          63.63,
          62.68
         ]
        },
        {
         "mode": "lines",
         "name": "Boribo",
         "type": "scatter",
         "x": [
          "Stage 1",
          "Stage 2",
          "Stage 3",
          "Stage 4",
          "Stage 5"
         ],
         "y": [
          224.78,
          144.09,
          51.54,
          43.26,
          38.35
         ]
        },
        {
         "mode": "lines",
         "name": "Doodo",
         "type": "scatter",
         "x": [
          "Stage 1",
          "Stage 2",
          "Stage 3",
          "Stage 4",
          "Stage 5"
         ],
         "y": [
          223.17,
          91.4,
          62.64,
          54.74,
          35.5
         ]
        },
        {
         "mode": "lines",
         "name": "Kagoogwa",
         "type": "scatter",
         "x": [
          "Stage 1",
          "Stage 2",
          "Stage 3",
          "Stage 4",
          "Stage 5"
         ],
         "y": [
          219.92,
          131.91,
          40.89,
          20.76,
          20.69
         ]
        },
        {
         "mode": "lines",
         "name": "Koona",
         "type": "scatter",
         "x": [
          "Stage 1",
          "Stage 2",
          "Stage 3",
          "Stage 4",
          "Stage 5"
         ],
         "y": [
          217.42,
          130.08,
          56.62,
          50.25,
          43.65
         ]
        },
        {
         "mode": "lines",
         "name": "Mabbere",
         "type": "scatter",
         "x": [
          "Stage 1",
          "Stage 2",
          "Stage 3",
          "Stage 4",
          "Stage 5"
         ],
         "y": [
          205.91,
          113.35,
          57.7,
          50.07,
          41.94
         ]
        },
        {
         "mode": "lines",
         "name": "Sayuni",
         "type": "scatter",
         "x": [
          "Stage 1",
          "Stage 2",
          "Stage 3",
          "Stage 4",
          "Stage 5"
         ],
         "y": [
          207.19,
          144.63,
          52.78,
          37.56,
          31.82
         ]
        },
        {
         "mode": "lines",
         "name": "Ssejjembe",
         "type": "scatter",
         "x": [
          "Stage 1",
          "Stage 2",
          "Stage 3",
          "Stage 4",
          "Stage 5"
         ],
         "y": [
          202.34,
          132.04,
          44.49,
          34.49,
          34.27
         ]
        },
        {
         "mode": "lines",
         "name": "Takataka",
         "type": "scatter",
         "x": [
          "Stage 1",
          "Stage 2",
          "Stage 3",
          "Stage 4",
          "Stage 5"
         ],
         "y": [
          223.68,
          170.96,
          72.96,
          55.44,
          50.52
         ]
        },
        {
         "mode": "lines",
         "name": "Kakule",
         "type": "scatter",
         "x": [
          "Stage 1",
          "Stage 2",
          "Stage 3",
          "Stage 4",
          "Stage 5"
         ],
         "y": [
          284.24,
          136.44,
          78.2,
          70.63,
          61.26
         ]
        },
        {
         "mode": "lines",
         "name": "Duncan",
         "type": "scatter",
         "x": [
          "Stage 1",
          "Stage 2",
          "Stage 3",
          "Stage 4",
          "Stage 5"
         ],
         "y": [
          210.76,
          137.82,
          58.28,
          48.52,
          44.51
         ]
        },
        {
         "mode": "lines",
         "name": "Fairchild",
         "type": "scatter",
         "x": [
          "Stage 1",
          "Stage 2",
          "Stage 3",
          "Stage 4",
          "Stage 5"
         ],
         "y": [
          226.96,
          87.73,
          61.73,
          55.67,
          48.03
         ]
        },
        {
         "mode": "lines",
         "name": "Julie",
         "type": "scatter",
         "x": [
          "Stage 1",
          "Stage 2",
          "Stage 3",
          "Stage 4",
          "Stage 5"
         ],
         "y": [
          193.44,
          153.85,
          75.79,
          57.56,
          29.5
         ]
        },
        {
         "mode": "lines",
         "name": "Kapisa",
         "type": "scatter",
         "x": [
          "Stage 1",
          "Stage 2",
          "Stage 3",
          "Stage 4",
          "Stage 5"
         ],
         "y": [
          271.16,
          137.5,
          86.58,
          38.3,
          38.02
         ]
        },
        {
         "mode": "lines",
         "name": "Kent",
         "type": "scatter",
         "x": [
          "Stage 1",
          "Stage 2",
          "Stage 3",
          "Stage 4",
          "Stage 5"
         ],
         "y": [
          222.62,
          143.09,
          95.88,
          66.57,
          49.72
         ]
        },
        {
         "mode": "lines",
         "name": "Palmer",
         "type": "scatter",
         "x": [
          "Stage 1",
          "Stage 2",
          "Stage 3",
          "Stage 4",
          "Stage 5"
         ],
         "y": [
          217.38,
          111.75,
          34.37,
          24.69,
          24.46
         ]
        },
        {
         "mode": "lines",
         "name": "Ponde",
         "type": "scatter",
         "x": [
          "Stage 1",
          "Stage 2",
          "Stage 3",
          "Stage 4",
          "Stage 5"
         ],
         "y": [
          216.42,
          134.84,
          57.73,
          40.2,
          38.5
         ]
        },
        {
         "mode": "lines",
         "name": "Seena",
         "type": "scatter",
         "x": [
          "Stage 1",
          "Stage 2",
          "Stage 3",
          "Stage 4",
          "Stage 5"
         ],
         "y": [
          209.73,
          136.51,
          63.25,
          24.97,
          23.6
         ]
        },
        {
         "mode": "lines",
         "name": "Tommy atkin",
         "type": "scatter",
         "x": [
          "Stage 1",
          "Stage 2",
          "Stage 3",
          "Stage 4",
          "Stage 5"
         ],
         "y": [
          193.76,
          166.15,
          74.92,
          69.88,
          39.47
         ]
        }
       ],
       "layout": {
        "autosize": true,
        "template": {
         "data": {
          "bar": [
           {
            "error_x": {
             "color": "#2a3f5f"
            },
            "error_y": {
             "color": "#2a3f5f"
            },
            "marker": {
             "line": {
              "color": "#E5ECF6",
              "width": 0.5
             },
             "pattern": {
              "fillmode": "overlay",
              "size": 10,
              "solidity": 0.2
             }
            },
            "type": "bar"
           }
          ],
          "barpolar": [
           {
            "marker": {
             "line": {
              "color": "#E5ECF6",
              "width": 0.5
             },
             "pattern": {
              "fillmode": "overlay",
              "size": 10,
              "solidity": 0.2
             }
            },
            "type": "barpolar"
           }
          ],
          "carpet": [
           {
            "aaxis": {
             "endlinecolor": "#2a3f5f",
             "gridcolor": "white",
             "linecolor": "white",
             "minorgridcolor": "white",
             "startlinecolor": "#2a3f5f"
            },
            "baxis": {
             "endlinecolor": "#2a3f5f",
             "gridcolor": "white",
             "linecolor": "white",
             "minorgridcolor": "white",
             "startlinecolor": "#2a3f5f"
            },
            "type": "carpet"
           }
          ],
          "choropleth": [
           {
            "colorbar": {
             "outlinewidth": 0,
             "ticks": ""
            },
            "type": "choropleth"
           }
          ],
          "contour": [
           {
            "colorbar": {
             "outlinewidth": 0,
             "ticks": ""
            },
            "colorscale": [
             [
              0,
              "#0d0887"
             ],
             [
              0.1111111111111111,
              "#46039f"
             ],
             [
              0.2222222222222222,
              "#7201a8"
             ],
             [
              0.3333333333333333,
              "#9c179e"
             ],
             [
              0.4444444444444444,
              "#bd3786"
             ],
             [
              0.5555555555555556,
              "#d8576b"
             ],
             [
              0.6666666666666666,
              "#ed7953"
             ],
             [
              0.7777777777777778,
              "#fb9f3a"
             ],
             [
              0.8888888888888888,
              "#fdca26"
             ],
             [
              1,
              "#f0f921"
             ]
            ],
            "type": "contour"
           }
          ],
          "contourcarpet": [
           {
            "colorbar": {
             "outlinewidth": 0,
             "ticks": ""
            },
            "type": "contourcarpet"
           }
          ],
          "heatmap": [
           {
            "colorbar": {
             "outlinewidth": 0,
             "ticks": ""
            },
            "colorscale": [
             [
              0,
              "#0d0887"
             ],
             [
              0.1111111111111111,
              "#46039f"
             ],
             [
              0.2222222222222222,
              "#7201a8"
             ],
             [
              0.3333333333333333,
              "#9c179e"
             ],
             [
              0.4444444444444444,
              "#bd3786"
             ],
             [
              0.5555555555555556,
              "#d8576b"
             ],
             [
              0.6666666666666666,
              "#ed7953"
             ],
             [
              0.7777777777777778,
              "#fb9f3a"
             ],
             [
              0.8888888888888888,
              "#fdca26"
             ],
             [
              1,
              "#f0f921"
             ]
            ],
            "type": "heatmap"
           }
          ],
          "heatmapgl": [
           {
            "colorbar": {
             "outlinewidth": 0,
             "ticks": ""
            },
            "colorscale": [
             [
              0,
              "#0d0887"
             ],
             [
              0.1111111111111111,
              "#46039f"
             ],
             [
              0.2222222222222222,
              "#7201a8"
             ],
             [
              0.3333333333333333,
              "#9c179e"
             ],
             [
              0.4444444444444444,
              "#bd3786"
             ],
             [
              0.5555555555555556,
              "#d8576b"
             ],
             [
              0.6666666666666666,
              "#ed7953"
             ],
             [
              0.7777777777777778,
              "#fb9f3a"
             ],
             [
              0.8888888888888888,
              "#fdca26"
             ],
             [
              1,
              "#f0f921"
             ]
            ],
            "type": "heatmapgl"
           }
          ],
          "histogram": [
           {
            "marker": {
             "pattern": {
              "fillmode": "overlay",
              "size": 10,
              "solidity": 0.2
             }
            },
            "type": "histogram"
           }
          ],
          "histogram2d": [
           {
            "colorbar": {
             "outlinewidth": 0,
             "ticks": ""
            },
            "colorscale": [
             [
              0,
              "#0d0887"
             ],
             [
              0.1111111111111111,
              "#46039f"
             ],
             [
              0.2222222222222222,
              "#7201a8"
             ],
             [
              0.3333333333333333,
              "#9c179e"
             ],
             [
              0.4444444444444444,
              "#bd3786"
             ],
             [
              0.5555555555555556,
              "#d8576b"
             ],
             [
              0.6666666666666666,
              "#ed7953"
             ],
             [
              0.7777777777777778,
              "#fb9f3a"
             ],
             [
              0.8888888888888888,
              "#fdca26"
             ],
             [
              1,
              "#f0f921"
             ]
            ],
            "type": "histogram2d"
           }
          ],
          "histogram2dcontour": [
           {
            "colorbar": {
             "outlinewidth": 0,
             "ticks": ""
            },
            "colorscale": [
             [
              0,
              "#0d0887"
             ],
             [
              0.1111111111111111,
              "#46039f"
             ],
             [
              0.2222222222222222,
              "#7201a8"
             ],
             [
              0.3333333333333333,
              "#9c179e"
             ],
             [
              0.4444444444444444,
              "#bd3786"
             ],
             [
              0.5555555555555556,
              "#d8576b"
             ],
             [
              0.6666666666666666,
              "#ed7953"
             ],
             [
              0.7777777777777778,
              "#fb9f3a"
             ],
             [
              0.8888888888888888,
              "#fdca26"
             ],
             [
              1,
              "#f0f921"
             ]
            ],
            "type": "histogram2dcontour"
           }
          ],
          "mesh3d": [
           {
            "colorbar": {
             "outlinewidth": 0,
             "ticks": ""
            },
            "type": "mesh3d"
           }
          ],
          "parcoords": [
           {
            "line": {
             "colorbar": {
              "outlinewidth": 0,
              "ticks": ""
             }
            },
            "type": "parcoords"
           }
          ],
          "pie": [
           {
            "automargin": true,
            "type": "pie"
           }
          ],
          "scatter": [
           {
            "fillpattern": {
             "fillmode": "overlay",
             "size": 10,
             "solidity": 0.2
            },
            "type": "scatter"
           }
          ],
          "scatter3d": [
           {
            "line": {
             "colorbar": {
              "outlinewidth": 0,
              "ticks": ""
             }
            },
            "marker": {
             "colorbar": {
              "outlinewidth": 0,
              "ticks": ""
             }
            },
            "type": "scatter3d"
           }
          ],
          "scattercarpet": [
           {
            "marker": {
             "colorbar": {
              "outlinewidth": 0,
              "ticks": ""
             }
            },
            "type": "scattercarpet"
           }
          ],
          "scattergeo": [
           {
            "marker": {
             "colorbar": {
              "outlinewidth": 0,
              "ticks": ""
             }
            },
            "type": "scattergeo"
           }
          ],
          "scattergl": [
           {
            "marker": {
             "colorbar": {
              "outlinewidth": 0,
              "ticks": ""
             }
            },
            "type": "scattergl"
           }
          ],
          "scattermapbox": [
           {
            "marker": {
             "colorbar": {
              "outlinewidth": 0,
              "ticks": ""
             }
            },
            "type": "scattermapbox"
           }
          ],
          "scatterpolar": [
           {
            "marker": {
             "colorbar": {
              "outlinewidth": 0,
              "ticks": ""
             }
            },
            "type": "scatterpolar"
           }
          ],
          "scatterpolargl": [
           {
            "marker": {
             "colorbar": {
              "outlinewidth": 0,
              "ticks": ""
             }
            },
            "type": "scatterpolargl"
           }
          ],
          "scatterternary": [
           {
            "marker": {
             "colorbar": {
              "outlinewidth": 0,
              "ticks": ""
             }
            },
            "type": "scatterternary"
           }
          ],
          "surface": [
           {
            "colorbar": {
             "outlinewidth": 0,
             "ticks": ""
            },
            "colorscale": [
             [
              0,
              "#0d0887"
             ],
             [
              0.1111111111111111,
              "#46039f"
             ],
             [
              0.2222222222222222,
              "#7201a8"
             ],
             [
              0.3333333333333333,
              "#9c179e"
             ],
             [
              0.4444444444444444,
              "#bd3786"
             ],
             [
              0.5555555555555556,
              "#d8576b"
             ],
             [
              0.6666666666666666,
              "#ed7953"
             ],
             [
              0.7777777777777778,
              "#fb9f3a"
             ],
             [
              0.8888888888888888,
              "#fdca26"
             ],
             [
              1,
              "#f0f921"
             ]
            ],
            "type": "surface"
           }
          ],
          "table": [
           {
            "cells": {
             "fill": {
              "color": "#EBF0F8"
             },
             "line": {
              "color": "white"
             }
            },
            "header": {
             "fill": {
              "color": "#C8D4E3"
             },
             "line": {
              "color": "white"
             }
            },
            "type": "table"
           }
          ]
         },
         "layout": {
          "annotationdefaults": {
           "arrowcolor": "#2a3f5f",
           "arrowhead": 0,
           "arrowwidth": 1
          },
          "autotypenumbers": "strict",
          "coloraxis": {
           "colorbar": {
            "outlinewidth": 0,
            "ticks": ""
           }
          },
          "colorscale": {
           "diverging": [
            [
             0,
             "#8e0152"
            ],
            [
             0.1,
             "#c51b7d"
            ],
            [
             0.2,
             "#de77ae"
            ],
            [
             0.3,
             "#f1b6da"
            ],
            [
             0.4,
             "#fde0ef"
            ],
            [
             0.5,
             "#f7f7f7"
            ],
            [
             0.6,
             "#e6f5d0"
            ],
            [
             0.7,
             "#b8e186"
            ],
            [
             0.8,
             "#7fbc41"
            ],
            [
             0.9,
             "#4d9221"
            ],
            [
             1,
             "#276419"
            ]
           ],
           "sequential": [
            [
             0,
             "#0d0887"
            ],
            [
             0.1111111111111111,
             "#46039f"
            ],
            [
             0.2222222222222222,
             "#7201a8"
            ],
            [
             0.3333333333333333,
             "#9c179e"
            ],
            [
             0.4444444444444444,
             "#bd3786"
            ],
            [
             0.5555555555555556,
             "#d8576b"
            ],
            [
             0.6666666666666666,
             "#ed7953"
            ],
            [
             0.7777777777777778,
             "#fb9f3a"
            ],
            [
             0.8888888888888888,
             "#fdca26"
            ],
            [
             1,
             "#f0f921"
            ]
           ],
           "sequentialminus": [
            [
             0,
             "#0d0887"
            ],
            [
             0.1111111111111111,
             "#46039f"
            ],
            [
             0.2222222222222222,
             "#7201a8"
            ],
            [
             0.3333333333333333,
             "#9c179e"
            ],
            [
             0.4444444444444444,
             "#bd3786"
            ],
            [
             0.5555555555555556,
             "#d8576b"
            ],
            [
             0.6666666666666666,
             "#ed7953"
            ],
            [
             0.7777777777777778,
             "#fb9f3a"
            ],
            [
             0.8888888888888888,
             "#fdca26"
            ],
            [
             1,
             "#f0f921"
            ]
           ]
          },
          "colorway": [
           "#636efa",
           "#EF553B",
           "#00cc96",
           "#ab63fa",
           "#FFA15A",
           "#19d3f3",
           "#FF6692",
           "#B6E880",
           "#FF97FF",
           "#FECB52"
          ],
          "font": {
           "color": "#2a3f5f"
          },
          "geo": {
           "bgcolor": "white",
           "lakecolor": "white",
           "landcolor": "#E5ECF6",
           "showlakes": true,
           "showland": true,
           "subunitcolor": "white"
          },
          "hoverlabel": {
           "align": "left"
          },
          "hovermode": "closest",
          "mapbox": {
           "style": "light"
          },
          "paper_bgcolor": "white",
          "plot_bgcolor": "#E5ECF6",
          "polar": {
           "angularaxis": {
            "gridcolor": "white",
            "linecolor": "white",
            "ticks": ""
           },
           "bgcolor": "#E5ECF6",
           "radialaxis": {
            "gridcolor": "white",
            "linecolor": "white",
            "ticks": ""
           }
          },
          "scene": {
           "xaxis": {
            "backgroundcolor": "#E5ECF6",
            "gridcolor": "white",
            "gridwidth": 2,
            "linecolor": "white",
            "showbackground": true,
            "ticks": "",
            "zerolinecolor": "white"
           },
           "yaxis": {
            "backgroundcolor": "#E5ECF6",
            "gridcolor": "white",
            "gridwidth": 2,
            "linecolor": "white",
            "showbackground": true,
            "ticks": "",
            "zerolinecolor": "white"
           },
           "zaxis": {
            "backgroundcolor": "#E5ECF6",
            "gridcolor": "white",
            "gridwidth": 2,
            "linecolor": "white",
            "showbackground": true,
            "ticks": "",
            "zerolinecolor": "white"
           }
          },
          "shapedefaults": {
           "line": {
            "color": "#2a3f5f"
           }
          },
          "ternary": {
           "aaxis": {
            "gridcolor": "white",
            "linecolor": "white",
            "ticks": ""
           },
           "baxis": {
            "gridcolor": "white",
            "linecolor": "white",
            "ticks": ""
           },
           "bgcolor": "#E5ECF6",
           "caxis": {
            "gridcolor": "white",
            "linecolor": "white",
            "ticks": ""
           }
          },
          "title": {
           "x": 0.05
          },
          "xaxis": {
           "automargin": true,
           "gridcolor": "white",
           "linecolor": "white",
           "ticks": "",
           "title": {
            "standoff": 15
           },
           "zerolinecolor": "white",
           "zerolinewidth": 2
          },
          "yaxis": {
           "automargin": true,
           "gridcolor": "white",
           "linecolor": "white",
           "ticks": "",
           "title": {
            "standoff": 15
           },
           "zerolinecolor": "white",
           "zerolinewidth": 2
          }
         }
        },
        "title": {
         "text": "Variation of Tannins for Each Mango Variety in Seed"
        },
        "xaxis": {
         "autorange": true,
         "range": [
          0,
          4
         ],
         "title": {
          "text": "Ripening Stage"
         },
         "type": "category"
        },
        "yaxis": {
         "autorange": true,
         "range": [
          6.048333333333334,
          298.88166666666666
         ],
         "title": {
          "text": "Peel"
         },
         "type": "linear"
        }
       }
      },
      "image/png": "[encoded data removed]",
      "text/html": [
       "<div>                            <div id=\"348779ee-49ed-4925-ae14-bed03be99d5a\" class=\"plotly-graph-div\" style=\"height:525px; width:100%;\"></div>            <script type=\"text/javascript\">                require([\"plotly\"], function(Plotly) {                    window.PLOTLYENV=window.PLOTLYENV || {};                                    if (document.getElementById(\"348779ee-49ed-4925-ae14-bed03be99d5a\")) {                    Plotly.newPlot(                        \"348779ee-49ed-4925-ae14-bed03be99d5a\",                        [{\"mode\":\"lines\",\"name\":\"Apple mango\",\"x\":[\"Stage 1\",\"Stage 2\",\"Stage 3\",\"Stage 4\",\"Stage 5\"],\"y\":[222.3,106.83,65.75,64.51,34.1],\"type\":\"scatter\"},{\"mode\":\"lines\",\"name\":\"Asante\",\"x\":[\"Stage 1\",\"Stage 2\",\"Stage 3\",\"Stage 4\",\"Stage 5\"],\"y\":[227.31,106.36,74.3,54.3,27.55],\"type\":\"scatter\"},{\"mode\":\"lines\",\"name\":\"Batawi\",\"x\":[\"Stage 1\",\"Stage 2\",\"Stage 3\",\"Stage 4\",\"Stage 5\"],\"y\":[217.35,134.61,63.35,63.51,53.61],\"type\":\"scatter\"},{\"mode\":\"lines\",\"name\":\"Bire\",\"x\":[\"Stage 1\",\"Stage 2\",\"Stage 3\",\"Stage 4\",\"Stage 5\"],\"y\":[201.41,101.22,65.58,63.63,62.68],\"type\":\"scatter\"},{\"mode\":\"lines\",\"name\":\"Boribo\",\"x\":[\"Stage 1\",\"Stage 2\",\"Stage 3\",\"Stage 4\",\"Stage 5\"],\"y\":[224.78,144.09,51.54,43.26,38.35],\"type\":\"scatter\"},{\"mode\":\"lines\",\"name\":\"Doodo\",\"x\":[\"Stage 1\",\"Stage 2\",\"Stage 3\",\"Stage 4\",\"Stage 5\"],\"y\":[223.17,91.4,62.64,54.74,35.5],\"type\":\"scatter\"},{\"mode\":\"lines\",\"name\":\"Kagoogwa\",\"x\":[\"Stage 1\",\"Stage 2\",\"Stage 3\",\"Stage 4\",\"Stage 5\"],\"y\":[219.92,131.91,40.89,20.76,20.69],\"type\":\"scatter\"},{\"mode\":\"lines\",\"name\":\"Koona\",\"x\":[\"Stage 1\",\"Stage 2\",\"Stage 3\",\"Stage 4\",\"Stage 5\"],\"y\":[217.42,130.08,56.62,50.25,43.65],\"type\":\"scatter\"},{\"mode\":\"lines\",\"name\":\"Mabbere\",\"x\":[\"Stage 1\",\"Stage 2\",\"Stage 3\",\"Stage 4\",\"Stage 5\"],\"y\":[205.91,113.35,57.7,50.07,41.94],\"type\":\"scatter\"},{\"mode\":\"lines\",\"name\":\"Sayuni\",\"x\":[\"Stage 1\",\"Stage 2\",\"Stage 3\",\"Stage 4\",\"Stage 5\"],\"y\":[207.19,144.63,52.78,37.56,31.82],\"type\":\"scatter\"},{\"mode\":\"lines\",\"name\":\"Ssejjembe\",\"x\":[\"Stage 1\",\"Stage 2\",\"Stage 3\",\"Stage 4\",\"Stage 5\"],\"y\":[202.34,132.04,44.49,34.49,34.27],\"type\":\"scatter\"},{\"mode\":\"lines\",\"name\":\"Takataka\",\"x\":[\"Stage 1\",\"Stage 2\",\"Stage 3\",\"Stage 4\",\"Stage 5\"],\"y\":[223.68,170.96,72.96,55.44,50.52],\"type\":\"scatter\"},{\"mode\":\"lines\",\"name\":\"Kakule\",\"x\":[\"Stage 1\",\"Stage 2\",\"Stage 3\",\"Stage 4\",\"Stage 5\"],\"y\":[284.24,136.44,78.2,70.63,61.26],\"type\":\"scatter\"},{\"mode\":\"lines\",\"name\":\"Duncan\",\"x\":[\"Stage 1\",\"Stage 2\",\"Stage 3\",\"Stage 4\",\"Stage 5\"],\"y\":[210.76,137.82,58.28,48.52,44.51],\"type\":\"scatter\"},{\"mode\":\"lines\",\"name\":\"Fairchild\",\"x\":[\"Stage 1\",\"Stage 2\",\"Stage 3\",\"Stage 4\",\"Stage 5\"],\"y\":[226.96,87.73,61.73,55.67,48.03],\"type\":\"scatter\"},{\"mode\":\"lines\",\"name\":\"Julie\",\"x\":[\"Stage 1\",\"Stage 2\",\"Stage 3\",\"Stage 4\",\"Stage 5\"],\"y\":[193.44,153.85,75.79,57.56,29.5],\"type\":\"scatter\"},{\"mode\":\"lines\",\"name\":\"Kapisa\",\"x\":[\"Stage 1\",\"Stage 2\",\"Stage 3\",\"Stage 4\",\"Stage 5\"],\"y\":[271.16,137.5,86.58,38.3,38.02],\"type\":\"scatter\"},{\"mode\":\"lines\",\"name\":\"Kent\",\"x\":[\"Stage 1\",\"Stage 2\",\"Stage 3\",\"Stage 4\",\"Stage 5\"],\"y\":[222.62,143.09,95.88,66.57,49.72],\"type\":\"scatter\"},{\"mode\":\"lines\",\"name\":\"Palmer\",\"x\":[\"Stage 1\",\"Stage 2\",\"Stage 3\",\"Stage 4\",\"Stage 5\"],\"y\":[217.38,111.75,34.37,24.69,24.46],\"type\":\"scatter\"},{\"mode\":\"lines\",\"name\":\"Ponde\",\"x\":[\"Stage 1\",\"Stage 2\",\"Stage 3\",\"Stage 4\",\"Stage 5\"],\"y\":[216.42,134.84,57.73,40.2,38.5],\"type\":\"scatter\"},{\"mode\":\"lines\",\"name\":\"Seena\",\"x\":[\"Stage 1\",\"Stage 2\",\"Stage 3\",\"Stage 4\",\"Stage 5\"],\"y\":[209.73,136.51,63.25,24.97,23.6],\"type\":\"scatter\"},{\"mode\":\"lines\",\"name\":\"Tommy atkin\",\"x\":[\"Stage 1\",\"Stage 2\",\"Stage 3\",\"Stage 4\",\"Stage 5\"],\"y\":[193.76,166.15,74.92,69.88,39.47],\"type\":\"scatter\"}],                        {\"title\":{\"text\":\"Variation of Tannins for Each Mango Variety in Seed\"},\"xaxis\":{\"title\":{\"text\":\"Ripening Stage\"}},\"yaxis\":{\"title\":{\"text\":\"Peel\"}},\"template\":{\"data\":{\"histogram2dcontour\":[{\"type\":\"histogram2dcontour\",\"colorbar\":{\"outlinewidth\":0,\"ticks\":\"\"},\"colorscale\":[[0.0,\"#0d0887\"],[0.1111111111111111,\"#46039f\"],[0.2222222222222222,\"#7201a8\"],[0.3333333333333333,\"#9c179e\"],[0.4444444444444444,\"#bd3786\"],[0.5555555555555556,\"#d8576b\"],[0.6666666666666666,\"#ed7953\"],[0.7777777777777778,\"#fb9f3a\"],[0.8888888888888888,\"#fdca26\"],[1.0,\"#f0f921\"]]}],\"choropleth\":[{\"type\":\"choropleth\",\"colorbar\":{\"outlinewidth\":0,\"ticks\":\"\"}}],\"histogram2d\":[{\"type\":\"histogram2d\",\"colorbar\":{\"outlinewidth\":0,\"ticks\":\"\"},\"colorscale\":[[0.0,\"#0d0887\"],[0.1111111111111111,\"#46039f\"],[0.2222222222222222,\"#7201a8\"],[0.3333333333333333,\"#9c179e\"],[0.4444444444444444,\"#bd3786\"],[0.5555555555555556,\"#d8576b\"],[0.6666666666666666,\"#ed7953\"],[0.7777777777777778,\"#fb9f3a\"],[0.8888888888888888,\"#fdca26\"],[1.0,\"#f0f921\"]]}],\"heatmap\":[{\"type\":\"heatmap\",\"colorbar\":{\"outlinewidth\":0,\"ticks\":\"\"},\"colorscale\":[[0.0,\"#0d0887\"],[0.1111111111111111,\"#46039f\"],[0.2222222222222222,\"#7201a8\"],[0.3333333333333333,\"#9c179e\"],[0.4444444444444444,\"#bd3786\"],[0.5555555555555556,\"#d8576b\"],[0.6666666666666666,\"#ed7953\"],[0.7777777777777778,\"#fb9f3a\"],[0.8888888888888888,\"#fdca26\"],[1.0,\"#f0f921\"]]}],\"heatmapgl\":[{\"type\":\"heatmapgl\",\"colorbar\":{\"outlinewidth\":0,\"ticks\":\"\"},\"colorscale\":[[0.0,\"#0d0887\"],[0.1111111111111111,\"#46039f\"],[0.2222222222222222,\"#7201a8\"],[0.3333333333333333,\"#9c179e\"],[0.4444444444444444,\"#bd3786\"],[0.5555555555555556,\"#d8576b\"],[0.6666666666666666,\"#ed7953\"],[0.7777777777777778,\"#fb9f3a\"],[0.8888888888888888,\"#fdca26\"],[1.0,\"#f0f921\"]]}],\"contourcarpet\":[{\"type\":\"contourcarpet\",\"colorbar\":{\"outlinewidth\":0,\"ticks\":\"\"}}],\"contour\":[{\"type\":\"contour\",\"colorbar\":{\"outlinewidth\":0,\"ticks\":\"\"},\"colorscale\":[[0.0,\"#0d0887\"],[0.1111111111111111,\"#46039f\"],[0.2222222222222222,\"#7201a8\"],[0.3333333333333333,\"#9c179e\"],[0.4444444444444444,\"#bd3786\"],[0.5555555555555556,\"#d8576b\"],[0.6666666666666666,\"#ed7953\"],[0.7777777777777778,\"#fb9f3a\"],[0.8888888888888888,\"#fdca26\"],[1.0,\"#f0f921\"]]}],\"surface\":[{\"type\":\"surface\",\"colorbar\":{\"outlinewidth\":0,\"ticks\":\"\"},\"colorscale\":[[0.0,\"#0d0887\"],[0.1111111111111111,\"#46039f\"],[0.2222222222222222,\"#7201a8\"],[0.3333333333333333,\"#9c179e\"],[0.4444444444444444,\"#bd3786\"],[0.5555555555555556,\"#d8576b\"],[0.6666666666666666,\"#ed7953\"],[0.7777777777777778,\"#fb9f3a\"],[0.8888888888888888,\"#fdca26\"],[1.0,\"#f0f921\"]]}],\"mesh3d\":[{\"type\":\"mesh3d\",\"colorbar\":{\"outlinewidth\":0,\"ticks\":\"\"}}],\"scatter\":[{\"fillpattern\":{\"fillmode\":\"overlay\",\"size\":10,\"solidity\":0.2},\"type\":\"scatter\"}],\"parcoords\":[{\"type\":\"parcoords\",\"line\":{\"colorbar\":{\"outlinewidth\":0,\"ticks\":\"\"}}}],\"scatterpolargl\":[{\"type\":\"scatterpolargl\",\"marker\":{\"colorbar\":{\"outlinewidth\":0,\"ticks\":\"\"}}}],\"bar\":[{\"error_x\":{\"color\":\"#2a3f5f\"},\"error_y\":{\"color\":\"#2a3f5f\"},\"marker\":{\"line\":{\"color\":\"#E5ECF6\",\"width\":0.5},\"pattern\":{\"fillmode\":\"overlay\",\"size\":10,\"solidity\":0.2}},\"type\":\"bar\"}],\"scattergeo\":[{\"type\":\"scattergeo\",\"marker\":{\"colorbar\":{\"outlinewidth\":0,\"ticks\":\"\"}}}],\"scatterpolar\":[{\"type\":\"scatterpolar\",\"marker\":{\"colorbar\":{\"outlinewidth\":0,\"ticks\":\"\"}}}],\"histogram\":[{\"marker\":{\"pattern\":{\"fillmode\":\"overlay\",\"size\":10,\"solidity\":0.2}},\"type\":\"histogram\"}],\"scattergl\":[{\"type\":\"scattergl\",\"marker\":{\"colorbar\":{\"outlinewidth\":0,\"ticks\":\"\"}}}],\"scatter3d\":[{\"type\":\"scatter3d\",\"line\":{\"colorbar\":{\"outlinewidth\":0,\"ticks\":\"\"}},\"marker\":{\"colorbar\":{\"outlinewidth\":0,\"ticks\":\"\"}}}],\"scattermapbox\":[{\"type\":\"scattermapbox\",\"marker\":{\"colorbar\":{\"outlinewidth\":0,\"ticks\":\"\"}}}],\"scatterternary\":[{\"type\":\"scatterternary\",\"marker\":{\"colorbar\":{\"outlinewidth\":0,\"ticks\":\"\"}}}],\"scattercarpet\":[{\"type\":\"scattercarpet\",\"marker\":{\"colorbar\":{\"outlinewidth\":0,\"ticks\":\"\"}}}],\"carpet\":[{\"aaxis\":{\"endlinecolor\":\"#2a3f5f\",\"gridcolor\":\"white\",\"linecolor\":\"white\",\"minorgridcolor\":\"white\",\"startlinecolor\":\"#2a3f5f\"},\"baxis\":{\"endlinecolor\":\"#2a3f5f\",\"gridcolor\":\"white\",\"linecolor\":\"white\",\"minorgridcolor\":\"white\",\"startlinecolor\":\"#2a3f5f\"},\"type\":\"carpet\"}],\"table\":[{\"cells\":{\"fill\":{\"color\":\"#EBF0F8\"},\"line\":{\"color\":\"white\"}},\"header\":{\"fill\":{\"color\":\"#C8D4E3\"},\"line\":{\"color\":\"white\"}},\"type\":\"table\"}],\"barpolar\":[{\"marker\":{\"line\":{\"color\":\"#E5ECF6\",\"width\":0.5},\"pattern\":{\"fillmode\":\"overlay\",\"size\":10,\"solidity\":0.2}},\"type\":\"barpolar\"}],\"pie\":[{\"automargin\":true,\"type\":\"pie\"}]},\"layout\":{\"autotypenumbers\":\"strict\",\"colorway\":[\"#636efa\",\"#EF553B\",\"#00cc96\",\"#ab63fa\",\"#FFA15A\",\"#19d3f3\",\"#FF6692\",\"#B6E880\",\"#FF97FF\",\"#FECB52\"],\"font\":{\"color\":\"#2a3f5f\"},\"hovermode\":\"closest\",\"hoverlabel\":{\"align\":\"left\"},\"paper_bgcolor\":\"white\",\"plot_bgcolor\":\"#E5ECF6\",\"polar\":{\"bgcolor\":\"#E5ECF6\",\"angularaxis\":{\"gridcolor\":\"white\",\"linecolor\":\"white\",\"ticks\":\"\"},\"radialaxis\":{\"gridcolor\":\"white\",\"linecolor\":\"white\",\"ticks\":\"\"}},\"ternary\":{\"bgcolor\":\"#E5ECF6\",\"aaxis\":{\"gridcolor\":\"white\",\"linecolor\":\"white\",\"ticks\":\"\"},\"baxis\":{\"gridcolor\":\"white\",\"linecolor\":\"white\",\"ticks\":\"\"},\"caxis\":{\"gridcolor\":\"white\",\"linecolor\":\"white\",\"ticks\":\"\"}},\"coloraxis\":{\"colorbar\":{\"outlinewidth\":0,\"ticks\":\"\"}},\"colorscale\":{\"sequential\":[[0.0,\"#0d0887\"],[0.1111111111111111,\"#46039f\"],[0.2222222222222222,\"#7201a8\"],[0.3333333333333333,\"#9c179e\"],[0.4444444444444444,\"#bd3786\"],[0.5555555555555556,\"#d8576b\"],[0.6666666666666666,\"#ed7953\"],[0.7777777777777778,\"#fb9f3a\"],[0.8888888888888888,\"#fdca26\"],[1.0,\"#f0f921\"]],\"sequentialminus\":[[0.0,\"#0d0887\"],[0.1111111111111111,\"#46039f\"],[0.2222222222222222,\"#7201a8\"],[0.3333333333333333,\"#9c179e\"],[0.4444444444444444,\"#bd3786\"],[0.5555555555555556,\"#d8576b\"],[0.6666666666666666,\"#ed7953\"],[0.7777777777777778,\"#fb9f3a\"],[0.8888888888888888,\"#fdca26\"],[1.0,\"#f0f921\"]],\"diverging\":[[0,\"#8e0152\"],[0.1,\"#c51b7d\"],[0.2,\"#de77ae\"],[0.3,\"#f1b6da\"],[0.4,\"#fde0ef\"],[0.5,\"#f7f7f7\"],[0.6,\"#e6f5d0\"],[0.7,\"#b8e186\"],[0.8,\"#7fbc41\"],[0.9,\"#4d9221\"],[1,\"#276419\"]]},\"xaxis\":{\"gridcolor\":\"white\",\"linecolor\":\"white\",\"ticks\":\"\",\"title\":{\"standoff\":15},\"zerolinecolor\":\"white\",\"automargin\":true,\"zerolinewidth\":2},\"yaxis\":{\"gridcolor\":\"white\",\"linecolor\":\"white\",\"ticks\":\"\",\"title\":{\"standoff\":15},\"zerolinecolor\":\"white\",\"automargin\":true,\"zerolinewidth\":2},\"scene\":{\"xaxis\":{\"backgroundcolor\":\"#E5ECF6\",\"gridcolor\":\"white\",\"linecolor\":\"white\",\"showbackground\":true,\"ticks\":\"\",\"zerolinecolor\":\"white\",\"gridwidth\":2},\"yaxis\":{\"backgroundcolor\":\"#E5ECF6\",\"gridcolor\":\"white\",\"linecolor\":\"white\",\"showbackground\":true,\"ticks\":\"\",\"zerolinecolor\":\"white\",\"gridwidth\":2},\"zaxis\":{\"backgroundcolor\":\"#E5ECF6\",\"gridcolor\":\"white\",\"linecolor\":\"white\",\"showbackground\":true,\"ticks\":\"\",\"zerolinecolor\":\"white\",\"gridwidth\":2}},\"shapedefaults\":{\"line\":{\"color\":\"#2a3f5f\"}},\"annotationdefaults\":{\"arrowcolor\":\"#2a3f5f\",\"arrowhead\":0,\"arrowwidth\":1},\"geo\":{\"bgcolor\":\"white\",\"landcolor\":\"#E5ECF6\",\"subunitcolor\":\"white\",\"showland\":true,\"showlakes\":true,\"lakecolor\":\"white\"},\"title\":{\"x\":0.05},\"mapbox\":{\"style\":\"light\"}}}},                        {\"responsive\": true}                    ).then(function(){\n",
       "                            \n",
       "var gd = document.getElementById('348779ee-49ed-4925-ae14-bed03be99d5a');\n",
       "var x = new MutationObserver(function (mutations, observer) {{\n",
       "        var display = window.getComputedStyle(gd).display;\n",
       "        if (!display || display === 'none') {{\n",
       "            console.log([gd, 'removed!']);\n",
       "            Plotly.purge(gd);\n",
       "            observer.disconnect();\n",
       "        }}\n",
       "}});\n",
       "\n",
       "// Listen for the removal of the full notebook cells\n",
       "var notebookContainer = gd.closest('#notebook-container');\n",
       "if (notebookContainer) {{\n",
       "    x.observe(notebookContainer, {childList: true});\n",
       "}}\n",
       "\n",
       "// Listen for the clearing of the current output cell\n",
       "var outputEl = gd.closest('.output');\n",
       "if (outputEl) {{\n",
       "    x.observe(outputEl, {childList: true});\n",
       "}}\n",
       "\n",
       "                        })                };                });            </script>        </div>"
      ]
     },
     "metadata": {},
     "output_type": "display_data"
    }
   ],
   "source": [
    "# Create traces for each mango variety\n",
    "traces = []\n",
    "for variety in data['Mango variety'].unique():\n",
    "    subset = data[data['Mango variety'] == variety]\n",
    "    trace = go.Scatter(x=subset['Ripening stage'], y=subset['Seed'], mode='lines', name=variety)\n",
    "    traces.append(trace)\n",
    "\n",
    "# Create layout\n",
    "layout = go.Layout(title='Variation of Tannins for Each Mango Variety in Seed',\n",
    "                   xaxis=dict(title='Ripening Stage'),\n",
    "                   yaxis=dict(title='Peel'))\n",
    "\n",
    "# Create figure\n",
    "fig = go.Figure(data=traces, layout=layout)\n",
    "\n",
    "# Plot figure\n",
    "pio.show(fig)"
   ]
  },
  {
   "cell_type": "code",
   "execution_count": null,
   "id": "2c3c7547-ad45-4039-ac93-80b51ffef80f",
   "metadata": {},
   "outputs": [],
   "source": []
  }
 ],
 "metadata": {
  "kernelspec": {
   "display_name": "Python 3 (ipykernel)",
   "language": "python",
   "name": "python3"
  },
  "language_info": {
   "codemirror_mode": {
    "name": "ipython",
    "version": 3
   },
   "file_extension": ".py",
   "mimetype": "text/x-python",
   "name": "python",
   "nbconvert_exporter": "python",
   "pygments_lexer": "ipython3",
   "version": "3.11.7"
  }
 },
 "nbformat": 4,
 "nbformat_minor": 5
}
